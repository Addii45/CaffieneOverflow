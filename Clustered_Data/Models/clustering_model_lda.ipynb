{
 "cells": [
  {
   "cell_type": "markdown",
   "id": "0c2b3781",
   "metadata": {},
   "source": [
    "## Clustering Model - LDA"
   ]
  },
  {
   "cell_type": "code",
   "execution_count": 107,
   "id": "1dff8943",
   "metadata": {},
   "outputs": [],
   "source": [
    "import os, json\n",
    "import pandas as pd\n",
    "import numpy as np\n",
    "import glob\n",
    "import turicreate\n",
    "import matplotlib.pyplot as plt\n",
    "import numpy as np\n",
    "import sys\n",
    "import os\n",
    "from scipy.sparse import csr_matrix\n",
    "from sklearn.preprocessing import OneHotEncoder, LabelEncoder\n",
    "from sklearn.preprocessing import normalize\n",
    "%matplotlib inline"
   ]
  },
  {
   "cell_type": "code",
   "execution_count": 108,
   "id": "a75129d0",
   "metadata": {},
   "outputs": [
    {
     "name": "stdout",
     "output_type": "stream",
     "text": [
      "/Users/adi/Desktop/CaffieneOverflow/Devfolio Scraper/Datbase\n"
     ]
    }
   ],
   "source": [
    "path_to_json = '/Users/adi/Desktop/CaffieneOverflow/Devfolio Scraper/Datbase' \n",
    "print(path_to_json)"
   ]
  },
  {
   "cell_type": "code",
   "execution_count": 109,
   "id": "e81bb593",
   "metadata": {},
   "outputs": [],
   "source": [
    "json_pattern = os.path.join(path_to_json,'*.json')\n",
    "file_list = glob.glob(json_pattern)"
   ]
  },
  {
   "cell_type": "code",
   "execution_count": 110,
   "id": "5b9789df",
   "metadata": {},
   "outputs": [
    {
     "data": {
      "text/plain": [
       "20"
      ]
     },
     "execution_count": 110,
     "metadata": {},
     "output_type": "execute_result"
    }
   ],
   "source": [
    "len(file_list)"
   ]
  },
  {
   "cell_type": "code",
   "execution_count": 111,
   "id": "c574fa82",
   "metadata": {},
   "outputs": [
    {
     "data": {
      "text/plain": [
       "['/Users/adi/Desktop/CaffieneOverflow/Devfolio Scraper/Datbase/finalDic18.json',\n",
       " '/Users/adi/Desktop/CaffieneOverflow/Devfolio Scraper/Datbase/finalDic7.json',\n",
       " '/Users/adi/Desktop/CaffieneOverflow/Devfolio Scraper/Datbase/finalDic14.json',\n",
       " '/Users/adi/Desktop/CaffieneOverflow/Devfolio Scraper/Datbase/finalDic15.json',\n",
       " '/Users/adi/Desktop/CaffieneOverflow/Devfolio Scraper/Datbase/finalDic6.json',\n",
       " '/Users/adi/Desktop/CaffieneOverflow/Devfolio Scraper/Datbase/finalDic19.json',\n",
       " '/Users/adi/Desktop/CaffieneOverflow/Devfolio Scraper/Datbase/finalDic1.json',\n",
       " '/Users/adi/Desktop/CaffieneOverflow/Devfolio Scraper/Datbase/finalDic12.json',\n",
       " '/Users/adi/Desktop/CaffieneOverflow/Devfolio Scraper/Datbase/finalDic13.json',\n",
       " '/Users/adi/Desktop/CaffieneOverflow/Devfolio Scraper/Datbase/finalDic0.json',\n",
       " '/Users/adi/Desktop/CaffieneOverflow/Devfolio Scraper/Datbase/finalDic10.json',\n",
       " '/Users/adi/Desktop/CaffieneOverflow/Devfolio Scraper/Datbase/finalDic3.json',\n",
       " '/Users/adi/Desktop/CaffieneOverflow/Devfolio Scraper/Datbase/finalDic2.json',\n",
       " '/Users/adi/Desktop/CaffieneOverflow/Devfolio Scraper/Datbase/finalDic11.json',\n",
       " '/Users/adi/Desktop/CaffieneOverflow/Devfolio Scraper/Datbase/finalDic9.json',\n",
       " '/Users/adi/Desktop/CaffieneOverflow/Devfolio Scraper/Datbase/finalDic16.json',\n",
       " '/Users/adi/Desktop/CaffieneOverflow/Devfolio Scraper/Datbase/finalDic5.json',\n",
       " '/Users/adi/Desktop/CaffieneOverflow/Devfolio Scraper/Datbase/finalDic4.json',\n",
       " '/Users/adi/Desktop/CaffieneOverflow/Devfolio Scraper/Datbase/finalDic17.json',\n",
       " '/Users/adi/Desktop/CaffieneOverflow/Devfolio Scraper/Datbase/finalDic8.json']"
      ]
     },
     "execution_count": 111,
     "metadata": {},
     "output_type": "execute_result"
    }
   ],
   "source": [
    "file_list"
   ]
  },
  {
   "cell_type": "code",
   "execution_count": 112,
   "id": "cd0dd863",
   "metadata": {},
   "outputs": [],
   "source": [
    "dfs = [] \n",
    "for file in file_list:\n",
    "    data =  pd.read_json(file, orient='records')\n",
    "    dfs.append(data) \n",
    "\n",
    "temp = pd.concat(dfs, ignore_index=True)"
   ]
  },
  {
   "cell_type": "code",
   "execution_count": 113,
   "id": "8e9960e4",
   "metadata": {},
   "outputs": [],
   "source": [
    "temp.drop('idNo',axis='columns', inplace=True)"
   ]
  },
  {
   "cell_type": "code",
   "execution_count": 114,
   "id": "22d10cc4",
   "metadata": {},
   "outputs": [
    {
     "data": {
      "text/html": [
       "<div>\n",
       "<style scoped>\n",
       "    .dataframe tbody tr th:only-of-type {\n",
       "        vertical-align: middle;\n",
       "    }\n",
       "\n",
       "    .dataframe tbody tr th {\n",
       "        vertical-align: top;\n",
       "    }\n",
       "\n",
       "    .dataframe thead th {\n",
       "        text-align: right;\n",
       "    }\n",
       "</style>\n",
       "<table border=\"1\" class=\"dataframe\">\n",
       "  <thead>\n",
       "    <tr style=\"text-align: right;\">\n",
       "      <th></th>\n",
       "      <th>name</th>\n",
       "      <th>desc</th>\n",
       "      <th>devfolioLink</th>\n",
       "      <th>githubLinks</th>\n",
       "      <th>special_mention</th>\n",
       "      <th>stacksUsed</th>\n",
       "      <th>longDesc</th>\n",
       "    </tr>\n",
       "  </thead>\n",
       "  <tbody>\n",
       "    <tr>\n",
       "      <th>0</th>\n",
       "      <td>WECARE</td>\n",
       "      <td>Our main slogan is \"Your wellbeing meets a new...</td>\n",
       "      <td>https://devfolio.co/submissions/wecare-112a</td>\n",
       "      <td>[https://github.com/sooddhruv/Sociothon]</td>\n",
       "      <td></td>\n",
       "      <td>[Bootstrap, JavaScript, TensorFlow, AngularJS,...</td>\n",
       "      <td>The problem WECARE solves\\n1) Buying and Selli...</td>\n",
       "    </tr>\n",
       "    <tr>\n",
       "      <th>1</th>\n",
       "      <td>INIGMA</td>\n",
       "      <td>MEDICINE GUIDE IN YOUR POCKET</td>\n",
       "      <td>https://devfolio.co/submissions/inigma-48f8</td>\n",
       "      <td>[https://github.com/VibhutiBansal-11/inigma_so...</td>\n",
       "      <td></td>\n",
       "      <td>[JavaScript, Flutter, Website: Bootstrap, App ...</td>\n",
       "      <td>The problem INIGMA solves\\nWeak supply chain a...</td>\n",
       "    </tr>\n",
       "    <tr>\n",
       "      <th>2</th>\n",
       "      <td>TRUEMED</td>\n",
       "      <td>\"Lets Think Of Saving Money &amp; Access to Medica...</td>\n",
       "      <td>https://devfolio.co/submissions/truemed-312c</td>\n",
       "      <td>[https://truemed.herokuapp.com/, https://githu...</td>\n",
       "      <td></td>\n",
       "      <td>[HTML, CSS, JavaScript, Python, Data Science, ...</td>\n",
       "      <td>The problem TRUEMED solves\\nMedicines constitu...</td>\n",
       "    </tr>\n",
       "    <tr>\n",
       "      <th>3</th>\n",
       "      <td>JAC informer</td>\n",
       "      <td>Focus on the benefits. Payless, get more.</td>\n",
       "      <td>https://devfolio.co/submissions/jac-informer-a75e</td>\n",
       "      <td>[https://devfolio-sociothon.netlify.app/, http...</td>\n",
       "      <td></td>\n",
       "      <td>[Netlify, React js, CSS Grid and Flexbox]</td>\n",
       "      <td>The problem JAC informer solves\\nPromotes the ...</td>\n",
       "    </tr>\n",
       "    <tr>\n",
       "      <th>4</th>\n",
       "      <td>Clinica</td>\n",
       "      <td>Clinica tackles the problem of a weak supply c...</td>\n",
       "      <td>https://devfolio.co/submissions/clinica-e4f7</td>\n",
       "      <td>[https://shrouded-basin-46770.herokuapp.com/, ...</td>\n",
       "      <td></td>\n",
       "      <td>[Node.js, JavaScript, Flask, scikit-learn, Num...</td>\n",
       "      <td>The problem Clinica solves\\nTo tackle the prob...</td>\n",
       "    </tr>\n",
       "    <tr>\n",
       "      <th>...</th>\n",
       "      <td>...</td>\n",
       "      <td>...</td>\n",
       "      <td>...</td>\n",
       "      <td>...</td>\n",
       "      <td>...</td>\n",
       "      <td>...</td>\n",
       "      <td>...</td>\n",
       "    </tr>\n",
       "    <tr>\n",
       "      <th>344</th>\n",
       "      <td>Onion '78 - Mobile Wallet Tor Based PayJoin</td>\n",
       "      <td>Increase your privacy and security with Onion ...</td>\n",
       "      <td>https://devfolio.co/submissions/onion-a-payjoi...</td>\n",
       "      <td>[https://www.figma.com/file/FM4jE85Aybr6fT00ty...</td>\n",
       "      <td></td>\n",
       "      <td>[Tor, Chaincase, BTCPay, Segwit, Wasabi, CoinJ...</td>\n",
       "      <td>The problem Onion '78 - Mobile Wallet Tor Base...</td>\n",
       "    </tr>\n",
       "    <tr>\n",
       "      <th>345</th>\n",
       "      <td>Bitcoin Backup Helper</td>\n",
       "      <td>Build your own Bitcoin backup sheet</td>\n",
       "      <td>https://devfolio.co/submissions/bitcoin-backup...</td>\n",
       "      <td>[https://bit.ly/3cLwk6f]</td>\n",
       "      <td></td>\n",
       "      <td>[Figma, HTML/CSS]</td>\n",
       "      <td>The problem Bitcoin Backup Helper solves\\nBack...</td>\n",
       "    </tr>\n",
       "    <tr>\n",
       "      <th>346</th>\n",
       "      <td>Verist</td>\n",
       "      <td>A frame to bridge your NFTs with the physical ...</td>\n",
       "      <td>https://devfolio.co/submissions/verist-d5a5</td>\n",
       "      <td>[https://www.figma.com/proto/GZWzkY8MZaFRbkQQ0...</td>\n",
       "      <td></td>\n",
       "      <td>[Figma]</td>\n",
       "      <td>The problem Verist solves\\nThe rise of NFTs ha...</td>\n",
       "    </tr>\n",
       "    <tr>\n",
       "      <th>347</th>\n",
       "      <td>Arigale</td>\n",
       "      <td>Decentralized CMS</td>\n",
       "      <td>https://devfolio.co/submissions/arigale-75c8</td>\n",
       "      <td>[http://arigale.hns.to/]</td>\n",
       "      <td></td>\n",
       "      <td>[React]</td>\n",
       "      <td>The problem Arigale solves\\nAllow user to mana...</td>\n",
       "    </tr>\n",
       "    <tr>\n",
       "      <th>348</th>\n",
       "      <td>Algorand Autonomous</td>\n",
       "      <td>A self-updating Financial Decentralized Autono...</td>\n",
       "      <td>https://devfolio.co/submissions/algorand-auton...</td>\n",
       "      <td>[https://github.com/Bhaney44/Cryptots, https:/...</td>\n",
       "      <td></td>\n",
       "      <td>[HTML, CSS, JavaScript, TensorFlow, Keras, Pyt...</td>\n",
       "      <td>The problem Algorand Autonomous solves\\nAcross...</td>\n",
       "    </tr>\n",
       "  </tbody>\n",
       "</table>\n",
       "<p>349 rows × 7 columns</p>\n",
       "</div>"
      ],
      "text/plain": [
       "                                            name  \\\n",
       "0                                         WECARE   \n",
       "1                                         INIGMA   \n",
       "2                                        TRUEMED   \n",
       "3                                   JAC informer   \n",
       "4                                        Clinica   \n",
       "..                                           ...   \n",
       "344  Onion '78 - Mobile Wallet Tor Based PayJoin   \n",
       "345                        Bitcoin Backup Helper   \n",
       "346                                       Verist   \n",
       "347                                      Arigale   \n",
       "348                          Algorand Autonomous   \n",
       "\n",
       "                                                  desc  \\\n",
       "0    Our main slogan is \"Your wellbeing meets a new...   \n",
       "1                        MEDICINE GUIDE IN YOUR POCKET   \n",
       "2    \"Lets Think Of Saving Money & Access to Medica...   \n",
       "3            Focus on the benefits. Payless, get more.   \n",
       "4    Clinica tackles the problem of a weak supply c...   \n",
       "..                                                 ...   \n",
       "344  Increase your privacy and security with Onion ...   \n",
       "345                Build your own Bitcoin backup sheet   \n",
       "346  A frame to bridge your NFTs with the physical ...   \n",
       "347                                  Decentralized CMS   \n",
       "348  A self-updating Financial Decentralized Autono...   \n",
       "\n",
       "                                          devfolioLink  \\\n",
       "0          https://devfolio.co/submissions/wecare-112a   \n",
       "1          https://devfolio.co/submissions/inigma-48f8   \n",
       "2         https://devfolio.co/submissions/truemed-312c   \n",
       "3    https://devfolio.co/submissions/jac-informer-a75e   \n",
       "4         https://devfolio.co/submissions/clinica-e4f7   \n",
       "..                                                 ...   \n",
       "344  https://devfolio.co/submissions/onion-a-payjoi...   \n",
       "345  https://devfolio.co/submissions/bitcoin-backup...   \n",
       "346        https://devfolio.co/submissions/verist-d5a5   \n",
       "347       https://devfolio.co/submissions/arigale-75c8   \n",
       "348  https://devfolio.co/submissions/algorand-auton...   \n",
       "\n",
       "                                           githubLinks special_mention  \\\n",
       "0             [https://github.com/sooddhruv/Sociothon]                   \n",
       "1    [https://github.com/VibhutiBansal-11/inigma_so...                   \n",
       "2    [https://truemed.herokuapp.com/, https://githu...                   \n",
       "3    [https://devfolio-sociothon.netlify.app/, http...                   \n",
       "4    [https://shrouded-basin-46770.herokuapp.com/, ...                   \n",
       "..                                                 ...             ...   \n",
       "344  [https://www.figma.com/file/FM4jE85Aybr6fT00ty...                   \n",
       "345                           [https://bit.ly/3cLwk6f]                   \n",
       "346  [https://www.figma.com/proto/GZWzkY8MZaFRbkQQ0...                   \n",
       "347                           [http://arigale.hns.to/]                   \n",
       "348  [https://github.com/Bhaney44/Cryptots, https:/...                   \n",
       "\n",
       "                                            stacksUsed  \\\n",
       "0    [Bootstrap, JavaScript, TensorFlow, AngularJS,...   \n",
       "1    [JavaScript, Flutter, Website: Bootstrap, App ...   \n",
       "2    [HTML, CSS, JavaScript, Python, Data Science, ...   \n",
       "3            [Netlify, React js, CSS Grid and Flexbox]   \n",
       "4    [Node.js, JavaScript, Flask, scikit-learn, Num...   \n",
       "..                                                 ...   \n",
       "344  [Tor, Chaincase, BTCPay, Segwit, Wasabi, CoinJ...   \n",
       "345                                  [Figma, HTML/CSS]   \n",
       "346                                            [Figma]   \n",
       "347                                            [React]   \n",
       "348  [HTML, CSS, JavaScript, TensorFlow, Keras, Pyt...   \n",
       "\n",
       "                                              longDesc  \n",
       "0    The problem WECARE solves\\n1) Buying and Selli...  \n",
       "1    The problem INIGMA solves\\nWeak supply chain a...  \n",
       "2    The problem TRUEMED solves\\nMedicines constitu...  \n",
       "3    The problem JAC informer solves\\nPromotes the ...  \n",
       "4    The problem Clinica solves\\nTo tackle the prob...  \n",
       "..                                                 ...  \n",
       "344  The problem Onion '78 - Mobile Wallet Tor Base...  \n",
       "345  The problem Bitcoin Backup Helper solves\\nBack...  \n",
       "346  The problem Verist solves\\nThe rise of NFTs ha...  \n",
       "347  The problem Arigale solves\\nAllow user to mana...  \n",
       "348  The problem Algorand Autonomous solves\\nAcross...  \n",
       "\n",
       "[349 rows x 7 columns]"
      ]
     },
     "execution_count": 114,
     "metadata": {},
     "output_type": "execute_result"
    }
   ],
   "source": [
    "temp"
   ]
  },
  {
   "cell_type": "code",
   "execution_count": 115,
   "id": "83ea67b6",
   "metadata": {},
   "outputs": [],
   "source": [
    "projects = turicreate.SFrame(data=temp)"
   ]
  },
  {
   "cell_type": "code",
   "execution_count": 116,
   "id": "310f8217",
   "metadata": {},
   "outputs": [
    {
     "data": {
      "text/html": [
       "<div style=\"max-height:1000px;max-width:1500px;overflow:auto;\"><table frame=\"box\" rules=\"cols\">\n",
       "    <tr>\n",
       "        <th style=\"padding-left: 1em; padding-right: 1em; text-align: center\">name</th>\n",
       "        <th style=\"padding-left: 1em; padding-right: 1em; text-align: center\">desc</th>\n",
       "        <th style=\"padding-left: 1em; padding-right: 1em; text-align: center\">devfolioLink</th>\n",
       "        <th style=\"padding-left: 1em; padding-right: 1em; text-align: center\">githubLinks</th>\n",
       "        <th style=\"padding-left: 1em; padding-right: 1em; text-align: center\">special_mention</th>\n",
       "    </tr>\n",
       "    <tr>\n",
       "        <td style=\"padding-left: 1em; padding-right: 1em; text-align: center; vertical-align: top\">WECARE</td>\n",
       "        <td style=\"padding-left: 1em; padding-right: 1em; text-align: center; vertical-align: top\">Our main slogan is &quot;Your<br>wellbeing meets a new ...</td>\n",
       "        <td style=\"padding-left: 1em; padding-right: 1em; text-align: center; vertical-align: top\">https://devfolio.co/submi<br>ssions/wecare-112a ...</td>\n",
       "        <td style=\"padding-left: 1em; padding-right: 1em; text-align: center; vertical-align: top\">[https://github.com/soodd<br>hruv/Sociothon] ...</td>\n",
       "        <td style=\"padding-left: 1em; padding-right: 1em; text-align: center; vertical-align: top\"> </td>\n",
       "    </tr>\n",
       "    <tr>\n",
       "        <td style=\"padding-left: 1em; padding-right: 1em; text-align: center; vertical-align: top\">INIGMA</td>\n",
       "        <td style=\"padding-left: 1em; padding-right: 1em; text-align: center; vertical-align: top\">MEDICINE GUIDE IN YOUR<br>POCKET ...</td>\n",
       "        <td style=\"padding-left: 1em; padding-right: 1em; text-align: center; vertical-align: top\">https://devfolio.co/submi<br>ssions/inigma-48f8 ...</td>\n",
       "        <td style=\"padding-left: 1em; padding-right: 1em; text-align: center; vertical-align: top\">[https://github.com/Vibhu<br>tiBansal-11/inigma_so ...</td>\n",
       "        <td style=\"padding-left: 1em; padding-right: 1em; text-align: center; vertical-align: top\"> </td>\n",
       "    </tr>\n",
       "    <tr>\n",
       "        <td style=\"padding-left: 1em; padding-right: 1em; text-align: center; vertical-align: top\">TRUEMED</td>\n",
       "        <td style=\"padding-left: 1em; padding-right: 1em; text-align: center; vertical-align: top\">&quot;Lets Think Of Saving<br>Money &amp; Access to ...</td>\n",
       "        <td style=\"padding-left: 1em; padding-right: 1em; text-align: center; vertical-align: top\">https://devfolio.co/submi<br>ssions/truemed-312c ...</td>\n",
       "        <td style=\"padding-left: 1em; padding-right: 1em; text-align: center; vertical-align: top\">[https://truemed.herokuap<br>p.com/, https://githu ...</td>\n",
       "        <td style=\"padding-left: 1em; padding-right: 1em; text-align: center; vertical-align: top\"> </td>\n",
       "    </tr>\n",
       "    <tr>\n",
       "        <td style=\"padding-left: 1em; padding-right: 1em; text-align: center; vertical-align: top\">JAC informer</td>\n",
       "        <td style=\"padding-left: 1em; padding-right: 1em; text-align: center; vertical-align: top\">Focus on the benefits.<br>Payless, get more. ...</td>\n",
       "        <td style=\"padding-left: 1em; padding-right: 1em; text-align: center; vertical-align: top\">https://devfolio.co/submi<br>ssions/jac-informer-a75e ...</td>\n",
       "        <td style=\"padding-left: 1em; padding-right: 1em; text-align: center; vertical-align: top\">[https://devfolio-<br>sociothon.netlify.app ...</td>\n",
       "        <td style=\"padding-left: 1em; padding-right: 1em; text-align: center; vertical-align: top\"> </td>\n",
       "    </tr>\n",
       "    <tr>\n",
       "        <td style=\"padding-left: 1em; padding-right: 1em; text-align: center; vertical-align: top\">Clinica</td>\n",
       "        <td style=\"padding-left: 1em; padding-right: 1em; text-align: center; vertical-align: top\">Clinica tackles the<br>problem of a weak supply ...</td>\n",
       "        <td style=\"padding-left: 1em; padding-right: 1em; text-align: center; vertical-align: top\">https://devfolio.co/submi<br>ssions/clinica-e4f7 ...</td>\n",
       "        <td style=\"padding-left: 1em; padding-right: 1em; text-align: center; vertical-align: top\">[https://shrouded-basin-4<br>6770.herokuapp.com/,  ...</td>\n",
       "        <td style=\"padding-left: 1em; padding-right: 1em; text-align: center; vertical-align: top\"> </td>\n",
       "    </tr>\n",
       "    <tr>\n",
       "        <td style=\"padding-left: 1em; padding-right: 1em; text-align: center; vertical-align: top\">MediSure</td>\n",
       "        <td style=\"padding-left: 1em; padding-right: 1em; text-align: center; vertical-align: top\">We have developed a web<br>as well as an Android ...</td>\n",
       "        <td style=\"padding-left: 1em; padding-right: 1em; text-align: center; vertical-align: top\">https://devfolio.co/submi<br>ssions/medisure-151b ...</td>\n",
       "        <td style=\"padding-left: 1em; padding-right: 1em; text-align: center; vertical-align: top\">[https://iamaj69.pythonan<br>ywhere.com/, https:// ...</td>\n",
       "        <td style=\"padding-left: 1em; padding-right: 1em; text-align: center; vertical-align: top\"> </td>\n",
       "    </tr>\n",
       "    <tr>\n",
       "        <td style=\"padding-left: 1em; padding-right: 1em; text-align: center; vertical-align: top\">Jan Aushadhi and<br>Government of India ...</td>\n",
       "        <td style=\"padding-left: 1em; padding-right: 1em; text-align: center; vertical-align: top\">Generic medicine at your<br>footstep ...</td>\n",
       "        <td style=\"padding-left: 1em; padding-right: 1em; text-align: center; vertical-align: top\">https://devfolio.co/submi<br>ssions/jan-aushadhi-and- ...</td>\n",
       "        <td style=\"padding-left: 1em; padding-right: 1em; text-align: center; vertical-align: top\">[https://github.com/HariP<br>rasad5724/MedicineWeb ...</td>\n",
       "        <td style=\"padding-left: 1em; padding-right: 1em; text-align: center; vertical-align: top\"> </td>\n",
       "    </tr>\n",
       "    <tr>\n",
       "        <td style=\"padding-left: 1em; padding-right: 1em; text-align: center; vertical-align: top\">Easy-Meds</td>\n",
       "        <td style=\"padding-left: 1em; padding-right: 1em; text-align: center; vertical-align: top\">Our project mainly aims<br>in promoting the usag ...</td>\n",
       "        <td style=\"padding-left: 1em; padding-right: 1em; text-align: center; vertical-align: top\">https://devfolio.co/submi<br>ssions/easymeds-69ad ...</td>\n",
       "        <td style=\"padding-left: 1em; padding-right: 1em; text-align: center; vertical-align: top\">[https://github.com/Ragul<br>Raj-S/Easy-meds, ...</td>\n",
       "        <td style=\"padding-left: 1em; padding-right: 1em; text-align: center; vertical-align: top\"> </td>\n",
       "    </tr>\n",
       "    <tr>\n",
       "        <td style=\"padding-left: 1em; padding-right: 1em; text-align: center; vertical-align: top\">CoVax</td>\n",
       "        <td style=\"padding-left: 1em; padding-right: 1em; text-align: center; vertical-align: top\">One stop destination for<br>all your COVID problems ...</td>\n",
       "        <td style=\"padding-left: 1em; padding-right: 1em; text-align: center; vertical-align: top\">https://devfolio.co/submi<br>ssions/covax-0920 ...</td>\n",
       "        <td style=\"padding-left: 1em; padding-right: 1em; text-align: center; vertical-align: top\">[https://github.com/gaura<br>vraj0510/CoVax-JAAR,  ...</td>\n",
       "        <td style=\"padding-left: 1em; padding-right: 1em; text-align: center; vertical-align: top\"> </td>\n",
       "    </tr>\n",
       "    <tr>\n",
       "        <td style=\"padding-left: 1em; padding-right: 1em; text-align: center; vertical-align: top\">Pictionary.ai</td>\n",
       "        <td style=\"padding-left: 1em; padding-right: 1em; text-align: center; vertical-align: top\">AI that can identify what<br>picture you&#x27;re drawing ...</td>\n",
       "        <td style=\"padding-left: 1em; padding-right: 1em; text-align: center; vertical-align: top\">https://devfolio.co/submi<br>ssions/pictionaryai-ffe7 ...</td>\n",
       "        <td style=\"padding-left: 1em; padding-right: 1em; text-align: center; vertical-align: top\">[https://github.com/SockA<br>ndSandal/KJSCEHack, h ...</td>\n",
       "        <td style=\"padding-left: 1em; padding-right: 1em; text-align: center; vertical-align: top\"> </td>\n",
       "    </tr>\n",
       "</table>\n",
       "<table frame=\"box\" rules=\"cols\">\n",
       "    <tr>\n",
       "        <th style=\"padding-left: 1em; padding-right: 1em; text-align: center\">stacksUsed</th>\n",
       "        <th style=\"padding-left: 1em; padding-right: 1em; text-align: center\">longDesc</th>\n",
       "    </tr>\n",
       "    <tr>\n",
       "        <td style=\"padding-left: 1em; padding-right: 1em; text-align: center; vertical-align: top\">[Bootstrap, JavaScript,<br>TensorFlow, AngularJS, ...</td>\n",
       "        <td style=\"padding-left: 1em; padding-right: 1em; text-align: center; vertical-align: top\">The problem WECARE<br>solves\\n1) Buying and ...</td>\n",
       "    </tr>\n",
       "    <tr>\n",
       "        <td style=\"padding-left: 1em; padding-right: 1em; text-align: center; vertical-align: top\">[JavaScript, Flutter,<br>Website: Bootstrap, A ...</td>\n",
       "        <td style=\"padding-left: 1em; padding-right: 1em; text-align: center; vertical-align: top\">The problem INIGMA<br>solves\\nWeak supply c ...</td>\n",
       "    </tr>\n",
       "    <tr>\n",
       "        <td style=\"padding-left: 1em; padding-right: 1em; text-align: center; vertical-align: top\">[HTML, CSS, JavaScript,<br>Python, Data Science, ...</td>\n",
       "        <td style=\"padding-left: 1em; padding-right: 1em; text-align: center; vertical-align: top\">The problem TRUEMED<br>solves\\nMedicines ...</td>\n",
       "    </tr>\n",
       "    <tr>\n",
       "        <td style=\"padding-left: 1em; padding-right: 1em; text-align: center; vertical-align: top\">[Netlify, React js, CSS<br>Grid and Flexbox] ...</td>\n",
       "        <td style=\"padding-left: 1em; padding-right: 1em; text-align: center; vertical-align: top\">The problem JAC informer<br>solves\\nPromotes the ...</td>\n",
       "    </tr>\n",
       "    <tr>\n",
       "        <td style=\"padding-left: 1em; padding-right: 1em; text-align: center; vertical-align: top\">[Node.js, JavaScript,<br>Flask, scikit-learn, ...</td>\n",
       "        <td style=\"padding-left: 1em; padding-right: 1em; text-align: center; vertical-align: top\">The problem Clinica<br>solves\\nTo tackle the ...</td>\n",
       "    </tr>\n",
       "    <tr>\n",
       "        <td style=\"padding-left: 1em; padding-right: 1em; text-align: center; vertical-align: top\">[NumPy, pandas, Django 3]</td>\n",
       "        <td style=\"padding-left: 1em; padding-right: 1em; text-align: center; vertical-align: top\">The problem MediSure<br>solves\\nSince the con ...</td>\n",
       "    </tr>\n",
       "    <tr>\n",
       "        <td style=\"padding-left: 1em; padding-right: 1em; text-align: center; vertical-align: top\">[Express.js, MongoDB,<br>Node js, React js, ...</td>\n",
       "        <td style=\"padding-left: 1em; padding-right: 1em; text-align: center; vertical-align: top\">The problem Jan Aushadhi<br>and Government of India ...</td>\n",
       "    </tr>\n",
       "    <tr>\n",
       "        <td style=\"padding-left: 1em; padding-right: 1em; text-align: center; vertical-align: top\">[JSON, Materialize CSS,<br>React.js] ...</td>\n",
       "        <td style=\"padding-left: 1em; padding-right: 1em; text-align: center; vertical-align: top\">The problem Easy-Meds<br>solves\\nAs India is one ...</td>\n",
       "    </tr>\n",
       "    <tr>\n",
       "        <td style=\"padding-left: 1em; padding-right: 1em; text-align: center; vertical-align: top\">[Django, JavaScript,<br>Python, Django rest ...</td>\n",
       "        <td style=\"padding-left: 1em; padding-right: 1em; text-align: center; vertical-align: top\">The problem CoVax<br>solves\\nDue to the COVID ...</td>\n",
       "    </tr>\n",
       "    <tr>\n",
       "        <td style=\"padding-left: 1em; padding-right: 1em; text-align: center; vertical-align: top\">[Flask, TensorFlow,<br>Keras, Heroku, p5.js, ...</td>\n",
       "        <td style=\"padding-left: 1em; padding-right: 1em; text-align: center; vertical-align: top\">The problem Pictionary.ai<br>solves\\nPictionary.ai ...</td>\n",
       "    </tr>\n",
       "</table>\n",
       "[349 rows x 7 columns]<br/>Note: Only the head of the SFrame is printed.<br/>You can use print_rows(num_rows=m, num_columns=n) to print more rows and columns.\n",
       "</div>"
      ],
      "text/plain": [
       "Columns:\n",
       "\tname\tstr\n",
       "\tdesc\tstr\n",
       "\tdevfolioLink\tstr\n",
       "\tgithubLinks\tlist\n",
       "\tspecial_mention\tstr\n",
       "\tstacksUsed\tlist\n",
       "\tlongDesc\tstr\n",
       "\n",
       "Rows: 349\n",
       "\n",
       "Data:\n",
       "+-------------------------------+-------------------------------+\n",
       "|              name             |              desc             |\n",
       "+-------------------------------+-------------------------------+\n",
       "|             WECARE            | Our main slogan is \"Your w... |\n",
       "|             INIGMA            | MEDICINE GUIDE IN YOUR POCKET |\n",
       "|            TRUEMED            | \"Lets Think Of Saving Mone... |\n",
       "|          JAC informer         | Focus on the benefits. Pay... |\n",
       "|            Clinica            | Clinica tackles the proble... |\n",
       "|            MediSure           | We have developed a web as... |\n",
       "| Jan Aushadhi and Governmen... | Generic medicine at your f... |\n",
       "|           Easy-Meds           | Our project mainly aims in... |\n",
       "|             CoVax             | One stop destination for a... |\n",
       "|         Pictionary.ai         | AI that can identify what ... |\n",
       "+-------------------------------+-------------------------------+\n",
       "+-------------------------------+-------------------------------+-----------------+\n",
       "|          devfolioLink         |          githubLinks          | special_mention |\n",
       "+-------------------------------+-------------------------------+-----------------+\n",
       "| https://devfolio.co/submis... | [https://github.com/sooddh... |                 |\n",
       "| https://devfolio.co/submis... | [https://github.com/Vibhut... |                 |\n",
       "| https://devfolio.co/submis... | [https://truemed.herokuapp... |                 |\n",
       "| https://devfolio.co/submis... | [https://devfolio-sociotho... |                 |\n",
       "| https://devfolio.co/submis... | [https://shrouded-basin-46... |                 |\n",
       "| https://devfolio.co/submis... | [https://iamaj69.pythonany... |                 |\n",
       "| https://devfolio.co/submis... | [https://github.com/HariPr... |                 |\n",
       "| https://devfolio.co/submis... | [https://github.com/RagulR... |                 |\n",
       "| https://devfolio.co/submis... | [https://github.com/gaurav... |                 |\n",
       "| https://devfolio.co/submis... | [https://github.com/SockAn... |                 |\n",
       "+-------------------------------+-------------------------------+-----------------+\n",
       "+-------------------------------+-------------------------------+\n",
       "|           stacksUsed          |            longDesc           |\n",
       "+-------------------------------+-------------------------------+\n",
       "| [Bootstrap, JavaScript, Te... | The problem WECARE solves\\... |\n",
       "| [JavaScript, Flutter, Webs... | The problem INIGMA solves\\... |\n",
       "| [HTML, CSS, JavaScript, Py... | The problem TRUEMED solves... |\n",
       "| [Netlify, React js, CSS Gr... | The problem JAC informer s... |\n",
       "| [Node.js, JavaScript, Flas... | The problem Clinica solves... |\n",
       "|   [NumPy, pandas, Django 3]   | The problem MediSure solve... |\n",
       "| [Express.js, MongoDB, Node... | The problem Jan Aushadhi a... |\n",
       "| [JSON, Materialize CSS, Re... | The problem Easy-Meds solv... |\n",
       "| [Django, JavaScript, Pytho... | The problem CoVax solves\\n... |\n",
       "| [Flask, TensorFlow, Keras,... | The problem Pictionary.ai ... |\n",
       "+-------------------------------+-------------------------------+\n",
       "[349 rows x 7 columns]\n",
       "Note: Only the head of the SFrame is printed.\n",
       "You can use print_rows(num_rows=m, num_columns=n) to print more rows and columns."
      ]
     },
     "execution_count": 116,
     "metadata": {},
     "output_type": "execute_result"
    }
   ],
   "source": [
    "projects"
   ]
  },
  {
   "cell_type": "markdown",
   "id": "52fc7f3d",
   "metadata": {},
   "source": [
    "### Removing duplicate projects"
   ]
  },
  {
   "cell_type": "code",
   "execution_count": 117,
   "id": "83ca0daa",
   "metadata": {},
   "outputs": [],
   "source": [
    "projects_uniq = projects.unique()"
   ]
  },
  {
   "cell_type": "code",
   "execution_count": 118,
   "id": "806b7e53",
   "metadata": {},
   "outputs": [
    {
     "data": {
      "text/html": [
       "<div style=\"max-height:1000px;max-width:1500px;overflow:auto;\"><table frame=\"box\" rules=\"cols\">\n",
       "    <tr>\n",
       "        <th style=\"padding-left: 1em; padding-right: 1em; text-align: center\">name</th>\n",
       "        <th style=\"padding-left: 1em; padding-right: 1em; text-align: center\">desc</th>\n",
       "        <th style=\"padding-left: 1em; padding-right: 1em; text-align: center\">devfolioLink</th>\n",
       "        <th style=\"padding-left: 1em; padding-right: 1em; text-align: center\">githubLinks</th>\n",
       "        <th style=\"padding-left: 1em; padding-right: 1em; text-align: center\">special_mention</th>\n",
       "    </tr>\n",
       "    <tr>\n",
       "        <td style=\"padding-left: 1em; padding-right: 1em; text-align: center; vertical-align: top\">WECARE</td>\n",
       "        <td style=\"padding-left: 1em; padding-right: 1em; text-align: center; vertical-align: top\">Our main slogan is &quot;Your<br>wellbeing meets a new ...</td>\n",
       "        <td style=\"padding-left: 1em; padding-right: 1em; text-align: center; vertical-align: top\">https://devfolio.co/submi<br>ssions/wecare-112a ...</td>\n",
       "        <td style=\"padding-left: 1em; padding-right: 1em; text-align: center; vertical-align: top\">[https://github.com/soodd<br>hruv/Sociothon] ...</td>\n",
       "        <td style=\"padding-left: 1em; padding-right: 1em; text-align: center; vertical-align: top\"> </td>\n",
       "    </tr>\n",
       "    <tr>\n",
       "        <td style=\"padding-left: 1em; padding-right: 1em; text-align: center; vertical-align: top\">INIGMA</td>\n",
       "        <td style=\"padding-left: 1em; padding-right: 1em; text-align: center; vertical-align: top\">MEDICINE GUIDE IN YOUR<br>POCKET ...</td>\n",
       "        <td style=\"padding-left: 1em; padding-right: 1em; text-align: center; vertical-align: top\">https://devfolio.co/submi<br>ssions/inigma-48f8 ...</td>\n",
       "        <td style=\"padding-left: 1em; padding-right: 1em; text-align: center; vertical-align: top\">[https://github.com/Vibhu<br>tiBansal-11/inigma_so ...</td>\n",
       "        <td style=\"padding-left: 1em; padding-right: 1em; text-align: center; vertical-align: top\"> </td>\n",
       "    </tr>\n",
       "    <tr>\n",
       "        <td style=\"padding-left: 1em; padding-right: 1em; text-align: center; vertical-align: top\">TRUEMED</td>\n",
       "        <td style=\"padding-left: 1em; padding-right: 1em; text-align: center; vertical-align: top\">&quot;Lets Think Of Saving<br>Money &amp; Access to ...</td>\n",
       "        <td style=\"padding-left: 1em; padding-right: 1em; text-align: center; vertical-align: top\">https://devfolio.co/submi<br>ssions/truemed-312c ...</td>\n",
       "        <td style=\"padding-left: 1em; padding-right: 1em; text-align: center; vertical-align: top\">[https://truemed.herokuap<br>p.com/, https://githu ...</td>\n",
       "        <td style=\"padding-left: 1em; padding-right: 1em; text-align: center; vertical-align: top\"> </td>\n",
       "    </tr>\n",
       "    <tr>\n",
       "        <td style=\"padding-left: 1em; padding-right: 1em; text-align: center; vertical-align: top\">JAC informer</td>\n",
       "        <td style=\"padding-left: 1em; padding-right: 1em; text-align: center; vertical-align: top\">Focus on the benefits.<br>Payless, get more. ...</td>\n",
       "        <td style=\"padding-left: 1em; padding-right: 1em; text-align: center; vertical-align: top\">https://devfolio.co/submi<br>ssions/jac-informer-a75e ...</td>\n",
       "        <td style=\"padding-left: 1em; padding-right: 1em; text-align: center; vertical-align: top\">[https://devfolio-<br>sociothon.netlify.app ...</td>\n",
       "        <td style=\"padding-left: 1em; padding-right: 1em; text-align: center; vertical-align: top\"> </td>\n",
       "    </tr>\n",
       "    <tr>\n",
       "        <td style=\"padding-left: 1em; padding-right: 1em; text-align: center; vertical-align: top\">Clinica</td>\n",
       "        <td style=\"padding-left: 1em; padding-right: 1em; text-align: center; vertical-align: top\">Clinica tackles the<br>problem of a weak supply ...</td>\n",
       "        <td style=\"padding-left: 1em; padding-right: 1em; text-align: center; vertical-align: top\">https://devfolio.co/submi<br>ssions/clinica-e4f7 ...</td>\n",
       "        <td style=\"padding-left: 1em; padding-right: 1em; text-align: center; vertical-align: top\">[https://shrouded-basin-4<br>6770.herokuapp.com/,  ...</td>\n",
       "        <td style=\"padding-left: 1em; padding-right: 1em; text-align: center; vertical-align: top\"> </td>\n",
       "    </tr>\n",
       "    <tr>\n",
       "        <td style=\"padding-left: 1em; padding-right: 1em; text-align: center; vertical-align: top\">MediSure</td>\n",
       "        <td style=\"padding-left: 1em; padding-right: 1em; text-align: center; vertical-align: top\">We have developed a web<br>as well as an Android ...</td>\n",
       "        <td style=\"padding-left: 1em; padding-right: 1em; text-align: center; vertical-align: top\">https://devfolio.co/submi<br>ssions/medisure-151b ...</td>\n",
       "        <td style=\"padding-left: 1em; padding-right: 1em; text-align: center; vertical-align: top\">[https://iamaj69.pythonan<br>ywhere.com/, https:// ...</td>\n",
       "        <td style=\"padding-left: 1em; padding-right: 1em; text-align: center; vertical-align: top\"> </td>\n",
       "    </tr>\n",
       "    <tr>\n",
       "        <td style=\"padding-left: 1em; padding-right: 1em; text-align: center; vertical-align: top\">Jan Aushadhi and<br>Government of India ...</td>\n",
       "        <td style=\"padding-left: 1em; padding-right: 1em; text-align: center; vertical-align: top\">Generic medicine at your<br>footstep ...</td>\n",
       "        <td style=\"padding-left: 1em; padding-right: 1em; text-align: center; vertical-align: top\">https://devfolio.co/submi<br>ssions/jan-aushadhi-and- ...</td>\n",
       "        <td style=\"padding-left: 1em; padding-right: 1em; text-align: center; vertical-align: top\">[https://github.com/HariP<br>rasad5724/MedicineWeb ...</td>\n",
       "        <td style=\"padding-left: 1em; padding-right: 1em; text-align: center; vertical-align: top\"> </td>\n",
       "    </tr>\n",
       "    <tr>\n",
       "        <td style=\"padding-left: 1em; padding-right: 1em; text-align: center; vertical-align: top\">Easy-Meds</td>\n",
       "        <td style=\"padding-left: 1em; padding-right: 1em; text-align: center; vertical-align: top\">Our project mainly aims<br>in promoting the usag ...</td>\n",
       "        <td style=\"padding-left: 1em; padding-right: 1em; text-align: center; vertical-align: top\">https://devfolio.co/submi<br>ssions/easymeds-69ad ...</td>\n",
       "        <td style=\"padding-left: 1em; padding-right: 1em; text-align: center; vertical-align: top\">[https://github.com/Ragul<br>Raj-S/Easy-meds, ...</td>\n",
       "        <td style=\"padding-left: 1em; padding-right: 1em; text-align: center; vertical-align: top\"> </td>\n",
       "    </tr>\n",
       "    <tr>\n",
       "        <td style=\"padding-left: 1em; padding-right: 1em; text-align: center; vertical-align: top\">CoVax</td>\n",
       "        <td style=\"padding-left: 1em; padding-right: 1em; text-align: center; vertical-align: top\">One stop destination for<br>all your COVID problems ...</td>\n",
       "        <td style=\"padding-left: 1em; padding-right: 1em; text-align: center; vertical-align: top\">https://devfolio.co/submi<br>ssions/covax-0920 ...</td>\n",
       "        <td style=\"padding-left: 1em; padding-right: 1em; text-align: center; vertical-align: top\">[https://github.com/gaura<br>vraj0510/CoVax-JAAR,  ...</td>\n",
       "        <td style=\"padding-left: 1em; padding-right: 1em; text-align: center; vertical-align: top\"> </td>\n",
       "    </tr>\n",
       "    <tr>\n",
       "        <td style=\"padding-left: 1em; padding-right: 1em; text-align: center; vertical-align: top\">Pictionary.ai</td>\n",
       "        <td style=\"padding-left: 1em; padding-right: 1em; text-align: center; vertical-align: top\">AI that can identify what<br>picture you&#x27;re drawing ...</td>\n",
       "        <td style=\"padding-left: 1em; padding-right: 1em; text-align: center; vertical-align: top\">https://devfolio.co/submi<br>ssions/pictionaryai-ffe7 ...</td>\n",
       "        <td style=\"padding-left: 1em; padding-right: 1em; text-align: center; vertical-align: top\">[https://github.com/SockA<br>ndSandal/KJSCEHack, h ...</td>\n",
       "        <td style=\"padding-left: 1em; padding-right: 1em; text-align: center; vertical-align: top\"> </td>\n",
       "    </tr>\n",
       "</table>\n",
       "<table frame=\"box\" rules=\"cols\">\n",
       "    <tr>\n",
       "        <th style=\"padding-left: 1em; padding-right: 1em; text-align: center\">stacksUsed</th>\n",
       "        <th style=\"padding-left: 1em; padding-right: 1em; text-align: center\">longDesc</th>\n",
       "    </tr>\n",
       "    <tr>\n",
       "        <td style=\"padding-left: 1em; padding-right: 1em; text-align: center; vertical-align: top\">[Bootstrap, JavaScript,<br>TensorFlow, AngularJS, ...</td>\n",
       "        <td style=\"padding-left: 1em; padding-right: 1em; text-align: center; vertical-align: top\">The problem WECARE<br>solves\\n1) Buying and ...</td>\n",
       "    </tr>\n",
       "    <tr>\n",
       "        <td style=\"padding-left: 1em; padding-right: 1em; text-align: center; vertical-align: top\">[JavaScript, Flutter,<br>Website: Bootstrap, A ...</td>\n",
       "        <td style=\"padding-left: 1em; padding-right: 1em; text-align: center; vertical-align: top\">The problem INIGMA<br>solves\\nWeak supply c ...</td>\n",
       "    </tr>\n",
       "    <tr>\n",
       "        <td style=\"padding-left: 1em; padding-right: 1em; text-align: center; vertical-align: top\">[HTML, CSS, JavaScript,<br>Python, Data Science, ...</td>\n",
       "        <td style=\"padding-left: 1em; padding-right: 1em; text-align: center; vertical-align: top\">The problem TRUEMED<br>solves\\nMedicines ...</td>\n",
       "    </tr>\n",
       "    <tr>\n",
       "        <td style=\"padding-left: 1em; padding-right: 1em; text-align: center; vertical-align: top\">[Netlify, React js, CSS<br>Grid and Flexbox] ...</td>\n",
       "        <td style=\"padding-left: 1em; padding-right: 1em; text-align: center; vertical-align: top\">The problem JAC informer<br>solves\\nPromotes the ...</td>\n",
       "    </tr>\n",
       "    <tr>\n",
       "        <td style=\"padding-left: 1em; padding-right: 1em; text-align: center; vertical-align: top\">[Node.js, JavaScript,<br>Flask, scikit-learn, ...</td>\n",
       "        <td style=\"padding-left: 1em; padding-right: 1em; text-align: center; vertical-align: top\">The problem Clinica<br>solves\\nTo tackle the ...</td>\n",
       "    </tr>\n",
       "    <tr>\n",
       "        <td style=\"padding-left: 1em; padding-right: 1em; text-align: center; vertical-align: top\">[NumPy, pandas, Django 3]</td>\n",
       "        <td style=\"padding-left: 1em; padding-right: 1em; text-align: center; vertical-align: top\">The problem MediSure<br>solves\\nSince the con ...</td>\n",
       "    </tr>\n",
       "    <tr>\n",
       "        <td style=\"padding-left: 1em; padding-right: 1em; text-align: center; vertical-align: top\">[Express.js, MongoDB,<br>Node js, React js, ...</td>\n",
       "        <td style=\"padding-left: 1em; padding-right: 1em; text-align: center; vertical-align: top\">The problem Jan Aushadhi<br>and Government of India ...</td>\n",
       "    </tr>\n",
       "    <tr>\n",
       "        <td style=\"padding-left: 1em; padding-right: 1em; text-align: center; vertical-align: top\">[JSON, Materialize CSS,<br>React.js] ...</td>\n",
       "        <td style=\"padding-left: 1em; padding-right: 1em; text-align: center; vertical-align: top\">The problem Easy-Meds<br>solves\\nAs India is one ...</td>\n",
       "    </tr>\n",
       "    <tr>\n",
       "        <td style=\"padding-left: 1em; padding-right: 1em; text-align: center; vertical-align: top\">[Django, JavaScript,<br>Python, Django rest ...</td>\n",
       "        <td style=\"padding-left: 1em; padding-right: 1em; text-align: center; vertical-align: top\">The problem CoVax<br>solves\\nDue to the COVID ...</td>\n",
       "    </tr>\n",
       "    <tr>\n",
       "        <td style=\"padding-left: 1em; padding-right: 1em; text-align: center; vertical-align: top\">[Flask, TensorFlow,<br>Keras, Heroku, p5.js, ...</td>\n",
       "        <td style=\"padding-left: 1em; padding-right: 1em; text-align: center; vertical-align: top\">The problem Pictionary.ai<br>solves\\nPictionary.ai ...</td>\n",
       "    </tr>\n",
       "</table>\n",
       "[349 rows x 7 columns]<br/>Note: Only the head of the SFrame is printed.<br/>You can use print_rows(num_rows=m, num_columns=n) to print more rows and columns.\n",
       "</div>"
      ],
      "text/plain": [
       "Columns:\n",
       "\tname\tstr\n",
       "\tdesc\tstr\n",
       "\tdevfolioLink\tstr\n",
       "\tgithubLinks\tlist\n",
       "\tspecial_mention\tstr\n",
       "\tstacksUsed\tlist\n",
       "\tlongDesc\tstr\n",
       "\n",
       "Rows: 349\n",
       "\n",
       "Data:\n",
       "+-------------------------------+-------------------------------+\n",
       "|              name             |              desc             |\n",
       "+-------------------------------+-------------------------------+\n",
       "|             WECARE            | Our main slogan is \"Your w... |\n",
       "|             INIGMA            | MEDICINE GUIDE IN YOUR POCKET |\n",
       "|            TRUEMED            | \"Lets Think Of Saving Mone... |\n",
       "|          JAC informer         | Focus on the benefits. Pay... |\n",
       "|            Clinica            | Clinica tackles the proble... |\n",
       "|            MediSure           | We have developed a web as... |\n",
       "| Jan Aushadhi and Governmen... | Generic medicine at your f... |\n",
       "|           Easy-Meds           | Our project mainly aims in... |\n",
       "|             CoVax             | One stop destination for a... |\n",
       "|         Pictionary.ai         | AI that can identify what ... |\n",
       "+-------------------------------+-------------------------------+\n",
       "+-------------------------------+-------------------------------+-----------------+\n",
       "|          devfolioLink         |          githubLinks          | special_mention |\n",
       "+-------------------------------+-------------------------------+-----------------+\n",
       "| https://devfolio.co/submis... | [https://github.com/sooddh... |                 |\n",
       "| https://devfolio.co/submis... | [https://github.com/Vibhut... |                 |\n",
       "| https://devfolio.co/submis... | [https://truemed.herokuapp... |                 |\n",
       "| https://devfolio.co/submis... | [https://devfolio-sociotho... |                 |\n",
       "| https://devfolio.co/submis... | [https://shrouded-basin-46... |                 |\n",
       "| https://devfolio.co/submis... | [https://iamaj69.pythonany... |                 |\n",
       "| https://devfolio.co/submis... | [https://github.com/HariPr... |                 |\n",
       "| https://devfolio.co/submis... | [https://github.com/RagulR... |                 |\n",
       "| https://devfolio.co/submis... | [https://github.com/gaurav... |                 |\n",
       "| https://devfolio.co/submis... | [https://github.com/SockAn... |                 |\n",
       "+-------------------------------+-------------------------------+-----------------+\n",
       "+-------------------------------+-------------------------------+\n",
       "|           stacksUsed          |            longDesc           |\n",
       "+-------------------------------+-------------------------------+\n",
       "| [Bootstrap, JavaScript, Te... | The problem WECARE solves\\... |\n",
       "| [JavaScript, Flutter, Webs... | The problem INIGMA solves\\... |\n",
       "| [HTML, CSS, JavaScript, Py... | The problem TRUEMED solves... |\n",
       "| [Netlify, React js, CSS Gr... | The problem JAC informer s... |\n",
       "| [Node.js, JavaScript, Flas... | The problem Clinica solves... |\n",
       "|   [NumPy, pandas, Django 3]   | The problem MediSure solve... |\n",
       "| [Express.js, MongoDB, Node... | The problem Jan Aushadhi a... |\n",
       "| [JSON, Materialize CSS, Re... | The problem Easy-Meds solv... |\n",
       "| [Django, JavaScript, Pytho... | The problem CoVax solves\\n... |\n",
       "| [Flask, TensorFlow, Keras,... | The problem Pictionary.ai ... |\n",
       "+-------------------------------+-------------------------------+\n",
       "[349 rows x 7 columns]\n",
       "Note: Only the head of the SFrame is printed.\n",
       "You can use print_rows(num_rows=m, num_columns=n) to print more rows and columns."
      ]
     },
     "execution_count": 118,
     "metadata": {},
     "output_type": "execute_result"
    }
   ],
   "source": [
    "projects"
   ]
  },
  {
   "cell_type": "code",
   "execution_count": 119,
   "id": "9bdb47c0",
   "metadata": {},
   "outputs": [],
   "source": [
    "projects = projects_uniq[projects_uniq['name']!=\"<Write Project Name Here>\"]"
   ]
  },
  {
   "cell_type": "code",
   "execution_count": 120,
   "id": "aada2982",
   "metadata": {},
   "outputs": [],
   "source": [
    "projects.materialize()"
   ]
  },
  {
   "cell_type": "code",
   "execution_count": 121,
   "id": "175bbfb5",
   "metadata": {},
   "outputs": [
    {
     "name": "stdout",
     "output_type": "stream",
     "text": [
      "+-------------------------------+-------------------------------+\n",
      "|              desc             |          devfolioLink         |\n",
      "+-------------------------------+-------------------------------+\n",
      "| Live simply so that others... | https://devfolio.co/submis... |\n",
      "| A women safety app that he... | https://devfolio.co/submis... |\n",
      "| A decentralized C2C rentin... | https://devfolio.co/submis... |\n",
      "|          Life Matters         | https://devfolio.co/submis... |\n",
      "|   E- learning for the future  | https://devfolio.co/submis... |\n",
      "|               vs              | https://devfolio.co/submis... |\n",
      "|        donate and track       | https://devfolio.co/submis... |\n",
      "| Anonymate is a Counselling... | https://devfolio.co/submis... |\n",
      "| A secure, legal and comple... | https://devfolio.co/submis... |\n",
      "|     Review | Grow | Share     | https://devfolio.co/submis... |\n",
      "| Learned how to develop a s... | https://devfolio.co/submis... |\n",
      "| To Serve Those, Who Serve Us. | https://devfolio.co/submis... |\n",
      "| Autonomous!!!The Need of T... | https://devfolio.co/submis... |\n",
      "| The objective of this webs... | https://devfolio.co/submis... |\n",
      "| Tagline: We pack for less.... | https://devfolio.co/submis... |\n",
      "| Meet people in a revolutio... | https://devfolio.co/submis... |\n",
      "| A mental wellness web app ... | https://devfolio.co/submis... |\n",
      "| A soil detector and crop p... | https://devfolio.co/submis... |\n",
      "| We are building one of the... | https://devfolio.co/submis... |\n",
      "| A full-stack web applicati... | https://devfolio.co/submis... |\n",
      "+-------------------------------+-------------------------------+\n",
      "+--------------------------------+-------------------------------+\n",
      "|          githubLinks           |            longDesc           |\n",
      "+--------------------------------+-------------------------------+\n",
      "| [https://github.com/anirud...  | The problem Share And Care... |\n",
      "| [https://github.com/rakulv...  | The problem SheWalksSafe -... |\n",
      "| [https://bitbucket.org/man...  | The problem Drent solves\\n... |\n",
      "| [https://github.com/Rohith...  | The problem ADTech Alcohol... |\n",
      "| [https://github.com/Aditya...  | The problem Edu V solves\\n... |\n",
      "| [https://youtu.be/y1SsyY7Qnx8] | The problem Vs code solves... |\n",
      "| [https://github.com/ishaag...  | The problem DONTRACK solve... |\n",
      "| [https://github.com/aarush...  | The problem AnonyMate solv... |\n",
      "| [https://github.com/Naman-...  | The problem DataVault solv... |\n",
      "| [https://github.com/Peer-I...  | The problem Peer IO solves... |\n",
      "| [https://github.com/KanakB...  | The problem Stock Price Pr... |\n",
      "| [https://youtu.be/ipFfT6R4xKw] | The problem Self -Disinfen... |\n",
      "| [https://github.com/Paras-...  | The problem Rakshak Drone ... |\n",
      "| [https://manavdoda7.github...  | The problem PsycheCheck so... |\n",
      "| [https://github.com/deeps2...  | The problem Pack-It-Up sol... |\n",
      "| [https://github.com/Hungry...  | The problem Ajnabee solves... |\n",
      "| [https://github.com/Siddhe...  | The problem SOOTHE solves\\... |\n",
      "| [https://github.com/Nishth...  | The problem Shiwu solves\\n... |\n",
      "| [https://github.com/shaury...  | The problem Mirai Secured ... |\n",
      "| [https://github.com/Grumpy...  | The problem MediFast solve... |\n",
      "+--------------------------------+-------------------------------+\n",
      "+-------------------------------+-----------------+\n",
      "|              name             | special_mention |\n",
      "+-------------------------------+-----------------+\n",
      "| Share And Care - A Food Ma... |                 |\n",
      "| SheWalksSafe - A Women Saf... |                 |\n",
      "|             Drent             |                 |\n",
      "| ADTech Alcohol Sensing and... |                 |\n",
      "|             Edu V             |      Top 12     |\n",
      "|            Vs code            |                 |\n",
      "|            DONTRACK           |                 |\n",
      "|           AnonyMate           |                 |\n",
      "|           DataVault           |                 |\n",
      "|            Peer IO            |                 |\n",
      "| Stock Price Prediction – M... |                 |\n",
      "| Self -Disinfentive Glove a... |                 |\n",
      "|         Rakshak Drone         |                 |\n",
      "|          PsycheCheck          |                 |\n",
      "|           Pack-It-Up          |                 |\n",
      "|            Ajnabee            |                 |\n",
      "|             SOOTHE            |                 |\n",
      "|             Shiwu             |  Best All Girls |\n",
      "| Mirai Secured with Automation |    Runner Up    |\n",
      "|            MediFast           |  2nd Runners Up |\n",
      "+-------------------------------+-----------------+\n",
      "+-------------------------------+\n",
      "|           stacksUsed          |\n",
      "+-------------------------------+\n",
      "| [jQuery, HTML, CSS, Django... |\n",
      "| [Flutter, Google Maps API,... |\n",
      "| [Solidity, IPFS, ethers.js... |\n",
      "| [Arduino Uno, Arduino IDE,... |\n",
      "| [Unity, Vuforia, Blender, ... |\n",
      "| [Visual Studio Code is a f... |\n",
      "| [HTML, CSS, JS, ConceilJS ... |\n",
      "| [HTML, Bootstrap, Django, ... |\n",
      "| [Solidity, Django, Machine... |\n",
      "| [Express.js, MongoDB, Mong... |\n",
      "|   [Python, Jupyter Notebook]  |\n",
      "| [C++, Arduino, self-disinf... |\n",
      "|   [OpenCV, ROS, Gazebo, Ml]   |\n",
      "| [Bootstrap, JavaScript, CS... |\n",
      "| [HTML, Firebase, CSS, Java... |\n",
      "| [PyTorch, Machine Learning... |\n",
      "| [Node.js, npm, Firestore, ... |\n",
      "| [Flask, TensorFlow, Machin... |\n",
      "| [ESP32, Embedded C, Convol... |\n",
      "| [JavaScript, Embedded Java... |\n",
      "+-------------------------------+\n",
      "[328 rows x 7 columns]\n",
      "\n"
     ]
    }
   ],
   "source": [
    "projects.print_rows(num_rows=20)"
   ]
  },
  {
   "cell_type": "markdown",
   "id": "223d493c",
   "metadata": {},
   "source": [
    "### creating a bag-of-words using the the words in the 'longDesc' of each project and removing the stop-words"
   ]
  },
  {
   "cell_type": "code",
   "execution_count": 122,
   "id": "fedc15f3",
   "metadata": {},
   "outputs": [],
   "source": [
    "proj_docs = turicreate.text_analytics.count_words(projects['longDesc'])\n",
    "proj_docs = proj_docs.dict_trim_by_keys(turicreate.text_analytics.stop_words(), exclude=True)"
   ]
  },
  {
   "cell_type": "code",
   "execution_count": 123,
   "id": "8ac4d304",
   "metadata": {},
   "outputs": [
    {
     "data": {
      "text/plain": [
       "{'respond': 1.0,\n",
       " 'follow': 1.0,\n",
       " 'ngos': 1.0,\n",
       " 'posting': 1.0,\n",
       " 'simply': 2.0,\n",
       " 'notifications': 2.0,\n",
       " 'disbalance': 1.0,\n",
       " 'solve': 1.0,\n",
       " 'aim': 1.0,\n",
       " 'posts': 1.0,\n",
       " 'global': 1.0,\n",
       " 'post': 2.0,\n",
       " 'organisations': 1.0,\n",
       " 'people': 2.0,\n",
       " 'upload': 1.0,\n",
       " 'account': 1.0,\n",
       " 'solves': 1.0,\n",
       " 'log': 1.0,\n",
       " 'society': 1.0,\n",
       " 'food': 9.0,\n",
       " 'website': 1.0,\n",
       " 'scenarios': 1.0,\n",
       " 'excess': 1.0,\n",
       " 'nearby': 1.0,\n",
       " 'create': 2.0,\n",
       " 'handle': 1.0,\n",
       " 'share': 3.0,\n",
       " 'platform': 1.0,\n",
       " 'government': 1.0,\n",
       " 'app': 3.0,\n",
       " 'mobile': 1.0,\n",
       " 'eat': 1.0,\n",
       " 'filter': 1.0,\n",
       " 'creating': 1.0,\n",
       " 'wastage': 1.0,\n",
       " 'put': 1.0,\n",
       " 'ready': 1.0,\n",
       " 'designed': 1.0,\n",
       " 'places': 1.0,\n",
       " 'produced': 1.0,\n",
       " 'application': 1.0,\n",
       " 'lot': 1.0,\n",
       " 'locals': 1.0,\n",
       " 'details': 2.0,\n",
       " 'leftover': 3.0,\n",
       " 'care': 3.0,\n",
       " 'web': 4.0,\n",
       " 'real': 1.0,\n",
       " 'problem': 1.0,\n",
       " 'concern': 1.0,\n",
       " 'management': 1.0}"
      ]
     },
     "execution_count": 123,
     "metadata": {},
     "output_type": "execute_result"
    }
   ],
   "source": [
    "proj_docs[0]"
   ]
  },
  {
   "cell_type": "markdown",
   "id": "f923d885",
   "metadata": {},
   "source": [
    "### Fitting the bag of words into an LDA model"
   ]
  },
  {
   "cell_type": "code",
   "execution_count": 225,
   "id": "9b1cdeee",
   "metadata": {},
   "outputs": [
    {
     "data": {
      "text/html": [
       "<pre>Learning a topic model</pre>"
      ],
      "text/plain": [
       "Learning a topic model"
      ]
     },
     "metadata": {},
     "output_type": "display_data"
    },
    {
     "data": {
      "text/html": [
       "<pre>       Number of documents       328</pre>"
      ],
      "text/plain": [
       "       Number of documents       328"
      ]
     },
     "metadata": {},
     "output_type": "display_data"
    },
    {
     "data": {
      "text/html": [
       "<pre>           Vocabulary size      5413</pre>"
      ],
      "text/plain": [
       "           Vocabulary size      5413"
      ]
     },
     "metadata": {},
     "output_type": "display_data"
    },
    {
     "data": {
      "text/html": [
       "<pre>   Running collapsed Gibbs sampling</pre>"
      ],
      "text/plain": [
       "   Running collapsed Gibbs sampling"
      ]
     },
     "metadata": {},
     "output_type": "display_data"
    },
    {
     "data": {
      "text/html": [
       "<pre>+-----------+---------------+----------------+-----------------+</pre>"
      ],
      "text/plain": [
       "+-----------+---------------+----------------+-----------------+"
      ]
     },
     "metadata": {},
     "output_type": "display_data"
    },
    {
     "data": {
      "text/html": [
       "<pre>| Iteration | Elapsed Time  | Tokens/Second  | Est. Perplexity |</pre>"
      ],
      "text/plain": [
       "| Iteration | Elapsed Time  | Tokens/Second  | Est. Perplexity |"
      ]
     },
     "metadata": {},
     "output_type": "display_data"
    },
    {
     "data": {
      "text/html": [
       "<pre>+-----------+---------------+----------------+-----------------+</pre>"
      ],
      "text/plain": [
       "+-----------+---------------+----------------+-----------------+"
      ]
     },
     "metadata": {},
     "output_type": "display_data"
    },
    {
     "data": {
      "text/html": [
       "<pre>| 10        | 89.675ms      | 3.97771e+06    | 0               |</pre>"
      ],
      "text/plain": [
       "| 10        | 89.675ms      | 3.97771e+06    | 0               |"
      ]
     },
     "metadata": {},
     "output_type": "display_data"
    },
    {
     "data": {
      "text/html": [
       "<pre>| 20        | 170.183ms     | 2.52085e+06    | 0               |</pre>"
      ],
      "text/plain": [
       "| 20        | 170.183ms     | 2.52085e+06    | 0               |"
      ]
     },
     "metadata": {},
     "output_type": "display_data"
    },
    {
     "data": {
      "text/html": [
       "<pre>| 30        | 243.933ms     | 2.57742e+06    | 0               |</pre>"
      ],
      "text/plain": [
       "| 30        | 243.933ms     | 2.57742e+06    | 0               |"
      ]
     },
     "metadata": {},
     "output_type": "display_data"
    },
    {
     "data": {
      "text/html": [
       "<pre>| 40        | 315.931ms     | 2.53581e+06    | 0               |</pre>"
      ],
      "text/plain": [
       "| 40        | 315.931ms     | 2.53581e+06    | 0               |"
      ]
     },
     "metadata": {},
     "output_type": "display_data"
    },
    {
     "data": {
      "text/html": [
       "<pre>| 50        | 392.409ms     | 2.5894e+06     | 0               |</pre>"
      ],
      "text/plain": [
       "| 50        | 392.409ms     | 2.5894e+06     | 0               |"
      ]
     },
     "metadata": {},
     "output_type": "display_data"
    },
    {
     "data": {
      "text/html": [
       "<pre>| 60        | 463.599ms     | 2.96595e+06    | 0               |</pre>"
      ],
      "text/plain": [
       "| 60        | 463.599ms     | 2.96595e+06    | 0               |"
      ]
     },
     "metadata": {},
     "output_type": "display_data"
    },
    {
     "data": {
      "text/html": [
       "<pre>| 70        | 537.659ms     | 2.51395e+06    | 0               |</pre>"
      ],
      "text/plain": [
       "| 70        | 537.659ms     | 2.51395e+06    | 0               |"
      ]
     },
     "metadata": {},
     "output_type": "display_data"
    },
    {
     "data": {
      "text/html": [
       "<pre>| 80        | 610.768ms     | 2.42953e+06    | 0               |</pre>"
      ],
      "text/plain": [
       "| 80        | 610.768ms     | 2.42953e+06    | 0               |"
      ]
     },
     "metadata": {},
     "output_type": "display_data"
    },
    {
     "data": {
      "text/html": [
       "<pre>| 90        | 686.506ms     | 2.51981e+06    | 0               |</pre>"
      ],
      "text/plain": [
       "| 90        | 686.506ms     | 2.51981e+06    | 0               |"
      ]
     },
     "metadata": {},
     "output_type": "display_data"
    },
    {
     "data": {
      "text/html": [
       "<pre>| 100       | 757.18ms      | 4.96273e+06    | 0               |</pre>"
      ],
      "text/plain": [
       "| 100       | 757.18ms      | 4.96273e+06    | 0               |"
      ]
     },
     "metadata": {},
     "output_type": "display_data"
    },
    {
     "data": {
      "text/html": [
       "<pre>| 110       | 832.499ms     | 2.60445e+06    | 0               |</pre>"
      ],
      "text/plain": [
       "| 110       | 832.499ms     | 2.60445e+06    | 0               |"
      ]
     },
     "metadata": {},
     "output_type": "display_data"
    },
    {
     "data": {
      "text/html": [
       "<pre>| 120       | 905.409ms     | 2.59782e+06    | 0               |</pre>"
      ],
      "text/plain": [
       "| 120       | 905.409ms     | 2.59782e+06    | 0               |"
      ]
     },
     "metadata": {},
     "output_type": "display_data"
    },
    {
     "data": {
      "text/html": [
       "<pre>| 130       | 978.568ms     | 2.41073e+06    | 0               |</pre>"
      ],
      "text/plain": [
       "| 130       | 978.568ms     | 2.41073e+06    | 0               |"
      ]
     },
     "metadata": {},
     "output_type": "display_data"
    },
    {
     "data": {
      "text/html": [
       "<pre>| 140       | 1.05s         | 2.58758e+06    | 0               |</pre>"
      ],
      "text/plain": [
       "| 140       | 1.05s         | 2.58758e+06    | 0               |"
      ]
     },
     "metadata": {},
     "output_type": "display_data"
    },
    {
     "data": {
      "text/html": [
       "<pre>| 150       | 1.13s         | 2.5552e+06     | 0               |</pre>"
      ],
      "text/plain": [
       "| 150       | 1.13s         | 2.5552e+06     | 0               |"
      ]
     },
     "metadata": {},
     "output_type": "display_data"
    },
    {
     "data": {
      "text/html": [
       "<pre>| 160       | 1.20s         | 2.64684e+06    | 0               |</pre>"
      ],
      "text/plain": [
       "| 160       | 1.20s         | 2.64684e+06    | 0               |"
      ]
     },
     "metadata": {},
     "output_type": "display_data"
    },
    {
     "data": {
      "text/html": [
       "<pre>| 170       | 1.27s         | 3.06283e+06    | 0               |</pre>"
      ],
      "text/plain": [
       "| 170       | 1.27s         | 3.06283e+06    | 0               |"
      ]
     },
     "metadata": {},
     "output_type": "display_data"
    },
    {
     "data": {
      "text/html": [
       "<pre>| 180       | 1.34s         | 2.52431e+06    | 0               |</pre>"
      ],
      "text/plain": [
       "| 180       | 1.34s         | 2.52431e+06    | 0               |"
      ]
     },
     "metadata": {},
     "output_type": "display_data"
    },
    {
     "data": {
      "text/html": [
       "<pre>| 190       | 1.41s         | 2.62454e+06    | 0               |</pre>"
      ],
      "text/plain": [
       "| 190       | 1.41s         | 2.62454e+06    | 0               |"
      ]
     },
     "metadata": {},
     "output_type": "display_data"
    },
    {
     "data": {
      "text/html": [
       "<pre>| 200       | 1.48s         | 2.53092e+06    | 0               |</pre>"
      ],
      "text/plain": [
       "| 200       | 1.48s         | 2.53092e+06    | 0               |"
      ]
     },
     "metadata": {},
     "output_type": "display_data"
    },
    {
     "data": {
      "text/html": [
       "<pre>| 210       | 1.55s         | 2.447e+06      | 0               |</pre>"
      ],
      "text/plain": [
       "| 210       | 1.55s         | 2.447e+06      | 0               |"
      ]
     },
     "metadata": {},
     "output_type": "display_data"
    },
    {
     "data": {
      "text/html": [
       "<pre>| 220       | 1.63s         | 2.47069e+06    | 0               |</pre>"
      ],
      "text/plain": [
       "| 220       | 1.63s         | 2.47069e+06    | 0               |"
      ]
     },
     "metadata": {},
     "output_type": "display_data"
    },
    {
     "data": {
      "text/html": [
       "<pre>| 230       | 1.70s         | 2.48371e+06    | 0               |</pre>"
      ],
      "text/plain": [
       "| 230       | 1.70s         | 2.48371e+06    | 0               |"
      ]
     },
     "metadata": {},
     "output_type": "display_data"
    },
    {
     "data": {
      "text/html": [
       "<pre>| 240       | 1.78s         | 2.50027e+06    | 0               |</pre>"
      ],
      "text/plain": [
       "| 240       | 1.78s         | 2.50027e+06    | 0               |"
      ]
     },
     "metadata": {},
     "output_type": "display_data"
    },
    {
     "data": {
      "text/html": [
       "<pre>| 250       | 1.85s         | 4.21394e+06    | 0               |</pre>"
      ],
      "text/plain": [
       "| 250       | 1.85s         | 4.21394e+06    | 0               |"
      ]
     },
     "metadata": {},
     "output_type": "display_data"
    },
    {
     "data": {
      "text/html": [
       "<pre>| 260       | 1.93s         | 2.30202e+06    | 0               |</pre>"
      ],
      "text/plain": [
       "| 260       | 1.93s         | 2.30202e+06    | 0               |"
      ]
     },
     "metadata": {},
     "output_type": "display_data"
    },
    {
     "data": {
      "text/html": [
       "<pre>| 270       | 2.00s         | 2.5047e+06     | 0               |</pre>"
      ],
      "text/plain": [
       "| 270       | 2.00s         | 2.5047e+06     | 0               |"
      ]
     },
     "metadata": {},
     "output_type": "display_data"
    },
    {
     "data": {
      "text/html": [
       "<pre>| 280       | 2.07s         | 2.3488e+06     | 0               |</pre>"
      ],
      "text/plain": [
       "| 280       | 2.07s         | 2.3488e+06     | 0               |"
      ]
     },
     "metadata": {},
     "output_type": "display_data"
    },
    {
     "data": {
      "text/html": [
       "<pre>| 290       | 2.14s         | 2.44115e+06    | 0               |</pre>"
      ],
      "text/plain": [
       "| 290       | 2.14s         | 2.44115e+06    | 0               |"
      ]
     },
     "metadata": {},
     "output_type": "display_data"
    },
    {
     "data": {
      "text/html": [
       "<pre>| 300       | 2.21s         | 2.32561e+06    | 0               |</pre>"
      ],
      "text/plain": [
       "| 300       | 2.21s         | 2.32561e+06    | 0               |"
      ]
     },
     "metadata": {},
     "output_type": "display_data"
    },
    {
     "data": {
      "text/html": [
       "<pre>| 310       | 2.28s         | 2.56304e+06    | 0               |</pre>"
      ],
      "text/plain": [
       "| 310       | 2.28s         | 2.56304e+06    | 0               |"
      ]
     },
     "metadata": {},
     "output_type": "display_data"
    },
    {
     "data": {
      "text/html": [
       "<pre>| 320       | 2.35s         | 3.33098e+06    | 0               |</pre>"
      ],
      "text/plain": [
       "| 320       | 2.35s         | 3.33098e+06    | 0               |"
      ]
     },
     "metadata": {},
     "output_type": "display_data"
    },
    {
     "data": {
      "text/html": [
       "<pre>| 330       | 2.42s         | 2.61371e+06    | 0               |</pre>"
      ],
      "text/plain": [
       "| 330       | 2.42s         | 2.61371e+06    | 0               |"
      ]
     },
     "metadata": {},
     "output_type": "display_data"
    },
    {
     "data": {
      "text/html": [
       "<pre>| 340       | 2.48s         | 2.54953e+06    | 0               |</pre>"
      ],
      "text/plain": [
       "| 340       | 2.48s         | 2.54953e+06    | 0               |"
      ]
     },
     "metadata": {},
     "output_type": "display_data"
    },
    {
     "data": {
      "text/html": [
       "<pre>| 350       | 2.54s         | 4.67014e+06    | 0               |</pre>"
      ],
      "text/plain": [
       "| 350       | 2.54s         | 4.67014e+06    | 0               |"
      ]
     },
     "metadata": {},
     "output_type": "display_data"
    },
    {
     "data": {
      "text/html": [
       "<pre>| 360       | 2.61s         | 2.33063e+06    | 0               |</pre>"
      ],
      "text/plain": [
       "| 360       | 2.61s         | 2.33063e+06    | 0               |"
      ]
     },
     "metadata": {},
     "output_type": "display_data"
    },
    {
     "data": {
      "text/html": [
       "<pre>| 370       | 2.69s         | 2.36087e+06    | 0               |</pre>"
      ],
      "text/plain": [
       "| 370       | 2.69s         | 2.36087e+06    | 0               |"
      ]
     },
     "metadata": {},
     "output_type": "display_data"
    },
    {
     "data": {
      "text/html": [
       "<pre>| 380       | 2.75s         | 3.29573e+06    | 0               |</pre>"
      ],
      "text/plain": [
       "| 380       | 2.75s         | 3.29573e+06    | 0               |"
      ]
     },
     "metadata": {},
     "output_type": "display_data"
    },
    {
     "data": {
      "text/html": [
       "<pre>| 390       | 2.82s         | 1.90317e+06    | 0               |</pre>"
      ],
      "text/plain": [
       "| 390       | 2.82s         | 1.90317e+06    | 0               |"
      ]
     },
     "metadata": {},
     "output_type": "display_data"
    },
    {
     "data": {
      "text/html": [
       "<pre>| 400       | 2.89s         | 2.43533e+06    | 0               |</pre>"
      ],
      "text/plain": [
       "| 400       | 2.89s         | 2.43533e+06    | 0               |"
      ]
     },
     "metadata": {},
     "output_type": "display_data"
    },
    {
     "data": {
      "text/html": [
       "<pre>| 410       | 2.96s         | 4.80444e+06    | 0               |</pre>"
      ],
      "text/plain": [
       "| 410       | 2.96s         | 4.80444e+06    | 0               |"
      ]
     },
     "metadata": {},
     "output_type": "display_data"
    },
    {
     "data": {
      "text/html": [
       "<pre>| 420       | 3.02s         | 2.53476e+06    | 0               |</pre>"
      ],
      "text/plain": [
       "| 420       | 3.02s         | 2.53476e+06    | 0               |"
      ]
     },
     "metadata": {},
     "output_type": "display_data"
    },
    {
     "data": {
      "text/html": [
       "<pre>| 430       | 3.08s         | 3.37007e+06    | 0               |</pre>"
      ],
      "text/plain": [
       "| 430       | 3.08s         | 3.37007e+06    | 0               |"
      ]
     },
     "metadata": {},
     "output_type": "display_data"
    },
    {
     "data": {
      "text/html": [
       "<pre>| 440       | 3.15s         | 2.64037e+06    | 0               |</pre>"
      ],
      "text/plain": [
       "| 440       | 3.15s         | 2.64037e+06    | 0               |"
      ]
     },
     "metadata": {},
     "output_type": "display_data"
    },
    {
     "data": {
      "text/html": [
       "<pre>| 450       | 3.22s         | 2.48003e+06    | 0               |</pre>"
      ],
      "text/plain": [
       "| 450       | 3.22s         | 2.48003e+06    | 0               |"
      ]
     },
     "metadata": {},
     "output_type": "display_data"
    },
    {
     "data": {
      "text/html": [
       "<pre>| 460       | 3.29s         | 2.35361e+06    | 0               |</pre>"
      ],
      "text/plain": [
       "| 460       | 3.29s         | 2.35361e+06    | 0               |"
      ]
     },
     "metadata": {},
     "output_type": "display_data"
    },
    {
     "data": {
      "text/html": [
       "<pre>| 470       | 3.37s         | 2.59379e+06    | 0               |</pre>"
      ],
      "text/plain": [
       "| 470       | 3.37s         | 2.59379e+06    | 0               |"
      ]
     },
     "metadata": {},
     "output_type": "display_data"
    },
    {
     "data": {
      "text/html": [
       "<pre>| 480       | 3.44s         | 2.51155e+06    | 0               |</pre>"
      ],
      "text/plain": [
       "| 480       | 3.44s         | 2.51155e+06    | 0               |"
      ]
     },
     "metadata": {},
     "output_type": "display_data"
    },
    {
     "data": {
      "text/html": [
       "<pre>| 490       | 3.52s         | 2.51567e+06    | 0               |</pre>"
      ],
      "text/plain": [
       "| 490       | 3.52s         | 2.51567e+06    | 0               |"
      ]
     },
     "metadata": {},
     "output_type": "display_data"
    },
    {
     "data": {
      "text/html": [
       "<pre>| 500       | 3.59s         | 2.5905e+06     | 0               |</pre>"
      ],
      "text/plain": [
       "| 500       | 3.59s         | 2.5905e+06     | 0               |"
      ]
     },
     "metadata": {},
     "output_type": "display_data"
    },
    {
     "data": {
      "text/html": [
       "<pre>| 510       | 3.66s         | 1.82257e+06    | 0               |</pre>"
      ],
      "text/plain": [
       "| 510       | 3.66s         | 1.82257e+06    | 0               |"
      ]
     },
     "metadata": {},
     "output_type": "display_data"
    },
    {
     "data": {
      "text/html": [
       "<pre>| 520       | 3.73s         | 2.42825e+06    | 0               |</pre>"
      ],
      "text/plain": [
       "| 520       | 3.73s         | 2.42825e+06    | 0               |"
      ]
     },
     "metadata": {},
     "output_type": "display_data"
    },
    {
     "data": {
      "text/html": [
       "<pre>| 530       | 3.80s         | 2.64265e+06    | 0               |</pre>"
      ],
      "text/plain": [
       "| 530       | 3.80s         | 2.64265e+06    | 0               |"
      ]
     },
     "metadata": {},
     "output_type": "display_data"
    },
    {
     "data": {
      "text/html": [
       "<pre>| 540       | 3.88s         | 2.63281e+06    | 0               |</pre>"
      ],
      "text/plain": [
       "| 540       | 3.88s         | 2.63281e+06    | 0               |"
      ]
     },
     "metadata": {},
     "output_type": "display_data"
    },
    {
     "data": {
      "text/html": [
       "<pre>| 550       | 3.95s         | 2.64417e+06    | 0               |</pre>"
      ],
      "text/plain": [
       "| 550       | 3.95s         | 2.64417e+06    | 0               |"
      ]
     },
     "metadata": {},
     "output_type": "display_data"
    },
    {
     "data": {
      "text/html": [
       "<pre>| 560       | 4.02s         | 2.48371e+06    | 0               |</pre>"
      ],
      "text/plain": [
       "| 560       | 4.02s         | 2.48371e+06    | 0               |"
      ]
     },
     "metadata": {},
     "output_type": "display_data"
    },
    {
     "data": {
      "text/html": [
       "<pre>| 570       | 4.09s         | 2.52154e+06    | 0               |</pre>"
      ],
      "text/plain": [
       "| 570       | 4.09s         | 2.52154e+06    | 0               |"
      ]
     },
     "metadata": {},
     "output_type": "display_data"
    },
    {
     "data": {
      "text/html": [
       "<pre>| 580       | 4.16s         | 2.98667e+06    | 0               |</pre>"
      ],
      "text/plain": [
       "| 580       | 4.16s         | 2.98667e+06    | 0               |"
      ]
     },
     "metadata": {},
     "output_type": "display_data"
    },
    {
     "data": {
      "text/html": [
       "<pre>| 590       | 4.24s         | 2.59709e+06    | 0               |</pre>"
      ],
      "text/plain": [
       "| 590       | 4.24s         | 2.59709e+06    | 0               |"
      ]
     },
     "metadata": {},
     "output_type": "display_data"
    },
    {
     "data": {
      "text/html": [
       "<pre>| 600       | 4.31s         | 2.6193e+06     | 0               |</pre>"
      ],
      "text/plain": [
       "| 600       | 4.31s         | 2.6193e+06     | 0               |"
      ]
     },
     "metadata": {},
     "output_type": "display_data"
    },
    {
     "data": {
      "text/html": [
       "<pre>| 610       | 4.38s         | 2.60113e+06    | 0               |</pre>"
      ],
      "text/plain": [
       "| 610       | 4.38s         | 2.60113e+06    | 0               |"
      ]
     },
     "metadata": {},
     "output_type": "display_data"
    },
    {
     "data": {
      "text/html": [
       "<pre>| 620       | 4.45s         | 2.61893e+06    | 0               |</pre>"
      ],
      "text/plain": [
       "| 620       | 4.45s         | 2.61893e+06    | 0               |"
      ]
     },
     "metadata": {},
     "output_type": "display_data"
    },
    {
     "data": {
      "text/html": [
       "<pre>| 630       | 4.53s         | 2.54741e+06    | 0               |</pre>"
      ],
      "text/plain": [
       "| 630       | 4.53s         | 2.54741e+06    | 0               |"
      ]
     },
     "metadata": {},
     "output_type": "display_data"
    },
    {
     "data": {
      "text/html": [
       "<pre>| 640       | 4.60s         | 2.993e+06      | 0               |</pre>"
      ],
      "text/plain": [
       "| 640       | 4.60s         | 2.993e+06      | 0               |"
      ]
     },
     "metadata": {},
     "output_type": "display_data"
    },
    {
     "data": {
      "text/html": [
       "<pre>| 650       | 4.67s         | 2.67691e+06    | 0               |</pre>"
      ],
      "text/plain": [
       "| 650       | 4.67s         | 2.67691e+06    | 0               |"
      ]
     },
     "metadata": {},
     "output_type": "display_data"
    },
    {
     "data": {
      "text/html": [
       "<pre>| 660       | 4.74s         | 2.56734e+06    | 0               |</pre>"
      ],
      "text/plain": [
       "| 660       | 4.74s         | 2.56734e+06    | 0               |"
      ]
     },
     "metadata": {},
     "output_type": "display_data"
    },
    {
     "data": {
      "text/html": [
       "<pre>| 670       | 4.81s         | 4.58279e+06    | 0               |</pre>"
      ],
      "text/plain": [
       "| 670       | 4.81s         | 4.58279e+06    | 0               |"
      ]
     },
     "metadata": {},
     "output_type": "display_data"
    },
    {
     "data": {
      "text/html": [
       "<pre>| 680       | 4.88s         | 2.5584e+06     | 0               |</pre>"
      ],
      "text/plain": [
       "| 680       | 4.88s         | 2.5584e+06     | 0               |"
      ]
     },
     "metadata": {},
     "output_type": "display_data"
    },
    {
     "data": {
      "text/html": [
       "<pre>| 690       | 4.98s         | 2.60113e+06    | 0               |</pre>"
      ],
      "text/plain": [
       "| 690       | 4.98s         | 2.60113e+06    | 0               |"
      ]
     },
     "metadata": {},
     "output_type": "display_data"
    },
    {
     "data": {
      "text/html": [
       "<pre>| 700       | 5.05s         | 2.91606e+06    | 0               |</pre>"
      ],
      "text/plain": [
       "| 700       | 5.05s         | 2.91606e+06    | 0               |"
      ]
     },
     "metadata": {},
     "output_type": "display_data"
    },
    {
     "data": {
      "text/html": [
       "<pre>| 710       | 5.12s         | 2.61632e+06    | 0               |</pre>"
      ],
      "text/plain": [
       "| 710       | 5.12s         | 2.61632e+06    | 0               |"
      ]
     },
     "metadata": {},
     "output_type": "display_data"
    },
    {
     "data": {
      "text/html": [
       "<pre>| 720       | 5.19s         | 2.46143e+06    | 0               |</pre>"
      ],
      "text/plain": [
       "| 720       | 5.19s         | 2.46143e+06    | 0               |"
      ]
     },
     "metadata": {},
     "output_type": "display_data"
    },
    {
     "data": {
      "text/html": [
       "<pre>| 730       | 5.26s         | 2.56662e+06    | 0               |</pre>"
      ],
      "text/plain": [
       "| 730       | 5.26s         | 2.56662e+06    | 0               |"
      ]
     },
     "metadata": {},
     "output_type": "display_data"
    },
    {
     "data": {
      "text/html": [
       "<pre>| 740       | 5.33s         | 2.58612e+06    | 0               |</pre>"
      ],
      "text/plain": [
       "| 740       | 5.33s         | 2.58612e+06    | 0               |"
      ]
     },
     "metadata": {},
     "output_type": "display_data"
    },
    {
     "data": {
      "text/html": [
       "<pre>| 750       | 5.41s         | 2.50334e+06    | 0               |</pre>"
      ],
      "text/plain": [
       "| 750       | 5.41s         | 2.50334e+06    | 0               |"
      ]
     },
     "metadata": {},
     "output_type": "display_data"
    },
    {
     "data": {
      "text/html": [
       "<pre>| 760       | 5.48s         | 2.60778e+06    | 0               |</pre>"
      ],
      "text/plain": [
       "| 760       | 5.48s         | 2.60778e+06    | 0               |"
      ]
     },
     "metadata": {},
     "output_type": "display_data"
    },
    {
     "data": {
      "text/html": [
       "<pre>| 770       | 5.55s         | 2.61483e+06    | 0               |</pre>"
      ],
      "text/plain": [
       "| 770       | 5.55s         | 2.61483e+06    | 0               |"
      ]
     },
     "metadata": {},
     "output_type": "display_data"
    },
    {
     "data": {
      "text/html": [
       "<pre>| 780       | 5.62s         | 2.63583e+06    | 0               |</pre>"
      ],
      "text/plain": [
       "| 780       | 5.62s         | 2.63583e+06    | 0               |"
      ]
     },
     "metadata": {},
     "output_type": "display_data"
    },
    {
     "data": {
      "text/html": [
       "<pre>| 790       | 5.69s         | 2.57742e+06    | 0               |</pre>"
      ],
      "text/plain": [
       "| 790       | 5.69s         | 2.57742e+06    | 0               |"
      ]
     },
     "metadata": {},
     "output_type": "display_data"
    },
    {
     "data": {
      "text/html": [
       "<pre>| 800       | 5.77s         | 2.54459e+06    | 0               |</pre>"
      ],
      "text/plain": [
       "| 800       | 5.77s         | 2.54459e+06    | 0               |"
      ]
     },
     "metadata": {},
     "output_type": "display_data"
    },
    {
     "data": {
      "text/html": [
       "<pre>| 810       | 5.84s         | 2.58431e+06    | 0               |</pre>"
      ],
      "text/plain": [
       "| 810       | 5.84s         | 2.58431e+06    | 0               |"
      ]
     },
     "metadata": {},
     "output_type": "display_data"
    },
    {
     "data": {
      "text/html": [
       "<pre>| 820       | 5.91s         | 2.58322e+06    | 0               |</pre>"
      ],
      "text/plain": [
       "| 820       | 5.91s         | 2.58322e+06    | 0               |"
      ]
     },
     "metadata": {},
     "output_type": "display_data"
    },
    {
     "data": {
      "text/html": [
       "<pre>| 830       | 5.99s         | 2.63772e+06    | 0               |</pre>"
      ],
      "text/plain": [
       "| 830       | 5.99s         | 2.63772e+06    | 0               |"
      ]
     },
     "metadata": {},
     "output_type": "display_data"
    },
    {
     "data": {
      "text/html": [
       "<pre>| 840       | 6.06s         | 2.62266e+06    | 0               |</pre>"
      ],
      "text/plain": [
       "| 840       | 6.06s         | 2.62266e+06    | 0               |"
      ]
     },
     "metadata": {},
     "output_type": "display_data"
    },
    {
     "data": {
      "text/html": [
       "<pre>| 850       | 6.13s         | 2.51327e+06    | 0               |</pre>"
      ],
      "text/plain": [
       "| 850       | 6.13s         | 2.51327e+06    | 0               |"
      ]
     },
     "metadata": {},
     "output_type": "display_data"
    },
    {
     "data": {
      "text/html": [
       "<pre>| 860       | 6.20s         | 2.60556e+06    | 0               |</pre>"
      ],
      "text/plain": [
       "| 860       | 6.20s         | 2.60556e+06    | 0               |"
      ]
     },
     "metadata": {},
     "output_type": "display_data"
    },
    {
     "data": {
      "text/html": [
       "<pre>| 870       | 6.28s         | 2.48842e+06    | 0               |</pre>"
      ],
      "text/plain": [
       "| 870       | 6.28s         | 2.48842e+06    | 0               |"
      ]
     },
     "metadata": {},
     "output_type": "display_data"
    },
    {
     "data": {
      "text/html": [
       "<pre>| 880       | 6.35s         | 2.33033e+06    | 0               |</pre>"
      ],
      "text/plain": [
       "| 880       | 6.35s         | 2.33033e+06    | 0               |"
      ]
     },
     "metadata": {},
     "output_type": "display_data"
    },
    {
     "data": {
      "text/html": [
       "<pre>| 890       | 6.43s         | 2.6564e+06     | 0               |</pre>"
      ],
      "text/plain": [
       "| 890       | 6.43s         | 2.6564e+06     | 0               |"
      ]
     },
     "metadata": {},
     "output_type": "display_data"
    },
    {
     "data": {
      "text/html": [
       "<pre>| 900       | 6.50s         | 2.55556e+06    | 0               |</pre>"
      ],
      "text/plain": [
       "| 900       | 6.50s         | 2.55556e+06    | 0               |"
      ]
     },
     "metadata": {},
     "output_type": "display_data"
    },
    {
     "data": {
      "text/html": [
       "<pre>| 910       | 6.57s         | 2.52848e+06    | 0               |</pre>"
      ],
      "text/plain": [
       "| 910       | 6.57s         | 2.52848e+06    | 0               |"
      ]
     },
     "metadata": {},
     "output_type": "display_data"
    },
    {
     "data": {
      "text/html": [
       "<pre>| 920       | 6.65s         | 2.51292e+06    | 0               |</pre>"
      ],
      "text/plain": [
       "| 920       | 6.65s         | 2.51292e+06    | 0               |"
      ]
     },
     "metadata": {},
     "output_type": "display_data"
    },
    {
     "data": {
      "text/html": [
       "<pre>| 930       | 6.72s         | 2.55627e+06    | 0               |</pre>"
      ],
      "text/plain": [
       "| 930       | 6.72s         | 2.55627e+06    | 0               |"
      ]
     },
     "metadata": {},
     "output_type": "display_data"
    },
    {
     "data": {
      "text/html": [
       "<pre>| 940       | 6.79s         | 2.53616e+06    | 0               |</pre>"
      ],
      "text/plain": [
       "| 940       | 6.79s         | 2.53616e+06    | 0               |"
      ]
     },
     "metadata": {},
     "output_type": "display_data"
    },
    {
     "data": {
      "text/html": [
       "<pre>| 950       | 6.86s         | 2.61445e+06    | 0               |</pre>"
      ],
      "text/plain": [
       "| 950       | 6.86s         | 2.61445e+06    | 0               |"
      ]
     },
     "metadata": {},
     "output_type": "display_data"
    },
    {
     "data": {
      "text/html": [
       "<pre>| 960       | 6.93s         | 2.57165e+06    | 0               |</pre>"
      ],
      "text/plain": [
       "| 960       | 6.93s         | 2.57165e+06    | 0               |"
      ]
     },
     "metadata": {},
     "output_type": "display_data"
    },
    {
     "data": {
      "text/html": [
       "<pre>| 970       | 7.01s         | 2.53721e+06    | 0               |</pre>"
      ],
      "text/plain": [
       "| 970       | 7.01s         | 2.53721e+06    | 0               |"
      ]
     },
     "metadata": {},
     "output_type": "display_data"
    },
    {
     "data": {
      "text/html": [
       "<pre>| 980       | 7.08s         | 2.29885e+06    | 0               |</pre>"
      ],
      "text/plain": [
       "| 980       | 7.08s         | 2.29885e+06    | 0               |"
      ]
     },
     "metadata": {},
     "output_type": "display_data"
    },
    {
     "data": {
      "text/html": [
       "<pre>| 990       | 7.16s         | 2.61074e+06    | 0               |</pre>"
      ],
      "text/plain": [
       "| 990       | 7.16s         | 2.61074e+06    | 0               |"
      ]
     },
     "metadata": {},
     "output_type": "display_data"
    },
    {
     "data": {
      "text/html": [
       "<pre>| 1000      | 7.23s         | 2.65449e+06    | 0               |</pre>"
      ],
      "text/plain": [
       "| 1000      | 7.23s         | 2.65449e+06    | 0               |"
      ]
     },
     "metadata": {},
     "output_type": "display_data"
    },
    {
     "data": {
      "text/html": [
       "<pre>| 1010      | 7.30s         | 2.59086e+06    | 0               |</pre>"
      ],
      "text/plain": [
       "| 1010      | 7.30s         | 2.59086e+06    | 0               |"
      ]
     },
     "metadata": {},
     "output_type": "display_data"
    },
    {
     "data": {
      "text/html": [
       "<pre>| 1020      | 7.38s         | 2.59086e+06    | 0               |</pre>"
      ],
      "text/plain": [
       "| 1020      | 7.38s         | 2.59086e+06    | 0               |"
      ]
     },
     "metadata": {},
     "output_type": "display_data"
    },
    {
     "data": {
      "text/html": [
       "<pre>| 1030      | 7.45s         | 2.5767e+06     | 0               |</pre>"
      ],
      "text/plain": [
       "| 1030      | 7.45s         | 2.5767e+06     | 0               |"
      ]
     },
     "metadata": {},
     "output_type": "display_data"
    },
    {
     "data": {
      "text/html": [
       "<pre>| 1040      | 7.52s         | 2.61669e+06    | 0               |</pre>"
      ],
      "text/plain": [
       "| 1040      | 7.52s         | 2.61669e+06    | 0               |"
      ]
     },
     "metadata": {},
     "output_type": "display_data"
    },
    {
     "data": {
      "text/html": [
       "<pre>| 1050      | 7.59s         | 2.61483e+06    | 0               |</pre>"
      ],
      "text/plain": [
       "| 1050      | 7.59s         | 2.61483e+06    | 0               |"
      ]
     },
     "metadata": {},
     "output_type": "display_data"
    },
    {
     "data": {
      "text/html": [
       "<pre>| 1060      | 7.66s         | 3.07616e+06    | 0               |</pre>"
      ],
      "text/plain": [
       "| 1060      | 7.66s         | 3.07616e+06    | 0               |"
      ]
     },
     "metadata": {},
     "output_type": "display_data"
    },
    {
     "data": {
      "text/html": [
       "<pre>| 1070      | 7.74s         | 2.53336e+06    | 0               |</pre>"
      ],
      "text/plain": [
       "| 1070      | 7.74s         | 2.53336e+06    | 0               |"
      ]
     },
     "metadata": {},
     "output_type": "display_data"
    },
    {
     "data": {
      "text/html": [
       "<pre>| 1080      | 7.81s         | 2.64113e+06    | 0               |</pre>"
      ],
      "text/plain": [
       "| 1080      | 7.81s         | 2.64113e+06    | 0               |"
      ]
     },
     "metadata": {},
     "output_type": "display_data"
    },
    {
     "data": {
      "text/html": [
       "<pre>| 1090      | 7.88s         | 2.56805e+06    | 0               |</pre>"
      ],
      "text/plain": [
       "| 1090      | 7.88s         | 2.56805e+06    | 0               |"
      ]
     },
     "metadata": {},
     "output_type": "display_data"
    },
    {
     "data": {
      "text/html": [
       "<pre>| 1100      | 7.95s         | 2.6564e+06     | 0               |</pre>"
      ],
      "text/plain": [
       "| 1100      | 7.95s         | 2.6564e+06     | 0               |"
      ]
     },
     "metadata": {},
     "output_type": "display_data"
    },
    {
     "data": {
      "text/html": [
       "<pre>| 1110      | 8.03s         | 2.42473e+06    | 0               |</pre>"
      ],
      "text/plain": [
       "| 1110      | 8.03s         | 2.42473e+06    | 0               |"
      ]
     },
     "metadata": {},
     "output_type": "display_data"
    },
    {
     "data": {
      "text/html": [
       "<pre>| 1120      | 8.10s         | 2.4962e+06     | 0               |</pre>"
      ],
      "text/plain": [
       "| 1120      | 8.10s         | 2.4962e+06     | 0               |"
      ]
     },
     "metadata": {},
     "output_type": "display_data"
    },
    {
     "data": {
      "text/html": [
       "<pre>| 1130      | 8.17s         | 2.45288e+06    | 0               |</pre>"
      ],
      "text/plain": [
       "| 1130      | 8.17s         | 2.45288e+06    | 0               |"
      ]
     },
     "metadata": {},
     "output_type": "display_data"
    },
    {
     "data": {
      "text/html": [
       "<pre>| 1140      | 8.25s         | 2.46969e+06    | 0               |</pre>"
      ],
      "text/plain": [
       "| 1140      | 8.25s         | 2.46969e+06    | 0               |"
      ]
     },
     "metadata": {},
     "output_type": "display_data"
    },
    {
     "data": {
      "text/html": [
       "<pre>| 1150      | 8.32s         | 2.45321e+06    | 0               |</pre>"
      ],
      "text/plain": [
       "| 1150      | 8.32s         | 2.45321e+06    | 0               |"
      ]
     },
     "metadata": {},
     "output_type": "display_data"
    },
    {
     "data": {
      "text/html": [
       "<pre>| 1160      | 8.40s         | 2.27185e+06    | 0               |</pre>"
      ],
      "text/plain": [
       "| 1160      | 8.40s         | 2.27185e+06    | 0               |"
      ]
     },
     "metadata": {},
     "output_type": "display_data"
    },
    {
     "data": {
      "text/html": [
       "<pre>| 1170      | 8.47s         | 2.46274e+06    | 0               |</pre>"
      ],
      "text/plain": [
       "| 1170      | 8.47s         | 2.46274e+06    | 0               |"
      ]
     },
     "metadata": {},
     "output_type": "display_data"
    },
    {
     "data": {
      "text/html": [
       "<pre>| 1180      | 8.54s         | 2.61557e+06    | 0               |</pre>"
      ],
      "text/plain": [
       "| 1180      | 8.54s         | 2.61557e+06    | 0               |"
      ]
     },
     "metadata": {},
     "output_type": "display_data"
    },
    {
     "data": {
      "text/html": [
       "<pre>| 1190      | 8.60s         | 2.54917e+06    | 0               |</pre>"
      ],
      "text/plain": [
       "| 1190      | 8.60s         | 2.54917e+06    | 0               |"
      ]
     },
     "metadata": {},
     "output_type": "display_data"
    },
    {
     "data": {
      "text/html": [
       "<pre>| 1200      | 8.67s         | 2.54318e+06    | 0               |</pre>"
      ],
      "text/plain": [
       "| 1200      | 8.67s         | 2.54318e+06    | 0               |"
      ]
     },
     "metadata": {},
     "output_type": "display_data"
    },
    {
     "data": {
      "text/html": [
       "<pre>| 1210      | 8.74s         | 2.69378e+06    | 0               |</pre>"
      ],
      "text/plain": [
       "| 1210      | 8.74s         | 2.69378e+06    | 0               |"
      ]
     },
     "metadata": {},
     "output_type": "display_data"
    },
    {
     "data": {
      "text/html": [
       "<pre>| 1220      | 8.82s         | 2.57453e+06    | 0               |</pre>"
      ],
      "text/plain": [
       "| 1220      | 8.82s         | 2.57453e+06    | 0               |"
      ]
     },
     "metadata": {},
     "output_type": "display_data"
    },
    {
     "data": {
      "text/html": [
       "<pre>| 1230      | 8.89s         | 2.51361e+06    | 0               |</pre>"
      ],
      "text/plain": [
       "| 1230      | 8.89s         | 2.51361e+06    | 0               |"
      ]
     },
     "metadata": {},
     "output_type": "display_data"
    },
    {
     "data": {
      "text/html": [
       "<pre>| 1240      | 8.96s         | 2.49213e+06    | 0               |</pre>"
      ],
      "text/plain": [
       "| 1240      | 8.96s         | 2.49213e+06    | 0               |"
      ]
     },
     "metadata": {},
     "output_type": "display_data"
    },
    {
     "data": {
      "text/html": [
       "<pre>| 1250      | 9.03s         | 2.95974e+06    | 0               |</pre>"
      ],
      "text/plain": [
       "| 1250      | 9.03s         | 2.95974e+06    | 0               |"
      ]
     },
     "metadata": {},
     "output_type": "display_data"
    },
    {
     "data": {
      "text/html": [
       "<pre>| 1260      | 9.10s         | 3.59277e+06    | 0               |</pre>"
      ],
      "text/plain": [
       "| 1260      | 9.10s         | 3.59277e+06    | 0               |"
      ]
     },
     "metadata": {},
     "output_type": "display_data"
    },
    {
     "data": {
      "text/html": [
       "<pre>| 1270      | 9.18s         | 2.54882e+06    | 0               |</pre>"
      ],
      "text/plain": [
       "| 1270      | 9.18s         | 2.54882e+06    | 0               |"
      ]
     },
     "metadata": {},
     "output_type": "display_data"
    },
    {
     "data": {
      "text/html": [
       "<pre>| 1280      | 9.25s         | 2.55911e+06    | 0               |</pre>"
      ],
      "text/plain": [
       "| 1280      | 9.25s         | 2.55911e+06    | 0               |"
      ]
     },
     "metadata": {},
     "output_type": "display_data"
    },
    {
     "data": {
      "text/html": [
       "<pre>| 1290      | 9.33s         | 2.47069e+06    | 0               |</pre>"
      ],
      "text/plain": [
       "| 1290      | 9.33s         | 2.47069e+06    | 0               |"
      ]
     },
     "metadata": {},
     "output_type": "display_data"
    },
    {
     "data": {
      "text/html": [
       "<pre>| 1300      | 9.40s         | 2.50539e+06    | 0               |</pre>"
      ],
      "text/plain": [
       "| 1300      | 9.40s         | 2.50539e+06    | 0               |"
      ]
     },
     "metadata": {},
     "output_type": "display_data"
    },
    {
     "data": {
      "text/html": [
       "<pre>| 1310      | 9.48s         | 2.62229e+06    | 0               |</pre>"
      ],
      "text/plain": [
       "| 1310      | 9.48s         | 2.62229e+06    | 0               |"
      ]
     },
     "metadata": {},
     "output_type": "display_data"
    },
    {
     "data": {
      "text/html": [
       "<pre>| 1320      | 9.55s         | 2.5143e+06     | 0               |</pre>"
      ],
      "text/plain": [
       "| 1320      | 9.55s         | 2.5143e+06     | 0               |"
      ]
     },
     "metadata": {},
     "output_type": "display_data"
    },
    {
     "data": {
      "text/html": [
       "<pre>| 1330      | 9.62s         | 2.65525e+06    | 0               |</pre>"
      ],
      "text/plain": [
       "| 1330      | 9.62s         | 2.65525e+06    | 0               |"
      ]
     },
     "metadata": {},
     "output_type": "display_data"
    },
    {
     "data": {
      "text/html": [
       "<pre>| 1340      | 9.69s         | 2.6672e+06     | 0               |</pre>"
      ],
      "text/plain": [
       "| 1340      | 9.69s         | 2.6672e+06     | 0               |"
      ]
     },
     "metadata": {},
     "output_type": "display_data"
    },
    {
     "data": {
      "text/html": [
       "<pre>| 1350      | 9.77s         | 2.68513e+06    | 0               |</pre>"
      ],
      "text/plain": [
       "| 1350      | 9.77s         | 2.68513e+06    | 0               |"
      ]
     },
     "metadata": {},
     "output_type": "display_data"
    },
    {
     "data": {
      "text/html": [
       "<pre>| 1360      | 9.84s         | 2.66604e+06    | 0               |</pre>"
      ],
      "text/plain": [
       "| 1360      | 9.84s         | 2.66604e+06    | 0               |"
      ]
     },
     "metadata": {},
     "output_type": "display_data"
    },
    {
     "data": {
      "text/html": [
       "<pre>| 1370      | 9.91s         | 2.60963e+06    | 0               |</pre>"
      ],
      "text/plain": [
       "| 1370      | 9.91s         | 2.60963e+06    | 0               |"
      ]
     },
     "metadata": {},
     "output_type": "display_data"
    },
    {
     "data": {
      "text/html": [
       "<pre>| 1380      | 9.98s         | 2.61818e+06    | 0               |</pre>"
      ],
      "text/plain": [
       "| 1380      | 9.98s         | 2.61818e+06    | 0               |"
      ]
     },
     "metadata": {},
     "output_type": "display_data"
    },
    {
     "data": {
      "text/html": [
       "<pre>| 1390      | 10.06s        | 2.6313e+06     | 0               |</pre>"
      ],
      "text/plain": [
       "| 1390      | 10.06s        | 2.6313e+06     | 0               |"
      ]
     },
     "metadata": {},
     "output_type": "display_data"
    },
    {
     "data": {
      "text/html": [
       "<pre>| 1400      | 10.13s        | 2.6564e+06     | 0               |</pre>"
      ],
      "text/plain": [
       "| 1400      | 10.13s        | 2.6564e+06     | 0               |"
      ]
     },
     "metadata": {},
     "output_type": "display_data"
    },
    {
     "data": {
      "text/html": [
       "<pre>| 1410      | 10.20s        | 2.66102e+06    | 0               |</pre>"
      ],
      "text/plain": [
       "| 1410      | 10.20s        | 2.66102e+06    | 0               |"
      ]
     },
     "metadata": {},
     "output_type": "display_data"
    },
    {
     "data": {
      "text/html": [
       "<pre>| 1420      | 10.27s        | 2.65756e+06    | 0               |</pre>"
      ],
      "text/plain": [
       "| 1420      | 10.27s        | 2.65756e+06    | 0               |"
      ]
     },
     "metadata": {},
     "output_type": "display_data"
    },
    {
     "data": {
      "text/html": [
       "<pre>| 1430      | 10.35s        | 2.36512e+06    | 0               |</pre>"
      ],
      "text/plain": [
       "| 1430      | 10.35s        | 2.36512e+06    | 0               |"
      ]
     },
     "metadata": {},
     "output_type": "display_data"
    },
    {
     "data": {
      "text/html": [
       "<pre>| 1440      | 10.42s        | 2.54353e+06    | 0               |</pre>"
      ],
      "text/plain": [
       "| 1440      | 10.42s        | 2.54353e+06    | 0               |"
      ]
     },
     "metadata": {},
     "output_type": "display_data"
    },
    {
     "data": {
      "text/html": [
       "<pre>| 1450      | 10.49s        | 2.55627e+06    | 0               |</pre>"
      ],
      "text/plain": [
       "| 1450      | 10.49s        | 2.55627e+06    | 0               |"
      ]
     },
     "metadata": {},
     "output_type": "display_data"
    },
    {
     "data": {
      "text/html": [
       "<pre>| 1460      | 10.56s        | 2.66526e+06    | 0               |</pre>"
      ],
      "text/plain": [
       "| 1460      | 10.56s        | 2.66526e+06    | 0               |"
      ]
     },
     "metadata": {},
     "output_type": "display_data"
    },
    {
     "data": {
      "text/html": [
       "<pre>| 1470      | 10.64s        | 2.65295e+06    | 0               |</pre>"
      ],
      "text/plain": [
       "| 1470      | 10.64s        | 2.65295e+06    | 0               |"
      ]
     },
     "metadata": {},
     "output_type": "display_data"
    },
    {
     "data": {
      "text/html": [
       "<pre>| 1480      | 10.71s        | 2.58831e+06    | 0               |</pre>"
      ],
      "text/plain": [
       "| 1480      | 10.71s        | 2.58831e+06    | 0               |"
      ]
     },
     "metadata": {},
     "output_type": "display_data"
    },
    {
     "data": {
      "text/html": [
       "<pre>| 1490      | 10.78s        | 2.58431e+06    | 0               |</pre>"
      ],
      "text/plain": [
       "| 1490      | 10.78s        | 2.58431e+06    | 0               |"
      ]
     },
     "metadata": {},
     "output_type": "display_data"
    },
    {
     "data": {
      "text/html": [
       "<pre>| 1500      | 10.86s        | 2.62154e+06    | 0               |</pre>"
      ],
      "text/plain": [
       "| 1500      | 10.86s        | 2.62154e+06    | 0               |"
      ]
     },
     "metadata": {},
     "output_type": "display_data"
    },
    {
     "data": {
      "text/html": [
       "<pre>| 1510      | 10.93s        | 2.6672e+06     | 0               |</pre>"
      ],
      "text/plain": [
       "| 1510      | 10.93s        | 2.6672e+06     | 0               |"
      ]
     },
     "metadata": {},
     "output_type": "display_data"
    },
    {
     "data": {
      "text/html": [
       "<pre>| 1520      | 11.00s        | 2.63696e+06    | 0               |</pre>"
      ],
      "text/plain": [
       "| 1520      | 11.00s        | 2.63696e+06    | 0               |"
      ]
     },
     "metadata": {},
     "output_type": "display_data"
    },
    {
     "data": {
      "text/html": [
       "<pre>| 1530      | 11.08s        | 2.6476e+06     | 0               |</pre>"
      ],
      "text/plain": [
       "| 1530      | 11.08s        | 2.6476e+06     | 0               |"
      ]
     },
     "metadata": {},
     "output_type": "display_data"
    },
    {
     "data": {
      "text/html": [
       "<pre>| 1540      | 11.15s        | 2.55911e+06    | 0               |</pre>"
      ],
      "text/plain": [
       "| 1540      | 11.15s        | 2.55911e+06    | 0               |"
      ]
     },
     "metadata": {},
     "output_type": "display_data"
    },
    {
     "data": {
      "text/html": [
       "<pre>| 1550      | 11.22s        | 2.55698e+06    | 0               |</pre>"
      ],
      "text/plain": [
       "| 1550      | 11.22s        | 2.55698e+06    | 0               |"
      ]
     },
     "metadata": {},
     "output_type": "display_data"
    },
    {
     "data": {
      "text/html": [
       "<pre>| 1560      | 11.29s        | 2.61222e+06    | 0               |</pre>"
      ],
      "text/plain": [
       "| 1560      | 11.29s        | 2.61222e+06    | 0               |"
      ]
     },
     "metadata": {},
     "output_type": "display_data"
    },
    {
     "data": {
      "text/html": [
       "<pre>| 1570      | 11.37s        | 2.54212e+06    | 0               |</pre>"
      ],
      "text/plain": [
       "| 1570      | 11.37s        | 2.54212e+06    | 0               |"
      ]
     },
     "metadata": {},
     "output_type": "display_data"
    },
    {
     "data": {
      "text/html": [
       "<pre>| 1580      | 11.44s        | 2.97459e+06    | 0               |</pre>"
      ],
      "text/plain": [
       "| 1580      | 11.44s        | 2.97459e+06    | 0               |"
      ]
     },
     "metadata": {},
     "output_type": "display_data"
    },
    {
     "data": {
      "text/html": [
       "<pre>| 1590      | 11.51s        | 2.64608e+06    | 0               |</pre>"
      ],
      "text/plain": [
       "| 1590      | 11.51s        | 2.64608e+06    | 0               |"
      ]
     },
     "metadata": {},
     "output_type": "display_data"
    },
    {
     "data": {
      "text/html": [
       "<pre>| 1600      | 11.58s        | 2.72454e+06    | 0               |</pre>"
      ],
      "text/plain": [
       "| 1600      | 11.58s        | 2.72454e+06    | 0               |"
      ]
     },
     "metadata": {},
     "output_type": "display_data"
    },
    {
     "data": {
      "text/html": [
       "<pre>| 1610      | 11.65s        | 2.59709e+06    | 0               |</pre>"
      ],
      "text/plain": [
       "| 1610      | 11.65s        | 2.59709e+06    | 0               |"
      ]
     },
     "metadata": {},
     "output_type": "display_data"
    },
    {
     "data": {
      "text/html": [
       "<pre>| 1620      | 11.73s        | 2.54247e+06    | 0               |</pre>"
      ],
      "text/plain": [
       "| 1620      | 11.73s        | 2.54247e+06    | 0               |"
      ]
     },
     "metadata": {},
     "output_type": "display_data"
    },
    {
     "data": {
      "text/html": [
       "<pre>| 1630      | 11.80s        | 2.55413e+06    | 0               |</pre>"
      ],
      "text/plain": [
       "| 1630      | 11.80s        | 2.55413e+06    | 0               |"
      ]
     },
     "metadata": {},
     "output_type": "display_data"
    },
    {
     "data": {
      "text/html": [
       "<pre>| 1640      | 11.87s        | 2.52085e+06    | 0               |</pre>"
      ],
      "text/plain": [
       "| 1640      | 11.87s        | 2.52085e+06    | 0               |"
      ]
     },
     "metadata": {},
     "output_type": "display_data"
    },
    {
     "data": {
      "text/html": [
       "<pre>| 1650      | 11.94s        | 2.53581e+06    | 0               |</pre>"
      ],
      "text/plain": [
       "| 1650      | 11.94s        | 2.53581e+06    | 0               |"
      ]
     },
     "metadata": {},
     "output_type": "display_data"
    },
    {
     "data": {
      "text/html": [
       "<pre>| 1660      | 12.01s        | 2.63319e+06    | 0               |</pre>"
      ],
      "text/plain": [
       "| 1660      | 12.01s        | 2.63319e+06    | 0               |"
      ]
     },
     "metadata": {},
     "output_type": "display_data"
    },
    {
     "data": {
      "text/html": [
       "<pre>| 1670      | 12.08s        | 2.68004e+06    | 0               |</pre>"
      ],
      "text/plain": [
       "| 1670      | 12.08s        | 2.68004e+06    | 0               |"
      ]
     },
     "metadata": {},
     "output_type": "display_data"
    },
    {
     "data": {
      "text/html": [
       "<pre>| 1680      | 12.16s        | 2.65027e+06    | 0               |</pre>"
      ],
      "text/plain": [
       "| 1680      | 12.16s        | 2.65027e+06    | 0               |"
      ]
     },
     "metadata": {},
     "output_type": "display_data"
    },
    {
     "data": {
      "text/html": [
       "<pre>| 1690      | 12.23s        | 2.57923e+06    | 0               |</pre>"
      ],
      "text/plain": [
       "| 1690      | 12.23s        | 2.57923e+06    | 0               |"
      ]
     },
     "metadata": {},
     "output_type": "display_data"
    },
    {
     "data": {
      "text/html": [
       "<pre>| 1700      | 12.31s        | 2.63659e+06    | 0               |</pre>"
      ],
      "text/plain": [
       "| 1700      | 12.31s        | 2.63659e+06    | 0               |"
      ]
     },
     "metadata": {},
     "output_type": "display_data"
    },
    {
     "data": {
      "text/html": [
       "<pre>| 1710      | 12.40s        | 2.386e+06      | 0               |</pre>"
      ],
      "text/plain": [
       "| 1710      | 12.40s        | 2.386e+06      | 0               |"
      ]
     },
     "metadata": {},
     "output_type": "display_data"
    },
    {
     "data": {
      "text/html": [
       "<pre>| 1720      | 12.47s        | 2.58612e+06    | 0               |</pre>"
      ],
      "text/plain": [
       "| 1720      | 12.47s        | 2.58612e+06    | 0               |"
      ]
     },
     "metadata": {},
     "output_type": "display_data"
    },
    {
     "data": {
      "text/html": [
       "<pre>| 1730      | 12.55s        | 2.63962e+06    | 0               |</pre>"
      ],
      "text/plain": [
       "| 1730      | 12.55s        | 2.63962e+06    | 0               |"
      ]
     },
     "metadata": {},
     "output_type": "display_data"
    },
    {
     "data": {
      "text/html": [
       "<pre>| 1740      | 12.62s        | 2.60926e+06    | 0               |</pre>"
      ],
      "text/plain": [
       "| 1740      | 12.62s        | 2.60926e+06    | 0               |"
      ]
     },
     "metadata": {},
     "output_type": "display_data"
    },
    {
     "data": {
      "text/html": [
       "<pre>| 1750      | 12.69s        | 2.6004e+06     | 0               |</pre>"
      ],
      "text/plain": [
       "| 1750      | 12.69s        | 2.6004e+06     | 0               |"
      ]
     },
     "metadata": {},
     "output_type": "display_data"
    },
    {
     "data": {
      "text/html": [
       "<pre>| 1760      | 12.77s        | 2.50163e+06    | 0               |</pre>"
      ],
      "text/plain": [
       "| 1760      | 12.77s        | 2.50163e+06    | 0               |"
      ]
     },
     "metadata": {},
     "output_type": "display_data"
    },
    {
     "data": {
      "text/html": [
       "<pre>| 1770      | 12.85s        | 2.55876e+06    | 0               |</pre>"
      ],
      "text/plain": [
       "| 1770      | 12.85s        | 2.55876e+06    | 0               |"
      ]
     },
     "metadata": {},
     "output_type": "display_data"
    },
    {
     "data": {
      "text/html": [
       "<pre>| 1780      | 12.92s        | 2.60741e+06    | 0               |</pre>"
      ],
      "text/plain": [
       "| 1780      | 12.92s        | 2.60741e+06    | 0               |"
      ]
     },
     "metadata": {},
     "output_type": "display_data"
    },
    {
     "data": {
      "text/html": [
       "<pre>| 1790      | 12.99s        | 2.61408e+06    | 0               |</pre>"
      ],
      "text/plain": [
       "| 1790      | 12.99s        | 2.61408e+06    | 0               |"
      ]
     },
     "metadata": {},
     "output_type": "display_data"
    },
    {
     "data": {
      "text/html": [
       "<pre>| 1800      | 13.07s        | 2.37582e+06    | 0               |</pre>"
      ],
      "text/plain": [
       "| 1800      | 13.07s        | 2.37582e+06    | 0               |"
      ]
     },
     "metadata": {},
     "output_type": "display_data"
    },
    {
     "data": {
      "text/html": [
       "<pre>| 1810      | 13.14s        | 2.41326e+06    | 0               |</pre>"
      ],
      "text/plain": [
       "| 1810      | 13.14s        | 2.41326e+06    | 0               |"
      ]
     },
     "metadata": {},
     "output_type": "display_data"
    },
    {
     "data": {
      "text/html": [
       "<pre>| 1820      | 13.22s        | 2.49925e+06    | 0               |</pre>"
      ],
      "text/plain": [
       "| 1820      | 13.22s        | 2.49925e+06    | 0               |"
      ]
     },
     "metadata": {},
     "output_type": "display_data"
    },
    {
     "data": {
      "text/html": [
       "<pre>| 1830      | 13.29s        | 2.71769e+06    | 0               |</pre>"
      ],
      "text/plain": [
       "| 1830      | 13.29s        | 2.71769e+06    | 0               |"
      ]
     },
     "metadata": {},
     "output_type": "display_data"
    },
    {
     "data": {
      "text/html": [
       "<pre>| 1840      | 13.37s        | 2.59086e+06    | 0               |</pre>"
      ],
      "text/plain": [
       "| 1840      | 13.37s        | 2.59086e+06    | 0               |"
      ]
     },
     "metadata": {},
     "output_type": "display_data"
    },
    {
     "data": {
      "text/html": [
       "<pre>| 1850      | 13.44s        | 2.16149e+06    | 0               |</pre>"
      ],
      "text/plain": [
       "| 1850      | 13.44s        | 2.16149e+06    | 0               |"
      ]
     },
     "metadata": {},
     "output_type": "display_data"
    },
    {
     "data": {
      "text/html": [
       "<pre>| 1860      | 13.50s        | 2.42761e+06    | 0               |</pre>"
      ],
      "text/plain": [
       "| 1860      | 13.50s        | 2.42761e+06    | 0               |"
      ]
     },
     "metadata": {},
     "output_type": "display_data"
    },
    {
     "data": {
      "text/html": [
       "<pre>| 1870      | 13.57s        | 2.90821e+06    | 0               |</pre>"
      ],
      "text/plain": [
       "| 1870      | 13.57s        | 2.90821e+06    | 0               |"
      ]
     },
     "metadata": {},
     "output_type": "display_data"
    },
    {
     "data": {
      "text/html": [
       "<pre>| 1880      | 13.63s        | 4.07021e+06    | 0               |</pre>"
      ],
      "text/plain": [
       "| 1880      | 13.63s        | 4.07021e+06    | 0               |"
      ]
     },
     "metadata": {},
     "output_type": "display_data"
    },
    {
     "data": {
      "text/html": [
       "<pre>| 1890      | 13.69s        | 3.05621e+06    | 0               |</pre>"
      ],
      "text/plain": [
       "| 1890      | 13.69s        | 3.05621e+06    | 0               |"
      ]
     },
     "metadata": {},
     "output_type": "display_data"
    },
    {
     "data": {
      "text/html": [
       "<pre>| 1900      | 13.76s        | 2.66797e+06    | 0               |</pre>"
      ],
      "text/plain": [
       "| 1900      | 13.76s        | 2.66797e+06    | 0               |"
      ]
     },
     "metadata": {},
     "output_type": "display_data"
    },
    {
     "data": {
      "text/html": [
       "<pre>| 1910      | 13.83s        | 2.55449e+06    | 0               |</pre>"
      ],
      "text/plain": [
       "| 1910      | 13.83s        | 2.55449e+06    | 0               |"
      ]
     },
     "metadata": {},
     "output_type": "display_data"
    },
    {
     "data": {
      "text/html": [
       "<pre>| 1920      | 13.91s        | 2.70967e+06    | 0               |</pre>"
      ],
      "text/plain": [
       "| 1920      | 13.91s        | 2.70967e+06    | 0               |"
      ]
     },
     "metadata": {},
     "output_type": "display_data"
    },
    {
     "data": {
      "text/html": [
       "<pre>| 1930      | 13.98s        | 2.46407e+06    | 0               |</pre>"
      ],
      "text/plain": [
       "| 1930      | 13.98s        | 2.46407e+06    | 0               |"
      ]
     },
     "metadata": {},
     "output_type": "display_data"
    },
    {
     "data": {
      "text/html": [
       "<pre>| 1940      | 14.05s        | 2.61855e+06    | 0               |</pre>"
      ],
      "text/plain": [
       "| 1940      | 14.05s        | 2.61855e+06    | 0               |"
      ]
     },
     "metadata": {},
     "output_type": "display_data"
    },
    {
     "data": {
      "text/html": [
       "<pre>| 1950      | 14.13s        | 2.49721e+06    | 0               |</pre>"
      ],
      "text/plain": [
       "| 1950      | 14.13s        | 2.49721e+06    | 0               |"
      ]
     },
     "metadata": {},
     "output_type": "display_data"
    },
    {
     "data": {
      "text/html": [
       "<pre>| 1960      | 14.20s        | 2.54388e+06    | 0               |</pre>"
      ],
      "text/plain": [
       "| 1960      | 14.20s        | 2.54388e+06    | 0               |"
      ]
     },
     "metadata": {},
     "output_type": "display_data"
    },
    {
     "data": {
      "text/html": [
       "<pre>| 1970      | 14.27s        | 2.59929e+06    | 0               |</pre>"
      ],
      "text/plain": [
       "| 1970      | 14.27s        | 2.59929e+06    | 0               |"
      ]
     },
     "metadata": {},
     "output_type": "display_data"
    },
    {
     "data": {
      "text/html": [
       "<pre>| 1980      | 14.35s        | 2.20084e+06    | 0               |</pre>"
      ],
      "text/plain": [
       "| 1980      | 14.35s        | 2.20084e+06    | 0               |"
      ]
     },
     "metadata": {},
     "output_type": "display_data"
    },
    {
     "data": {
      "text/html": [
       "<pre>| 1990      | 14.42s        | 2.60408e+06    | 0               |</pre>"
      ],
      "text/plain": [
       "| 1990      | 14.42s        | 2.60408e+06    | 0               |"
      ]
     },
     "metadata": {},
     "output_type": "display_data"
    },
    {
     "data": {
      "text/html": [
       "<pre>| 2000      | 14.49s        | 2.56913e+06    | 0               |</pre>"
      ],
      "text/plain": [
       "| 2000      | 14.49s        | 2.56913e+06    | 0               |"
      ]
     },
     "metadata": {},
     "output_type": "display_data"
    },
    {
     "data": {
      "text/html": [
       "<pre>| 2010      | 14.56s        | 2.503e+06      | 0               |</pre>"
      ],
      "text/plain": [
       "| 2010      | 14.56s        | 2.503e+06      | 0               |"
      ]
     },
     "metadata": {},
     "output_type": "display_data"
    },
    {
     "data": {
      "text/html": [
       "<pre>| 2020      | 14.64s        | 2.63962e+06    | 0               |</pre>"
      ],
      "text/plain": [
       "| 2020      | 14.64s        | 2.63962e+06    | 0               |"
      ]
     },
     "metadata": {},
     "output_type": "display_data"
    },
    {
     "data": {
      "text/html": [
       "<pre>| 2030      | 14.71s        | 2.63055e+06    | 0               |</pre>"
      ],
      "text/plain": [
       "| 2030      | 14.71s        | 2.63055e+06    | 0               |"
      ]
     },
     "metadata": {},
     "output_type": "display_data"
    },
    {
     "data": {
      "text/html": [
       "<pre>| 2040      | 14.78s        | 2.48775e+06    | 0               |</pre>"
      ],
      "text/plain": [
       "| 2040      | 14.78s        | 2.48775e+06    | 0               |"
      ]
     },
     "metadata": {},
     "output_type": "display_data"
    },
    {
     "data": {
      "text/html": [
       "<pre>| 2050      | 14.85s        | 2.48741e+06    | 0               |</pre>"
      ],
      "text/plain": [
       "| 2050      | 14.85s        | 2.48741e+06    | 0               |"
      ]
     },
     "metadata": {},
     "output_type": "display_data"
    },
    {
     "data": {
      "text/html": [
       "<pre>| 2060      | 14.92s        | 2.70927e+06    | 0               |</pre>"
      ],
      "text/plain": [
       "| 2060      | 14.92s        | 2.70927e+06    | 0               |"
      ]
     },
     "metadata": {},
     "output_type": "display_data"
    },
    {
     "data": {
      "text/html": [
       "<pre>| 2070      | 15.00s        | 2.46077e+06    | 0               |</pre>"
      ],
      "text/plain": [
       "| 2070      | 15.00s        | 2.46077e+06    | 0               |"
      ]
     },
     "metadata": {},
     "output_type": "display_data"
    },
    {
     "data": {
      "text/html": [
       "<pre>| 2080      | 15.07s        | 2.58322e+06    | 0               |</pre>"
      ],
      "text/plain": [
       "| 2080      | 15.07s        | 2.58322e+06    | 0               |"
      ]
     },
     "metadata": {},
     "output_type": "display_data"
    },
    {
     "data": {
      "text/html": [
       "<pre>| 2090      | 15.15s        | 2.47169e+06    | 0               |</pre>"
      ],
      "text/plain": [
       "| 2090      | 15.15s        | 2.47169e+06    | 0               |"
      ]
     },
     "metadata": {},
     "output_type": "display_data"
    },
    {
     "data": {
      "text/html": [
       "<pre>| 2100      | 15.22s        | 2.27692e+06    | 0               |</pre>"
      ],
      "text/plain": [
       "| 2100      | 15.22s        | 2.27692e+06    | 0               |"
      ]
     },
     "metadata": {},
     "output_type": "display_data"
    },
    {
     "data": {
      "text/html": [
       "<pre>| 2110      | 15.30s        | 2.48708e+06    | 0               |</pre>"
      ],
      "text/plain": [
       "| 2110      | 15.30s        | 2.48708e+06    | 0               |"
      ]
     },
     "metadata": {},
     "output_type": "display_data"
    },
    {
     "data": {
      "text/html": [
       "<pre>| 2120      | 15.37s        | 2.4962e+06     | 0               |</pre>"
      ],
      "text/plain": [
       "| 2120      | 15.37s        | 2.4962e+06     | 0               |"
      ]
     },
     "metadata": {},
     "output_type": "display_data"
    },
    {
     "data": {
      "text/html": [
       "<pre>| 2130      | 15.45s        | 2.47668e+06    | 0               |</pre>"
      ],
      "text/plain": [
       "| 2130      | 15.45s        | 2.47668e+06    | 0               |"
      ]
     },
     "metadata": {},
     "output_type": "display_data"
    },
    {
     "data": {
      "text/html": [
       "<pre>| 2140      | 15.52s        | 2.59342e+06    | 0               |</pre>"
      ],
      "text/plain": [
       "| 2140      | 15.52s        | 2.59342e+06    | 0               |"
      ]
     },
     "metadata": {},
     "output_type": "display_data"
    },
    {
     "data": {
      "text/html": [
       "<pre>| 2150      | 15.59s        | 2.53826e+06    | 0               |</pre>"
      ],
      "text/plain": [
       "| 2150      | 15.59s        | 2.53826e+06    | 0               |"
      ]
     },
     "metadata": {},
     "output_type": "display_data"
    },
    {
     "data": {
      "text/html": [
       "<pre>| 2160      | 15.67s        | 2.58322e+06    | 0               |</pre>"
      ],
      "text/plain": [
       "| 2160      | 15.67s        | 2.58322e+06    | 0               |"
      ]
     },
     "metadata": {},
     "output_type": "display_data"
    },
    {
     "data": {
      "text/html": [
       "<pre>| 2170      | 15.74s        | 2.56662e+06    | 0               |</pre>"
      ],
      "text/plain": [
       "| 2170      | 15.74s        | 2.56662e+06    | 0               |"
      ]
     },
     "metadata": {},
     "output_type": "display_data"
    },
    {
     "data": {
      "text/html": [
       "<pre>| 2180      | 15.81s        | 2.63962e+06    | 0               |</pre>"
      ],
      "text/plain": [
       "| 2180      | 15.81s        | 2.63962e+06    | 0               |"
      ]
     },
     "metadata": {},
     "output_type": "display_data"
    },
    {
     "data": {
      "text/html": [
       "<pre>| 2190      | 15.88s        | 2.53266e+06    | 0               |</pre>"
      ],
      "text/plain": [
       "| 2190      | 15.88s        | 2.53266e+06    | 0               |"
      ]
     },
     "metadata": {},
     "output_type": "display_data"
    },
    {
     "data": {
      "text/html": [
       "<pre>| 2200      | 15.96s        | 2.55947e+06    | 0               |</pre>"
      ],
      "text/plain": [
       "| 2200      | 15.96s        | 2.55947e+06    | 0               |"
      ]
     },
     "metadata": {},
     "output_type": "display_data"
    },
    {
     "data": {
      "text/html": [
       "<pre>| 2210      | 16.03s        | 2.61967e+06    | 0               |</pre>"
      ],
      "text/plain": [
       "| 2210      | 16.03s        | 2.61967e+06    | 0               |"
      ]
     },
     "metadata": {},
     "output_type": "display_data"
    },
    {
     "data": {
      "text/html": [
       "<pre>| 2220      | 16.10s        | 2.62791e+06    | 0               |</pre>"
      ],
      "text/plain": [
       "| 2220      | 16.10s        | 2.62791e+06    | 0               |"
      ]
     },
     "metadata": {},
     "output_type": "display_data"
    },
    {
     "data": {
      "text/html": [
       "<pre>| 2230      | 16.17s        | 2.52431e+06    | 0               |</pre>"
      ],
      "text/plain": [
       "| 2230      | 16.17s        | 2.52431e+06    | 0               |"
      ]
     },
     "metadata": {},
     "output_type": "display_data"
    },
    {
     "data": {
      "text/html": [
       "<pre>| 2240      | 16.25s        | 2.68748e+06    | 0               |</pre>"
      ],
      "text/plain": [
       "| 2240      | 16.25s        | 2.68748e+06    | 0               |"
      ]
     },
     "metadata": {},
     "output_type": "display_data"
    },
    {
     "data": {
      "text/html": [
       "<pre>| 2250      | 16.32s        | 2.62191e+06    | 0               |</pre>"
      ],
      "text/plain": [
       "| 2250      | 16.32s        | 2.62191e+06    | 0               |"
      ]
     },
     "metadata": {},
     "output_type": "display_data"
    },
    {
     "data": {
      "text/html": [
       "<pre>| 2260      | 16.39s        | 2.49281e+06    | 0               |</pre>"
      ],
      "text/plain": [
       "| 2260      | 16.39s        | 2.49281e+06    | 0               |"
      ]
     },
     "metadata": {},
     "output_type": "display_data"
    },
    {
     "data": {
      "text/html": [
       "<pre>| 2270      | 16.46s        | 2.6063e+06     | 0               |</pre>"
      ],
      "text/plain": [
       "| 2270      | 16.46s        | 2.6063e+06     | 0               |"
      ]
     },
     "metadata": {},
     "output_type": "display_data"
    },
    {
     "data": {
      "text/html": [
       "<pre>| 2280      | 16.53s        | 2.73508e+06    | 0               |</pre>"
      ],
      "text/plain": [
       "| 2280      | 16.53s        | 2.73508e+06    | 0               |"
      ]
     },
     "metadata": {},
     "output_type": "display_data"
    },
    {
     "data": {
      "text/html": [
       "<pre>| 2290      | 16.61s        | 2.62754e+06    | 0               |</pre>"
      ],
      "text/plain": [
       "| 2290      | 16.61s        | 2.62754e+06    | 0               |"
      ]
     },
     "metadata": {},
     "output_type": "display_data"
    },
    {
     "data": {
      "text/html": [
       "<pre>| 2300      | 16.68s        | 2.69972e+06    | 0               |</pre>"
      ],
      "text/plain": [
       "| 2300      | 16.68s        | 2.69972e+06    | 0               |"
      ]
     },
     "metadata": {},
     "output_type": "display_data"
    },
    {
     "data": {
      "text/html": [
       "<pre>| 2310      | 16.75s        | 2.65602e+06    | 0               |</pre>"
      ],
      "text/plain": [
       "| 2310      | 16.75s        | 2.65602e+06    | 0               |"
      ]
     },
     "metadata": {},
     "output_type": "display_data"
    },
    {
     "data": {
      "text/html": [
       "<pre>| 2320      | 16.83s        | 2.49789e+06    | 0               |</pre>"
      ],
      "text/plain": [
       "| 2320      | 16.83s        | 2.49789e+06    | 0               |"
      ]
     },
     "metadata": {},
     "output_type": "display_data"
    },
    {
     "data": {
      "text/html": [
       "<pre>| 2330      | 16.90s        | 2.49484e+06    | 0               |</pre>"
      ],
      "text/plain": [
       "| 2330      | 16.90s        | 2.49484e+06    | 0               |"
      ]
     },
     "metadata": {},
     "output_type": "display_data"
    },
    {
     "data": {
      "text/html": [
       "<pre>| 2340      | 16.97s        | 2.47003e+06    | 0               |</pre>"
      ],
      "text/plain": [
       "| 2340      | 16.97s        | 2.47003e+06    | 0               |"
      ]
     },
     "metadata": {},
     "output_type": "display_data"
    },
    {
     "data": {
      "text/html": [
       "<pre>| 2350      | 17.05s        | 2.52918e+06    | 0               |</pre>"
      ],
      "text/plain": [
       "| 2350      | 17.05s        | 2.52918e+06    | 0               |"
      ]
     },
     "metadata": {},
     "output_type": "display_data"
    },
    {
     "data": {
      "text/html": [
       "<pre>| 2360      | 17.12s        | 2.52466e+06    | 0               |</pre>"
      ],
      "text/plain": [
       "| 2360      | 17.12s        | 2.52466e+06    | 0               |"
      ]
     },
     "metadata": {},
     "output_type": "display_data"
    },
    {
     "data": {
      "text/html": [
       "<pre>| 2370      | 17.19s        | 2.65295e+06    | 0               |</pre>"
      ],
      "text/plain": [
       "| 2370      | 17.19s        | 2.65295e+06    | 0               |"
      ]
     },
     "metadata": {},
     "output_type": "display_data"
    },
    {
     "data": {
      "text/html": [
       "<pre>| 2380      | 17.27s        | 2.57814e+06    | 0               |</pre>"
      ],
      "text/plain": [
       "| 2380      | 17.27s        | 2.57814e+06    | 0               |"
      ]
     },
     "metadata": {},
     "output_type": "display_data"
    },
    {
     "data": {
      "text/html": [
       "<pre>| 2390      | 17.34s        | 2.51774e+06    | 0               |</pre>"
      ],
      "text/plain": [
       "| 2390      | 17.34s        | 2.51774e+06    | 0               |"
      ]
     },
     "metadata": {},
     "output_type": "display_data"
    },
    {
     "data": {
      "text/html": [
       "<pre>| 2400      | 17.41s        | 2.59966e+06    | 0               |</pre>"
      ],
      "text/plain": [
       "| 2400      | 17.41s        | 2.59966e+06    | 0               |"
      ]
     },
     "metadata": {},
     "output_type": "display_data"
    },
    {
     "data": {
      "text/html": [
       "<pre>| 2410      | 17.49s        | 2.6004e+06     | 0               |</pre>"
      ],
      "text/plain": [
       "| 2410      | 17.49s        | 2.6004e+06     | 0               |"
      ]
     },
     "metadata": {},
     "output_type": "display_data"
    },
    {
     "data": {
      "text/html": [
       "<pre>| 2420      | 17.56s        | 2.59819e+06    | 0               |</pre>"
      ],
      "text/plain": [
       "| 2420      | 17.56s        | 2.59819e+06    | 0               |"
      ]
     },
     "metadata": {},
     "output_type": "display_data"
    },
    {
     "data": {
      "text/html": [
       "<pre>| 2430      | 17.63s        | 2.64836e+06    | 0               |</pre>"
      ],
      "text/plain": [
       "| 2430      | 17.63s        | 2.64836e+06    | 0               |"
      ]
     },
     "metadata": {},
     "output_type": "display_data"
    },
    {
     "data": {
      "text/html": [
       "<pre>| 2440      | 17.70s        | 2.5634e+06     | 0               |</pre>"
      ],
      "text/plain": [
       "| 2440      | 17.70s        | 2.5634e+06     | 0               |"
      ]
     },
     "metadata": {},
     "output_type": "display_data"
    },
    {
     "data": {
      "text/html": [
       "<pre>| 2450      | 17.78s        | 2.6457e+06     | 0               |</pre>"
      ],
      "text/plain": [
       "| 2450      | 17.78s        | 2.6457e+06     | 0               |"
      ]
     },
     "metadata": {},
     "output_type": "display_data"
    },
    {
     "data": {
      "text/html": [
       "<pre>| 2460      | 17.85s        | 2.53686e+06    | 0               |</pre>"
      ],
      "text/plain": [
       "| 2460      | 17.85s        | 2.53686e+06    | 0               |"
      ]
     },
     "metadata": {},
     "output_type": "display_data"
    },
    {
     "data": {
      "text/html": [
       "<pre>| 2470      | 17.92s        | 2.60667e+06    | 0               |</pre>"
      ],
      "text/plain": [
       "| 2470      | 17.92s        | 2.60667e+06    | 0               |"
      ]
     },
     "metadata": {},
     "output_type": "display_data"
    },
    {
     "data": {
      "text/html": [
       "<pre>| 2480      | 17.99s        | 2.66991e+06    | 0               |</pre>"
      ],
      "text/plain": [
       "| 2480      | 17.99s        | 2.66991e+06    | 0               |"
      ]
     },
     "metadata": {},
     "output_type": "display_data"
    },
    {
     "data": {
      "text/html": [
       "<pre>| 2490      | 18.06s        | 2.49925e+06    | 0               |</pre>"
      ],
      "text/plain": [
       "| 2490      | 18.06s        | 2.49925e+06    | 0               |"
      ]
     },
     "metadata": {},
     "output_type": "display_data"
    },
    {
     "data": {
      "text/html": [
       "<pre>| 2500      | 18.14s        | 2.52189e+06    | 0               |</pre>"
      ],
      "text/plain": [
       "| 2500      | 18.14s        | 2.52189e+06    | 0               |"
      ]
     },
     "metadata": {},
     "output_type": "display_data"
    },
    {
     "data": {
      "text/html": [
       "<pre>| 2510      | 18.20s        | 2.38662e+06    | 0               |</pre>"
      ],
      "text/plain": [
       "| 2510      | 18.20s        | 2.38662e+06    | 0               |"
      ]
     },
     "metadata": {},
     "output_type": "display_data"
    },
    {
     "data": {
      "text/html": [
       "<pre>| 2520      | 18.28s        | 2.42857e+06    | 0               |</pre>"
      ],
      "text/plain": [
       "| 2520      | 18.28s        | 2.42857e+06    | 0               |"
      ]
     },
     "metadata": {},
     "output_type": "display_data"
    },
    {
     "data": {
      "text/html": [
       "<pre>| 2530      | 18.36s        | 2.33181e+06    | 0               |</pre>"
      ],
      "text/plain": [
       "| 2530      | 18.36s        | 2.33181e+06    | 0               |"
      ]
     },
     "metadata": {},
     "output_type": "display_data"
    },
    {
     "data": {
      "text/html": [
       "<pre>| 2540      | 18.43s        | 2.31478e+06    | 0               |</pre>"
      ],
      "text/plain": [
       "| 2540      | 18.43s        | 2.31478e+06    | 0               |"
      ]
     },
     "metadata": {},
     "output_type": "display_data"
    },
    {
     "data": {
      "text/html": [
       "<pre>| 2550      | 18.51s        | 2.67925e+06    | 0               |</pre>"
      ],
      "text/plain": [
       "| 2550      | 18.51s        | 2.67925e+06    | 0               |"
      ]
     },
     "metadata": {},
     "output_type": "display_data"
    },
    {
     "data": {
      "text/html": [
       "<pre>| 2560      | 18.59s        | 2.6614e+06     | 0               |</pre>"
      ],
      "text/plain": [
       "| 2560      | 18.59s        | 2.6614e+06     | 0               |"
      ]
     },
     "metadata": {},
     "output_type": "display_data"
    },
    {
     "data": {
      "text/html": [
       "<pre>| 2570      | 18.66s        | 2.41644e+06    | 0               |</pre>"
      ],
      "text/plain": [
       "| 2570      | 18.66s        | 2.41644e+06    | 0               |"
      ]
     },
     "metadata": {},
     "output_type": "display_data"
    },
    {
     "data": {
      "text/html": [
       "<pre>| 2580      | 18.74s        | 2.406e+06      | 0               |</pre>"
      ],
      "text/plain": [
       "| 2580      | 18.74s        | 2.406e+06      | 0               |"
      ]
     },
     "metadata": {},
     "output_type": "display_data"
    },
    {
     "data": {
      "text/html": [
       "<pre>| 2590      | 18.82s        | 2.05467e+06    | 0               |</pre>"
      ],
      "text/plain": [
       "| 2590      | 18.82s        | 2.05467e+06    | 0               |"
      ]
     },
     "metadata": {},
     "output_type": "display_data"
    },
    {
     "data": {
      "text/html": [
       "<pre>| 2600      | 18.91s        | 2.5814e+06     | 0               |</pre>"
      ],
      "text/plain": [
       "| 2600      | 18.91s        | 2.5814e+06     | 0               |"
      ]
     },
     "metadata": {},
     "output_type": "display_data"
    },
    {
     "data": {
      "text/html": [
       "<pre>| 2610      | 18.98s        | 2.79966e+06    | 0               |</pre>"
      ],
      "text/plain": [
       "| 2610      | 18.98s        | 2.79966e+06    | 0               |"
      ]
     },
     "metadata": {},
     "output_type": "display_data"
    },
    {
     "data": {
      "text/html": [
       "<pre>| 2620      | 19.06s        | 2.08474e+06    | 0               |</pre>"
      ],
      "text/plain": [
       "| 2620      | 19.06s        | 2.08474e+06    | 0               |"
      ]
     },
     "metadata": {},
     "output_type": "display_data"
    },
    {
     "data": {
      "text/html": [
       "<pre>| 2630      | 19.13s        | 2.21891e+06    | 0               |</pre>"
      ],
      "text/plain": [
       "| 2630      | 19.13s        | 2.21891e+06    | 0               |"
      ]
     },
     "metadata": {},
     "output_type": "display_data"
    },
    {
     "data": {
      "text/html": [
       "<pre>| 2640      | 19.21s        | 2.25762e+06    | 0               |</pre>"
      ],
      "text/plain": [
       "| 2640      | 19.21s        | 2.25762e+06    | 0               |"
      ]
     },
     "metadata": {},
     "output_type": "display_data"
    },
    {
     "data": {
      "text/html": [
       "<pre>| 2650      | 19.28s        | 3.18382e+06    | 0               |</pre>"
      ],
      "text/plain": [
       "| 2650      | 19.28s        | 3.18382e+06    | 0               |"
      ]
     },
     "metadata": {},
     "output_type": "display_data"
    },
    {
     "data": {
      "text/html": [
       "<pre>| 2660      | 19.35s        | 2.15692e+06    | 0               |</pre>"
      ],
      "text/plain": [
       "| 2660      | 19.35s        | 2.15692e+06    | 0               |"
      ]
     },
     "metadata": {},
     "output_type": "display_data"
    },
    {
     "data": {
      "text/html": [
       "<pre>| 2670      | 19.43s        | 2.54459e+06    | 0               |</pre>"
      ],
      "text/plain": [
       "| 2670      | 19.43s        | 2.54459e+06    | 0               |"
      ]
     },
     "metadata": {},
     "output_type": "display_data"
    },
    {
     "data": {
      "text/html": [
       "<pre>| 2680      | 19.51s        | 2.3503e+06     | 0               |</pre>"
      ],
      "text/plain": [
       "| 2680      | 19.51s        | 2.3503e+06     | 0               |"
      ]
     },
     "metadata": {},
     "output_type": "display_data"
    },
    {
     "data": {
      "text/html": [
       "<pre>| 2690      | 19.59s        | 2.45354e+06    | 0               |</pre>"
      ],
      "text/plain": [
       "| 2690      | 19.59s        | 2.45354e+06    | 0               |"
      ]
     },
     "metadata": {},
     "output_type": "display_data"
    },
    {
     "data": {
      "text/html": [
       "<pre>| 2700      | 19.67s        | 2.40474e+06    | 0               |</pre>"
      ],
      "text/plain": [
       "| 2700      | 19.67s        | 2.40474e+06    | 0               |"
      ]
     },
     "metadata": {},
     "output_type": "display_data"
    },
    {
     "data": {
      "text/html": [
       "<pre>| 2710      | 19.74s        | 2.42857e+06    | 0               |</pre>"
      ],
      "text/plain": [
       "| 2710      | 19.74s        | 2.42857e+06    | 0               |"
      ]
     },
     "metadata": {},
     "output_type": "display_data"
    },
    {
     "data": {
      "text/html": [
       "<pre>| 2720      | 19.82s        | 2.59966e+06    | 0               |</pre>"
      ],
      "text/plain": [
       "| 2720      | 19.82s        | 2.59966e+06    | 0               |"
      ]
     },
     "metadata": {},
     "output_type": "display_data"
    },
    {
     "data": {
      "text/html": [
       "<pre>| 2730      | 19.89s        | 2.53336e+06    | 0               |</pre>"
      ],
      "text/plain": [
       "| 2730      | 19.89s        | 2.53336e+06    | 0               |"
      ]
     },
     "metadata": {},
     "output_type": "display_data"
    },
    {
     "data": {
      "text/html": [
       "<pre>| 2740      | 19.96s        | 2.54776e+06    | 0               |</pre>"
      ],
      "text/plain": [
       "| 2740      | 19.96s        | 2.54776e+06    | 0               |"
      ]
     },
     "metadata": {},
     "output_type": "display_data"
    },
    {
     "data": {
      "text/html": [
       "<pre>| 2750      | 20.03s        | 2.7021e+06     | 0               |</pre>"
      ],
      "text/plain": [
       "| 2750      | 20.03s        | 2.7021e+06     | 0               |"
      ]
     },
     "metadata": {},
     "output_type": "display_data"
    },
    {
     "data": {
      "text/html": [
       "<pre>| 2760      | 20.11s        | 3.04558e+06    | 0               |</pre>"
      ],
      "text/plain": [
       "| 2760      | 20.11s        | 3.04558e+06    | 0               |"
      ]
     },
     "metadata": {},
     "output_type": "display_data"
    },
    {
     "data": {
      "text/html": [
       "<pre>| 2770      | 20.19s        | 2.61148e+06    | 0               |</pre>"
      ],
      "text/plain": [
       "| 2770      | 20.19s        | 2.61148e+06    | 0               |"
      ]
     },
     "metadata": {},
     "output_type": "display_data"
    },
    {
     "data": {
      "text/html": [
       "<pre>| 2780      | 20.26s        | 2.54423e+06    | 0               |</pre>"
      ],
      "text/plain": [
       "| 2780      | 20.26s        | 2.54423e+06    | 0               |"
      ]
     },
     "metadata": {},
     "output_type": "display_data"
    },
    {
     "data": {
      "text/html": [
       "<pre>| 2790      | 20.33s        | 2.50027e+06    | 0               |</pre>"
      ],
      "text/plain": [
       "| 2790      | 20.33s        | 2.50027e+06    | 0               |"
      ]
     },
     "metadata": {},
     "output_type": "display_data"
    },
    {
     "data": {
      "text/html": [
       "<pre>| 2800      | 20.41s        | 2.59452e+06    | 0               |</pre>"
      ],
      "text/plain": [
       "| 2800      | 20.41s        | 2.59452e+06    | 0               |"
      ]
     },
     "metadata": {},
     "output_type": "display_data"
    },
    {
     "data": {
      "text/html": [
       "<pre>| 2810      | 20.49s        | 2.59599e+06    | 0               |</pre>"
      ],
      "text/plain": [
       "| 2810      | 20.49s        | 2.59599e+06    | 0               |"
      ]
     },
     "metadata": {},
     "output_type": "display_data"
    },
    {
     "data": {
      "text/html": [
       "<pre>| 2820      | 20.56s        | 2.69576e+06    | 0               |</pre>"
      ],
      "text/plain": [
       "| 2820      | 20.56s        | 2.69576e+06    | 0               |"
      ]
     },
     "metadata": {},
     "output_type": "display_data"
    },
    {
     "data": {
      "text/html": [
       "<pre>| 2830      | 20.63s        | 2.57417e+06    | 0               |</pre>"
      ],
      "text/plain": [
       "| 2830      | 20.63s        | 2.57417e+06    | 0               |"
      ]
     },
     "metadata": {},
     "output_type": "display_data"
    },
    {
     "data": {
      "text/html": [
       "<pre>| 2840      | 20.70s        | 2.60003e+06    | 0               |</pre>"
      ],
      "text/plain": [
       "| 2840      | 20.70s        | 2.60003e+06    | 0               |"
      ]
     },
     "metadata": {},
     "output_type": "display_data"
    },
    {
     "data": {
      "text/html": [
       "<pre>| 2850      | 20.77s        | 2.62791e+06    | 0               |</pre>"
      ],
      "text/plain": [
       "| 2850      | 20.77s        | 2.62791e+06    | 0               |"
      ]
     },
     "metadata": {},
     "output_type": "display_data"
    },
    {
     "data": {
      "text/html": [
       "<pre>| 2860      | 20.85s        | 2.97603e+06    | 0               |</pre>"
      ],
      "text/plain": [
       "| 2860      | 20.85s        | 2.97603e+06    | 0               |"
      ]
     },
     "metadata": {},
     "output_type": "display_data"
    },
    {
     "data": {
      "text/html": [
       "<pre>| 2870      | 20.92s        | 2.5659e+06     | 0               |</pre>"
      ],
      "text/plain": [
       "| 2870      | 20.92s        | 2.5659e+06     | 0               |"
      ]
     },
     "metadata": {},
     "output_type": "display_data"
    },
    {
     "data": {
      "text/html": [
       "<pre>| 2880      | 20.99s        | 2.54388e+06    | 0               |</pre>"
      ],
      "text/plain": [
       "| 2880      | 20.99s        | 2.54388e+06    | 0               |"
      ]
     },
     "metadata": {},
     "output_type": "display_data"
    },
    {
     "data": {
      "text/html": [
       "<pre>| 2890      | 21.06s        | 3.47457e+06    | 0               |</pre>"
      ],
      "text/plain": [
       "| 2890      | 21.06s        | 3.47457e+06    | 0               |"
      ]
     },
     "metadata": {},
     "output_type": "display_data"
    },
    {
     "data": {
      "text/html": [
       "<pre>| 2900      | 21.14s        | 2.6381e+06     | 0               |</pre>"
      ],
      "text/plain": [
       "| 2900      | 21.14s        | 2.6381e+06     | 0               |"
      ]
     },
     "metadata": {},
     "output_type": "display_data"
    },
    {
     "data": {
      "text/html": [
       "<pre>| 2910      | 21.21s        | 2.48405e+06    | 0               |</pre>"
      ],
      "text/plain": [
       "| 2910      | 21.21s        | 2.48405e+06    | 0               |"
      ]
     },
     "metadata": {},
     "output_type": "display_data"
    },
    {
     "data": {
      "text/html": [
       "<pre>| 2920      | 21.28s        | 2.44766e+06    | 0               |</pre>"
      ],
      "text/plain": [
       "| 2920      | 21.28s        | 2.44766e+06    | 0               |"
      ]
     },
     "metadata": {},
     "output_type": "display_data"
    },
    {
     "data": {
      "text/html": [
       "<pre>| 2930      | 21.35s        | 2.53231e+06    | 0               |</pre>"
      ],
      "text/plain": [
       "| 2930      | 21.35s        | 2.53231e+06    | 0               |"
      ]
     },
     "metadata": {},
     "output_type": "display_data"
    },
    {
     "data": {
      "text/html": [
       "<pre>| 2940      | 21.43s        | 2.52918e+06    | 0               |</pre>"
      ],
      "text/plain": [
       "| 2940      | 21.43s        | 2.52918e+06    | 0               |"
      ]
     },
     "metadata": {},
     "output_type": "display_data"
    },
    {
     "data": {
      "text/html": [
       "<pre>| 2950      | 21.50s        | 2.66063e+06    | 0               |</pre>"
      ],
      "text/plain": [
       "| 2950      | 21.50s        | 2.66063e+06    | 0               |"
      ]
     },
     "metadata": {},
     "output_type": "display_data"
    },
    {
     "data": {
      "text/html": [
       "<pre>| 2960      | 21.57s        | 2.56805e+06    | 0               |</pre>"
      ],
      "text/plain": [
       "| 2960      | 21.57s        | 2.56805e+06    | 0               |"
      ]
     },
     "metadata": {},
     "output_type": "display_data"
    },
    {
     "data": {
      "text/html": [
       "<pre>| 2970      | 21.64s        | 2.71247e+06    | 0               |</pre>"
      ],
      "text/plain": [
       "| 2970      | 21.64s        | 2.71247e+06    | 0               |"
      ]
     },
     "metadata": {},
     "output_type": "display_data"
    },
    {
     "data": {
      "text/html": [
       "<pre>| 2980      | 21.71s        | 2.52813e+06    | 0               |</pre>"
      ],
      "text/plain": [
       "| 2980      | 21.71s        | 2.52813e+06    | 0               |"
      ]
     },
     "metadata": {},
     "output_type": "display_data"
    },
    {
     "data": {
      "text/html": [
       "<pre>| 2990      | 21.78s        | 2.58176e+06    | 0               |</pre>"
      ],
      "text/plain": [
       "| 2990      | 21.78s        | 2.58176e+06    | 0               |"
      ]
     },
     "metadata": {},
     "output_type": "display_data"
    },
    {
     "data": {
      "text/html": [
       "<pre>| 3000      | 21.86s        | 2.6347e+06     | 0               |</pre>"
      ],
      "text/plain": [
       "| 3000      | 21.86s        | 2.6347e+06     | 0               |"
      ]
     },
     "metadata": {},
     "output_type": "display_data"
    },
    {
     "data": {
      "text/html": [
       "<pre>| 3010      | 21.93s        | 2.62079e+06    | 0               |</pre>"
      ],
      "text/plain": [
       "| 3010      | 21.93s        | 2.62079e+06    | 0               |"
      ]
     },
     "metadata": {},
     "output_type": "display_data"
    },
    {
     "data": {
      "text/html": [
       "<pre>| 3020      | 22.00s        | 2.60667e+06    | 0               |</pre>"
      ],
      "text/plain": [
       "| 3020      | 22.00s        | 2.60667e+06    | 0               |"
      ]
     },
     "metadata": {},
     "output_type": "display_data"
    },
    {
     "data": {
      "text/html": [
       "<pre>| 3030      | 22.08s        | 2.53476e+06    | 0               |</pre>"
      ],
      "text/plain": [
       "| 3030      | 22.08s        | 2.53476e+06    | 0               |"
      ]
     },
     "metadata": {},
     "output_type": "display_data"
    },
    {
     "data": {
      "text/html": [
       "<pre>| 3040      | 22.17s        | 2.6193e+06     | 0               |</pre>"
      ],
      "text/plain": [
       "| 3040      | 22.17s        | 2.6193e+06     | 0               |"
      ]
     },
     "metadata": {},
     "output_type": "display_data"
    },
    {
     "data": {
      "text/html": [
       "<pre>| 3050      | 22.24s        | 2.63621e+06    | 0               |</pre>"
      ],
      "text/plain": [
       "| 3050      | 22.24s        | 2.63621e+06    | 0               |"
      ]
     },
     "metadata": {},
     "output_type": "display_data"
    },
    {
     "data": {
      "text/html": [
       "<pre>| 3060      | 22.31s        | 2.49993e+06    | 0               |</pre>"
      ],
      "text/plain": [
       "| 3060      | 22.31s        | 2.49993e+06    | 0               |"
      ]
     },
     "metadata": {},
     "output_type": "display_data"
    },
    {
     "data": {
      "text/html": [
       "<pre>| 3070      | 22.41s        | 2.57489e+06    | 0               |</pre>"
      ],
      "text/plain": [
       "| 3070      | 22.41s        | 2.57489e+06    | 0               |"
      ]
     },
     "metadata": {},
     "output_type": "display_data"
    },
    {
     "data": {
      "text/html": [
       "<pre>| 3080      | 22.48s        | 2.5047e+06     | 0               |</pre>"
      ],
      "text/plain": [
       "| 3080      | 22.48s        | 2.5047e+06     | 0               |"
      ]
     },
     "metadata": {},
     "output_type": "display_data"
    },
    {
     "data": {
      "text/html": [
       "<pre>| 3090      | 22.55s        | 2.64037e+06    | 0               |</pre>"
      ],
      "text/plain": [
       "| 3090      | 22.55s        | 2.64037e+06    | 0               |"
      ]
     },
     "metadata": {},
     "output_type": "display_data"
    },
    {
     "data": {
      "text/html": [
       "<pre>| 3100      | 22.62s        | 2.53546e+06    | 0               |</pre>"
      ],
      "text/plain": [
       "| 3100      | 22.62s        | 2.53546e+06    | 0               |"
      ]
     },
     "metadata": {},
     "output_type": "display_data"
    },
    {
     "data": {
      "text/html": [
       "<pre>| 3110      | 22.70s        | 2.66604e+06    | 0               |</pre>"
      ],
      "text/plain": [
       "| 3110      | 22.70s        | 2.66604e+06    | 0               |"
      ]
     },
     "metadata": {},
     "output_type": "display_data"
    },
    {
     "data": {
      "text/html": [
       "<pre>| 3120      | 22.77s        | 2.56555e+06    | 0               |</pre>"
      ],
      "text/plain": [
       "| 3120      | 22.77s        | 2.56555e+06    | 0               |"
      ]
     },
     "metadata": {},
     "output_type": "display_data"
    },
    {
     "data": {
      "text/html": [
       "<pre>| 3130      | 22.85s        | 2.97507e+06    | 0               |</pre>"
      ],
      "text/plain": [
       "| 3130      | 22.85s        | 2.97507e+06    | 0               |"
      ]
     },
     "metadata": {},
     "output_type": "display_data"
    },
    {
     "data": {
      "text/html": [
       "<pre>| 3140      | 22.93s        | 2.70369e+06    | 0               |</pre>"
      ],
      "text/plain": [
       "| 3140      | 22.93s        | 2.70369e+06    | 0               |"
      ]
     },
     "metadata": {},
     "output_type": "display_data"
    },
    {
     "data": {
      "text/html": [
       "<pre>| 3150      | 23.00s        | 2.62379e+06    | 0               |</pre>"
      ],
      "text/plain": [
       "| 3150      | 23.00s        | 2.62379e+06    | 0               |"
      ]
     },
     "metadata": {},
     "output_type": "display_data"
    },
    {
     "data": {
      "text/html": [
       "<pre>| 3160      | 23.08s        | 2.62942e+06    | 0               |</pre>"
      ],
      "text/plain": [
       "| 3160      | 23.08s        | 2.62942e+06    | 0               |"
      ]
     },
     "metadata": {},
     "output_type": "display_data"
    },
    {
     "data": {
      "text/html": [
       "<pre>| 3170      | 23.15s        | 2.25651e+06    | 0               |</pre>"
      ],
      "text/plain": [
       "| 3170      | 23.15s        | 2.25651e+06    | 0               |"
      ]
     },
     "metadata": {},
     "output_type": "display_data"
    },
    {
     "data": {
      "text/html": [
       "<pre>| 3180      | 23.23s        | 2.35996e+06    | 0               |</pre>"
      ],
      "text/plain": [
       "| 3180      | 23.23s        | 2.35996e+06    | 0               |"
      ]
     },
     "metadata": {},
     "output_type": "display_data"
    },
    {
     "data": {
      "text/html": [
       "<pre>| 3190      | 23.30s        | 3.35408e+06    | 0               |</pre>"
      ],
      "text/plain": [
       "| 3190      | 23.30s        | 3.35408e+06    | 0               |"
      ]
     },
     "metadata": {},
     "output_type": "display_data"
    },
    {
     "data": {
      "text/html": [
       "<pre>| 3200      | 23.37s        | 2.45978e+06    | 0               |</pre>"
      ],
      "text/plain": [
       "| 3200      | 23.37s        | 2.45978e+06    | 0               |"
      ]
     },
     "metadata": {},
     "output_type": "display_data"
    },
    {
     "data": {
      "text/html": [
       "<pre>| 3210      | 23.45s        | 2.81209e+06    | 0               |</pre>"
      ],
      "text/plain": [
       "| 3210      | 23.45s        | 2.81209e+06    | 0               |"
      ]
     },
     "metadata": {},
     "output_type": "display_data"
    },
    {
     "data": {
      "text/html": [
       "<pre>| 3220      | 23.51s        | 2.49552e+06    | 0               |</pre>"
      ],
      "text/plain": [
       "| 3220      | 23.51s        | 2.49552e+06    | 0               |"
      ]
     },
     "metadata": {},
     "output_type": "display_data"
    },
    {
     "data": {
      "text/html": [
       "<pre>| 3230      | 23.58s        | 2.44473e+06    | 0               |</pre>"
      ],
      "text/plain": [
       "| 3230      | 23.58s        | 2.44473e+06    | 0               |"
      ]
     },
     "metadata": {},
     "output_type": "display_data"
    },
    {
     "data": {
      "text/html": [
       "<pre>| 3240      | 23.65s        | 3.33824e+06    | 0               |</pre>"
      ],
      "text/plain": [
       "| 3240      | 23.65s        | 3.33824e+06    | 0               |"
      ]
     },
     "metadata": {},
     "output_type": "display_data"
    },
    {
     "data": {
      "text/html": [
       "<pre>| 3250      | 23.72s        | 2.57201e+06    | 0               |</pre>"
      ],
      "text/plain": [
       "| 3250      | 23.72s        | 2.57201e+06    | 0               |"
      ]
     },
     "metadata": {},
     "output_type": "display_data"
    },
    {
     "data": {
      "text/html": [
       "<pre>| 3260      | 23.79s        | 2.68748e+06    | 0               |</pre>"
      ],
      "text/plain": [
       "| 3260      | 23.79s        | 2.68748e+06    | 0               |"
      ]
     },
     "metadata": {},
     "output_type": "display_data"
    },
    {
     "data": {
      "text/html": [
       "<pre>| 3270      | 23.87s        | 2.68238e+06    | 0               |</pre>"
      ],
      "text/plain": [
       "| 3270      | 23.87s        | 2.68238e+06    | 0               |"
      ]
     },
     "metadata": {},
     "output_type": "display_data"
    },
    {
     "data": {
      "text/html": [
       "<pre>| 3280      | 23.94s        | 2.62529e+06    | 0               |</pre>"
      ],
      "text/plain": [
       "| 3280      | 23.94s        | 2.62529e+06    | 0               |"
      ]
     },
     "metadata": {},
     "output_type": "display_data"
    },
    {
     "data": {
      "text/html": [
       "<pre>| 3290      | 24.01s        | 2.54705e+06    | 0               |</pre>"
      ],
      "text/plain": [
       "| 3290      | 24.01s        | 2.54705e+06    | 0               |"
      ]
     },
     "metadata": {},
     "output_type": "display_data"
    },
    {
     "data": {
      "text/html": [
       "<pre>| 3300      | 24.09s        | 2.64265e+06    | 0               |</pre>"
      ],
      "text/plain": [
       "| 3300      | 24.09s        | 2.64265e+06    | 0               |"
      ]
     },
     "metadata": {},
     "output_type": "display_data"
    },
    {
     "data": {
      "text/html": [
       "<pre>| 3310      | 24.16s        | 2.5814e+06     | 0               |</pre>"
      ],
      "text/plain": [
       "| 3310      | 24.16s        | 2.5814e+06     | 0               |"
      ]
     },
     "metadata": {},
     "output_type": "display_data"
    },
    {
     "data": {
      "text/html": [
       "<pre>| 3320      | 24.23s        | 2.36604e+06    | 0               |</pre>"
      ],
      "text/plain": [
       "| 3320      | 24.23s        | 2.36604e+06    | 0               |"
      ]
     },
     "metadata": {},
     "output_type": "display_data"
    },
    {
     "data": {
      "text/html": [
       "<pre>| 3330      | 24.31s        | 2.59416e+06    | 0               |</pre>"
      ],
      "text/plain": [
       "| 3330      | 24.31s        | 2.59416e+06    | 0               |"
      ]
     },
     "metadata": {},
     "output_type": "display_data"
    },
    {
     "data": {
      "text/html": [
       "<pre>| 3340      | 24.38s        | 2.33685e+06    | 0               |</pre>"
      ],
      "text/plain": [
       "| 3340      | 24.38s        | 2.33685e+06    | 0               |"
      ]
     },
     "metadata": {},
     "output_type": "display_data"
    },
    {
     "data": {
      "text/html": [
       "<pre>| 3350      | 24.45s        | 2.57995e+06    | 0               |</pre>"
      ],
      "text/plain": [
       "| 3350      | 24.45s        | 2.57995e+06    | 0               |"
      ]
     },
     "metadata": {},
     "output_type": "display_data"
    },
    {
     "data": {
      "text/html": [
       "<pre>| 3360      | 24.53s        | 2.59269e+06    | 0               |</pre>"
      ],
      "text/plain": [
       "| 3360      | 24.53s        | 2.59269e+06    | 0               |"
      ]
     },
     "metadata": {},
     "output_type": "display_data"
    },
    {
     "data": {
      "text/html": [
       "<pre>| 3370      | 24.60s        | 2.66025e+06    | 0               |</pre>"
      ],
      "text/plain": [
       "| 3370      | 24.60s        | 2.66025e+06    | 0               |"
      ]
     },
     "metadata": {},
     "output_type": "display_data"
    },
    {
     "data": {
      "text/html": [
       "<pre>| 3380      | 24.67s        | 2.52918e+06    | 0               |</pre>"
      ],
      "text/plain": [
       "| 3380      | 24.67s        | 2.52918e+06    | 0               |"
      ]
     },
     "metadata": {},
     "output_type": "display_data"
    },
    {
     "data": {
      "text/html": [
       "<pre>| 3390      | 24.74s        | 2.62491e+06    | 0               |</pre>"
      ],
      "text/plain": [
       "| 3390      | 24.74s        | 2.62491e+06    | 0               |"
      ]
     },
     "metadata": {},
     "output_type": "display_data"
    },
    {
     "data": {
      "text/html": [
       "<pre>| 3400      | 24.82s        | 2.57706e+06    | 0               |</pre>"
      ],
      "text/plain": [
       "| 3400      | 24.82s        | 2.57706e+06    | 0               |"
      ]
     },
     "metadata": {},
     "output_type": "display_data"
    },
    {
     "data": {
      "text/html": [
       "<pre>| 3410      | 24.90s        | 2.56913e+06    | 0               |</pre>"
      ],
      "text/plain": [
       "| 3410      | 24.90s        | 2.56913e+06    | 0               |"
      ]
     },
     "metadata": {},
     "output_type": "display_data"
    },
    {
     "data": {
      "text/html": [
       "<pre>| 3420      | 24.97s        | 2.68082e+06    | 0               |</pre>"
      ],
      "text/plain": [
       "| 3420      | 24.97s        | 2.68082e+06    | 0               |"
      ]
     },
     "metadata": {},
     "output_type": "display_data"
    },
    {
     "data": {
      "text/html": [
       "<pre>| 3430      | 25.04s        | 3.48842e+06    | 0               |</pre>"
      ],
      "text/plain": [
       "| 3430      | 25.04s        | 3.48842e+06    | 0               |"
      ]
     },
     "metadata": {},
     "output_type": "display_data"
    },
    {
     "data": {
      "text/html": [
       "<pre>| 3440      | 25.11s        | 2.53861e+06    | 0               |</pre>"
      ],
      "text/plain": [
       "| 3440      | 25.11s        | 2.53861e+06    | 0               |"
      ]
     },
     "metadata": {},
     "output_type": "display_data"
    },
    {
     "data": {
      "text/html": [
       "<pre>| 3450      | 25.18s        | 2.69576e+06    | 0               |</pre>"
      ],
      "text/plain": [
       "| 3450      | 25.18s        | 2.69576e+06    | 0               |"
      ]
     },
     "metadata": {},
     "output_type": "display_data"
    },
    {
     "data": {
      "text/html": [
       "<pre>| 3460      | 25.25s        | 2.52327e+06    | 0               |</pre>"
      ],
      "text/plain": [
       "| 3460      | 25.25s        | 2.52327e+06    | 0               |"
      ]
     },
     "metadata": {},
     "output_type": "display_data"
    },
    {
     "data": {
      "text/html": [
       "<pre>| 3470      | 25.33s        | 2.53231e+06    | 0               |</pre>"
      ],
      "text/plain": [
       "| 3470      | 25.33s        | 2.53231e+06    | 0               |"
      ]
     },
     "metadata": {},
     "output_type": "display_data"
    },
    {
     "data": {
      "text/html": [
       "<pre>| 3480      | 25.40s        | 2.546e+06      | 0               |</pre>"
      ],
      "text/plain": [
       "| 3480      | 25.40s        | 2.546e+06      | 0               |"
      ]
     },
     "metadata": {},
     "output_type": "display_data"
    },
    {
     "data": {
      "text/html": [
       "<pre>| 3490      | 25.47s        | 2.5264e+06     | 0               |</pre>"
      ],
      "text/plain": [
       "| 3490      | 25.47s        | 2.5264e+06     | 0               |"
      ]
     },
     "metadata": {},
     "output_type": "display_data"
    },
    {
     "data": {
      "text/html": [
       "<pre>| 3500      | 25.54s        | 2.62229e+06    | 0               |</pre>"
      ],
      "text/plain": [
       "| 3500      | 25.54s        | 2.62229e+06    | 0               |"
      ]
     },
     "metadata": {},
     "output_type": "display_data"
    },
    {
     "data": {
      "text/html": [
       "<pre>| 3510      | 25.62s        | 2.61074e+06    | 0               |</pre>"
      ],
      "text/plain": [
       "| 3510      | 25.62s        | 2.61074e+06    | 0               |"
      ]
     },
     "metadata": {},
     "output_type": "display_data"
    },
    {
     "data": {
      "text/html": [
       "<pre>| 3520      | 25.69s        | 2.47802e+06    | 0               |</pre>"
      ],
      "text/plain": [
       "| 3520      | 25.69s        | 2.47802e+06    | 0               |"
      ]
     },
     "metadata": {},
     "output_type": "display_data"
    },
    {
     "data": {
      "text/html": [
       "<pre>| 3530      | 25.76s        | 2.50504e+06    | 0               |</pre>"
      ],
      "text/plain": [
       "| 3530      | 25.76s        | 2.50504e+06    | 0               |"
      ]
     },
     "metadata": {},
     "output_type": "display_data"
    },
    {
     "data": {
      "text/html": [
       "<pre>| 3540      | 25.83s        | 2.40663e+06    | 0               |</pre>"
      ],
      "text/plain": [
       "| 3540      | 25.83s        | 2.40663e+06    | 0               |"
      ]
     },
     "metadata": {},
     "output_type": "display_data"
    },
    {
     "data": {
      "text/html": [
       "<pre>| 3550      | 25.90s        | 4.7807e+06     | 0               |</pre>"
      ],
      "text/plain": [
       "| 3550      | 25.90s        | 4.7807e+06     | 0               |"
      ]
     },
     "metadata": {},
     "output_type": "display_data"
    },
    {
     "data": {
      "text/html": [
       "<pre>| 3560      | 25.96s        | 2.67263e+06    | 0               |</pre>"
      ],
      "text/plain": [
       "| 3560      | 25.96s        | 2.67263e+06    | 0               |"
      ]
     },
     "metadata": {},
     "output_type": "display_data"
    },
    {
     "data": {
      "text/html": [
       "<pre>| 3570      | 26.02s        | 3.8852e+06     | 0               |</pre>"
      ],
      "text/plain": [
       "| 3570      | 26.02s        | 3.8852e+06     | 0               |"
      ]
     },
     "metadata": {},
     "output_type": "display_data"
    },
    {
     "data": {
      "text/html": [
       "<pre>| 3580      | 26.08s        | 2.37123e+06    | 0               |</pre>"
      ],
      "text/plain": [
       "| 3580      | 26.08s        | 2.37123e+06    | 0               |"
      ]
     },
     "metadata": {},
     "output_type": "display_data"
    },
    {
     "data": {
      "text/html": [
       "<pre>| 3590      | 26.15s        | 2.83377e+06    | 0               |</pre>"
      ],
      "text/plain": [
       "| 3590      | 26.15s        | 2.83377e+06    | 0               |"
      ]
     },
     "metadata": {},
     "output_type": "display_data"
    },
    {
     "data": {
      "text/html": [
       "<pre>| 3600      | 26.22s        | 3.18658e+06    | 0               |</pre>"
      ],
      "text/plain": [
       "| 3600      | 26.22s        | 3.18658e+06    | 0               |"
      ]
     },
     "metadata": {},
     "output_type": "display_data"
    },
    {
     "data": {
      "text/html": [
       "<pre>| 3610      | 26.29s        | 2.98764e+06    | 0               |</pre>"
      ],
      "text/plain": [
       "| 3610      | 26.29s        | 2.98764e+06    | 0               |"
      ]
     },
     "metadata": {},
     "output_type": "display_data"
    },
    {
     "data": {
      "text/html": [
       "<pre>| 3620      | 26.36s        | 3.36575e+06    | 0               |</pre>"
      ],
      "text/plain": [
       "| 3620      | 26.36s        | 3.36575e+06    | 0               |"
      ]
     },
     "metadata": {},
     "output_type": "display_data"
    },
    {
     "data": {
      "text/html": [
       "<pre>| 3630      | 26.44s        | 2.59452e+06    | 0               |</pre>"
      ],
      "text/plain": [
       "| 3630      | 26.44s        | 2.59452e+06    | 0               |"
      ]
     },
     "metadata": {},
     "output_type": "display_data"
    },
    {
     "data": {
      "text/html": [
       "<pre>| 3640      | 26.51s        | 2.55307e+06    | 0               |</pre>"
      ],
      "text/plain": [
       "| 3640      | 26.51s        | 2.55307e+06    | 0               |"
      ]
     },
     "metadata": {},
     "output_type": "display_data"
    },
    {
     "data": {
      "text/html": [
       "<pre>| 3650      | 26.58s        | 2.72091e+06    | 0               |</pre>"
      ],
      "text/plain": [
       "| 3650      | 26.58s        | 2.72091e+06    | 0               |"
      ]
     },
     "metadata": {},
     "output_type": "display_data"
    },
    {
     "data": {
      "text/html": [
       "<pre>| 3660      | 26.65s        | 2.41994e+06    | 0               |</pre>"
      ],
      "text/plain": [
       "| 3660      | 26.65s        | 2.41994e+06    | 0               |"
      ]
     },
     "metadata": {},
     "output_type": "display_data"
    },
    {
     "data": {
      "text/html": [
       "<pre>| 3670      | 26.72s        | 2.56555e+06    | 0               |</pre>"
      ],
      "text/plain": [
       "| 3670      | 26.72s        | 2.56555e+06    | 0               |"
      ]
     },
     "metadata": {},
     "output_type": "display_data"
    },
    {
     "data": {
      "text/html": [
       "<pre>| 3680      | 26.79s        | 3.86803e+06    | 0               |</pre>"
      ],
      "text/plain": [
       "| 3680      | 26.79s        | 3.86803e+06    | 0               |"
      ]
     },
     "metadata": {},
     "output_type": "display_data"
    },
    {
     "data": {
      "text/html": [
       "<pre>| 3690      | 26.86s        | 2.62005e+06    | 0               |</pre>"
      ],
      "text/plain": [
       "| 3690      | 26.86s        | 2.62005e+06    | 0               |"
      ]
     },
     "metadata": {},
     "output_type": "display_data"
    },
    {
     "data": {
      "text/html": [
       "<pre>| 3700      | 26.93s        | 2.38631e+06    | 0               |</pre>"
      ],
      "text/plain": [
       "| 3700      | 26.93s        | 2.38631e+06    | 0               |"
      ]
     },
     "metadata": {},
     "output_type": "display_data"
    },
    {
     "data": {
      "text/html": [
       "<pre>| 3710      | 27.00s        | 2.64455e+06    | 0               |</pre>"
      ],
      "text/plain": [
       "| 3710      | 27.00s        | 2.64455e+06    | 0               |"
      ]
     },
     "metadata": {},
     "output_type": "display_data"
    },
    {
     "data": {
      "text/html": [
       "<pre>| 3720      | 27.07s        | 2.56555e+06    | 0               |</pre>"
      ],
      "text/plain": [
       "| 3720      | 27.07s        | 2.56555e+06    | 0               |"
      ]
     },
     "metadata": {},
     "output_type": "display_data"
    },
    {
     "data": {
      "text/html": [
       "<pre>| 3730      | 27.15s        | 2.64341e+06    | 0               |</pre>"
      ],
      "text/plain": [
       "| 3730      | 27.15s        | 2.64341e+06    | 0               |"
      ]
     },
     "metadata": {},
     "output_type": "display_data"
    },
    {
     "data": {
      "text/html": [
       "<pre>| 3740      | 27.22s        | 2.6476e+06     | 0               |</pre>"
      ],
      "text/plain": [
       "| 3740      | 27.22s        | 2.6476e+06     | 0               |"
      ]
     },
     "metadata": {},
     "output_type": "display_data"
    },
    {
     "data": {
      "text/html": [
       "<pre>| 3750      | 27.29s        | 2.60371e+06    | 0               |</pre>"
      ],
      "text/plain": [
       "| 3750      | 27.29s        | 2.60371e+06    | 0               |"
      ]
     },
     "metadata": {},
     "output_type": "display_data"
    },
    {
     "data": {
      "text/html": [
       "<pre>| 3760      | 27.37s        | 2.62266e+06    | 0               |</pre>"
      ],
      "text/plain": [
       "| 3760      | 27.37s        | 2.62266e+06    | 0               |"
      ]
     },
     "metadata": {},
     "output_type": "display_data"
    },
    {
     "data": {
      "text/html": [
       "<pre>| 3770      | 27.45s        | 2.63848e+06    | 0               |</pre>"
      ],
      "text/plain": [
       "| 3770      | 27.45s        | 2.63848e+06    | 0               |"
      ]
     },
     "metadata": {},
     "output_type": "display_data"
    },
    {
     "data": {
      "text/html": [
       "<pre>| 3780      | 27.52s        | 2.50061e+06    | 0               |</pre>"
      ],
      "text/plain": [
       "| 3780      | 27.52s        | 2.50061e+06    | 0               |"
      ]
     },
     "metadata": {},
     "output_type": "display_data"
    },
    {
     "data": {
      "text/html": [
       "<pre>| 3790      | 27.60s        | 2.50504e+06    | 0               |</pre>"
      ],
      "text/plain": [
       "| 3790      | 27.60s        | 2.50504e+06    | 0               |"
      ]
     },
     "metadata": {},
     "output_type": "display_data"
    },
    {
     "data": {
      "text/html": [
       "<pre>| 3800      | 27.67s        | 2.57887e+06    | 0               |</pre>"
      ],
      "text/plain": [
       "| 3800      | 27.67s        | 2.57887e+06    | 0               |"
      ]
     },
     "metadata": {},
     "output_type": "display_data"
    },
    {
     "data": {
      "text/html": [
       "<pre>| 3810      | 27.74s        | 2.62867e+06    | 0               |</pre>"
      ],
      "text/plain": [
       "| 3810      | 27.74s        | 2.62867e+06    | 0               |"
      ]
     },
     "metadata": {},
     "output_type": "display_data"
    },
    {
     "data": {
      "text/html": [
       "<pre>| 3820      | 27.82s        | 2.40474e+06    | 0               |</pre>"
      ],
      "text/plain": [
       "| 3820      | 27.82s        | 2.40474e+06    | 0               |"
      ]
     },
     "metadata": {},
     "output_type": "display_data"
    },
    {
     "data": {
      "text/html": [
       "<pre>| 3830      | 27.89s        | 2.6738e+06     | 0               |</pre>"
      ],
      "text/plain": [
       "| 3830      | 27.89s        | 2.6738e+06     | 0               |"
      ]
     },
     "metadata": {},
     "output_type": "display_data"
    },
    {
     "data": {
      "text/html": [
       "<pre>| 3840      | 27.96s        | 2.51947e+06    | 0               |</pre>"
      ],
      "text/plain": [
       "| 3840      | 27.96s        | 2.51947e+06    | 0               |"
      ]
     },
     "metadata": {},
     "output_type": "display_data"
    },
    {
     "data": {
      "text/html": [
       "<pre>| 3850      | 28.03s        | 2.27664e+06    | 0               |</pre>"
      ],
      "text/plain": [
       "| 3850      | 28.03s        | 2.27664e+06    | 0               |"
      ]
     },
     "metadata": {},
     "output_type": "display_data"
    },
    {
     "data": {
      "text/html": [
       "<pre>| 3860      | 28.11s        | 2.42377e+06    | 0               |</pre>"
      ],
      "text/plain": [
       "| 3860      | 28.11s        | 2.42377e+06    | 0               |"
      ]
     },
     "metadata": {},
     "output_type": "display_data"
    },
    {
     "data": {
      "text/html": [
       "<pre>| 3870      | 28.18s        | 2.47502e+06    | 0               |</pre>"
      ],
      "text/plain": [
       "| 3870      | 28.18s        | 2.47502e+06    | 0               |"
      ]
     },
     "metadata": {},
     "output_type": "display_data"
    },
    {
     "data": {
      "text/html": [
       "<pre>| 3880      | 28.26s        | 2.5174e+06     | 0               |</pre>"
      ],
      "text/plain": [
       "| 3880      | 28.26s        | 2.5174e+06     | 0               |"
      ]
     },
     "metadata": {},
     "output_type": "display_data"
    },
    {
     "data": {
      "text/html": [
       "<pre>| 3890      | 28.33s        | 2.51981e+06    | 0               |</pre>"
      ],
      "text/plain": [
       "| 3890      | 28.33s        | 2.51981e+06    | 0               |"
      ]
     },
     "metadata": {},
     "output_type": "display_data"
    },
    {
     "data": {
      "text/html": [
       "<pre>| 3900      | 28.40s        | 2.40442e+06    | 0               |</pre>"
      ],
      "text/plain": [
       "| 3900      | 28.40s        | 2.40442e+06    | 0               |"
      ]
     },
     "metadata": {},
     "output_type": "display_data"
    },
    {
     "data": {
      "text/html": [
       "<pre>| 3910      | 28.47s        | 2.53756e+06    | 0               |</pre>"
      ],
      "text/plain": [
       "| 3910      | 28.47s        | 2.53756e+06    | 0               |"
      ]
     },
     "metadata": {},
     "output_type": "display_data"
    },
    {
     "data": {
      "text/html": [
       "<pre>| 3920      | 28.54s        | 4.91101e+06    | 0               |</pre>"
      ],
      "text/plain": [
       "| 3920      | 28.54s        | 4.91101e+06    | 0               |"
      ]
     },
     "metadata": {},
     "output_type": "display_data"
    },
    {
     "data": {
      "text/html": [
       "<pre>| 3930      | 28.61s        | 2.57093e+06    | 0               |</pre>"
      ],
      "text/plain": [
       "| 3930      | 28.61s        | 2.57093e+06    | 0               |"
      ]
     },
     "metadata": {},
     "output_type": "display_data"
    },
    {
     "data": {
      "text/html": [
       "<pre>| 3940      | 28.68s        | 2.58176e+06    | 0               |</pre>"
      ],
      "text/plain": [
       "| 3940      | 28.68s        | 2.58176e+06    | 0               |"
      ]
     },
     "metadata": {},
     "output_type": "display_data"
    },
    {
     "data": {
      "text/html": [
       "<pre>| 3950      | 28.75s        | 2.58358e+06    | 0               |</pre>"
      ],
      "text/plain": [
       "| 3950      | 28.75s        | 2.58358e+06    | 0               |"
      ]
     },
     "metadata": {},
     "output_type": "display_data"
    },
    {
     "data": {
      "text/html": [
       "<pre>| 3960      | 28.82s        | 2.64379e+06    | 0               |</pre>"
      ],
      "text/plain": [
       "| 3960      | 28.82s        | 2.64379e+06    | 0               |"
      ]
     },
     "metadata": {},
     "output_type": "display_data"
    },
    {
     "data": {
      "text/html": [
       "<pre>| 3970      | 28.90s        | 2.60482e+06    | 0               |</pre>"
      ],
      "text/plain": [
       "| 3970      | 28.90s        | 2.60482e+06    | 0               |"
      ]
     },
     "metadata": {},
     "output_type": "display_data"
    },
    {
     "data": {
      "text/html": [
       "<pre>| 3980      | 28.97s        | 2.55484e+06    | 0               |</pre>"
      ],
      "text/plain": [
       "| 3980      | 28.97s        | 2.55484e+06    | 0               |"
      ]
     },
     "metadata": {},
     "output_type": "display_data"
    },
    {
     "data": {
      "text/html": [
       "<pre>| 3990      | 29.04s        | 2.6193e+06     | 0               |</pre>"
      ],
      "text/plain": [
       "| 3990      | 29.04s        | 2.6193e+06     | 0               |"
      ]
     },
     "metadata": {},
     "output_type": "display_data"
    },
    {
     "data": {
      "text/html": [
       "<pre>| 4000      | 29.11s        | 2.56483e+06    | 0               |</pre>"
      ],
      "text/plain": [
       "| 4000      | 29.11s        | 2.56483e+06    | 0               |"
      ]
     },
     "metadata": {},
     "output_type": "display_data"
    },
    {
     "data": {
      "text/html": [
       "<pre>| 4010      | 29.18s        | 2.57093e+06    | 0               |</pre>"
      ],
      "text/plain": [
       "| 4010      | 29.18s        | 2.57093e+06    | 0               |"
      ]
     },
     "metadata": {},
     "output_type": "display_data"
    },
    {
     "data": {
      "text/html": [
       "<pre>| 4020      | 29.26s        | 2.56304e+06    | 0               |</pre>"
      ],
      "text/plain": [
       "| 4020      | 29.26s        | 2.56304e+06    | 0               |"
      ]
     },
     "metadata": {},
     "output_type": "display_data"
    },
    {
     "data": {
      "text/html": [
       "<pre>| 4030      | 29.33s        | 2.68905e+06    | 0               |</pre>"
      ],
      "text/plain": [
       "| 4030      | 29.33s        | 2.68905e+06    | 0               |"
      ]
     },
     "metadata": {},
     "output_type": "display_data"
    },
    {
     "data": {
      "text/html": [
       "<pre>| 4040      | 29.40s        | 2.54529e+06    | 0               |</pre>"
      ],
      "text/plain": [
       "| 4040      | 29.40s        | 2.54529e+06    | 0               |"
      ]
     },
     "metadata": {},
     "output_type": "display_data"
    },
    {
     "data": {
      "text/html": [
       "<pre>| 4050      | 29.47s        | 2.59013e+06    | 0               |</pre>"
      ],
      "text/plain": [
       "| 4050      | 29.47s        | 2.59013e+06    | 0               |"
      ]
     },
     "metadata": {},
     "output_type": "display_data"
    },
    {
     "data": {
      "text/html": [
       "<pre>| 4060      | 29.54s        | 2.59159e+06    | 0               |</pre>"
      ],
      "text/plain": [
       "| 4060      | 29.54s        | 2.59159e+06    | 0               |"
      ]
     },
     "metadata": {},
     "output_type": "display_data"
    },
    {
     "data": {
      "text/html": [
       "<pre>| 4070      | 29.61s        | 2.59782e+06    | 0               |</pre>"
      ],
      "text/plain": [
       "| 4070      | 29.61s        | 2.59782e+06    | 0               |"
      ]
     },
     "metadata": {},
     "output_type": "display_data"
    },
    {
     "data": {
      "text/html": [
       "<pre>| 4080      | 29.69s        | 2.68827e+06    | 0               |</pre>"
      ],
      "text/plain": [
       "| 4080      | 29.69s        | 2.68827e+06    | 0               |"
      ]
     },
     "metadata": {},
     "output_type": "display_data"
    },
    {
     "data": {
      "text/html": [
       "<pre>| 4090      | 29.76s        | 2.5659e+06     | 0               |</pre>"
      ],
      "text/plain": [
       "| 4090      | 29.76s        | 2.5659e+06     | 0               |"
      ]
     },
     "metadata": {},
     "output_type": "display_data"
    },
    {
     "data": {
      "text/html": [
       "<pre>| 4100      | 29.83s        | 2.66025e+06    | 0               |</pre>"
      ],
      "text/plain": [
       "| 4100      | 29.83s        | 2.66025e+06    | 0               |"
      ]
     },
     "metadata": {},
     "output_type": "display_data"
    },
    {
     "data": {
      "text/html": [
       "<pre>| 4110      | 29.90s        | 2.69932e+06    | 0               |</pre>"
      ],
      "text/plain": [
       "| 4110      | 29.90s        | 2.69932e+06    | 0               |"
      ]
     },
     "metadata": {},
     "output_type": "display_data"
    },
    {
     "data": {
      "text/html": [
       "<pre>| 4120      | 29.97s        | 2.62529e+06    | 0               |</pre>"
      ],
      "text/plain": [
       "| 4120      | 29.97s        | 2.62529e+06    | 0               |"
      ]
     },
     "metadata": {},
     "output_type": "display_data"
    },
    {
     "data": {
      "text/html": [
       "<pre>| 4130      | 30.05s        | 2.62791e+06    | 0               |</pre>"
      ],
      "text/plain": [
       "| 4130      | 30.05s        | 2.62791e+06    | 0               |"
      ]
     },
     "metadata": {},
     "output_type": "display_data"
    },
    {
     "data": {
      "text/html": [
       "<pre>| 4140      | 30.12s        | 2.63659e+06    | 0               |</pre>"
      ],
      "text/plain": [
       "| 4140      | 30.12s        | 2.63659e+06    | 0               |"
      ]
     },
     "metadata": {},
     "output_type": "display_data"
    },
    {
     "data": {
      "text/html": [
       "<pre>| 4150      | 30.19s        | 2.62416e+06    | 0               |</pre>"
      ],
      "text/plain": [
       "| 4150      | 30.19s        | 2.62416e+06    | 0               |"
      ]
     },
     "metadata": {},
     "output_type": "display_data"
    },
    {
     "data": {
      "text/html": [
       "<pre>| 4160      | 30.26s        | 2.63394e+06    | 0               |</pre>"
      ],
      "text/plain": [
       "| 4160      | 30.26s        | 2.63394e+06    | 0               |"
      ]
     },
     "metadata": {},
     "output_type": "display_data"
    },
    {
     "data": {
      "text/html": [
       "<pre>| 4170      | 30.34s        | 2.47169e+06    | 0               |</pre>"
      ],
      "text/plain": [
       "| 4170      | 30.34s        | 2.47169e+06    | 0               |"
      ]
     },
     "metadata": {},
     "output_type": "display_data"
    },
    {
     "data": {
      "text/html": [
       "<pre>| 4180      | 30.41s        | 2.52918e+06    | 0               |</pre>"
      ],
      "text/plain": [
       "| 4180      | 30.41s        | 2.52918e+06    | 0               |"
      ]
     },
     "metadata": {},
     "output_type": "display_data"
    },
    {
     "data": {
      "text/html": [
       "<pre>| 4190      | 30.48s        | 2.4962e+06     | 0               |</pre>"
      ],
      "text/plain": [
       "| 4190      | 30.48s        | 2.4962e+06     | 0               |"
      ]
     },
     "metadata": {},
     "output_type": "display_data"
    },
    {
     "data": {
      "text/html": [
       "<pre>| 4200      | 30.55s        | 2.60076e+06    | 0               |</pre>"
      ],
      "text/plain": [
       "| 4200      | 30.55s        | 2.60076e+06    | 0               |"
      ]
     },
     "metadata": {},
     "output_type": "display_data"
    },
    {
     "data": {
      "text/html": [
       "<pre>| 4210      | 30.63s        | 2.72131e+06    | 0               |</pre>"
      ],
      "text/plain": [
       "| 4210      | 30.63s        | 2.72131e+06    | 0               |"
      ]
     },
     "metadata": {},
     "output_type": "display_data"
    },
    {
     "data": {
      "text/html": [
       "<pre>| 4220      | 30.70s        | 2.60445e+06    | 0               |</pre>"
      ],
      "text/plain": [
       "| 4220      | 30.70s        | 2.60445e+06    | 0               |"
      ]
     },
     "metadata": {},
     "output_type": "display_data"
    },
    {
     "data": {
      "text/html": [
       "<pre>| 4230      | 30.77s        | 2.48809e+06    | 0               |</pre>"
      ],
      "text/plain": [
       "| 4230      | 30.77s        | 2.48809e+06    | 0               |"
      ]
     },
     "metadata": {},
     "output_type": "display_data"
    },
    {
     "data": {
      "text/html": [
       "<pre>| 4240      | 30.84s        | 2.64836e+06    | 0               |</pre>"
      ],
      "text/plain": [
       "| 4240      | 30.84s        | 2.64836e+06    | 0               |"
      ]
     },
     "metadata": {},
     "output_type": "display_data"
    },
    {
     "data": {
      "text/html": [
       "<pre>| 4250      | 30.91s        | 3.01559e+06    | 0               |</pre>"
      ],
      "text/plain": [
       "| 4250      | 30.91s        | 3.01559e+06    | 0               |"
      ]
     },
     "metadata": {},
     "output_type": "display_data"
    },
    {
     "data": {
      "text/html": [
       "<pre>| 4260      | 30.99s        | 2.6738e+06     | 0               |</pre>"
      ],
      "text/plain": [
       "| 4260      | 30.99s        | 2.6738e+06     | 0               |"
      ]
     },
     "metadata": {},
     "output_type": "display_data"
    },
    {
     "data": {
      "text/html": [
       "<pre>| 4270      | 31.06s        | 2.64684e+06    | 0               |</pre>"
      ],
      "text/plain": [
       "| 4270      | 31.06s        | 2.64684e+06    | 0               |"
      ]
     },
     "metadata": {},
     "output_type": "display_data"
    },
    {
     "data": {
      "text/html": [
       "<pre>| 4280      | 31.13s        | 2.55627e+06    | 0               |</pre>"
      ],
      "text/plain": [
       "| 4280      | 31.13s        | 2.55627e+06    | 0               |"
      ]
     },
     "metadata": {},
     "output_type": "display_data"
    },
    {
     "data": {
      "text/html": [
       "<pre>| 4290      | 31.20s        | 2.64798e+06    | 0               |</pre>"
      ],
      "text/plain": [
       "| 4290      | 31.20s        | 2.64798e+06    | 0               |"
      ]
     },
     "metadata": {},
     "output_type": "display_data"
    },
    {
     "data": {
      "text/html": [
       "<pre>| 4300      | 31.28s        | 2.74981e+06    | 0               |</pre>"
      ],
      "text/plain": [
       "| 4300      | 31.28s        | 2.74981e+06    | 0               |"
      ]
     },
     "metadata": {},
     "output_type": "display_data"
    },
    {
     "data": {
      "text/html": [
       "<pre>| 4310      | 31.35s        | 2.55343e+06    | 0               |</pre>"
      ],
      "text/plain": [
       "| 4310      | 31.35s        | 2.55343e+06    | 0               |"
      ]
     },
     "metadata": {},
     "output_type": "display_data"
    },
    {
     "data": {
      "text/html": [
       "<pre>| 4320      | 31.42s        | 2.51671e+06    | 0               |</pre>"
      ],
      "text/plain": [
       "| 4320      | 31.42s        | 2.51671e+06    | 0               |"
      ]
     },
     "metadata": {},
     "output_type": "display_data"
    },
    {
     "data": {
      "text/html": [
       "<pre>| 4330      | 31.49s        | 2.54705e+06    | 0               |</pre>"
      ],
      "text/plain": [
       "| 4330      | 31.49s        | 2.54705e+06    | 0               |"
      ]
     },
     "metadata": {},
     "output_type": "display_data"
    },
    {
     "data": {
      "text/html": [
       "<pre>| 4340      | 31.56s        | 2.61781e+06    | 0               |</pre>"
      ],
      "text/plain": [
       "| 4340      | 31.56s        | 2.61781e+06    | 0               |"
      ]
     },
     "metadata": {},
     "output_type": "display_data"
    },
    {
     "data": {
      "text/html": [
       "<pre>| 4350      | 31.64s        | 2.6738e+06     | 0               |</pre>"
      ],
      "text/plain": [
       "| 4350      | 31.64s        | 2.6738e+06     | 0               |"
      ]
     },
     "metadata": {},
     "output_type": "display_data"
    },
    {
     "data": {
      "text/html": [
       "<pre>| 4360      | 31.71s        | 2.47402e+06    | 0               |</pre>"
      ],
      "text/plain": [
       "| 4360      | 31.71s        | 2.47402e+06    | 0               |"
      ]
     },
     "metadata": {},
     "output_type": "display_data"
    },
    {
     "data": {
      "text/html": [
       "<pre>| 4370      | 31.79s        | 2.62979e+06    | 0               |</pre>"
      ],
      "text/plain": [
       "| 4370      | 31.79s        | 2.62979e+06    | 0               |"
      ]
     },
     "metadata": {},
     "output_type": "display_data"
    },
    {
     "data": {
      "text/html": [
       "<pre>| 4380      | 31.86s        | 2.53057e+06    | 0               |</pre>"
      ],
      "text/plain": [
       "| 4380      | 31.86s        | 2.53057e+06    | 0               |"
      ]
     },
     "metadata": {},
     "output_type": "display_data"
    },
    {
     "data": {
      "text/html": [
       "<pre>| 4390      | 31.93s        | 2.46506e+06    | 0               |</pre>"
      ],
      "text/plain": [
       "| 4390      | 31.93s        | 2.46506e+06    | 0               |"
      ]
     },
     "metadata": {},
     "output_type": "display_data"
    },
    {
     "data": {
      "text/html": [
       "<pre>| 4400      | 32.01s        | 2.66952e+06    | 0               |</pre>"
      ],
      "text/plain": [
       "| 4400      | 32.01s        | 2.66952e+06    | 0               |"
      ]
     },
     "metadata": {},
     "output_type": "display_data"
    },
    {
     "data": {
      "text/html": [
       "<pre>| 4410      | 32.08s        | 2.65525e+06    | 0               |</pre>"
      ],
      "text/plain": [
       "| 4410      | 32.08s        | 2.65525e+06    | 0               |"
      ]
     },
     "metadata": {},
     "output_type": "display_data"
    },
    {
     "data": {
      "text/html": [
       "<pre>| 4420      | 32.15s        | 2.4817e+06     | 0               |</pre>"
      ],
      "text/plain": [
       "| 4420      | 32.15s        | 2.4817e+06     | 0               |"
      ]
     },
     "metadata": {},
     "output_type": "display_data"
    },
    {
     "data": {
      "text/html": [
       "<pre>| 4430      | 32.23s        | 2.69418e+06    | 0               |</pre>"
      ],
      "text/plain": [
       "| 4430      | 32.23s        | 2.69418e+06    | 0               |"
      ]
     },
     "metadata": {},
     "output_type": "display_data"
    },
    {
     "data": {
      "text/html": [
       "<pre>| 4440      | 32.30s        | 2.66218e+06    | 0               |</pre>"
      ],
      "text/plain": [
       "| 4440      | 32.30s        | 2.66218e+06    | 0               |"
      ]
     },
     "metadata": {},
     "output_type": "display_data"
    },
    {
     "data": {
      "text/html": [
       "<pre>| 4450      | 32.37s        | 2.65794e+06    | 0               |</pre>"
      ],
      "text/plain": [
       "| 4450      | 32.37s        | 2.65794e+06    | 0               |"
      ]
     },
     "metadata": {},
     "output_type": "display_data"
    },
    {
     "data": {
      "text/html": [
       "<pre>| 4460      | 32.45s        | 2.59893e+06    | 0               |</pre>"
      ],
      "text/plain": [
       "| 4460      | 32.45s        | 2.59893e+06    | 0               |"
      ]
     },
     "metadata": {},
     "output_type": "display_data"
    },
    {
     "data": {
      "text/html": [
       "<pre>| 4470      | 32.52s        | 2.66991e+06    | 0               |</pre>"
      ],
      "text/plain": [
       "| 4470      | 32.52s        | 2.66991e+06    | 0               |"
      ]
     },
     "metadata": {},
     "output_type": "display_data"
    },
    {
     "data": {
      "text/html": [
       "<pre>| 4480      | 32.59s        | 2.66604e+06    | 0               |</pre>"
      ],
      "text/plain": [
       "| 4480      | 32.59s        | 2.66604e+06    | 0               |"
      ]
     },
     "metadata": {},
     "output_type": "display_data"
    },
    {
     "data": {
      "text/html": [
       "<pre>| 4490      | 32.66s        | 2.56985e+06    | 0               |</pre>"
      ],
      "text/plain": [
       "| 4490      | 32.66s        | 2.56985e+06    | 0               |"
      ]
     },
     "metadata": {},
     "output_type": "display_data"
    },
    {
     "data": {
      "text/html": [
       "<pre>| 4500      | 32.73s        | 2.67419e+06    | 0               |</pre>"
      ],
      "text/plain": [
       "| 4500      | 32.73s        | 2.67419e+06    | 0               |"
      ]
     },
     "metadata": {},
     "output_type": "display_data"
    },
    {
     "data": {
      "text/html": [
       "<pre>| 4510      | 32.81s        | 2.6541e+06     | 0               |</pre>"
      ],
      "text/plain": [
       "| 4510      | 32.81s        | 2.6541e+06     | 0               |"
      ]
     },
     "metadata": {},
     "output_type": "display_data"
    },
    {
     "data": {
      "text/html": [
       "<pre>| 4520      | 32.88s        | 2.74079e+06    | 0               |</pre>"
      ],
      "text/plain": [
       "| 4520      | 32.88s        | 2.74079e+06    | 0               |"
      ]
     },
     "metadata": {},
     "output_type": "display_data"
    },
    {
     "data": {
      "text/html": [
       "<pre>| 4530      | 32.95s        | 2.69655e+06    | 0               |</pre>"
      ],
      "text/plain": [
       "| 4530      | 32.95s        | 2.69655e+06    | 0               |"
      ]
     },
     "metadata": {},
     "output_type": "display_data"
    },
    {
     "data": {
      "text/html": [
       "<pre>| 4540      | 33.02s        | 2.62979e+06    | 0               |</pre>"
      ],
      "text/plain": [
       "| 4540      | 33.02s        | 2.62979e+06    | 0               |"
      ]
     },
     "metadata": {},
     "output_type": "display_data"
    },
    {
     "data": {
      "text/html": [
       "<pre>| 4550      | 33.10s        | 2.54988e+06    | 0               |</pre>"
      ],
      "text/plain": [
       "| 4550      | 33.10s        | 2.54988e+06    | 0               |"
      ]
     },
     "metadata": {},
     "output_type": "display_data"
    },
    {
     "data": {
      "text/html": [
       "<pre>| 4560      | 33.17s        | 2.48204e+06    | 0               |</pre>"
      ],
      "text/plain": [
       "| 4560      | 33.17s        | 2.48204e+06    | 0               |"
      ]
     },
     "metadata": {},
     "output_type": "display_data"
    },
    {
     "data": {
      "text/html": [
       "<pre>| 4570      | 33.24s        | 2.32062e+06    | 0               |</pre>"
      ],
      "text/plain": [
       "| 4570      | 33.24s        | 2.32062e+06    | 0               |"
      ]
     },
     "metadata": {},
     "output_type": "display_data"
    },
    {
     "data": {
      "text/html": [
       "<pre>| 4580      | 33.32s        | 2.38538e+06    | 0               |</pre>"
      ],
      "text/plain": [
       "| 4580      | 33.32s        | 2.38538e+06    | 0               |"
      ]
     },
     "metadata": {},
     "output_type": "display_data"
    },
    {
     "data": {
      "text/html": [
       "<pre>| 4590      | 33.39s        | 2.38291e+06    | 0               |</pre>"
      ],
      "text/plain": [
       "| 4590      | 33.39s        | 2.38291e+06    | 0               |"
      ]
     },
     "metadata": {},
     "output_type": "display_data"
    },
    {
     "data": {
      "text/html": [
       "<pre>| 4600      | 33.47s        | 2.52674e+06    | 0               |</pre>"
      ],
      "text/plain": [
       "| 4600      | 33.47s        | 2.52674e+06    | 0               |"
      ]
     },
     "metadata": {},
     "output_type": "display_data"
    },
    {
     "data": {
      "text/html": [
       "<pre>| 4610      | 33.54s        | 2.79158e+06    | 0               |</pre>"
      ],
      "text/plain": [
       "| 4610      | 33.54s        | 2.79158e+06    | 0               |"
      ]
     },
     "metadata": {},
     "output_type": "display_data"
    },
    {
     "data": {
      "text/html": [
       "<pre>| 4620      | 33.61s        | 2.48539e+06    | 0               |</pre>"
      ],
      "text/plain": [
       "| 4620      | 33.61s        | 2.48539e+06    | 0               |"
      ]
     },
     "metadata": {},
     "output_type": "display_data"
    },
    {
     "data": {
      "text/html": [
       "<pre>| 4630      | 33.68s        | 2.56054e+06    | 0               |</pre>"
      ],
      "text/plain": [
       "| 4630      | 33.68s        | 2.56054e+06    | 0               |"
      ]
     },
     "metadata": {},
     "output_type": "display_data"
    },
    {
     "data": {
      "text/html": [
       "<pre>| 4640      | 33.75s        | 2.64646e+06    | 0               |</pre>"
      ],
      "text/plain": [
       "| 4640      | 33.75s        | 2.64646e+06    | 0               |"
      ]
     },
     "metadata": {},
     "output_type": "display_data"
    },
    {
     "data": {
      "text/html": [
       "<pre>| 4650      | 33.82s        | 2.54564e+06    | 0               |</pre>"
      ],
      "text/plain": [
       "| 4650      | 33.82s        | 2.54564e+06    | 0               |"
      ]
     },
     "metadata": {},
     "output_type": "display_data"
    },
    {
     "data": {
      "text/html": [
       "<pre>| 4660      | 33.90s        | 2.51052e+06    | 0               |</pre>"
      ],
      "text/plain": [
       "| 4660      | 33.90s        | 2.51052e+06    | 0               |"
      ]
     },
     "metadata": {},
     "output_type": "display_data"
    },
    {
     "data": {
      "text/html": [
       "<pre>| 4670      | 33.97s        | 2.61967e+06    | 0               |</pre>"
      ],
      "text/plain": [
       "| 4670      | 33.97s        | 2.61967e+06    | 0               |"
      ]
     },
     "metadata": {},
     "output_type": "display_data"
    },
    {
     "data": {
      "text/html": [
       "<pre>| 4680      | 34.04s        | 2.58685e+06    | 0               |</pre>"
      ],
      "text/plain": [
       "| 4680      | 34.04s        | 2.58685e+06    | 0               |"
      ]
     },
     "metadata": {},
     "output_type": "display_data"
    },
    {
     "data": {
      "text/html": [
       "<pre>| 4690      | 34.12s        | 2.56233e+06    | 0               |</pre>"
      ],
      "text/plain": [
       "| 4690      | 34.12s        | 2.56233e+06    | 0               |"
      ]
     },
     "metadata": {},
     "output_type": "display_data"
    },
    {
     "data": {
      "text/html": [
       "<pre>| 4700      | 34.19s        | 2.50949e+06    | 0               |</pre>"
      ],
      "text/plain": [
       "| 4700      | 34.19s        | 2.50949e+06    | 0               |"
      ]
     },
     "metadata": {},
     "output_type": "display_data"
    },
    {
     "data": {
      "text/html": [
       "<pre>| 4710      | 34.26s        | 2.4807e+06     | 0               |</pre>"
      ],
      "text/plain": [
       "| 4710      | 34.26s        | 2.4807e+06     | 0               |"
      ]
     },
     "metadata": {},
     "output_type": "display_data"
    },
    {
     "data": {
      "text/html": [
       "<pre>| 4720      | 34.34s        | 2.54705e+06    | 0               |</pre>"
      ],
      "text/plain": [
       "| 4720      | 34.34s        | 2.54705e+06    | 0               |"
      ]
     },
     "metadata": {},
     "output_type": "display_data"
    },
    {
     "data": {
      "text/html": [
       "<pre>| 4730      | 34.41s        | 2.54142e+06    | 0               |</pre>"
      ],
      "text/plain": [
       "| 4730      | 34.41s        | 2.54142e+06    | 0               |"
      ]
     },
     "metadata": {},
     "output_type": "display_data"
    },
    {
     "data": {
      "text/html": [
       "<pre>| 4740      | 34.48s        | 2.46804e+06    | 0               |</pre>"
      ],
      "text/plain": [
       "| 4740      | 34.48s        | 2.46804e+06    | 0               |"
      ]
     },
     "metadata": {},
     "output_type": "display_data"
    },
    {
     "data": {
      "text/html": [
       "<pre>| 4750      | 34.55s        | 2.49586e+06    | 0               |</pre>"
      ],
      "text/plain": [
       "| 4750      | 34.55s        | 2.49586e+06    | 0               |"
      ]
     },
     "metadata": {},
     "output_type": "display_data"
    },
    {
     "data": {
      "text/html": [
       "<pre>| 4760      | 34.63s        | 2.67652e+06    | 0               |</pre>"
      ],
      "text/plain": [
       "| 4760      | 34.63s        | 2.67652e+06    | 0               |"
      ]
     },
     "metadata": {},
     "output_type": "display_data"
    },
    {
     "data": {
      "text/html": [
       "<pre>| 4770      | 34.70s        | 2.55024e+06    | 0               |</pre>"
      ],
      "text/plain": [
       "| 4770      | 34.70s        | 2.55024e+06    | 0               |"
      ]
     },
     "metadata": {},
     "output_type": "display_data"
    },
    {
     "data": {
      "text/html": [
       "<pre>| 4780      | 34.77s        | 2.63017e+06    | 0               |</pre>"
      ],
      "text/plain": [
       "| 4780      | 34.77s        | 2.63017e+06    | 0               |"
      ]
     },
     "metadata": {},
     "output_type": "display_data"
    },
    {
     "data": {
      "text/html": [
       "<pre>| 4790      | 34.85s        | 2.5205e+06     | 0               |</pre>"
      ],
      "text/plain": [
       "| 4790      | 34.85s        | 2.5205e+06     | 0               |"
      ]
     },
     "metadata": {},
     "output_type": "display_data"
    },
    {
     "data": {
      "text/html": [
       "<pre>| 4800      | 34.92s        | 2.60113e+06    | 0               |</pre>"
      ],
      "text/plain": [
       "| 4800      | 34.92s        | 2.60113e+06    | 0               |"
      ]
     },
     "metadata": {},
     "output_type": "display_data"
    },
    {
     "data": {
      "text/html": [
       "<pre>| 4810      | 34.99s        | 2.5609e+06     | 0               |</pre>"
      ],
      "text/plain": [
       "| 4810      | 34.99s        | 2.5609e+06     | 0               |"
      ]
     },
     "metadata": {},
     "output_type": "display_data"
    },
    {
     "data": {
      "text/html": [
       "<pre>| 4820      | 35.07s        | 2.68238e+06    | 0               |</pre>"
      ],
      "text/plain": [
       "| 4820      | 35.07s        | 2.68238e+06    | 0               |"
      ]
     },
     "metadata": {},
     "output_type": "display_data"
    },
    {
     "data": {
      "text/html": [
       "<pre>| 4830      | 35.14s        | 2.55947e+06    | 0               |</pre>"
      ],
      "text/plain": [
       "| 4830      | 35.14s        | 2.55947e+06    | 0               |"
      ]
     },
     "metadata": {},
     "output_type": "display_data"
    },
    {
     "data": {
      "text/html": [
       "<pre>| 4840      | 35.21s        | 2.67535e+06    | 0               |</pre>"
      ],
      "text/plain": [
       "| 4840      | 35.21s        | 2.67535e+06    | 0               |"
      ]
     },
     "metadata": {},
     "output_type": "display_data"
    },
    {
     "data": {
      "text/html": [
       "<pre>| 4850      | 35.28s        | 2.62304e+06    | 0               |</pre>"
      ],
      "text/plain": [
       "| 4850      | 35.28s        | 2.62304e+06    | 0               |"
      ]
     },
     "metadata": {},
     "output_type": "display_data"
    },
    {
     "data": {
      "text/html": [
       "<pre>| 4860      | 35.36s        | 2.70887e+06    | 0               |</pre>"
      ],
      "text/plain": [
       "| 4860      | 35.36s        | 2.70887e+06    | 0               |"
      ]
     },
     "metadata": {},
     "output_type": "display_data"
    },
    {
     "data": {
      "text/html": [
       "<pre>| 4870      | 35.43s        | 2.59782e+06    | 0               |</pre>"
      ],
      "text/plain": [
       "| 4870      | 35.43s        | 2.59782e+06    | 0               |"
      ]
     },
     "metadata": {},
     "output_type": "display_data"
    },
    {
     "data": {
      "text/html": [
       "<pre>| 4880      | 35.50s        | 2.40474e+06    | 0               |</pre>"
      ],
      "text/plain": [
       "| 4880      | 35.50s        | 2.40474e+06    | 0               |"
      ]
     },
     "metadata": {},
     "output_type": "display_data"
    },
    {
     "data": {
      "text/html": [
       "<pre>| 4890      | 35.58s        | 2.72615e+06    | 0               |</pre>"
      ],
      "text/plain": [
       "| 4890      | 35.58s        | 2.72615e+06    | 0               |"
      ]
     },
     "metadata": {},
     "output_type": "display_data"
    },
    {
     "data": {
      "text/html": [
       "<pre>| 4900      | 35.65s        | 2.57995e+06    | 0               |</pre>"
      ],
      "text/plain": [
       "| 4900      | 35.65s        | 2.57995e+06    | 0               |"
      ]
     },
     "metadata": {},
     "output_type": "display_data"
    },
    {
     "data": {
      "text/html": [
       "<pre>| 4910      | 35.72s        | 2.57489e+06    | 0               |</pre>"
      ],
      "text/plain": [
       "| 4910      | 35.72s        | 2.57489e+06    | 0               |"
      ]
     },
     "metadata": {},
     "output_type": "display_data"
    },
    {
     "data": {
      "text/html": [
       "<pre>| 4920      | 35.79s        | 2.52987e+06    | 0               |</pre>"
      ],
      "text/plain": [
       "| 4920      | 35.79s        | 2.52987e+06    | 0               |"
      ]
     },
     "metadata": {},
     "output_type": "display_data"
    },
    {
     "data": {
      "text/html": [
       "<pre>| 4930      | 35.86s        | 2.68787e+06    | 0               |</pre>"
      ],
      "text/plain": [
       "| 4930      | 35.86s        | 2.68787e+06    | 0               |"
      ]
     },
     "metadata": {},
     "output_type": "display_data"
    },
    {
     "data": {
      "text/html": [
       "<pre>| 4940      | 35.94s        | 2.38817e+06    | 0               |</pre>"
      ],
      "text/plain": [
       "| 4940      | 35.94s        | 2.38817e+06    | 0               |"
      ]
     },
     "metadata": {},
     "output_type": "display_data"
    },
    {
     "data": {
      "text/html": [
       "<pre>| 4950      | 36.01s        | 2.52327e+06    | 0               |</pre>"
      ],
      "text/plain": [
       "| 4950      | 36.01s        | 2.52327e+06    | 0               |"
      ]
     },
     "metadata": {},
     "output_type": "display_data"
    },
    {
     "data": {
      "text/html": [
       "<pre>| 4960      | 36.09s        | 2.85401e+06    | 0               |</pre>"
      ],
      "text/plain": [
       "| 4960      | 36.09s        | 2.85401e+06    | 0               |"
      ]
     },
     "metadata": {},
     "output_type": "display_data"
    },
    {
     "data": {
      "text/html": [
       "<pre>| 4970      | 36.17s        | 2.40537e+06    | 0               |</pre>"
      ],
      "text/plain": [
       "| 4970      | 36.17s        | 2.40537e+06    | 0               |"
      ]
     },
     "metadata": {},
     "output_type": "display_data"
    },
    {
     "data": {
      "text/html": [
       "<pre>| 4980      | 36.25s        | 2.28513e+06    | 0               |</pre>"
      ],
      "text/plain": [
       "| 4980      | 36.25s        | 2.28513e+06    | 0               |"
      ]
     },
     "metadata": {},
     "output_type": "display_data"
    },
    {
     "data": {
      "text/html": [
       "<pre>| 4990      | 36.32s        | 2.57597e+06    | 0               |</pre>"
      ],
      "text/plain": [
       "| 4990      | 36.32s        | 2.57597e+06    | 0               |"
      ]
     },
     "metadata": {},
     "output_type": "display_data"
    },
    {
     "data": {
      "text/html": [
       "<pre>| 5000      | 36.41s        | 2.41168e+06    | 0               |</pre>"
      ],
      "text/plain": [
       "| 5000      | 36.41s        | 2.41168e+06    | 0               |"
      ]
     },
     "metadata": {},
     "output_type": "display_data"
    },
    {
     "data": {
      "text/html": [
       "<pre>| 5010      | 36.48s        | 2.50061e+06    | 0               |</pre>"
      ],
      "text/plain": [
       "| 5010      | 36.48s        | 2.50061e+06    | 0               |"
      ]
     },
     "metadata": {},
     "output_type": "display_data"
    },
    {
     "data": {
      "text/html": [
       "<pre>| 5020      | 36.55s        | 2.23919e+06    | 0               |</pre>"
      ],
      "text/plain": [
       "| 5020      | 36.55s        | 2.23919e+06    | 0               |"
      ]
     },
     "metadata": {},
     "output_type": "display_data"
    },
    {
     "data": {
      "text/html": [
       "<pre>| 5030      | 36.63s        | 2.53476e+06    | 0               |</pre>"
      ],
      "text/plain": [
       "| 5030      | 36.63s        | 2.53476e+06    | 0               |"
      ]
     },
     "metadata": {},
     "output_type": "display_data"
    },
    {
     "data": {
      "text/html": [
       "<pre>| 5040      | 36.70s        | 2.55627e+06    | 0               |</pre>"
      ],
      "text/plain": [
       "| 5040      | 36.70s        | 2.55627e+06    | 0               |"
      ]
     },
     "metadata": {},
     "output_type": "display_data"
    },
    {
     "data": {
      "text/html": [
       "<pre>| 5050      | 36.78s        | 2.51947e+06    | 0               |</pre>"
      ],
      "text/plain": [
       "| 5050      | 36.78s        | 2.51947e+06    | 0               |"
      ]
     },
     "metadata": {},
     "output_type": "display_data"
    },
    {
     "data": {
      "text/html": [
       "<pre>| 5060      | 36.85s        | 2.47402e+06    | 0               |</pre>"
      ],
      "text/plain": [
       "| 5060      | 36.85s        | 2.47402e+06    | 0               |"
      ]
     },
     "metadata": {},
     "output_type": "display_data"
    },
    {
     "data": {
      "text/html": [
       "<pre>| 5070      | 36.92s        | 2.47402e+06    | 0               |</pre>"
      ],
      "text/plain": [
       "| 5070      | 36.92s        | 2.47402e+06    | 0               |"
      ]
     },
     "metadata": {},
     "output_type": "display_data"
    },
    {
     "data": {
      "text/html": [
       "<pre>| 5080      | 36.99s        | 2.62416e+06    | 0               |</pre>"
      ],
      "text/plain": [
       "| 5080      | 36.99s        | 2.62416e+06    | 0               |"
      ]
     },
     "metadata": {},
     "output_type": "display_data"
    },
    {
     "data": {
      "text/html": [
       "<pre>| 5090      | 37.06s        | 2.68984e+06    | 0               |</pre>"
      ],
      "text/plain": [
       "| 5090      | 37.06s        | 2.68984e+06    | 0               |"
      ]
     },
     "metadata": {},
     "output_type": "display_data"
    },
    {
     "data": {
      "text/html": [
       "<pre>| 5100      | 37.12s        | 2.4687e+06     | 0               |</pre>"
      ],
      "text/plain": [
       "| 5100      | 37.12s        | 2.4687e+06     | 0               |"
      ]
     },
     "metadata": {},
     "output_type": "display_data"
    },
    {
     "data": {
      "text/html": [
       "<pre>| 5110      | 37.18s        | 2.56877e+06    | 0               |</pre>"
      ],
      "text/plain": [
       "| 5110      | 37.18s        | 2.56877e+06    | 0               |"
      ]
     },
     "metadata": {},
     "output_type": "display_data"
    },
    {
     "data": {
      "text/html": [
       "<pre>| 5120      | 37.25s        | 2.43565e+06    | 0               |</pre>"
      ],
      "text/plain": [
       "| 5120      | 37.25s        | 2.43565e+06    | 0               |"
      ]
     },
     "metadata": {},
     "output_type": "display_data"
    },
    {
     "data": {
      "text/html": [
       "<pre>| 5130      | 37.32s        | 3.46867e+06    | 0               |</pre>"
      ],
      "text/plain": [
       "| 5130      | 37.32s        | 3.46867e+06    | 0               |"
      ]
     },
     "metadata": {},
     "output_type": "display_data"
    },
    {
     "data": {
      "text/html": [
       "<pre>| 5140      | 37.38s        | 2.73305e+06    | 0               |</pre>"
      ],
      "text/plain": [
       "| 5140      | 37.38s        | 2.73305e+06    | 0               |"
      ]
     },
     "metadata": {},
     "output_type": "display_data"
    },
    {
     "data": {
      "text/html": [
       "<pre>| 5150      | 37.46s        | 3.42663e+06    | 0               |</pre>"
      ],
      "text/plain": [
       "| 5150      | 37.46s        | 3.42663e+06    | 0               |"
      ]
     },
     "metadata": {},
     "output_type": "display_data"
    },
    {
     "data": {
      "text/html": [
       "<pre>| 5160      | 37.52s        | 2.72252e+06    | 0               |</pre>"
      ],
      "text/plain": [
       "| 5160      | 37.52s        | 2.72252e+06    | 0               |"
      ]
     },
     "metadata": {},
     "output_type": "display_data"
    },
    {
     "data": {
      "text/html": [
       "<pre>| 5170      | 37.59s        | 2.48472e+06    | 0               |</pre>"
      ],
      "text/plain": [
       "| 5170      | 37.59s        | 2.48472e+06    | 0               |"
      ]
     },
     "metadata": {},
     "output_type": "display_data"
    },
    {
     "data": {
      "text/html": [
       "<pre>| 5180      | 37.66s        | 2.6867e+06     | 0               |</pre>"
      ],
      "text/plain": [
       "| 5180      | 37.66s        | 2.6867e+06     | 0               |"
      ]
     },
     "metadata": {},
     "output_type": "display_data"
    },
    {
     "data": {
      "text/html": [
       "<pre>| 5190      | 37.73s        | 2.57345e+06    | 0               |</pre>"
      ],
      "text/plain": [
       "| 5190      | 37.73s        | 2.57345e+06    | 0               |"
      ]
     },
     "metadata": {},
     "output_type": "display_data"
    },
    {
     "data": {
      "text/html": [
       "<pre>| 5200      | 37.81s        | 2.85801e+06    | 0               |</pre>"
      ],
      "text/plain": [
       "| 5200      | 37.81s        | 2.85801e+06    | 0               |"
      ]
     },
     "metadata": {},
     "output_type": "display_data"
    },
    {
     "data": {
      "text/html": [
       "<pre>| 5210      | 37.87s        | 2.48842e+06    | 0               |</pre>"
      ],
      "text/plain": [
       "| 5210      | 37.87s        | 2.48842e+06    | 0               |"
      ]
     },
     "metadata": {},
     "output_type": "display_data"
    },
    {
     "data": {
      "text/html": [
       "<pre>| 5220      | 37.95s        | 2.36087e+06    | 0               |</pre>"
      ],
      "text/plain": [
       "| 5220      | 37.95s        | 2.36087e+06    | 0               |"
      ]
     },
     "metadata": {},
     "output_type": "display_data"
    },
    {
     "data": {
      "text/html": [
       "<pre>| 5230      | 38.02s        | 2.52189e+06    | 0               |</pre>"
      ],
      "text/plain": [
       "| 5230      | 38.02s        | 2.52189e+06    | 0               |"
      ]
     },
     "metadata": {},
     "output_type": "display_data"
    },
    {
     "data": {
      "text/html": [
       "<pre>| 5240      | 38.10s        | 2.52189e+06    | 0               |</pre>"
      ],
      "text/plain": [
       "| 5240      | 38.10s        | 2.52189e+06    | 0               |"
      ]
     },
     "metadata": {},
     "output_type": "display_data"
    },
    {
     "data": {
      "text/html": [
       "<pre>| 5250      | 38.17s        | 2.64646e+06    | 0               |</pre>"
      ],
      "text/plain": [
       "| 5250      | 38.17s        | 2.64646e+06    | 0               |"
      ]
     },
     "metadata": {},
     "output_type": "display_data"
    },
    {
     "data": {
      "text/html": [
       "<pre>| 5260      | 38.24s        | 2.37398e+06    | 0               |</pre>"
      ],
      "text/plain": [
       "| 5260      | 38.24s        | 2.37398e+06    | 0               |"
      ]
     },
     "metadata": {},
     "output_type": "display_data"
    },
    {
     "data": {
      "text/html": [
       "<pre>| 5270      | 38.31s        | 2.43824e+06    | 0               |</pre>"
      ],
      "text/plain": [
       "| 5270      | 38.31s        | 2.43824e+06    | 0               |"
      ]
     },
     "metadata": {},
     "output_type": "display_data"
    },
    {
     "data": {
      "text/html": [
       "<pre>| 5280      | 38.38s        | 2.51464e+06    | 0               |</pre>"
      ],
      "text/plain": [
       "| 5280      | 38.38s        | 2.51464e+06    | 0               |"
      ]
     },
     "metadata": {},
     "output_type": "display_data"
    },
    {
     "data": {
      "text/html": [
       "<pre>| 5290      | 38.45s        | 2.48876e+06    | 0               |</pre>"
      ],
      "text/plain": [
       "| 5290      | 38.45s        | 2.48876e+06    | 0               |"
      ]
     },
     "metadata": {},
     "output_type": "display_data"
    },
    {
     "data": {
      "text/html": [
       "<pre>| 5300      | 38.52s        | 2.57778e+06    | 0               |</pre>"
      ],
      "text/plain": [
       "| 5300      | 38.52s        | 2.57778e+06    | 0               |"
      ]
     },
     "metadata": {},
     "output_type": "display_data"
    },
    {
     "data": {
      "text/html": [
       "<pre>| 5310      | 38.59s        | 2.65948e+06    | 0               |</pre>"
      ],
      "text/plain": [
       "| 5310      | 38.59s        | 2.65948e+06    | 0               |"
      ]
     },
     "metadata": {},
     "output_type": "display_data"
    },
    {
     "data": {
      "text/html": [
       "<pre>| 5320      | 38.66s        | 2.69378e+06    | 0               |</pre>"
      ],
      "text/plain": [
       "| 5320      | 38.66s        | 2.69378e+06    | 0               |"
      ]
     },
     "metadata": {},
     "output_type": "display_data"
    },
    {
     "data": {
      "text/html": [
       "<pre>| 5330      | 38.73s        | 2.53231e+06    | 0               |</pre>"
      ],
      "text/plain": [
       "| 5330      | 38.73s        | 2.53231e+06    | 0               |"
      ]
     },
     "metadata": {},
     "output_type": "display_data"
    },
    {
     "data": {
      "text/html": [
       "<pre>| 5340      | 38.80s        | 2.65756e+06    | 0               |</pre>"
      ],
      "text/plain": [
       "| 5340      | 38.80s        | 2.65756e+06    | 0               |"
      ]
     },
     "metadata": {},
     "output_type": "display_data"
    },
    {
     "data": {
      "text/html": [
       "<pre>| 5350      | 38.87s        | 2.44148e+06    | 0               |</pre>"
      ],
      "text/plain": [
       "| 5350      | 38.87s        | 2.44148e+06    | 0               |"
      ]
     },
     "metadata": {},
     "output_type": "display_data"
    },
    {
     "data": {
      "text/html": [
       "<pre>| 5360      | 38.95s        | 2.60556e+06    | 0               |</pre>"
      ],
      "text/plain": [
       "| 5360      | 38.95s        | 2.60556e+06    | 0               |"
      ]
     },
     "metadata": {},
     "output_type": "display_data"
    },
    {
     "data": {
      "text/html": [
       "<pre>| 5370      | 39.02s        | 2.62341e+06    | 0               |</pre>"
      ],
      "text/plain": [
       "| 5370      | 39.02s        | 2.62341e+06    | 0               |"
      ]
     },
     "metadata": {},
     "output_type": "display_data"
    },
    {
     "data": {
      "text/html": [
       "<pre>| 5380      | 39.09s        | 2.68984e+06    | 0               |</pre>"
      ],
      "text/plain": [
       "| 5380      | 39.09s        | 2.68984e+06    | 0               |"
      ]
     },
     "metadata": {},
     "output_type": "display_data"
    },
    {
     "data": {
      "text/html": [
       "<pre>| 5390      | 39.16s        | 2.61e+06       | 0               |</pre>"
      ],
      "text/plain": [
       "| 5390      | 39.16s        | 2.61e+06       | 0               |"
      ]
     },
     "metadata": {},
     "output_type": "display_data"
    },
    {
     "data": {
      "text/html": [
       "<pre>| 5400      | 39.23s        | 2.72252e+06    | 0               |</pre>"
      ],
      "text/plain": [
       "| 5400      | 39.23s        | 2.72252e+06    | 0               |"
      ]
     },
     "metadata": {},
     "output_type": "display_data"
    },
    {
     "data": {
      "text/html": [
       "<pre>| 5410      | 39.31s        | 2.61111e+06    | 0               |</pre>"
      ],
      "text/plain": [
       "| 5410      | 39.31s        | 2.61111e+06    | 0               |"
      ]
     },
     "metadata": {},
     "output_type": "display_data"
    },
    {
     "data": {
      "text/html": [
       "<pre>| 5420      | 39.38s        | 2.29971e+06    | 0               |</pre>"
      ],
      "text/plain": [
       "| 5420      | 39.38s        | 2.29971e+06    | 0               |"
      ]
     },
     "metadata": {},
     "output_type": "display_data"
    },
    {
     "data": {
      "text/html": [
       "<pre>| 5430      | 39.46s        | 2.52674e+06    | 0               |</pre>"
      ],
      "text/plain": [
       "| 5430      | 39.46s        | 2.52674e+06    | 0               |"
      ]
     },
     "metadata": {},
     "output_type": "display_data"
    },
    {
     "data": {
      "text/html": [
       "<pre>| 5440      | 39.53s        | 2.42473e+06    | 0               |</pre>"
      ],
      "text/plain": [
       "| 5440      | 39.53s        | 2.42473e+06    | 0               |"
      ]
     },
     "metadata": {},
     "output_type": "display_data"
    },
    {
     "data": {
      "text/html": [
       "<pre>| 5450      | 39.60s        | 2.70051e+06    | 0               |</pre>"
      ],
      "text/plain": [
       "| 5450      | 39.60s        | 2.70051e+06    | 0               |"
      ]
     },
     "metadata": {},
     "output_type": "display_data"
    },
    {
     "data": {
      "text/html": [
       "<pre>| 5460      | 39.67s        | 2.60963e+06    | 0               |</pre>"
      ],
      "text/plain": [
       "| 5460      | 39.67s        | 2.60963e+06    | 0               |"
      ]
     },
     "metadata": {},
     "output_type": "display_data"
    },
    {
     "data": {
      "text/html": [
       "<pre>| 5470      | 39.75s        | 2.64113e+06    | 0               |</pre>"
      ],
      "text/plain": [
       "| 5470      | 39.75s        | 2.64113e+06    | 0               |"
      ]
     },
     "metadata": {},
     "output_type": "display_data"
    },
    {
     "data": {
      "text/html": [
       "<pre>| 5480      | 39.82s        | 2.5785e+06     | 0               |</pre>"
      ],
      "text/plain": [
       "| 5480      | 39.82s        | 2.5785e+06     | 0               |"
      ]
     },
     "metadata": {},
     "output_type": "display_data"
    },
    {
     "data": {
      "text/html": [
       "<pre>| 5490      | 39.89s        | 2.41994e+06    | 0               |</pre>"
      ],
      "text/plain": [
       "| 5490      | 39.89s        | 2.41994e+06    | 0               |"
      ]
     },
     "metadata": {},
     "output_type": "display_data"
    },
    {
     "data": {
      "text/html": [
       "<pre>| 5500      | 39.97s        | 2.42281e+06    | 0               |</pre>"
      ],
      "text/plain": [
       "| 5500      | 39.97s        | 2.42281e+06    | 0               |"
      ]
     },
     "metadata": {},
     "output_type": "display_data"
    },
    {
     "data": {
      "text/html": [
       "<pre>| 5510      | 40.04s        | 2.64531e+06    | 0               |</pre>"
      ],
      "text/plain": [
       "| 5510      | 40.04s        | 2.64531e+06    | 0               |"
      ]
     },
     "metadata": {},
     "output_type": "display_data"
    },
    {
     "data": {
      "text/html": [
       "<pre>| 5520      | 40.11s        | 2.48237e+06    | 0               |</pre>"
      ],
      "text/plain": [
       "| 5520      | 40.11s        | 2.48237e+06    | 0               |"
      ]
     },
     "metadata": {},
     "output_type": "display_data"
    },
    {
     "data": {
      "text/html": [
       "<pre>| 5530      | 40.19s        | 2.57995e+06    | 0               |</pre>"
      ],
      "text/plain": [
       "| 5530      | 40.19s        | 2.57995e+06    | 0               |"
      ]
     },
     "metadata": {},
     "output_type": "display_data"
    },
    {
     "data": {
      "text/html": [
       "<pre>| 5540      | 40.26s        | 2.54247e+06    | 0               |</pre>"
      ],
      "text/plain": [
       "| 5540      | 40.26s        | 2.54247e+06    | 0               |"
      ]
     },
     "metadata": {},
     "output_type": "display_data"
    },
    {
     "data": {
      "text/html": [
       "<pre>| 5550      | 40.33s        | 2.57273e+06    | 0               |</pre>"
      ],
      "text/plain": [
       "| 5550      | 40.33s        | 2.57273e+06    | 0               |"
      ]
     },
     "metadata": {},
     "output_type": "display_data"
    },
    {
     "data": {
      "text/html": [
       "<pre>| 5560      | 40.41s        | 2.53231e+06    | 0               |</pre>"
      ],
      "text/plain": [
       "| 5560      | 40.41s        | 2.53231e+06    | 0               |"
      ]
     },
     "metadata": {},
     "output_type": "display_data"
    },
    {
     "data": {
      "text/html": [
       "<pre>| 5570      | 40.48s        | 2.49552e+06    | 0               |</pre>"
      ],
      "text/plain": [
       "| 5570      | 40.48s        | 2.49552e+06    | 0               |"
      ]
     },
     "metadata": {},
     "output_type": "display_data"
    },
    {
     "data": {
      "text/html": [
       "<pre>| 5580      | 40.56s        | 2.66449e+06    | 0               |</pre>"
      ],
      "text/plain": [
       "| 5580      | 40.56s        | 2.66449e+06    | 0               |"
      ]
     },
     "metadata": {},
     "output_type": "display_data"
    },
    {
     "data": {
      "text/html": [
       "<pre>| 5590      | 40.63s        | 2.56161e+06    | 0               |</pre>"
      ],
      "text/plain": [
       "| 5590      | 40.63s        | 2.56161e+06    | 0               |"
      ]
     },
     "metadata": {},
     "output_type": "display_data"
    },
    {
     "data": {
      "text/html": [
       "<pre>| 5600      | 40.70s        | 2.56805e+06    | 0               |</pre>"
      ],
      "text/plain": [
       "| 5600      | 40.70s        | 2.56805e+06    | 0               |"
      ]
     },
     "metadata": {},
     "output_type": "display_data"
    },
    {
     "data": {
      "text/html": [
       "<pre>| 5610      | 40.77s        | 2.59452e+06    | 0               |</pre>"
      ],
      "text/plain": [
       "| 5610      | 40.77s        | 2.59452e+06    | 0               |"
      ]
     },
     "metadata": {},
     "output_type": "display_data"
    },
    {
     "data": {
      "text/html": [
       "<pre>| 5620      | 40.85s        | 2.53686e+06    | 0               |</pre>"
      ],
      "text/plain": [
       "| 5620      | 40.85s        | 2.53686e+06    | 0               |"
      ]
     },
     "metadata": {},
     "output_type": "display_data"
    },
    {
     "data": {
      "text/html": [
       "<pre>| 5630      | 40.92s        | 2.5609e+06     | 0               |</pre>"
      ],
      "text/plain": [
       "| 5630      | 40.92s        | 2.5609e+06     | 0               |"
      ]
     },
     "metadata": {},
     "output_type": "display_data"
    },
    {
     "data": {
      "text/html": [
       "<pre>| 5640      | 41.00s        | 2.47602e+06    | 0               |</pre>"
      ],
      "text/plain": [
       "| 5640      | 41.00s        | 2.47602e+06    | 0               |"
      ]
     },
     "metadata": {},
     "output_type": "display_data"
    },
    {
     "data": {
      "text/html": [
       "<pre>| 5650      | 41.07s        | 2.46638e+06    | 0               |</pre>"
      ],
      "text/plain": [
       "| 5650      | 41.07s        | 2.46638e+06    | 0               |"
      ]
     },
     "metadata": {},
     "output_type": "display_data"
    },
    {
     "data": {
      "text/html": [
       "<pre>| 5660      | 41.14s        | 2.60261e+06    | 0               |</pre>"
      ],
      "text/plain": [
       "| 5660      | 41.14s        | 2.60261e+06    | 0               |"
      ]
     },
     "metadata": {},
     "output_type": "display_data"
    },
    {
     "data": {
      "text/html": [
       "<pre>| 5670      | 41.22s        | 2.59489e+06    | 0               |</pre>"
      ],
      "text/plain": [
       "| 5670      | 41.22s        | 2.59489e+06    | 0               |"
      ]
     },
     "metadata": {},
     "output_type": "display_data"
    },
    {
     "data": {
      "text/html": [
       "<pre>| 5680      | 41.29s        | 2.51878e+06    | 0               |</pre>"
      ],
      "text/plain": [
       "| 5680      | 41.29s        | 2.51878e+06    | 0               |"
      ]
     },
     "metadata": {},
     "output_type": "display_data"
    },
    {
     "data": {
      "text/html": [
       "<pre>| 5690      | 41.37s        | 2.43082e+06    | 0               |</pre>"
      ],
      "text/plain": [
       "| 5690      | 41.37s        | 2.43082e+06    | 0               |"
      ]
     },
     "metadata": {},
     "output_type": "display_data"
    },
    {
     "data": {
      "text/html": [
       "<pre>| 5700      | 41.44s        | 2.56197e+06    | 0               |</pre>"
      ],
      "text/plain": [
       "| 5700      | 41.44s        | 2.56197e+06    | 0               |"
      ]
     },
     "metadata": {},
     "output_type": "display_data"
    },
    {
     "data": {
      "text/html": [
       "<pre>| 5710      | 41.51s        | 2.58394e+06    | 0               |</pre>"
      ],
      "text/plain": [
       "| 5710      | 41.51s        | 2.58394e+06    | 0               |"
      ]
     },
     "metadata": {},
     "output_type": "display_data"
    },
    {
     "data": {
      "text/html": [
       "<pre>| 5720      | 41.59s        | 2.49552e+06    | 0               |</pre>"
      ],
      "text/plain": [
       "| 5720      | 41.59s        | 2.49552e+06    | 0               |"
      ]
     },
     "metadata": {},
     "output_type": "display_data"
    },
    {
     "data": {
      "text/html": [
       "<pre>| 5730      | 41.66s        | 2.5854e+06     | 0               |</pre>"
      ],
      "text/plain": [
       "| 5730      | 41.66s        | 2.5854e+06     | 0               |"
      ]
     },
     "metadata": {},
     "output_type": "display_data"
    },
    {
     "data": {
      "text/html": [
       "<pre>| 5740      | 41.74s        | 2.62829e+06    | 0               |</pre>"
      ],
      "text/plain": [
       "| 5740      | 41.74s        | 2.62829e+06    | 0               |"
      ]
     },
     "metadata": {},
     "output_type": "display_data"
    },
    {
     "data": {
      "text/html": [
       "<pre>| 5750      | 41.81s        | 2496875        | 0               |</pre>"
      ],
      "text/plain": [
       "| 5750      | 41.81s        | 2496875        | 0               |"
      ]
     },
     "metadata": {},
     "output_type": "display_data"
    },
    {
     "data": {
      "text/html": [
       "<pre>| 5760      | 41.89s        | 2.55698e+06    | 0               |</pre>"
      ],
      "text/plain": [
       "| 5760      | 41.89s        | 2.55698e+06    | 0               |"
      ]
     },
     "metadata": {},
     "output_type": "display_data"
    },
    {
     "data": {
      "text/html": [
       "<pre>| 5770      | 41.96s        | 2.51155e+06    | 0               |</pre>"
      ],
      "text/plain": [
       "| 5770      | 41.96s        | 2.51155e+06    | 0               |"
      ]
     },
     "metadata": {},
     "output_type": "display_data"
    },
    {
     "data": {
      "text/html": [
       "<pre>| 5780      | 42.03s        | 2.63356e+06    | 0               |</pre>"
      ],
      "text/plain": [
       "| 5780      | 42.03s        | 2.63356e+06    | 0               |"
      ]
     },
     "metadata": {},
     "output_type": "display_data"
    },
    {
     "data": {
      "text/html": [
       "<pre>| 5790      | 42.11s        | 2.64341e+06    | 0               |</pre>"
      ],
      "text/plain": [
       "| 5790      | 42.11s        | 2.64341e+06    | 0               |"
      ]
     },
     "metadata": {},
     "output_type": "display_data"
    },
    {
     "data": {
      "text/html": [
       "<pre>| 5800      | 42.18s        | 2.58358e+06    | 0               |</pre>"
      ],
      "text/plain": [
       "| 5800      | 42.18s        | 2.58358e+06    | 0               |"
      ]
     },
     "metadata": {},
     "output_type": "display_data"
    },
    {
     "data": {
      "text/html": [
       "<pre>| 5810      | 42.25s        | 2.42473e+06    | 0               |</pre>"
      ],
      "text/plain": [
       "| 5810      | 42.25s        | 2.42473e+06    | 0               |"
      ]
     },
     "metadata": {},
     "output_type": "display_data"
    },
    {
     "data": {
      "text/html": [
       "<pre>| 5820      | 42.33s        | 2.51121e+06    | 0               |</pre>"
      ],
      "text/plain": [
       "| 5820      | 42.33s        | 2.51121e+06    | 0               |"
      ]
     },
     "metadata": {},
     "output_type": "display_data"
    },
    {
     "data": {
      "text/html": [
       "<pre>| 5830      | 42.40s        | 2.50641e+06    | 0               |</pre>"
      ],
      "text/plain": [
       "| 5830      | 42.40s        | 2.50641e+06    | 0               |"
      ]
     },
     "metadata": {},
     "output_type": "display_data"
    },
    {
     "data": {
      "text/html": [
       "<pre>| 5840      | 42.48s        | 2.58249e+06    | 0               |</pre>"
      ],
      "text/plain": [
       "| 5840      | 42.48s        | 2.58249e+06    | 0               |"
      ]
     },
     "metadata": {},
     "output_type": "display_data"
    },
    {
     "data": {
      "text/html": [
       "<pre>| 5850      | 42.55s        | 2.16353e+06    | 0               |</pre>"
      ],
      "text/plain": [
       "| 5850      | 42.55s        | 2.16353e+06    | 0               |"
      ]
     },
     "metadata": {},
     "output_type": "display_data"
    },
    {
     "data": {
      "text/html": [
       "<pre>| 5860      | 42.63s        | 2.52848e+06    | 0               |</pre>"
      ],
      "text/plain": [
       "| 5860      | 42.63s        | 2.52848e+06    | 0               |"
      ]
     },
     "metadata": {},
     "output_type": "display_data"
    },
    {
     "data": {
      "text/html": [
       "<pre>| 5870      | 42.70s        | 3.41771e+06    | 0               |</pre>"
      ],
      "text/plain": [
       "| 5870      | 42.70s        | 3.41771e+06    | 0               |"
      ]
     },
     "metadata": {},
     "output_type": "display_data"
    },
    {
     "data": {
      "text/html": [
       "<pre>| 5880      | 42.77s        | 2.37521e+06    | 0               |</pre>"
      ],
      "text/plain": [
       "| 5880      | 42.77s        | 2.37521e+06    | 0               |"
      ]
     },
     "metadata": {},
     "output_type": "display_data"
    },
    {
     "data": {
      "text/html": [
       "<pre>| 5890      | 42.85s        | 2.52397e+06    | 0               |</pre>"
      ],
      "text/plain": [
       "| 5890      | 42.85s        | 2.52397e+06    | 0               |"
      ]
     },
     "metadata": {},
     "output_type": "display_data"
    },
    {
     "data": {
      "text/html": [
       "<pre>| 5900      | 42.92s        | 2.53441e+06    | 0               |</pre>"
      ],
      "text/plain": [
       "| 5900      | 42.92s        | 2.53441e+06    | 0               |"
      ]
     },
     "metadata": {},
     "output_type": "display_data"
    },
    {
     "data": {
      "text/html": [
       "<pre>| 5910      | 42.99s        | 2.40442e+06    | 0               |</pre>"
      ],
      "text/plain": [
       "| 5910      | 42.99s        | 2.40442e+06    | 0               |"
      ]
     },
     "metadata": {},
     "output_type": "display_data"
    },
    {
     "data": {
      "text/html": [
       "<pre>| 5920      | 43.06s        | 2.51533e+06    | 0               |</pre>"
      ],
      "text/plain": [
       "| 5920      | 43.06s        | 2.51533e+06    | 0               |"
      ]
     },
     "metadata": {},
     "output_type": "display_data"
    },
    {
     "data": {
      "text/html": [
       "<pre>| 5930      | 43.13s        | 2.70051e+06    | 0               |</pre>"
      ],
      "text/plain": [
       "| 5930      | 43.13s        | 2.70051e+06    | 0               |"
      ]
     },
     "metadata": {},
     "output_type": "display_data"
    },
    {
     "data": {
      "text/html": [
       "<pre>| 5940      | 43.19s        | 2.62754e+06    | 0               |</pre>"
      ],
      "text/plain": [
       "| 5940      | 43.19s        | 2.62754e+06    | 0               |"
      ]
     },
     "metadata": {},
     "output_type": "display_data"
    },
    {
     "data": {
      "text/html": [
       "<pre>| 5950      | 43.26s        | 2.50949e+06    | 0               |</pre>"
      ],
      "text/plain": [
       "| 5950      | 43.26s        | 2.50949e+06    | 0               |"
      ]
     },
     "metadata": {},
     "output_type": "display_data"
    },
    {
     "data": {
      "text/html": [
       "<pre>| 5960      | 43.34s        | 2.63205e+06    | 0               |</pre>"
      ],
      "text/plain": [
       "| 5960      | 43.34s        | 2.63205e+06    | 0               |"
      ]
     },
     "metadata": {},
     "output_type": "display_data"
    },
    {
     "data": {
      "text/html": [
       "<pre>| 5970      | 43.41s        | 2.64379e+06    | 0               |</pre>"
      ],
      "text/plain": [
       "| 5970      | 43.41s        | 2.64379e+06    | 0               |"
      ]
     },
     "metadata": {},
     "output_type": "display_data"
    },
    {
     "data": {
      "text/html": [
       "<pre>| 5980      | 43.48s        | 2.52085e+06    | 0               |</pre>"
      ],
      "text/plain": [
       "| 5980      | 43.48s        | 2.52085e+06    | 0               |"
      ]
     },
     "metadata": {},
     "output_type": "display_data"
    },
    {
     "data": {
      "text/html": [
       "<pre>| 5990      | 43.59s        | 2.49112e+06    | 0               |</pre>"
      ],
      "text/plain": [
       "| 5990      | 43.59s        | 2.49112e+06    | 0               |"
      ]
     },
     "metadata": {},
     "output_type": "display_data"
    },
    {
     "data": {
      "text/html": [
       "<pre>| 6000      | 43.66s        | 2.66797e+06    | 0               |</pre>"
      ],
      "text/plain": [
       "| 6000      | 43.66s        | 2.66797e+06    | 0               |"
      ]
     },
     "metadata": {},
     "output_type": "display_data"
    },
    {
     "data": {
      "text/html": [
       "<pre>| 6010      | 43.74s        | 2.63545e+06    | 0               |</pre>"
      ],
      "text/plain": [
       "| 6010      | 43.74s        | 2.63545e+06    | 0               |"
      ]
     },
     "metadata": {},
     "output_type": "display_data"
    },
    {
     "data": {
      "text/html": [
       "<pre>| 6020      | 43.81s        | 2.60815e+06    | 0               |</pre>"
      ],
      "text/plain": [
       "| 6020      | 43.81s        | 2.60815e+06    | 0               |"
      ]
     },
     "metadata": {},
     "output_type": "display_data"
    },
    {
     "data": {
      "text/html": [
       "<pre>| 6030      | 43.88s        | 2.58394e+06    | 0               |</pre>"
      ],
      "text/plain": [
       "| 6030      | 43.88s        | 2.58394e+06    | 0               |"
      ]
     },
     "metadata": {},
     "output_type": "display_data"
    },
    {
     "data": {
      "text/html": [
       "<pre>| 6040      | 43.96s        | 2.55272e+06    | 0               |</pre>"
      ],
      "text/plain": [
       "| 6040      | 43.96s        | 2.55272e+06    | 0               |"
      ]
     },
     "metadata": {},
     "output_type": "display_data"
    },
    {
     "data": {
      "text/html": [
       "<pre>| 6050      | 44.03s        | 2.62005e+06    | 0               |</pre>"
      ],
      "text/plain": [
       "| 6050      | 44.03s        | 2.62005e+06    | 0               |"
      ]
     },
     "metadata": {},
     "output_type": "display_data"
    },
    {
     "data": {
      "text/html": [
       "<pre>| 6060      | 44.10s        | 2.65948e+06    | 0               |</pre>"
      ],
      "text/plain": [
       "| 6060      | 44.10s        | 2.65948e+06    | 0               |"
      ]
     },
     "metadata": {},
     "output_type": "display_data"
    },
    {
     "data": {
      "text/html": [
       "<pre>| 6070      | 44.17s        | 2.69497e+06    | 0               |</pre>"
      ],
      "text/plain": [
       "| 6070      | 44.17s        | 2.69497e+06    | 0               |"
      ]
     },
     "metadata": {},
     "output_type": "display_data"
    },
    {
     "data": {
      "text/html": [
       "<pre>| 6080      | 44.24s        | 2.64227e+06    | 0               |</pre>"
      ],
      "text/plain": [
       "| 6080      | 44.24s        | 2.64227e+06    | 0               |"
      ]
     },
     "metadata": {},
     "output_type": "display_data"
    },
    {
     "data": {
      "text/html": [
       "<pre>| 6090      | 44.31s        | 2.68787e+06    | 0               |</pre>"
      ],
      "text/plain": [
       "| 6090      | 44.31s        | 2.68787e+06    | 0               |"
      ]
     },
     "metadata": {},
     "output_type": "display_data"
    },
    {
     "data": {
      "text/html": [
       "<pre>| 6100      | 44.39s        | 2.53896e+06    | 0               |</pre>"
      ],
      "text/plain": [
       "| 6100      | 44.39s        | 2.53896e+06    | 0               |"
      ]
     },
     "metadata": {},
     "output_type": "display_data"
    },
    {
     "data": {
      "text/html": [
       "<pre>| 6110      | 44.46s        | 2.7764e+06     | 0               |</pre>"
      ],
      "text/plain": [
       "| 6110      | 44.46s        | 2.7764e+06     | 0               |"
      ]
     },
     "metadata": {},
     "output_type": "display_data"
    },
    {
     "data": {
      "text/html": [
       "<pre>| 6120      | 44.53s        | 2.68199e+06    | 0               |</pre>"
      ],
      "text/plain": [
       "| 6120      | 44.53s        | 2.68199e+06    | 0               |"
      ]
     },
     "metadata": {},
     "output_type": "display_data"
    },
    {
     "data": {
      "text/html": [
       "<pre>| 6130      | 44.60s        | 2.56841e+06    | 0               |</pre>"
      ],
      "text/plain": [
       "| 6130      | 44.60s        | 2.56841e+06    | 0               |"
      ]
     },
     "metadata": {},
     "output_type": "display_data"
    },
    {
     "data": {
      "text/html": [
       "<pre>| 6140      | 44.67s        | 2.51912e+06    | 0               |</pre>"
      ],
      "text/plain": [
       "| 6140      | 44.67s        | 2.51912e+06    | 0               |"
      ]
     },
     "metadata": {},
     "output_type": "display_data"
    },
    {
     "data": {
      "text/html": [
       "<pre>| 6150      | 44.75s        | 2.68082e+06    | 0               |</pre>"
      ],
      "text/plain": [
       "| 6150      | 44.75s        | 2.68082e+06    | 0               |"
      ]
     },
     "metadata": {},
     "output_type": "display_data"
    },
    {
     "data": {
      "text/html": [
       "<pre>| 6160      | 44.81s        | 2.62716e+06    | 0               |</pre>"
      ],
      "text/plain": [
       "| 6160      | 44.81s        | 2.62716e+06    | 0               |"
      ]
     },
     "metadata": {},
     "output_type": "display_data"
    },
    {
     "data": {
      "text/html": [
       "<pre>| 6170      | 44.89s        | 2.54494e+06    | 0               |</pre>"
      ],
      "text/plain": [
       "| 6170      | 44.89s        | 2.54494e+06    | 0               |"
      ]
     },
     "metadata": {},
     "output_type": "display_data"
    },
    {
     "data": {
      "text/html": [
       "<pre>| 6180      | 44.96s        | 2.67496e+06    | 0               |</pre>"
      ],
      "text/plain": [
       "| 6180      | 44.96s        | 2.67496e+06    | 0               |"
      ]
     },
     "metadata": {},
     "output_type": "display_data"
    },
    {
     "data": {
      "text/html": [
       "<pre>| 6190      | 45.03s        | 2.47802e+06    | 0               |</pre>"
      ],
      "text/plain": [
       "| 6190      | 45.03s        | 2.47802e+06    | 0               |"
      ]
     },
     "metadata": {},
     "output_type": "display_data"
    },
    {
     "data": {
      "text/html": [
       "<pre>| 6200      | 45.10s        | 2.52223e+06    | 0               |</pre>"
      ],
      "text/plain": [
       "| 6200      | 45.10s        | 2.52223e+06    | 0               |"
      ]
     },
     "metadata": {},
     "output_type": "display_data"
    },
    {
     "data": {
      "text/html": [
       "<pre>| 6210      | 45.17s        | 2.72252e+06    | 0               |</pre>"
      ],
      "text/plain": [
       "| 6210      | 45.17s        | 2.72252e+06    | 0               |"
      ]
     },
     "metadata": {},
     "output_type": "display_data"
    },
    {
     "data": {
      "text/html": [
       "<pre>| 6220      | 45.25s        | 2.51155e+06    | 0               |</pre>"
      ],
      "text/plain": [
       "| 6220      | 45.25s        | 2.51155e+06    | 0               |"
      ]
     },
     "metadata": {},
     "output_type": "display_data"
    },
    {
     "data": {
      "text/html": [
       "<pre>| 6230      | 45.32s        | 2.54247e+06    | 0               |</pre>"
      ],
      "text/plain": [
       "| 6230      | 45.32s        | 2.54247e+06    | 0               |"
      ]
     },
     "metadata": {},
     "output_type": "display_data"
    },
    {
     "data": {
      "text/html": [
       "<pre>| 6240      | 45.40s        | 2.42953e+06    | 0               |</pre>"
      ],
      "text/plain": [
       "| 6240      | 45.40s        | 2.42953e+06    | 0               |"
      ]
     },
     "metadata": {},
     "output_type": "display_data"
    },
    {
     "data": {
      "text/html": [
       "<pre>| 6250      | 45.47s        | 2.44863e+06    | 0               |</pre>"
      ],
      "text/plain": [
       "| 6250      | 45.47s        | 2.44863e+06    | 0               |"
      ]
     },
     "metadata": {},
     "output_type": "display_data"
    },
    {
     "data": {
      "text/html": [
       "<pre>| 6260      | 45.55s        | 2.54917e+06    | 0               |</pre>"
      ],
      "text/plain": [
       "| 6260      | 45.55s        | 2.54917e+06    | 0               |"
      ]
     },
     "metadata": {},
     "output_type": "display_data"
    },
    {
     "data": {
      "text/html": [
       "<pre>| 6270      | 45.62s        | 2.66449e+06    | 0               |</pre>"
      ],
      "text/plain": [
       "| 6270      | 45.62s        | 2.66449e+06    | 0               |"
      ]
     },
     "metadata": {},
     "output_type": "display_data"
    },
    {
     "data": {
      "text/html": [
       "<pre>| 6280      | 45.69s        | 2.71688e+06    | 0               |</pre>"
      ],
      "text/plain": [
       "| 6280      | 45.69s        | 2.71688e+06    | 0               |"
      ]
     },
     "metadata": {},
     "output_type": "display_data"
    },
    {
     "data": {
      "text/html": [
       "<pre>| 6290      | 45.76s        | 2.51189e+06    | 0               |</pre>"
      ],
      "text/plain": [
       "| 6290      | 45.76s        | 2.51189e+06    | 0               |"
      ]
     },
     "metadata": {},
     "output_type": "display_data"
    },
    {
     "data": {
      "text/html": [
       "<pre>| 6300      | 45.83s        | 2.65717e+06    | 0               |</pre>"
      ],
      "text/plain": [
       "| 6300      | 45.83s        | 2.65717e+06    | 0               |"
      ]
     },
     "metadata": {},
     "output_type": "display_data"
    },
    {
     "data": {
      "text/html": [
       "<pre>| 6310      | 45.91s        | 2.60593e+06    | 0               |</pre>"
      ],
      "text/plain": [
       "| 6310      | 45.91s        | 2.60593e+06    | 0               |"
      ]
     },
     "metadata": {},
     "output_type": "display_data"
    },
    {
     "data": {
      "text/html": [
       "<pre>| 6320      | 45.98s        | 2.63507e+06    | 0               |</pre>"
      ],
      "text/plain": [
       "| 6320      | 45.98s        | 2.63507e+06    | 0               |"
      ]
     },
     "metadata": {},
     "output_type": "display_data"
    },
    {
     "data": {
      "text/html": [
       "<pre>| 6330      | 46.05s        | 2.62529e+06    | 0               |</pre>"
      ],
      "text/plain": [
       "| 6330      | 46.05s        | 2.62529e+06    | 0               |"
      ]
     },
     "metadata": {},
     "output_type": "display_data"
    },
    {
     "data": {
      "text/html": [
       "<pre>| 6340      | 46.12s        | 2.64189e+06    | 0               |</pre>"
      ],
      "text/plain": [
       "| 6340      | 46.12s        | 2.64189e+06    | 0               |"
      ]
     },
     "metadata": {},
     "output_type": "display_data"
    },
    {
     "data": {
      "text/html": [
       "<pre>| 6350      | 46.20s        | 2.58904e+06    | 0               |</pre>"
      ],
      "text/plain": [
       "| 6350      | 46.20s        | 2.58904e+06    | 0               |"
      ]
     },
     "metadata": {},
     "output_type": "display_data"
    },
    {
     "data": {
      "text/html": [
       "<pre>| 6360      | 46.27s        | 2.59489e+06    | 0               |</pre>"
      ],
      "text/plain": [
       "| 6360      | 46.27s        | 2.59489e+06    | 0               |"
      ]
     },
     "metadata": {},
     "output_type": "display_data"
    },
    {
     "data": {
      "text/html": [
       "<pre>| 6370      | 46.34s        | 2.62491e+06    | 0               |</pre>"
      ],
      "text/plain": [
       "| 6370      | 46.34s        | 2.62491e+06    | 0               |"
      ]
     },
     "metadata": {},
     "output_type": "display_data"
    },
    {
     "data": {
      "text/html": [
       "<pre>| 6380      | 46.41s        | 2.54283e+06    | 0               |</pre>"
      ],
      "text/plain": [
       "| 6380      | 46.41s        | 2.54283e+06    | 0               |"
      ]
     },
     "metadata": {},
     "output_type": "display_data"
    },
    {
     "data": {
      "text/html": [
       "<pre>| 6390      | 46.49s        | 2.48943e+06    | 0               |</pre>"
      ],
      "text/plain": [
       "| 6390      | 46.49s        | 2.48943e+06    | 0               |"
      ]
     },
     "metadata": {},
     "output_type": "display_data"
    },
    {
     "data": {
      "text/html": [
       "<pre>| 6400      | 46.56s        | 2.62491e+06    | 0               |</pre>"
      ],
      "text/plain": [
       "| 6400      | 46.56s        | 2.62491e+06    | 0               |"
      ]
     },
     "metadata": {},
     "output_type": "display_data"
    },
    {
     "data": {
      "text/html": [
       "<pre>| 6410      | 46.63s        | 2.67263e+06    | 0               |</pre>"
      ],
      "text/plain": [
       "| 6410      | 46.63s        | 2.67263e+06    | 0               |"
      ]
     },
     "metadata": {},
     "output_type": "display_data"
    },
    {
     "data": {
      "text/html": [
       "<pre>| 6420      | 46.70s        | 2.67457e+06    | 0               |</pre>"
      ],
      "text/plain": [
       "| 6420      | 46.70s        | 2.67457e+06    | 0               |"
      ]
     },
     "metadata": {},
     "output_type": "display_data"
    },
    {
     "data": {
      "text/html": [
       "<pre>| 6430      | 46.78s        | 2.58068e+06    | 0               |</pre>"
      ],
      "text/plain": [
       "| 6430      | 46.78s        | 2.58068e+06    | 0               |"
      ]
     },
     "metadata": {},
     "output_type": "display_data"
    },
    {
     "data": {
      "text/html": [
       "<pre>| 6440      | 46.85s        | 2.62304e+06    | 0               |</pre>"
      ],
      "text/plain": [
       "| 6440      | 46.85s        | 2.62304e+06    | 0               |"
      ]
     },
     "metadata": {},
     "output_type": "display_data"
    },
    {
     "data": {
      "text/html": [
       "<pre>| 6450      | 46.92s        | 2.52431e+06    | 0               |</pre>"
      ],
      "text/plain": [
       "| 6450      | 46.92s        | 2.52431e+06    | 0               |"
      ]
     },
     "metadata": {},
     "output_type": "display_data"
    },
    {
     "data": {
      "text/html": [
       "<pre>| 6460      | 46.99s        | 2.4363e+06     | 0               |</pre>"
      ],
      "text/plain": [
       "| 6460      | 46.99s        | 2.4363e+06     | 0               |"
      ]
     },
     "metadata": {},
     "output_type": "display_data"
    },
    {
     "data": {
      "text/html": [
       "<pre>| 6470      | 47.07s        | 2.65066e+06    | 0               |</pre>"
      ],
      "text/plain": [
       "| 6470      | 47.07s        | 2.65066e+06    | 0               |"
      ]
     },
     "metadata": {},
     "output_type": "display_data"
    },
    {
     "data": {
      "text/html": [
       "<pre>| 6480      | 47.14s        | 2.66411e+06    | 0               |</pre>"
      ],
      "text/plain": [
       "| 6480      | 47.14s        | 2.66411e+06    | 0               |"
      ]
     },
     "metadata": {},
     "output_type": "display_data"
    },
    {
     "data": {
      "text/html": [
       "<pre>| 6490      | 47.21s        | 2.72656e+06    | 0               |</pre>"
      ],
      "text/plain": [
       "| 6490      | 47.21s        | 2.72656e+06    | 0               |"
      ]
     },
     "metadata": {},
     "output_type": "display_data"
    },
    {
     "data": {
      "text/html": [
       "<pre>| 6500      | 47.28s        | 2.64455e+06    | 0               |</pre>"
      ],
      "text/plain": [
       "| 6500      | 47.28s        | 2.64455e+06    | 0               |"
      ]
     },
     "metadata": {},
     "output_type": "display_data"
    },
    {
     "data": {
      "text/html": [
       "<pre>| 6510      | 47.35s        | 2.76055e+06    | 0               |</pre>"
      ],
      "text/plain": [
       "| 6510      | 47.35s        | 2.76055e+06    | 0               |"
      ]
     },
     "metadata": {},
     "output_type": "display_data"
    },
    {
     "data": {
      "text/html": [
       "<pre>| 6520      | 47.42s        | 2.69418e+06    | 0               |</pre>"
      ],
      "text/plain": [
       "| 6520      | 47.42s        | 2.69418e+06    | 0               |"
      ]
     },
     "metadata": {},
     "output_type": "display_data"
    },
    {
     "data": {
      "text/html": [
       "<pre>| 6530      | 47.49s        | 2.6672e+06     | 0               |</pre>"
      ],
      "text/plain": [
       "| 6530      | 47.49s        | 2.6672e+06     | 0               |"
      ]
     },
     "metadata": {},
     "output_type": "display_data"
    },
    {
     "data": {
      "text/html": [
       "<pre>| 6540      | 47.56s        | 2.63962e+06    | 0               |</pre>"
      ],
      "text/plain": [
       "| 6540      | 47.56s        | 2.63962e+06    | 0               |"
      ]
     },
     "metadata": {},
     "output_type": "display_data"
    },
    {
     "data": {
      "text/html": [
       "<pre>| 6550      | 47.64s        | 2.65909e+06    | 0               |</pre>"
      ],
      "text/plain": [
       "| 6550      | 47.64s        | 2.65909e+06    | 0               |"
      ]
     },
     "metadata": {},
     "output_type": "display_data"
    },
    {
     "data": {
      "text/html": [
       "<pre>| 6560      | 47.71s        | 2.55236e+06    | 0               |</pre>"
      ],
      "text/plain": [
       "| 6560      | 47.71s        | 2.55236e+06    | 0               |"
      ]
     },
     "metadata": {},
     "output_type": "display_data"
    },
    {
     "data": {
      "text/html": [
       "<pre>| 6570      | 47.78s        | 2.57273e+06    | 0               |</pre>"
      ],
      "text/plain": [
       "| 6570      | 47.78s        | 2.57273e+06    | 0               |"
      ]
     },
     "metadata": {},
     "output_type": "display_data"
    },
    {
     "data": {
      "text/html": [
       "<pre>| 6580      | 47.85s        | 2.64075e+06    | 0               |</pre>"
      ],
      "text/plain": [
       "| 6580      | 47.85s        | 2.64075e+06    | 0               |"
      ]
     },
     "metadata": {},
     "output_type": "display_data"
    },
    {
     "data": {
      "text/html": [
       "<pre>| 6590      | 47.93s        | 2.56519e+06    | 0               |</pre>"
      ],
      "text/plain": [
       "| 6590      | 47.93s        | 2.56519e+06    | 0               |"
      ]
     },
     "metadata": {},
     "output_type": "display_data"
    },
    {
     "data": {
      "text/html": [
       "<pre>| 6600      | 48.00s        | 2.41358e+06    | 0               |</pre>"
      ],
      "text/plain": [
       "| 6600      | 48.00s        | 2.41358e+06    | 0               |"
      ]
     },
     "metadata": {},
     "output_type": "display_data"
    },
    {
     "data": {
      "text/html": [
       "<pre>| 6610      | 48.07s        | 2.54705e+06    | 0               |</pre>"
      ],
      "text/plain": [
       "| 6610      | 48.07s        | 2.54705e+06    | 0               |"
      ]
     },
     "metadata": {},
     "output_type": "display_data"
    },
    {
     "data": {
      "text/html": [
       "<pre>| 6620      | 48.15s        | 2.44766e+06    | 0               |</pre>"
      ],
      "text/plain": [
       "| 6620      | 48.15s        | 2.44766e+06    | 0               |"
      ]
     },
     "metadata": {},
     "output_type": "display_data"
    },
    {
     "data": {
      "text/html": [
       "<pre>| 6630      | 48.23s        | 2.45518e+06    | 0               |</pre>"
      ],
      "text/plain": [
       "| 6630      | 48.23s        | 2.45518e+06    | 0               |"
      ]
     },
     "metadata": {},
     "output_type": "display_data"
    },
    {
     "data": {
      "text/html": [
       "<pre>| 6640      | 48.31s        | 2.51189e+06    | 0               |</pre>"
      ],
      "text/plain": [
       "| 6640      | 48.31s        | 2.51189e+06    | 0               |"
      ]
     },
     "metadata": {},
     "output_type": "display_data"
    },
    {
     "data": {
      "text/html": [
       "<pre>| 6650      | 48.39s        | 2.21037e+06    | 0               |</pre>"
      ],
      "text/plain": [
       "| 6650      | 48.39s        | 2.21037e+06    | 0               |"
      ]
     },
     "metadata": {},
     "output_type": "display_data"
    },
    {
     "data": {
      "text/html": [
       "<pre>| 6660      | 48.46s        | 2.47702e+06    | 0               |</pre>"
      ],
      "text/plain": [
       "| 6660      | 48.46s        | 2.47702e+06    | 0               |"
      ]
     },
     "metadata": {},
     "output_type": "display_data"
    },
    {
     "data": {
      "text/html": [
       "<pre>| 6670      | 48.54s        | 2.33745e+06    | 0               |</pre>"
      ],
      "text/plain": [
       "| 6670      | 48.54s        | 2.33745e+06    | 0               |"
      ]
     },
     "metadata": {},
     "output_type": "display_data"
    },
    {
     "data": {
      "text/html": [
       "<pre>| 6680      | 48.61s        | 2.47368e+06    | 0               |</pre>"
      ],
      "text/plain": [
       "| 6680      | 48.61s        | 2.47368e+06    | 0               |"
      ]
     },
     "metadata": {},
     "output_type": "display_data"
    },
    {
     "data": {
      "text/html": [
       "<pre>| 6690      | 48.69s        | 2.57309e+06    | 0               |</pre>"
      ],
      "text/plain": [
       "| 6690      | 48.69s        | 2.57309e+06    | 0               |"
      ]
     },
     "metadata": {},
     "output_type": "display_data"
    },
    {
     "data": {
      "text/html": [
       "<pre>| 6700      | 48.76s        | 3.21108e+06    | 0               |</pre>"
      ],
      "text/plain": [
       "| 6700      | 48.76s        | 3.21108e+06    | 0               |"
      ]
     },
     "metadata": {},
     "output_type": "display_data"
    },
    {
     "data": {
      "text/html": [
       "<pre>| 6710      | 48.83s        | 2.59856e+06    | 0               |</pre>"
      ],
      "text/plain": [
       "| 6710      | 48.83s        | 2.59856e+06    | 0               |"
      ]
     },
     "metadata": {},
     "output_type": "display_data"
    },
    {
     "data": {
      "text/html": [
       "<pre>| 6720      | 48.90s        | 2.51843e+06    | 0               |</pre>"
      ],
      "text/plain": [
       "| 6720      | 48.90s        | 2.51843e+06    | 0               |"
      ]
     },
     "metadata": {},
     "output_type": "display_data"
    },
    {
     "data": {
      "text/html": [
       "<pre>| 6730      | 48.97s        | 2.56519e+06    | 0               |</pre>"
      ],
      "text/plain": [
       "| 6730      | 48.97s        | 2.56519e+06    | 0               |"
      ]
     },
     "metadata": {},
     "output_type": "display_data"
    },
    {
     "data": {
      "text/html": [
       "<pre>| 6740      | 49.05s        | 2.46704e+06    | 0               |</pre>"
      ],
      "text/plain": [
       "| 6740      | 49.05s        | 2.46704e+06    | 0               |"
      ]
     },
     "metadata": {},
     "output_type": "display_data"
    },
    {
     "data": {
      "text/html": [
       "<pre>| 6750      | 49.12s        | 2.56949e+06    | 0               |</pre>"
      ],
      "text/plain": [
       "| 6750      | 49.12s        | 2.56949e+06    | 0               |"
      ]
     },
     "metadata": {},
     "output_type": "display_data"
    },
    {
     "data": {
      "text/html": [
       "<pre>| 6760      | 49.19s        | 2.58358e+06    | 0               |</pre>"
      ],
      "text/plain": [
       "| 6760      | 49.19s        | 2.58358e+06    | 0               |"
      ]
     },
     "metadata": {},
     "output_type": "display_data"
    },
    {
     "data": {
      "text/html": [
       "<pre>| 6770      | 49.27s        | 2.66372e+06    | 0               |</pre>"
      ],
      "text/plain": [
       "| 6770      | 49.27s        | 2.66372e+06    | 0               |"
      ]
     },
     "metadata": {},
     "output_type": "display_data"
    },
    {
     "data": {
      "text/html": [
       "<pre>| 6780      | 49.34s        | 2.63507e+06    | 0               |</pre>"
      ],
      "text/plain": [
       "| 6780      | 49.34s        | 2.63507e+06    | 0               |"
      ]
     },
     "metadata": {},
     "output_type": "display_data"
    },
    {
     "data": {
      "text/html": [
       "<pre>| 6790      | 49.42s        | 2.50607e+06    | 0               |</pre>"
      ],
      "text/plain": [
       "| 6790      | 49.42s        | 2.50607e+06    | 0               |"
      ]
     },
     "metadata": {},
     "output_type": "display_data"
    },
    {
     "data": {
      "text/html": [
       "<pre>| 6800      | 49.49s        | 2.5467e+06     | 0               |</pre>"
      ],
      "text/plain": [
       "| 6800      | 49.49s        | 2.5467e+06     | 0               |"
      ]
     },
     "metadata": {},
     "output_type": "display_data"
    },
    {
     "data": {
      "text/html": [
       "<pre>| 6810      | 49.57s        | 2.5767e+06     | 0               |</pre>"
      ],
      "text/plain": [
       "| 6810      | 49.57s        | 2.5767e+06     | 0               |"
      ]
     },
     "metadata": {},
     "output_type": "display_data"
    },
    {
     "data": {
      "text/html": [
       "<pre>| 6820      | 49.64s        | 2.58467e+06    | 0               |</pre>"
      ],
      "text/plain": [
       "| 6820      | 49.64s        | 2.58467e+06    | 0               |"
      ]
     },
     "metadata": {},
     "output_type": "display_data"
    },
    {
     "data": {
      "text/html": [
       "<pre>| 6830      | 49.72s        | 2.63281e+06    | 0               |</pre>"
      ],
      "text/plain": [
       "| 6830      | 49.72s        | 2.63281e+06    | 0               |"
      ]
     },
     "metadata": {},
     "output_type": "display_data"
    },
    {
     "data": {
      "text/html": [
       "<pre>| 6840      | 49.79s        | 2.59782e+06    | 0               |</pre>"
      ],
      "text/plain": [
       "| 6840      | 49.79s        | 2.59782e+06    | 0               |"
      ]
     },
     "metadata": {},
     "output_type": "display_data"
    },
    {
     "data": {
      "text/html": [
       "<pre>| 6850      | 49.86s        | 2.64875e+06    | 0               |</pre>"
      ],
      "text/plain": [
       "| 6850      | 49.86s        | 2.64875e+06    | 0               |"
      ]
     },
     "metadata": {},
     "output_type": "display_data"
    },
    {
     "data": {
      "text/html": [
       "<pre>| 6860      | 49.93s        | 2.55805e+06    | 0               |</pre>"
      ],
      "text/plain": [
       "| 6860      | 49.93s        | 2.55805e+06    | 0               |"
      ]
     },
     "metadata": {},
     "output_type": "display_data"
    },
    {
     "data": {
      "text/html": [
       "<pre>| 6870      | 50.01s        | 2.52189e+06    | 0               |</pre>"
      ],
      "text/plain": [
       "| 6870      | 50.01s        | 2.52189e+06    | 0               |"
      ]
     },
     "metadata": {},
     "output_type": "display_data"
    },
    {
     "data": {
      "text/html": [
       "<pre>| 6880      | 50.08s        | 2.55343e+06    | 0               |</pre>"
      ],
      "text/plain": [
       "| 6880      | 50.08s        | 2.55343e+06    | 0               |"
      ]
     },
     "metadata": {},
     "output_type": "display_data"
    },
    {
     "data": {
      "text/html": [
       "<pre>| 6890      | 50.15s        | 2.58977e+06    | 0               |</pre>"
      ],
      "text/plain": [
       "| 6890      | 50.15s        | 2.58977e+06    | 0               |"
      ]
     },
     "metadata": {},
     "output_type": "display_data"
    },
    {
     "data": {
      "text/html": [
       "<pre>| 6900      | 50.23s        | 2.51018e+06    | 0               |</pre>"
      ],
      "text/plain": [
       "| 6900      | 50.23s        | 2.51018e+06    | 0               |"
      ]
     },
     "metadata": {},
     "output_type": "display_data"
    },
    {
     "data": {
      "text/html": [
       "<pre>| 6910      | 50.30s        | 2.57778e+06    | 0               |</pre>"
      ],
      "text/plain": [
       "| 6910      | 50.30s        | 2.57778e+06    | 0               |"
      ]
     },
     "metadata": {},
     "output_type": "display_data"
    },
    {
     "data": {
      "text/html": [
       "<pre>| 6920      | 50.38s        | 2.33507e+06    | 0               |</pre>"
      ],
      "text/plain": [
       "| 6920      | 50.38s        | 2.33507e+06    | 0               |"
      ]
     },
     "metadata": {},
     "output_type": "display_data"
    },
    {
     "data": {
      "text/html": [
       "<pre>| 6930      | 50.45s        | 2.62117e+06    | 0               |</pre>"
      ],
      "text/plain": [
       "| 6930      | 50.45s        | 2.62117e+06    | 0               |"
      ]
     },
     "metadata": {},
     "output_type": "display_data"
    },
    {
     "data": {
      "text/html": [
       "<pre>| 6940      | 50.53s        | 2.45978e+06    | 0               |</pre>"
      ],
      "text/plain": [
       "| 6940      | 50.53s        | 2.45978e+06    | 0               |"
      ]
     },
     "metadata": {},
     "output_type": "display_data"
    },
    {
     "data": {
      "text/html": [
       "<pre>| 6950      | 50.60s        | 2.39909e+06    | 0               |</pre>"
      ],
      "text/plain": [
       "| 6950      | 50.60s        | 2.39909e+06    | 0               |"
      ]
     },
     "metadata": {},
     "output_type": "display_data"
    },
    {
     "data": {
      "text/html": [
       "<pre>| 6960      | 50.67s        | 2.59599e+06    | 0               |</pre>"
      ],
      "text/plain": [
       "| 6960      | 50.67s        | 2.59599e+06    | 0               |"
      ]
     },
     "metadata": {},
     "output_type": "display_data"
    },
    {
     "data": {
      "text/html": [
       "<pre>| 6970      | 50.75s        | 2.45027e+06    | 0               |</pre>"
      ],
      "text/plain": [
       "| 6970      | 50.75s        | 2.45027e+06    | 0               |"
      ]
     },
     "metadata": {},
     "output_type": "display_data"
    },
    {
     "data": {
      "text/html": [
       "<pre>| 6980      | 50.82s        | 2.50675e+06    | 0               |</pre>"
      ],
      "text/plain": [
       "| 6980      | 50.82s        | 2.50675e+06    | 0               |"
      ]
     },
     "metadata": {},
     "output_type": "display_data"
    },
    {
     "data": {
      "text/html": [
       "<pre>| 6990      | 50.90s        | 2.56161e+06    | 0               |</pre>"
      ],
      "text/plain": [
       "| 6990      | 50.90s        | 2.56161e+06    | 0               |"
      ]
     },
     "metadata": {},
     "output_type": "display_data"
    },
    {
     "data": {
      "text/html": [
       "<pre>| 7000      | 50.97s        | 2.45978e+06    | 0               |</pre>"
      ],
      "text/plain": [
       "| 7000      | 50.97s        | 2.45978e+06    | 0               |"
      ]
     },
     "metadata": {},
     "output_type": "display_data"
    },
    {
     "data": {
      "text/html": [
       "<pre>| 7010      | 51.05s        | 2.52362e+06    | 0               |</pre>"
      ],
      "text/plain": [
       "| 7010      | 51.05s        | 2.52362e+06    | 0               |"
      ]
     },
     "metadata": {},
     "output_type": "display_data"
    },
    {
     "data": {
      "text/html": [
       "<pre>| 7020      | 51.12s        | 2.44473e+06    | 0               |</pre>"
      ],
      "text/plain": [
       "| 7020      | 51.12s        | 2.44473e+06    | 0               |"
      ]
     },
     "metadata": {},
     "output_type": "display_data"
    },
    {
     "data": {
      "text/html": [
       "<pre>| 7030      | 51.20s        | 2.39253e+06    | 0               |</pre>"
      ],
      "text/plain": [
       "| 7030      | 51.20s        | 2.39253e+06    | 0               |"
      ]
     },
     "metadata": {},
     "output_type": "display_data"
    },
    {
     "data": {
      "text/html": [
       "<pre>| 7040      | 51.27s        | 2.47102e+06    | 0               |</pre>"
      ],
      "text/plain": [
       "| 7040      | 51.27s        | 2.47102e+06    | 0               |"
      ]
     },
     "metadata": {},
     "output_type": "display_data"
    },
    {
     "data": {
      "text/html": [
       "<pre>| 7050      | 51.35s        | 2.63962e+06    | 0               |</pre>"
      ],
      "text/plain": [
       "| 7050      | 51.35s        | 2.63962e+06    | 0               |"
      ]
     },
     "metadata": {},
     "output_type": "display_data"
    },
    {
     "data": {
      "text/html": [
       "<pre>| 7060      | 51.42s        | 2.57309e+06    | 0               |</pre>"
      ],
      "text/plain": [
       "| 7060      | 51.42s        | 2.57309e+06    | 0               |"
      ]
     },
     "metadata": {},
     "output_type": "display_data"
    },
    {
     "data": {
      "text/html": [
       "<pre>| 7070      | 51.50s        | 2.50231e+06    | 0               |</pre>"
      ],
      "text/plain": [
       "| 7070      | 51.50s        | 2.50231e+06    | 0               |"
      ]
     },
     "metadata": {},
     "output_type": "display_data"
    },
    {
     "data": {
      "text/html": [
       "<pre>| 7080      | 51.57s        | 2.62566e+06    | 0               |</pre>"
      ],
      "text/plain": [
       "| 7080      | 51.57s        | 2.62566e+06    | 0               |"
      ]
     },
     "metadata": {},
     "output_type": "display_data"
    },
    {
     "data": {
      "text/html": [
       "<pre>| 7090      | 51.64s        | 2.63734e+06    | 0               |</pre>"
      ],
      "text/plain": [
       "| 7090      | 51.64s        | 2.63734e+06    | 0               |"
      ]
     },
     "metadata": {},
     "output_type": "display_data"
    },
    {
     "data": {
      "text/html": [
       "<pre>| 7100      | 51.72s        | 2.58213e+06    | 0               |</pre>"
      ],
      "text/plain": [
       "| 7100      | 51.72s        | 2.58213e+06    | 0               |"
      ]
     },
     "metadata": {},
     "output_type": "display_data"
    },
    {
     "data": {
      "text/html": [
       "<pre>| 7110      | 51.79s        | 2.48036e+06    | 0               |</pre>"
      ],
      "text/plain": [
       "| 7110      | 51.79s        | 2.48036e+06    | 0               |"
      ]
     },
     "metadata": {},
     "output_type": "display_data"
    },
    {
     "data": {
      "text/html": [
       "<pre>| 7120      | 51.86s        | 2.55449e+06    | 0               |</pre>"
      ],
      "text/plain": [
       "| 7120      | 51.86s        | 2.55449e+06    | 0               |"
      ]
     },
     "metadata": {},
     "output_type": "display_data"
    },
    {
     "data": {
      "text/html": [
       "<pre>| 7130      | 51.94s        | 2.56985e+06    | 0               |</pre>"
      ],
      "text/plain": [
       "| 7130      | 51.94s        | 2.56985e+06    | 0               |"
      ]
     },
     "metadata": {},
     "output_type": "display_data"
    },
    {
     "data": {
      "text/html": [
       "<pre>| 7140      | 52.01s        | 2.60482e+06    | 0               |</pre>"
      ],
      "text/plain": [
       "| 7140      | 52.01s        | 2.60482e+06    | 0               |"
      ]
     },
     "metadata": {},
     "output_type": "display_data"
    },
    {
     "data": {
      "text/html": [
       "<pre>| 7150      | 52.08s        | 2.4405e+06     | 0               |</pre>"
      ],
      "text/plain": [
       "| 7150      | 52.08s        | 2.4405e+06     | 0               |"
      ]
     },
     "metadata": {},
     "output_type": "display_data"
    },
    {
     "data": {
      "text/html": [
       "<pre>| 7160      | 52.16s        | 2.58576e+06    | 0               |</pre>"
      ],
      "text/plain": [
       "| 7160      | 52.16s        | 2.58576e+06    | 0               |"
      ]
     },
     "metadata": {},
     "output_type": "display_data"
    },
    {
     "data": {
      "text/html": [
       "<pre>| 7170      | 52.23s        | 2.50061e+06    | 0               |</pre>"
      ],
      "text/plain": [
       "| 7170      | 52.23s        | 2.50061e+06    | 0               |"
      ]
     },
     "metadata": {},
     "output_type": "display_data"
    },
    {
     "data": {
      "text/html": [
       "<pre>| 7180      | 52.31s        | 2.52987e+06    | 0               |</pre>"
      ],
      "text/plain": [
       "| 7180      | 52.31s        | 2.52987e+06    | 0               |"
      ]
     },
     "metadata": {},
     "output_type": "display_data"
    },
    {
     "data": {
      "text/html": [
       "<pre>| 7190      | 52.38s        | 2.46473e+06    | 0               |</pre>"
      ],
      "text/plain": [
       "| 7190      | 52.38s        | 2.46473e+06    | 0               |"
      ]
     },
     "metadata": {},
     "output_type": "display_data"
    },
    {
     "data": {
      "text/html": [
       "<pre>| 7200      | 52.46s        | 2.56054e+06    | 0               |</pre>"
      ],
      "text/plain": [
       "| 7200      | 52.46s        | 2.56054e+06    | 0               |"
      ]
     },
     "metadata": {},
     "output_type": "display_data"
    },
    {
     "data": {
      "text/html": [
       "<pre>| 7210      | 52.53s        | 2.38662e+06    | 0               |</pre>"
      ],
      "text/plain": [
       "| 7210      | 52.53s        | 2.38662e+06    | 0               |"
      ]
     },
     "metadata": {},
     "output_type": "display_data"
    },
    {
     "data": {
      "text/html": [
       "<pre>| 7220      | 52.61s        | 2.59379e+06    | 0               |</pre>"
      ],
      "text/plain": [
       "| 7220      | 52.61s        | 2.59379e+06    | 0               |"
      ]
     },
     "metadata": {},
     "output_type": "display_data"
    },
    {
     "data": {
      "text/html": [
       "<pre>| 7230      | 52.68s        | 2.71367e+06    | 0               |</pre>"
      ],
      "text/plain": [
       "| 7230      | 52.68s        | 2.71367e+06    | 0               |"
      ]
     },
     "metadata": {},
     "output_type": "display_data"
    },
    {
     "data": {
      "text/html": [
       "<pre>| 7240      | 52.75s        | 2.55024e+06    | 0               |</pre>"
      ],
      "text/plain": [
       "| 7240      | 52.75s        | 2.55024e+06    | 0               |"
      ]
     },
     "metadata": {},
     "output_type": "display_data"
    },
    {
     "data": {
      "text/html": [
       "<pre>| 7250      | 52.83s        | 2.56161e+06    | 0               |</pre>"
      ],
      "text/plain": [
       "| 7250      | 52.83s        | 2.56161e+06    | 0               |"
      ]
     },
     "metadata": {},
     "output_type": "display_data"
    },
    {
     "data": {
      "text/html": [
       "<pre>| 7260      | 52.90s        | 2.64151e+06    | 0               |</pre>"
      ],
      "text/plain": [
       "| 7260      | 52.90s        | 2.64151e+06    | 0               |"
      ]
     },
     "metadata": {},
     "output_type": "display_data"
    },
    {
     "data": {
      "text/html": [
       "<pre>| 7270      | 52.97s        | 2.63621e+06    | 0               |</pre>"
      ],
      "text/plain": [
       "| 7270      | 52.97s        | 2.63621e+06    | 0               |"
      ]
     },
     "metadata": {},
     "output_type": "display_data"
    },
    {
     "data": {
      "text/html": [
       "<pre>| 7280      | 53.04s        | 2.38137e+06    | 0               |</pre>"
      ],
      "text/plain": [
       "| 7280      | 53.04s        | 2.38137e+06    | 0               |"
      ]
     },
     "metadata": {},
     "output_type": "display_data"
    },
    {
     "data": {
      "text/html": [
       "<pre>| 7290      | 53.12s        | 2.41548e+06    | 0               |</pre>"
      ],
      "text/plain": [
       "| 7290      | 53.12s        | 2.41548e+06    | 0               |"
      ]
     },
     "metadata": {},
     "output_type": "display_data"
    },
    {
     "data": {
      "text/html": [
       "<pre>| 7300      | 53.19s        | 2.5609e+06     | 0               |</pre>"
      ],
      "text/plain": [
       "| 7300      | 53.19s        | 2.5609e+06     | 0               |"
      ]
     },
     "metadata": {},
     "output_type": "display_data"
    },
    {
     "data": {
      "text/html": [
       "<pre>| 7310      | 53.27s        | 2.36208e+06    | 0               |</pre>"
      ],
      "text/plain": [
       "| 7310      | 53.27s        | 2.36208e+06    | 0               |"
      ]
     },
     "metadata": {},
     "output_type": "display_data"
    },
    {
     "data": {
      "text/html": [
       "<pre>| 7320      | 53.34s        | 2.3919e+06     | 0               |</pre>"
      ],
      "text/plain": [
       "| 7320      | 53.34s        | 2.3919e+06     | 0               |"
      ]
     },
     "metadata": {},
     "output_type": "display_data"
    },
    {
     "data": {
      "text/html": [
       "<pre>| 7330      | 53.42s        | 2.49349e+06    | 0               |</pre>"
      ],
      "text/plain": [
       "| 7330      | 53.42s        | 2.49349e+06    | 0               |"
      ]
     },
     "metadata": {},
     "output_type": "display_data"
    },
    {
     "data": {
      "text/html": [
       "<pre>| 7340      | 53.50s        | 2.47003e+06    | 0               |</pre>"
      ],
      "text/plain": [
       "| 7340      | 53.50s        | 2.47003e+06    | 0               |"
      ]
     },
     "metadata": {},
     "output_type": "display_data"
    },
    {
     "data": {
      "text/html": [
       "<pre>| 7350      | 53.57s        | 2.65027e+06    | 0               |</pre>"
      ],
      "text/plain": [
       "| 7350      | 53.57s        | 2.65027e+06    | 0               |"
      ]
     },
     "metadata": {},
     "output_type": "display_data"
    },
    {
     "data": {
      "text/html": [
       "<pre>| 7360      | 53.64s        | 2.61855e+06    | 0               |</pre>"
      ],
      "text/plain": [
       "| 7360      | 53.64s        | 2.61855e+06    | 0               |"
      ]
     },
     "metadata": {},
     "output_type": "display_data"
    },
    {
     "data": {
      "text/html": [
       "<pre>| 7370      | 53.72s        | 2.74488e+06    | 0               |</pre>"
      ],
      "text/plain": [
       "| 7370      | 53.72s        | 2.74488e+06    | 0               |"
      ]
     },
     "metadata": {},
     "output_type": "display_data"
    },
    {
     "data": {
      "text/html": [
       "<pre>| 7380      | 53.79s        | 2.52813e+06    | 0               |</pre>"
      ],
      "text/plain": [
       "| 7380      | 53.79s        | 2.52813e+06    | 0               |"
      ]
     },
     "metadata": {},
     "output_type": "display_data"
    },
    {
     "data": {
      "text/html": [
       "<pre>| 7390      | 53.86s        | 2.6347e+06     | 0               |</pre>"
      ],
      "text/plain": [
       "| 7390      | 53.86s        | 2.6347e+06     | 0               |"
      ]
     },
     "metadata": {},
     "output_type": "display_data"
    },
    {
     "data": {
      "text/html": [
       "<pre>| 7400      | 53.92s        | 2.50163e+06    | 0               |</pre>"
      ],
      "text/plain": [
       "| 7400      | 53.92s        | 2.50163e+06    | 0               |"
      ]
     },
     "metadata": {},
     "output_type": "display_data"
    },
    {
     "data": {
      "text/html": [
       "<pre>| 7410      | 54.00s        | 2.66102e+06    | 0               |</pre>"
      ],
      "text/plain": [
       "| 7410      | 54.00s        | 2.66102e+06    | 0               |"
      ]
     },
     "metadata": {},
     "output_type": "display_data"
    },
    {
     "data": {
      "text/html": [
       "<pre>| 7420      | 54.07s        | 2.63356e+06    | 0               |</pre>"
      ],
      "text/plain": [
       "| 7420      | 54.07s        | 2.63356e+06    | 0               |"
      ]
     },
     "metadata": {},
     "output_type": "display_data"
    },
    {
     "data": {
      "text/html": [
       "<pre>| 7430      | 54.14s        | 2.61334e+06    | 0               |</pre>"
      ],
      "text/plain": [
       "| 7430      | 54.14s        | 2.61334e+06    | 0               |"
      ]
     },
     "metadata": {},
     "output_type": "display_data"
    },
    {
     "data": {
      "text/html": [
       "<pre>| 7440      | 54.21s        | 2.59123e+06    | 0               |</pre>"
      ],
      "text/plain": [
       "| 7440      | 54.21s        | 2.59123e+06    | 0               |"
      ]
     },
     "metadata": {},
     "output_type": "display_data"
    },
    {
     "data": {
      "text/html": [
       "<pre>| 7450      | 54.28s        | 2.54494e+06    | 0               |</pre>"
      ],
      "text/plain": [
       "| 7450      | 54.28s        | 2.54494e+06    | 0               |"
      ]
     },
     "metadata": {},
     "output_type": "display_data"
    },
    {
     "data": {
      "text/html": [
       "<pre>| 7460      | 54.35s        | 2.64989e+06    | 0               |</pre>"
      ],
      "text/plain": [
       "| 7460      | 54.35s        | 2.64989e+06    | 0               |"
      ]
     },
     "metadata": {},
     "output_type": "display_data"
    },
    {
     "data": {
      "text/html": [
       "<pre>| 7470      | 54.43s        | 2.68827e+06    | 0               |</pre>"
      ],
      "text/plain": [
       "| 7470      | 54.43s        | 2.68827e+06    | 0               |"
      ]
     },
     "metadata": {},
     "output_type": "display_data"
    },
    {
     "data": {
      "text/html": [
       "<pre>| 7480      | 54.50s        | 2.58503e+06    | 0               |</pre>"
      ],
      "text/plain": [
       "| 7480      | 54.50s        | 2.58503e+06    | 0               |"
      ]
     },
     "metadata": {},
     "output_type": "display_data"
    },
    {
     "data": {
      "text/html": [
       "<pre>| 7490      | 54.57s        | 2.65717e+06    | 0               |</pre>"
      ],
      "text/plain": [
       "| 7490      | 54.57s        | 2.65717e+06    | 0               |"
      ]
     },
     "metadata": {},
     "output_type": "display_data"
    },
    {
     "data": {
      "text/html": [
       "<pre>| 7500      | 54.64s        | 2.66991e+06    | 0               |</pre>"
      ],
      "text/plain": [
       "| 7500      | 54.64s        | 2.66991e+06    | 0               |"
      ]
     },
     "metadata": {},
     "output_type": "display_data"
    },
    {
     "data": {
      "text/html": [
       "<pre>| 7510      | 54.71s        | 2.71287e+06    | 0               |</pre>"
      ],
      "text/plain": [
       "| 7510      | 54.71s        | 2.71287e+06    | 0               |"
      ]
     },
     "metadata": {},
     "output_type": "display_data"
    },
    {
     "data": {
      "text/html": [
       "<pre>| 7520      | 54.79s        | 2.58612e+06    | 0               |</pre>"
      ],
      "text/plain": [
       "| 7520      | 54.79s        | 2.58612e+06    | 0               |"
      ]
     },
     "metadata": {},
     "output_type": "display_data"
    },
    {
     "data": {
      "text/html": [
       "<pre>| 7530      | 54.86s        | 2.61557e+06    | 0               |</pre>"
      ],
      "text/plain": [
       "| 7530      | 54.86s        | 2.61557e+06    | 0               |"
      ]
     },
     "metadata": {},
     "output_type": "display_data"
    },
    {
     "data": {
      "text/html": [
       "<pre>| 7540      | 54.93s        | 2.57057e+06    | 0               |</pre>"
      ],
      "text/plain": [
       "| 7540      | 54.93s        | 2.57057e+06    | 0               |"
      ]
     },
     "metadata": {},
     "output_type": "display_data"
    },
    {
     "data": {
      "text/html": [
       "<pre>| 7550      | 55.00s        | 2.65832e+06    | 0               |</pre>"
      ],
      "text/plain": [
       "| 7550      | 55.00s        | 2.65832e+06    | 0               |"
      ]
     },
     "metadata": {},
     "output_type": "display_data"
    },
    {
     "data": {
      "text/html": [
       "<pre>| 7560      | 55.07s        | 2.63583e+06    | 0               |</pre>"
      ],
      "text/plain": [
       "| 7560      | 55.07s        | 2.63583e+06    | 0               |"
      ]
     },
     "metadata": {},
     "output_type": "display_data"
    },
    {
     "data": {
      "text/html": [
       "<pre>| 7570      | 55.14s        | 2.63205e+06    | 0               |</pre>"
      ],
      "text/plain": [
       "| 7570      | 55.14s        | 2.63205e+06    | 0               |"
      ]
     },
     "metadata": {},
     "output_type": "display_data"
    },
    {
     "data": {
      "text/html": [
       "<pre>| 7580      | 55.22s        | 2.63243e+06    | 0               |</pre>"
      ],
      "text/plain": [
       "| 7580      | 55.22s        | 2.63243e+06    | 0               |"
      ]
     },
     "metadata": {},
     "output_type": "display_data"
    },
    {
     "data": {
      "text/html": [
       "<pre>| 7590      | 55.28s        | 2.67769e+06    | 0               |</pre>"
      ],
      "text/plain": [
       "| 7590      | 55.28s        | 2.67769e+06    | 0               |"
      ]
     },
     "metadata": {},
     "output_type": "display_data"
    },
    {
     "data": {
      "text/html": [
       "<pre>| 7600      | 55.36s        | 2.7029e+06     | 0               |</pre>"
      ],
      "text/plain": [
       "| 7600      | 55.36s        | 2.7029e+06     | 0               |"
      ]
     },
     "metadata": {},
     "output_type": "display_data"
    },
    {
     "data": {
      "text/html": [
       "<pre>| 7610      | 55.43s        | 2.6867e+06     | 0               |</pre>"
      ],
      "text/plain": [
       "| 7610      | 55.43s        | 2.6867e+06     | 0               |"
      ]
     },
     "metadata": {},
     "output_type": "display_data"
    },
    {
     "data": {
      "text/html": [
       "<pre>| 7620      | 55.50s        | 2.61632e+06    | 0               |</pre>"
      ],
      "text/plain": [
       "| 7620      | 55.50s        | 2.61632e+06    | 0               |"
      ]
     },
     "metadata": {},
     "output_type": "display_data"
    },
    {
     "data": {
      "text/html": [
       "<pre>| 7630      | 55.57s        | 3.0481e+06     | 0               |</pre>"
      ],
      "text/plain": [
       "| 7630      | 55.57s        | 3.0481e+06     | 0               |"
      ]
     },
     "metadata": {},
     "output_type": "display_data"
    },
    {
     "data": {
      "text/html": [
       "<pre>| 7640      | 55.64s        | 2.54247e+06    | 0               |</pre>"
      ],
      "text/plain": [
       "| 7640      | 55.64s        | 2.54247e+06    | 0               |"
      ]
     },
     "metadata": {},
     "output_type": "display_data"
    },
    {
     "data": {
      "text/html": [
       "<pre>| 7650      | 55.71s        | 2.58722e+06    | 0               |</pre>"
      ],
      "text/plain": [
       "| 7650      | 55.71s        | 2.58722e+06    | 0               |"
      ]
     },
     "metadata": {},
     "output_type": "display_data"
    },
    {
     "data": {
      "text/html": [
       "<pre>| 7660      | 55.78s        | 2.61743e+06    | 0               |</pre>"
      ],
      "text/plain": [
       "| 7660      | 55.78s        | 2.61743e+06    | 0               |"
      ]
     },
     "metadata": {},
     "output_type": "display_data"
    },
    {
     "data": {
      "text/html": [
       "<pre>| 7670      | 55.86s        | 2.50744e+06    | 0               |</pre>"
      ],
      "text/plain": [
       "| 7670      | 55.86s        | 2.50744e+06    | 0               |"
      ]
     },
     "metadata": {},
     "output_type": "display_data"
    },
    {
     "data": {
      "text/html": [
       "<pre>| 7680      | 55.93s        | 2.61e+06       | 0               |</pre>"
      ],
      "text/plain": [
       "| 7680      | 55.93s        | 2.61e+06       | 0               |"
      ]
     },
     "metadata": {},
     "output_type": "display_data"
    },
    {
     "data": {
      "text/html": [
       "<pre>| 7690      | 56.00s        | 2.55343e+06    | 0               |</pre>"
      ],
      "text/plain": [
       "| 7690      | 56.00s        | 2.55343e+06    | 0               |"
      ]
     },
     "metadata": {},
     "output_type": "display_data"
    },
    {
     "data": {
      "text/html": [
       "<pre>| 7700      | 56.07s        | 2.63356e+06    | 0               |</pre>"
      ],
      "text/plain": [
       "| 7700      | 56.07s        | 2.63356e+06    | 0               |"
      ]
     },
     "metadata": {},
     "output_type": "display_data"
    },
    {
     "data": {
      "text/html": [
       "<pre>| 7710      | 56.15s        | 2.65564e+06    | 0               |</pre>"
      ],
      "text/plain": [
       "| 7710      | 56.15s        | 2.65564e+06    | 0               |"
      ]
     },
     "metadata": {},
     "output_type": "display_data"
    },
    {
     "data": {
      "text/html": [
       "<pre>| 7720      | 56.22s        | 2.61037e+06    | 0               |</pre>"
      ],
      "text/plain": [
       "| 7720      | 56.22s        | 2.61037e+06    | 0               |"
      ]
     },
     "metadata": {},
     "output_type": "display_data"
    },
    {
     "data": {
      "text/html": [
       "<pre>| 7730      | 56.29s        | 2.67925e+06    | 0               |</pre>"
      ],
      "text/plain": [
       "| 7730      | 56.29s        | 2.67925e+06    | 0               |"
      ]
     },
     "metadata": {},
     "output_type": "display_data"
    },
    {
     "data": {
      "text/html": [
       "<pre>| 7740      | 56.36s        | 2.55876e+06    | 0               |</pre>"
      ],
      "text/plain": [
       "| 7740      | 56.36s        | 2.55876e+06    | 0               |"
      ]
     },
     "metadata": {},
     "output_type": "display_data"
    },
    {
     "data": {
      "text/html": [
       "<pre>| 7750      | 56.44s        | 2.64913e+06    | 0               |</pre>"
      ],
      "text/plain": [
       "| 7750      | 56.44s        | 2.64913e+06    | 0               |"
      ]
     },
     "metadata": {},
     "output_type": "display_data"
    },
    {
     "data": {
      "text/html": [
       "<pre>| 7760      | 56.51s        | 2.67419e+06    | 0               |</pre>"
      ],
      "text/plain": [
       "| 7760      | 56.51s        | 2.67419e+06    | 0               |"
      ]
     },
     "metadata": {},
     "output_type": "display_data"
    },
    {
     "data": {
      "text/html": [
       "<pre>| 7770      | 56.58s        | 2.6541e+06     | 0               |</pre>"
      ],
      "text/plain": [
       "| 7770      | 56.58s        | 2.6541e+06     | 0               |"
      ]
     },
     "metadata": {},
     "output_type": "display_data"
    },
    {
     "data": {
      "text/html": [
       "<pre>| 7780      | 56.65s        | 2.63168e+06    | 0               |</pre>"
      ],
      "text/plain": [
       "| 7780      | 56.65s        | 2.63168e+06    | 0               |"
      ]
     },
     "metadata": {},
     "output_type": "display_data"
    },
    {
     "data": {
      "text/html": [
       "<pre>| 7790      | 56.72s        | 2.58685e+06    | 0               |</pre>"
      ],
      "text/plain": [
       "| 7790      | 56.72s        | 2.58685e+06    | 0               |"
      ]
     },
     "metadata": {},
     "output_type": "display_data"
    },
    {
     "data": {
      "text/html": [
       "<pre>| 7800      | 56.80s        | 2.65756e+06    | 0               |</pre>"
      ],
      "text/plain": [
       "| 7800      | 56.80s        | 2.65756e+06    | 0               |"
      ]
     },
     "metadata": {},
     "output_type": "display_data"
    },
    {
     "data": {
      "text/html": [
       "<pre>| 7810      | 56.87s        | 2.66025e+06    | 0               |</pre>"
      ],
      "text/plain": [
       "| 7810      | 56.87s        | 2.66025e+06    | 0               |"
      ]
     },
     "metadata": {},
     "output_type": "display_data"
    },
    {
     "data": {
      "text/html": [
       "<pre>| 7820      | 56.94s        | 2.60445e+06    | 0               |</pre>"
      ],
      "text/plain": [
       "| 7820      | 56.94s        | 2.60445e+06    | 0               |"
      ]
     },
     "metadata": {},
     "output_type": "display_data"
    },
    {
     "data": {
      "text/html": [
       "<pre>| 7830      | 57.02s        | 2.7806e+06     | 0               |</pre>"
      ],
      "text/plain": [
       "| 7830      | 57.02s        | 2.7806e+06     | 0               |"
      ]
     },
     "metadata": {},
     "output_type": "display_data"
    },
    {
     "data": {
      "text/html": [
       "<pre>| 7840      | 57.09s        | 2.59819e+06    | 0               |</pre>"
      ],
      "text/plain": [
       "| 7840      | 57.09s        | 2.59819e+06    | 0               |"
      ]
     },
     "metadata": {},
     "output_type": "display_data"
    },
    {
     "data": {
      "text/html": [
       "<pre>| 7850      | 57.16s        | 2.49755e+06    | 0               |</pre>"
      ],
      "text/plain": [
       "| 7850      | 57.16s        | 2.49755e+06    | 0               |"
      ]
     },
     "metadata": {},
     "output_type": "display_data"
    },
    {
     "data": {
      "text/html": [
       "<pre>| 7860      | 57.23s        | 2.57742e+06    | 0               |</pre>"
      ],
      "text/plain": [
       "| 7860      | 57.23s        | 2.57742e+06    | 0               |"
      ]
     },
     "metadata": {},
     "output_type": "display_data"
    },
    {
     "data": {
      "text/html": [
       "<pre>| 7870      | 57.31s        | 2.69537e+06    | 0               |</pre>"
      ],
      "text/plain": [
       "| 7870      | 57.31s        | 2.69537e+06    | 0               |"
      ]
     },
     "metadata": {},
     "output_type": "display_data"
    },
    {
     "data": {
      "text/html": [
       "<pre>| 7880      | 57.38s        | 2.61371e+06    | 0               |</pre>"
      ],
      "text/plain": [
       "| 7880      | 57.38s        | 2.61371e+06    | 0               |"
      ]
     },
     "metadata": {},
     "output_type": "display_data"
    },
    {
     "data": {
      "text/html": [
       "<pre>| 7890      | 57.46s        | 2.55059e+06    | 0               |</pre>"
      ],
      "text/plain": [
       "| 7890      | 57.46s        | 2.55059e+06    | 0               |"
      ]
     },
     "metadata": {},
     "output_type": "display_data"
    },
    {
     "data": {
      "text/html": [
       "<pre>| 7900      | 57.53s        | 2.69734e+06    | 0               |</pre>"
      ],
      "text/plain": [
       "| 7900      | 57.53s        | 2.69734e+06    | 0               |"
      ]
     },
     "metadata": {},
     "output_type": "display_data"
    },
    {
     "data": {
      "text/html": [
       "<pre>| 7910      | 57.60s        | 2.62829e+06    | 0               |</pre>"
      ],
      "text/plain": [
       "| 7910      | 57.60s        | 2.62829e+06    | 0               |"
      ]
     },
     "metadata": {},
     "output_type": "display_data"
    },
    {
     "data": {
      "text/html": [
       "<pre>| 7920      | 57.68s        | 2.60593e+06    | 0               |</pre>"
      ],
      "text/plain": [
       "| 7920      | 57.68s        | 2.60593e+06    | 0               |"
      ]
     },
     "metadata": {},
     "output_type": "display_data"
    },
    {
     "data": {
      "text/html": [
       "<pre>| 7930      | 57.75s        | 2.5659e+06     | 0               |</pre>"
      ],
      "text/plain": [
       "| 7930      | 57.75s        | 2.5659e+06     | 0               |"
      ]
     },
     "metadata": {},
     "output_type": "display_data"
    },
    {
     "data": {
      "text/html": [
       "<pre>| 7940      | 57.82s        | 2.66256e+06    | 0               |</pre>"
      ],
      "text/plain": [
       "| 7940      | 57.82s        | 2.66256e+06    | 0               |"
      ]
     },
     "metadata": {},
     "output_type": "display_data"
    },
    {
     "data": {
      "text/html": [
       "<pre>| 7950      | 57.89s        | 2.5854e+06     | 0               |</pre>"
      ],
      "text/plain": [
       "| 7950      | 57.89s        | 2.5854e+06     | 0               |"
      ]
     },
     "metadata": {},
     "output_type": "display_data"
    },
    {
     "data": {
      "text/html": [
       "<pre>| 7960      | 57.96s        | 2.56161e+06    | 0               |</pre>"
      ],
      "text/plain": [
       "| 7960      | 57.96s        | 2.56161e+06    | 0               |"
      ]
     },
     "metadata": {},
     "output_type": "display_data"
    },
    {
     "data": {
      "text/html": [
       "<pre>| 7970      | 58.04s        | 2.4611e+06     | 0               |</pre>"
      ],
      "text/plain": [
       "| 7970      | 58.04s        | 2.4611e+06     | 0               |"
      ]
     },
     "metadata": {},
     "output_type": "display_data"
    },
    {
     "data": {
      "text/html": [
       "<pre>| 7980      | 58.11s        | 2.41295e+06    | 0               |</pre>"
      ],
      "text/plain": [
       "| 7980      | 58.11s        | 2.41295e+06    | 0               |"
      ]
     },
     "metadata": {},
     "output_type": "display_data"
    },
    {
     "data": {
      "text/html": [
       "<pre>| 7990      | 58.19s        | 2.43986e+06    | 0               |</pre>"
      ],
      "text/plain": [
       "| 7990      | 58.19s        | 2.43986e+06    | 0               |"
      ]
     },
     "metadata": {},
     "output_type": "display_data"
    },
    {
     "data": {
      "text/html": [
       "<pre>| 8000      | 58.26s        | 2.55556e+06    | 0               |</pre>"
      ],
      "text/plain": [
       "| 8000      | 58.26s        | 2.55556e+06    | 0               |"
      ]
     },
     "metadata": {},
     "output_type": "display_data"
    },
    {
     "data": {
      "text/html": [
       "<pre>| 8010      | 58.34s        | 2.3262e+06     | 0               |</pre>"
      ],
      "text/plain": [
       "| 8010      | 58.34s        | 2.3262e+06     | 0               |"
      ]
     },
     "metadata": {},
     "output_type": "display_data"
    },
    {
     "data": {
      "text/html": [
       "<pre>| 8020      | 58.41s        | 2.55378e+06    | 0               |</pre>"
      ],
      "text/plain": [
       "| 8020      | 58.41s        | 2.55378e+06    | 0               |"
      ]
     },
     "metadata": {},
     "output_type": "display_data"
    },
    {
     "data": {
      "text/html": [
       "<pre>| 8030      | 58.48s        | 2.41548e+06    | 0               |</pre>"
      ],
      "text/plain": [
       "| 8030      | 58.48s        | 2.41548e+06    | 0               |"
      ]
     },
     "metadata": {},
     "output_type": "display_data"
    },
    {
     "data": {
      "text/html": [
       "<pre>| 8040      | 58.55s        | 3.50439e+06    | 0               |</pre>"
      ],
      "text/plain": [
       "| 8040      | 58.55s        | 3.50439e+06    | 0               |"
      ]
     },
     "metadata": {},
     "output_type": "display_data"
    },
    {
     "data": {
      "text/html": [
       "<pre>| 8050      | 58.61s        | 2.43759e+06    | 0               |</pre>"
      ],
      "text/plain": [
       "| 8050      | 58.61s        | 2.43759e+06    | 0               |"
      ]
     },
     "metadata": {},
     "output_type": "display_data"
    },
    {
     "data": {
      "text/html": [
       "<pre>| 8060      | 58.69s        | 2.53196e+06    | 0               |</pre>"
      ],
      "text/plain": [
       "| 8060      | 58.69s        | 2.53196e+06    | 0               |"
      ]
     },
     "metadata": {},
     "output_type": "display_data"
    },
    {
     "data": {
      "text/html": [
       "<pre>| 8070      | 58.76s        | 4.01157e+06    | 0               |</pre>"
      ],
      "text/plain": [
       "| 8070      | 58.76s        | 4.01157e+06    | 0               |"
      ]
     },
     "metadata": {},
     "output_type": "display_data"
    },
    {
     "data": {
      "text/html": [
       "<pre>| 8080      | 58.82s        | 2.4918e+06     | 0               |</pre>"
      ],
      "text/plain": [
       "| 8080      | 58.82s        | 2.4918e+06     | 0               |"
      ]
     },
     "metadata": {},
     "output_type": "display_data"
    },
    {
     "data": {
      "text/html": [
       "<pre>| 8090      | 58.90s        | 2.59929e+06    | 0               |</pre>"
      ],
      "text/plain": [
       "| 8090      | 58.90s        | 2.59929e+06    | 0               |"
      ]
     },
     "metadata": {},
     "output_type": "display_data"
    },
    {
     "data": {
      "text/html": [
       "<pre>| 8100      | 58.97s        | 2.55769e+06    | 0               |</pre>"
      ],
      "text/plain": [
       "| 8100      | 58.97s        | 2.55769e+06    | 0               |"
      ]
     },
     "metadata": {},
     "output_type": "display_data"
    },
    {
     "data": {
      "text/html": [
       "<pre>| 8110      | 59.04s        | 2.56018e+06    | 0               |</pre>"
      ],
      "text/plain": [
       "| 8110      | 59.04s        | 2.56018e+06    | 0               |"
      ]
     },
     "metadata": {},
     "output_type": "display_data"
    },
    {
     "data": {
      "text/html": [
       "<pre>| 8120      | 59.12s        | 2.50983e+06    | 0               |</pre>"
      ],
      "text/plain": [
       "| 8120      | 59.12s        | 2.50983e+06    | 0               |"
      ]
     },
     "metadata": {},
     "output_type": "display_data"
    },
    {
     "data": {
      "text/html": [
       "<pre>| 8130      | 59.19s        | 2.48003e+06    | 0               |</pre>"
      ],
      "text/plain": [
       "| 8130      | 59.19s        | 2.48003e+06    | 0               |"
      ]
     },
     "metadata": {},
     "output_type": "display_data"
    },
    {
     "data": {
      "text/html": [
       "<pre>| 8140      | 59.27s        | 2.52501e+06    | 0               |</pre>"
      ],
      "text/plain": [
       "| 8140      | 59.27s        | 2.52501e+06    | 0               |"
      ]
     },
     "metadata": {},
     "output_type": "display_data"
    },
    {
     "data": {
      "text/html": [
       "<pre>| 8150      | 59.34s        | 2.56447e+06    | 0               |</pre>"
      ],
      "text/plain": [
       "| 8150      | 59.34s        | 2.56447e+06    | 0               |"
      ]
     },
     "metadata": {},
     "output_type": "display_data"
    },
    {
     "data": {
      "text/html": [
       "<pre>| 8160      | 59.42s        | 2.4457e+06     | 0               |</pre>"
      ],
      "text/plain": [
       "| 8160      | 59.42s        | 2.4457e+06     | 0               |"
      ]
     },
     "metadata": {},
     "output_type": "display_data"
    },
    {
     "data": {
      "text/html": [
       "<pre>| 8170      | 59.49s        | 2.58031e+06    | 0               |</pre>"
      ],
      "text/plain": [
       "| 8170      | 59.49s        | 2.58031e+06    | 0               |"
      ]
     },
     "metadata": {},
     "output_type": "display_data"
    },
    {
     "data": {
      "text/html": [
       "<pre>| 8180      | 59.57s        | 2.59856e+06    | 0               |</pre>"
      ],
      "text/plain": [
       "| 8180      | 59.57s        | 2.59856e+06    | 0               |"
      ]
     },
     "metadata": {},
     "output_type": "display_data"
    },
    {
     "data": {
      "text/html": [
       "<pre>| 8190      | 59.64s        | 2.64455e+06    | 0               |</pre>"
      ],
      "text/plain": [
       "| 8190      | 59.64s        | 2.64455e+06    | 0               |"
      ]
     },
     "metadata": {},
     "output_type": "display_data"
    },
    {
     "data": {
      "text/html": [
       "<pre>| 8200      | 59.72s        | 2.48137e+06    | 0               |</pre>"
      ],
      "text/plain": [
       "| 8200      | 59.72s        | 2.48137e+06    | 0               |"
      ]
     },
     "metadata": {},
     "output_type": "display_data"
    },
    {
     "data": {
      "text/html": [
       "<pre>| 8210      | 59.79s        | 2.5894e+06     | 0               |</pre>"
      ],
      "text/plain": [
       "| 8210      | 59.79s        | 2.5894e+06     | 0               |"
      ]
     },
     "metadata": {},
     "output_type": "display_data"
    },
    {
     "data": {
      "text/html": [
       "<pre>| 8220      | 59.86s        | 2.59269e+06    | 0               |</pre>"
      ],
      "text/plain": [
       "| 8220      | 59.86s        | 2.59269e+06    | 0               |"
      ]
     },
     "metadata": {},
     "output_type": "display_data"
    },
    {
     "data": {
      "text/html": [
       "<pre>| 8230      | 59.96s        | 2.49721e+06    | 0               |</pre>"
      ],
      "text/plain": [
       "| 8230      | 59.96s        | 2.49721e+06    | 0               |"
      ]
     },
     "metadata": {},
     "output_type": "display_data"
    },
    {
     "data": {
      "text/html": [
       "<pre>| 8240      | 1m 0s         | 2.65027e+06    | 0               |</pre>"
      ],
      "text/plain": [
       "| 8240      | 1m 0s         | 2.65027e+06    | 0               |"
      ]
     },
     "metadata": {},
     "output_type": "display_data"
    },
    {
     "data": {
      "text/html": [
       "<pre>| 8250      | 1m 0s         | 2.47535e+06    | 0               |</pre>"
      ],
      "text/plain": [
       "| 8250      | 1m 0s         | 2.47535e+06    | 0               |"
      ]
     },
     "metadata": {},
     "output_type": "display_data"
    },
    {
     "data": {
      "text/html": [
       "<pre>| 8260      | 1m 0s         | 2.47602e+06    | 0               |</pre>"
      ],
      "text/plain": [
       "| 8260      | 1m 0s         | 2.47602e+06    | 0               |"
      ]
     },
     "metadata": {},
     "output_type": "display_data"
    },
    {
     "data": {
      "text/html": [
       "<pre>| 8270      | 1m 0s         | 2.52535e+06    | 0               |</pre>"
      ],
      "text/plain": [
       "| 8270      | 1m 0s         | 2.52535e+06    | 0               |"
      ]
     },
     "metadata": {},
     "output_type": "display_data"
    },
    {
     "data": {
      "text/html": [
       "<pre>| 8280      | 1m 0s         | 2.44148e+06    | 0               |</pre>"
      ],
      "text/plain": [
       "| 8280      | 1m 0s         | 2.44148e+06    | 0               |"
      ]
     },
     "metadata": {},
     "output_type": "display_data"
    },
    {
     "data": {
      "text/html": [
       "<pre>| 8290      | 1m 0s         | 2.30461e+06    | 0               |</pre>"
      ],
      "text/plain": [
       "| 8290      | 1m 0s         | 2.30461e+06    | 0               |"
      ]
     },
     "metadata": {},
     "output_type": "display_data"
    },
    {
     "data": {
      "text/html": [
       "<pre>| 8300      | 1m 0s         | 2.48003e+06    | 0               |</pre>"
      ],
      "text/plain": [
       "| 8300      | 1m 0s         | 2.48003e+06    | 0               |"
      ]
     },
     "metadata": {},
     "output_type": "display_data"
    },
    {
     "data": {
      "text/html": [
       "<pre>| 8310      | 1m 0s         | 2.58031e+06    | 0               |</pre>"
      ],
      "text/plain": [
       "| 8310      | 1m 0s         | 2.58031e+06    | 0               |"
      ]
     },
     "metadata": {},
     "output_type": "display_data"
    },
    {
     "data": {
      "text/html": [
       "<pre>| 8320      | 1m 0s         | 2.6152e+06     | 0               |</pre>"
      ],
      "text/plain": [
       "| 8320      | 1m 0s         | 2.6152e+06     | 0               |"
      ]
     },
     "metadata": {},
     "output_type": "display_data"
    },
    {
     "data": {
      "text/html": [
       "<pre>| 8330      | 1m 0s         | 2.61706e+06    | 0               |</pre>"
      ],
      "text/plain": [
       "| 8330      | 1m 0s         | 2.61706e+06    | 0               |"
      ]
     },
     "metadata": {},
     "output_type": "display_data"
    },
    {
     "data": {
      "text/html": [
       "<pre>| 8340      | 1m 0s         | 2.57959e+06    | 0               |</pre>"
      ],
      "text/plain": [
       "| 8340      | 1m 0s         | 2.57959e+06    | 0               |"
      ]
     },
     "metadata": {},
     "output_type": "display_data"
    },
    {
     "data": {
      "text/html": [
       "<pre>| 8350      | 1m 0s         | 2.47702e+06    | 0               |</pre>"
      ],
      "text/plain": [
       "| 8350      | 1m 0s         | 2.47702e+06    | 0               |"
      ]
     },
     "metadata": {},
     "output_type": "display_data"
    },
    {
     "data": {
      "text/html": [
       "<pre>| 8360      | 1m 0s         | 2.52709e+06    | 0               |</pre>"
      ],
      "text/plain": [
       "| 8360      | 1m 0s         | 2.52709e+06    | 0               |"
      ]
     },
     "metadata": {},
     "output_type": "display_data"
    },
    {
     "data": {
      "text/html": [
       "<pre>| 8370      | 1m 1s         | 2.52501e+06    | 0               |</pre>"
      ],
      "text/plain": [
       "| 8370      | 1m 1s         | 2.52501e+06    | 0               |"
      ]
     },
     "metadata": {},
     "output_type": "display_data"
    },
    {
     "data": {
      "text/html": [
       "<pre>| 8380      | 1m 1s         | 2.64037e+06    | 0               |</pre>"
      ],
      "text/plain": [
       "| 8380      | 1m 1s         | 2.64037e+06    | 0               |"
      ]
     },
     "metadata": {},
     "output_type": "display_data"
    },
    {
     "data": {
      "text/html": [
       "<pre>| 8390      | 1m 1s         | 2.55236e+06    | 0               |</pre>"
      ],
      "text/plain": [
       "| 8390      | 1m 1s         | 2.55236e+06    | 0               |"
      ]
     },
     "metadata": {},
     "output_type": "display_data"
    },
    {
     "data": {
      "text/html": [
       "<pre>| 8400      | 1m 1s         | 2.51878e+06    | 0               |</pre>"
      ],
      "text/plain": [
       "| 8400      | 1m 1s         | 2.51878e+06    | 0               |"
      ]
     },
     "metadata": {},
     "output_type": "display_data"
    },
    {
     "data": {
      "text/html": [
       "<pre>| 8410      | 1m 1s         | 2.64417e+06    | 0               |</pre>"
      ],
      "text/plain": [
       "| 8410      | 1m 1s         | 2.64417e+06    | 0               |"
      ]
     },
     "metadata": {},
     "output_type": "display_data"
    },
    {
     "data": {
      "text/html": [
       "<pre>| 8420      | 1m 1s         | 2.65295e+06    | 0               |</pre>"
      ],
      "text/plain": [
       "| 8420      | 1m 1s         | 2.65295e+06    | 0               |"
      ]
     },
     "metadata": {},
     "output_type": "display_data"
    },
    {
     "data": {
      "text/html": [
       "<pre>| 8430      | 1m 1s         | 2.46011e+06    | 0               |</pre>"
      ],
      "text/plain": [
       "| 8430      | 1m 1s         | 2.46011e+06    | 0               |"
      ]
     },
     "metadata": {},
     "output_type": "display_data"
    },
    {
     "data": {
      "text/html": [
       "<pre>| 8440      | 1m 1s         | 2.65986e+06    | 0               |</pre>"
      ],
      "text/plain": [
       "| 8440      | 1m 1s         | 2.65986e+06    | 0               |"
      ]
     },
     "metadata": {},
     "output_type": "display_data"
    },
    {
     "data": {
      "text/html": [
       "<pre>| 8450      | 1m 1s         | 2.5047e+06     | 0               |</pre>"
      ],
      "text/plain": [
       "| 8450      | 1m 1s         | 2.5047e+06     | 0               |"
      ]
     },
     "metadata": {},
     "output_type": "display_data"
    },
    {
     "data": {
      "text/html": [
       "<pre>| 8460      | 1m 1s         | 2.56698e+06    | 0               |</pre>"
      ],
      "text/plain": [
       "| 8460      | 1m 1s         | 2.56698e+06    | 0               |"
      ]
     },
     "metadata": {},
     "output_type": "display_data"
    },
    {
     "data": {
      "text/html": [
       "<pre>| 8470      | 1m 1s         | 2.6152e+06     | 0               |</pre>"
      ],
      "text/plain": [
       "| 8470      | 1m 1s         | 2.6152e+06     | 0               |"
      ]
     },
     "metadata": {},
     "output_type": "display_data"
    },
    {
     "data": {
      "text/html": [
       "<pre>| 8480      | 1m 1s         | 2.6126e+06     | 0               |</pre>"
      ],
      "text/plain": [
       "| 8480      | 1m 1s         | 2.6126e+06     | 0               |"
      ]
     },
     "metadata": {},
     "output_type": "display_data"
    },
    {
     "data": {
      "text/html": [
       "<pre>| 8490      | 1m 1s         | 2.49959e+06    | 0               |</pre>"
      ],
      "text/plain": [
       "| 8490      | 1m 1s         | 2.49959e+06    | 0               |"
      ]
     },
     "metadata": {},
     "output_type": "display_data"
    },
    {
     "data": {
      "text/html": [
       "<pre>| 8500      | 1m 1s         | 2.57093e+06    | 0               |</pre>"
      ],
      "text/plain": [
       "| 8500      | 1m 1s         | 2.57093e+06    | 0               |"
      ]
     },
     "metadata": {},
     "output_type": "display_data"
    },
    {
     "data": {
      "text/html": [
       "<pre>| 8510      | 1m 2s         | 2.64646e+06    | 0               |</pre>"
      ],
      "text/plain": [
       "| 8510      | 1m 2s         | 2.64646e+06    | 0               |"
      ]
     },
     "metadata": {},
     "output_type": "display_data"
    },
    {
     "data": {
      "text/html": [
       "<pre>| 8520      | 1m 2s         | 2.50539e+06    | 0               |</pre>"
      ],
      "text/plain": [
       "| 8520      | 1m 2s         | 2.50539e+06    | 0               |"
      ]
     },
     "metadata": {},
     "output_type": "display_data"
    },
    {
     "data": {
      "text/html": [
       "<pre>| 8530      | 1m 2s         | 2.54318e+06    | 0               |</pre>"
      ],
      "text/plain": [
       "| 8530      | 1m 2s         | 2.54318e+06    | 0               |"
      ]
     },
     "metadata": {},
     "output_type": "display_data"
    },
    {
     "data": {
      "text/html": [
       "<pre>| 8540      | 1m 2s         | 2.58068e+06    | 0               |</pre>"
      ],
      "text/plain": [
       "| 8540      | 1m 2s         | 2.58068e+06    | 0               |"
      ]
     },
     "metadata": {},
     "output_type": "display_data"
    },
    {
     "data": {
      "text/html": [
       "<pre>| 8550      | 1m 2s         | 2.54283e+06    | 0               |</pre>"
      ],
      "text/plain": [
       "| 8550      | 1m 2s         | 2.54283e+06    | 0               |"
      ]
     },
     "metadata": {},
     "output_type": "display_data"
    },
    {
     "data": {
      "text/html": [
       "<pre>| 8560      | 1m 2s         | 2.54142e+06    | 0               |</pre>"
      ],
      "text/plain": [
       "| 8560      | 1m 2s         | 2.54142e+06    | 0               |"
      ]
     },
     "metadata": {},
     "output_type": "display_data"
    },
    {
     "data": {
      "text/html": [
       "<pre>| 8570      | 1m 2s         | 2.52605e+06    | 0               |</pre>"
      ],
      "text/plain": [
       "| 8570      | 1m 2s         | 2.52605e+06    | 0               |"
      ]
     },
     "metadata": {},
     "output_type": "display_data"
    },
    {
     "data": {
      "text/html": [
       "<pre>| 8580      | 1m 2s         | 2.49654e+06    | 0               |</pre>"
      ],
      "text/plain": [
       "| 8580      | 1m 2s         | 2.49654e+06    | 0               |"
      ]
     },
     "metadata": {},
     "output_type": "display_data"
    },
    {
     "data": {
      "text/html": [
       "<pre>| 8590      | 1m 2s         | 2.49484e+06    | 0               |</pre>"
      ],
      "text/plain": [
       "| 8590      | 1m 2s         | 2.49484e+06    | 0               |"
      ]
     },
     "metadata": {},
     "output_type": "display_data"
    },
    {
     "data": {
      "text/html": [
       "<pre>| 8600      | 1m 2s         | 2.45092e+06    | 0               |</pre>"
      ],
      "text/plain": [
       "| 8600      | 1m 2s         | 2.45092e+06    | 0               |"
      ]
     },
     "metadata": {},
     "output_type": "display_data"
    },
    {
     "data": {
      "text/html": [
       "<pre>| 8610      | 1m 2s         | 2.54177e+06    | 0               |</pre>"
      ],
      "text/plain": [
       "| 8610      | 1m 2s         | 2.54177e+06    | 0               |"
      ]
     },
     "metadata": {},
     "output_type": "display_data"
    },
    {
     "data": {
      "text/html": [
       "<pre>| 8620      | 1m 2s         | 2.51671e+06    | 0               |</pre>"
      ],
      "text/plain": [
       "| 8620      | 1m 2s         | 2.51671e+06    | 0               |"
      ]
     },
     "metadata": {},
     "output_type": "display_data"
    },
    {
     "data": {
      "text/html": [
       "<pre>| 8630      | 1m 2s         | 2.49315e+06    | 0               |</pre>"
      ],
      "text/plain": [
       "| 8630      | 1m 2s         | 2.49315e+06    | 0               |"
      ]
     },
     "metadata": {},
     "output_type": "display_data"
    },
    {
     "data": {
      "text/html": [
       "<pre>| 8640      | 1m 3s         | 2.56662e+06    | 0               |</pre>"
      ],
      "text/plain": [
       "| 8640      | 1m 3s         | 2.56662e+06    | 0               |"
      ]
     },
     "metadata": {},
     "output_type": "display_data"
    },
    {
     "data": {
      "text/html": [
       "<pre>| 8650      | 1m 3s         | 2.30896e+06    | 0               |</pre>"
      ],
      "text/plain": [
       "| 8650      | 1m 3s         | 2.30896e+06    | 0               |"
      ]
     },
     "metadata": {},
     "output_type": "display_data"
    },
    {
     "data": {
      "text/html": [
       "<pre>| 8660      | 1m 3s         | 2.25678e+06    | 0               |</pre>"
      ],
      "text/plain": [
       "| 8660      | 1m 3s         | 2.25678e+06    | 0               |"
      ]
     },
     "metadata": {},
     "output_type": "display_data"
    },
    {
     "data": {
      "text/html": [
       "<pre>| 8670      | 1m 3s         | 2.81295e+06    | 0               |</pre>"
      ],
      "text/plain": [
       "| 8670      | 1m 3s         | 2.81295e+06    | 0               |"
      ]
     },
     "metadata": {},
     "output_type": "display_data"
    },
    {
     "data": {
      "text/html": [
       "<pre>| 8680      | 1m 3s         | 2.3826e+06     | 0               |</pre>"
      ],
      "text/plain": [
       "| 8680      | 1m 3s         | 2.3826e+06     | 0               |"
      ]
     },
     "metadata": {},
     "output_type": "display_data"
    },
    {
     "data": {
      "text/html": [
       "<pre>| 8690      | 1m 3s         | 2.36817e+06    | 0               |</pre>"
      ],
      "text/plain": [
       "| 8690      | 1m 3s         | 2.36817e+06    | 0               |"
      ]
     },
     "metadata": {},
     "output_type": "display_data"
    },
    {
     "data": {
      "text/html": [
       "<pre>| 8700      | 1m 3s         | 2.26178e+06    | 0               |</pre>"
      ],
      "text/plain": [
       "| 8700      | 1m 3s         | 2.26178e+06    | 0               |"
      ]
     },
     "metadata": {},
     "output_type": "display_data"
    },
    {
     "data": {
      "text/html": [
       "<pre>| 8710      | 1m 3s         | 2.07861e+06    | 0               |</pre>"
      ],
      "text/plain": [
       "| 8710      | 1m 3s         | 2.07861e+06    | 0               |"
      ]
     },
     "metadata": {},
     "output_type": "display_data"
    },
    {
     "data": {
      "text/html": [
       "<pre>| 8720      | 1m 3s         | 2.25928e+06    | 0               |</pre>"
      ],
      "text/plain": [
       "| 8720      | 1m 3s         | 2.25928e+06    | 0               |"
      ]
     },
     "metadata": {},
     "output_type": "display_data"
    },
    {
     "data": {
      "text/html": [
       "<pre>| 8730      | 1m 3s         | 2.5205e+06     | 0               |</pre>"
      ],
      "text/plain": [
       "| 8730      | 1m 3s         | 2.5205e+06     | 0               |"
      ]
     },
     "metadata": {},
     "output_type": "display_data"
    },
    {
     "data": {
      "text/html": [
       "<pre>| 8740      | 1m 3s         | 2.28087e+06    | 0               |</pre>"
      ],
      "text/plain": [
       "| 8740      | 1m 3s         | 2.28087e+06    | 0               |"
      ]
     },
     "metadata": {},
     "output_type": "display_data"
    },
    {
     "data": {
      "text/html": [
       "<pre>| 8750      | 1m 3s         | 3.18437e+06    | 0               |</pre>"
      ],
      "text/plain": [
       "| 8750      | 1m 3s         | 3.18437e+06    | 0               |"
      ]
     },
     "metadata": {},
     "output_type": "display_data"
    },
    {
     "data": {
      "text/html": [
       "<pre>| 8760      | 1m 3s         | 2.42729e+06    | 0               |</pre>"
      ],
      "text/plain": [
       "| 8760      | 1m 3s         | 2.42729e+06    | 0               |"
      ]
     },
     "metadata": {},
     "output_type": "display_data"
    },
    {
     "data": {
      "text/html": [
       "<pre>| 8770      | 1m 4s         | 2.32385e+06    | 0               |</pre>"
      ],
      "text/plain": [
       "| 8770      | 1m 4s         | 2.32385e+06    | 0               |"
      ]
     },
     "metadata": {},
     "output_type": "display_data"
    },
    {
     "data": {
      "text/html": [
       "<pre>| 8780      | 1m 4s         | 2.42313e+06    | 0               |</pre>"
      ],
      "text/plain": [
       "| 8780      | 1m 4s         | 2.42313e+06    | 0               |"
      ]
     },
     "metadata": {},
     "output_type": "display_data"
    },
    {
     "data": {
      "text/html": [
       "<pre>| 8790      | 1m 4s         | 2.28911e+06    | 0               |</pre>"
      ],
      "text/plain": [
       "| 8790      | 1m 4s         | 2.28911e+06    | 0               |"
      ]
     },
     "metadata": {},
     "output_type": "display_data"
    },
    {
     "data": {
      "text/html": [
       "<pre>| 8800      | 1m 4s         | 2.35844e+06    | 0               |</pre>"
      ],
      "text/plain": [
       "| 8800      | 1m 4s         | 2.35844e+06    | 0               |"
      ]
     },
     "metadata": {},
     "output_type": "display_data"
    },
    {
     "data": {
      "text/html": [
       "<pre>| 8810      | 1m 4s         | 2.3491e+06     | 0               |</pre>"
      ],
      "text/plain": [
       "| 8810      | 1m 4s         | 2.3491e+06     | 0               |"
      ]
     },
     "metadata": {},
     "output_type": "display_data"
    },
    {
     "data": {
      "text/html": [
       "<pre>| 8820      | 1m 4s         | 2.2313e+06     | 0               |</pre>"
      ],
      "text/plain": [
       "| 8820      | 1m 4s         | 2.2313e+06     | 0               |"
      ]
     },
     "metadata": {},
     "output_type": "display_data"
    },
    {
     "data": {
      "text/html": [
       "<pre>| 8830      | 1m 4s         | 2.50709e+06    | 0               |</pre>"
      ],
      "text/plain": [
       "| 8830      | 1m 4s         | 2.50709e+06    | 0               |"
      ]
     },
     "metadata": {},
     "output_type": "display_data"
    },
    {
     "data": {
      "text/html": [
       "<pre>| 8840      | 1m 4s         | 2.57525e+06    | 0               |</pre>"
      ],
      "text/plain": [
       "| 8840      | 1m 4s         | 2.57525e+06    | 0               |"
      ]
     },
     "metadata": {},
     "output_type": "display_data"
    },
    {
     "data": {
      "text/html": [
       "<pre>| 8850      | 1m 4s         | 2.57778e+06    | 0               |</pre>"
      ],
      "text/plain": [
       "| 8850      | 1m 4s         | 2.57778e+06    | 0               |"
      ]
     },
     "metadata": {},
     "output_type": "display_data"
    },
    {
     "data": {
      "text/html": [
       "<pre>| 8860      | 1m 4s         | 2.5785e+06     | 0               |</pre>"
      ],
      "text/plain": [
       "| 8860      | 1m 4s         | 2.5785e+06     | 0               |"
      ]
     },
     "metadata": {},
     "output_type": "display_data"
    },
    {
     "data": {
      "text/html": [
       "<pre>| 8870      | 1m 4s         | 2.40474e+06    | 0               |</pre>"
      ],
      "text/plain": [
       "| 8870      | 1m 4s         | 2.40474e+06    | 0               |"
      ]
     },
     "metadata": {},
     "output_type": "display_data"
    },
    {
     "data": {
      "text/html": [
       "<pre>| 8880      | 1m 4s         | 2.42249e+06    | 0               |</pre>"
      ],
      "text/plain": [
       "| 8880      | 1m 4s         | 2.42249e+06    | 0               |"
      ]
     },
     "metadata": {},
     "output_type": "display_data"
    },
    {
     "data": {
      "text/html": [
       "<pre>| 8890      | 1m 4s         | 2.49146e+06    | 0               |</pre>"
      ],
      "text/plain": [
       "| 8890      | 1m 4s         | 2.49146e+06    | 0               |"
      ]
     },
     "metadata": {},
     "output_type": "display_data"
    },
    {
     "data": {
      "text/html": [
       "<pre>| 8900      | 1m 5s         | 2.54318e+06    | 0               |</pre>"
      ],
      "text/plain": [
       "| 8900      | 1m 5s         | 2.54318e+06    | 0               |"
      ]
     },
     "metadata": {},
     "output_type": "display_data"
    },
    {
     "data": {
      "text/html": [
       "<pre>| 8910      | 1m 5s         | 2.55805e+06    | 0               |</pre>"
      ],
      "text/plain": [
       "| 8910      | 1m 5s         | 2.55805e+06    | 0               |"
      ]
     },
     "metadata": {},
     "output_type": "display_data"
    },
    {
     "data": {
      "text/html": [
       "<pre>| 8920      | 1m 5s         | 2.89995e+06    | 0               |</pre>"
      ],
      "text/plain": [
       "| 8920      | 1m 5s         | 2.89995e+06    | 0               |"
      ]
     },
     "metadata": {},
     "output_type": "display_data"
    },
    {
     "data": {
      "text/html": [
       "<pre>| 8930      | 1m 5s         | 2.51018e+06    | 0               |</pre>"
      ],
      "text/plain": [
       "| 8930      | 1m 5s         | 2.51018e+06    | 0               |"
      ]
     },
     "metadata": {},
     "output_type": "display_data"
    },
    {
     "data": {
      "text/html": [
       "<pre>| 8940      | 1m 5s         | 4.54651e+06    | 0               |</pre>"
      ],
      "text/plain": [
       "| 8940      | 1m 5s         | 4.54651e+06    | 0               |"
      ]
     },
     "metadata": {},
     "output_type": "display_data"
    },
    {
     "data": {
      "text/html": [
       "<pre>| 8950      | 1m 5s         | 2.54494e+06    | 0               |</pre>"
      ],
      "text/plain": [
       "| 8950      | 1m 5s         | 2.54494e+06    | 0               |"
      ]
     },
     "metadata": {},
     "output_type": "display_data"
    },
    {
     "data": {
      "text/html": [
       "<pre>| 8960      | 1m 5s         | 2.41803e+06    | 0               |</pre>"
      ],
      "text/plain": [
       "| 8960      | 1m 5s         | 2.41803e+06    | 0               |"
      ]
     },
     "metadata": {},
     "output_type": "display_data"
    },
    {
     "data": {
      "text/html": [
       "<pre>| 8970      | 1m 5s         | 2.64151e+06    | 0               |</pre>"
      ],
      "text/plain": [
       "| 8970      | 1m 5s         | 2.64151e+06    | 0               |"
      ]
     },
     "metadata": {},
     "output_type": "display_data"
    },
    {
     "data": {
      "text/html": [
       "<pre>| 8980      | 1m 5s         | 2.89402e+06    | 0               |</pre>"
      ],
      "text/plain": [
       "| 8980      | 1m 5s         | 2.89402e+06    | 0               |"
      ]
     },
     "metadata": {},
     "output_type": "display_data"
    },
    {
     "data": {
      "text/html": [
       "<pre>| 8990      | 1m 5s         | 2.58612e+06    | 0               |</pre>"
      ],
      "text/plain": [
       "| 8990      | 1m 5s         | 2.58612e+06    | 0               |"
      ]
     },
     "metadata": {},
     "output_type": "display_data"
    },
    {
     "data": {
      "text/html": [
       "<pre>| 9000      | 1m 5s         | 2.48137e+06    | 0               |</pre>"
      ],
      "text/plain": [
       "| 9000      | 1m 5s         | 2.48137e+06    | 0               |"
      ]
     },
     "metadata": {},
     "output_type": "display_data"
    },
    {
     "data": {
      "text/html": [
       "<pre>| 9010      | 1m 5s         | 2.42441e+06    | 0               |</pre>"
      ],
      "text/plain": [
       "| 9010      | 1m 5s         | 2.42441e+06    | 0               |"
      ]
     },
     "metadata": {},
     "output_type": "display_data"
    },
    {
     "data": {
      "text/html": [
       "<pre>| 9020      | 1m 5s         | 2.56805e+06    | 0               |</pre>"
      ],
      "text/plain": [
       "| 9020      | 1m 5s         | 2.56805e+06    | 0               |"
      ]
     },
     "metadata": {},
     "output_type": "display_data"
    },
    {
     "data": {
      "text/html": [
       "<pre>| 9030      | 1m 5s         | 2.46771e+06    | 0               |</pre>"
      ],
      "text/plain": [
       "| 9030      | 1m 5s         | 2.46771e+06    | 0               |"
      ]
     },
     "metadata": {},
     "output_type": "display_data"
    },
    {
     "data": {
      "text/html": [
       "<pre>| 9040      | 1m 6s         | 2.5257e+06     | 0               |</pre>"
      ],
      "text/plain": [
       "| 9040      | 1m 6s         | 2.5257e+06     | 0               |"
      ]
     },
     "metadata": {},
     "output_type": "display_data"
    },
    {
     "data": {
      "text/html": [
       "<pre>| 9050      | 1m 6s         | 2.48472e+06    | 0               |</pre>"
      ],
      "text/plain": [
       "| 9050      | 1m 6s         | 2.48472e+06    | 0               |"
      ]
     },
     "metadata": {},
     "output_type": "display_data"
    },
    {
     "data": {
      "text/html": [
       "<pre>| 9060      | 1m 6s         | 2.38693e+06    | 0               |</pre>"
      ],
      "text/plain": [
       "| 9060      | 1m 6s         | 2.38693e+06    | 0               |"
      ]
     },
     "metadata": {},
     "output_type": "display_data"
    },
    {
     "data": {
      "text/html": [
       "<pre>| 9070      | 1m 6s         | 2.40034e+06    | 0               |</pre>"
      ],
      "text/plain": [
       "| 9070      | 1m 6s         | 2.40034e+06    | 0               |"
      ]
     },
     "metadata": {},
     "output_type": "display_data"
    },
    {
     "data": {
      "text/html": [
       "<pre>| 9080      | 1m 6s         | 2.46077e+06    | 0               |</pre>"
      ],
      "text/plain": [
       "| 9080      | 1m 6s         | 2.46077e+06    | 0               |"
      ]
     },
     "metadata": {},
     "output_type": "display_data"
    },
    {
     "data": {
      "text/html": [
       "<pre>| 9090      | 1m 6s         | 2.32179e+06    | 0               |</pre>"
      ],
      "text/plain": [
       "| 9090      | 1m 6s         | 2.32179e+06    | 0               |"
      ]
     },
     "metadata": {},
     "output_type": "display_data"
    },
    {
     "data": {
      "text/html": [
       "<pre>| 9100      | 1m 6s         | 2.45256e+06    | 0               |</pre>"
      ],
      "text/plain": [
       "| 9100      | 1m 6s         | 2.45256e+06    | 0               |"
      ]
     },
     "metadata": {},
     "output_type": "display_data"
    },
    {
     "data": {
      "text/html": [
       "<pre>| 9110      | 1m 6s         | 2.35693e+06    | 0               |</pre>"
      ],
      "text/plain": [
       "| 9110      | 1m 6s         | 2.35693e+06    | 0               |"
      ]
     },
     "metadata": {},
     "output_type": "display_data"
    },
    {
     "data": {
      "text/html": [
       "<pre>| 9120      | 1m 6s         | 2.38973e+06    | 0               |</pre>"
      ],
      "text/plain": [
       "| 9120      | 1m 6s         | 2.38973e+06    | 0               |"
      ]
     },
     "metadata": {},
     "output_type": "display_data"
    },
    {
     "data": {
      "text/html": [
       "<pre>| 9130      | 1m 6s         | 2.66681e+06    | 0               |</pre>"
      ],
      "text/plain": [
       "| 9130      | 1m 6s         | 2.66681e+06    | 0               |"
      ]
     },
     "metadata": {},
     "output_type": "display_data"
    },
    {
     "data": {
      "text/html": [
       "<pre>| 9140      | 1m 6s         | 2.43921e+06    | 0               |</pre>"
      ],
      "text/plain": [
       "| 9140      | 1m 6s         | 2.43921e+06    | 0               |"
      ]
     },
     "metadata": {},
     "output_type": "display_data"
    },
    {
     "data": {
      "text/html": [
       "<pre>| 9150      | 1m 6s         | 2.67224e+06    | 0               |</pre>"
      ],
      "text/plain": [
       "| 9150      | 1m 6s         | 2.67224e+06    | 0               |"
      ]
     },
     "metadata": {},
     "output_type": "display_data"
    },
    {
     "data": {
      "text/html": [
       "<pre>| 9160      | 1m 6s         | 2.45649e+06    | 0               |</pre>"
      ],
      "text/plain": [
       "| 9160      | 1m 6s         | 2.45649e+06    | 0               |"
      ]
     },
     "metadata": {},
     "output_type": "display_data"
    },
    {
     "data": {
      "text/html": [
       "<pre>| 9170      | 1m 7s         | 2.28059e+06    | 0               |</pre>"
      ],
      "text/plain": [
       "| 9170      | 1m 7s         | 2.28059e+06    | 0               |"
      ]
     },
     "metadata": {},
     "output_type": "display_data"
    },
    {
     "data": {
      "text/html": [
       "<pre>| 9180      | 1m 7s         | 2.37306e+06    | 0               |</pre>"
      ],
      "text/plain": [
       "| 9180      | 1m 7s         | 2.37306e+06    | 0               |"
      ]
     },
     "metadata": {},
     "output_type": "display_data"
    },
    {
     "data": {
      "text/html": [
       "<pre>| 9190      | 1m 7s         | 2.37e+06       | 0               |</pre>"
      ],
      "text/plain": [
       "| 9190      | 1m 7s         | 2.37e+06       | 0               |"
      ]
     },
     "metadata": {},
     "output_type": "display_data"
    },
    {
     "data": {
      "text/html": [
       "<pre>| 9200      | 1m 7s         | 2.28883e+06    | 0               |</pre>"
      ],
      "text/plain": [
       "| 9200      | 1m 7s         | 2.28883e+06    | 0               |"
      ]
     },
     "metadata": {},
     "output_type": "display_data"
    },
    {
     "data": {
      "text/html": [
       "<pre>| 9210      | 1m 7s         | 2.43372e+06    | 0               |</pre>"
      ],
      "text/plain": [
       "| 9210      | 1m 7s         | 2.43372e+06    | 0               |"
      ]
     },
     "metadata": {},
     "output_type": "display_data"
    },
    {
     "data": {
      "text/html": [
       "<pre>| 9220      | 1m 7s         | 2.16633e+06    | 0               |</pre>"
      ],
      "text/plain": [
       "| 9220      | 1m 7s         | 2.16633e+06    | 0               |"
      ]
     },
     "metadata": {},
     "output_type": "display_data"
    },
    {
     "data": {
      "text/html": [
       "<pre>| 9230      | 1m 7s         | 2.31099e+06    | 0               |</pre>"
      ],
      "text/plain": [
       "| 9230      | 1m 7s         | 2.31099e+06    | 0               |"
      ]
     },
     "metadata": {},
     "output_type": "display_data"
    },
    {
     "data": {
      "text/html": [
       "<pre>| 9240      | 1m 7s         | 3.08494e+06    | 0               |</pre>"
      ],
      "text/plain": [
       "| 9240      | 1m 7s         | 3.08494e+06    | 0               |"
      ]
     },
     "metadata": {},
     "output_type": "display_data"
    },
    {
     "data": {
      "text/html": [
       "<pre>| 9250      | 1m 7s         | 2.36725e+06    | 0               |</pre>"
      ],
      "text/plain": [
       "| 9250      | 1m 7s         | 2.36725e+06    | 0               |"
      ]
     },
     "metadata": {},
     "output_type": "display_data"
    },
    {
     "data": {
      "text/html": [
       "<pre>| 9260      | 1m 7s         | 2.4578e+06     | 0               |</pre>"
      ],
      "text/plain": [
       "| 9260      | 1m 7s         | 2.4578e+06     | 0               |"
      ]
     },
     "metadata": {},
     "output_type": "display_data"
    },
    {
     "data": {
      "text/html": [
       "<pre>| 9270      | 1m 7s         | 2.38137e+06    | 0               |</pre>"
      ],
      "text/plain": [
       "| 9270      | 1m 7s         | 2.38137e+06    | 0               |"
      ]
     },
     "metadata": {},
     "output_type": "display_data"
    },
    {
     "data": {
      "text/html": [
       "<pre>| 9280      | 1m 7s         | 2.40757e+06    | 0               |</pre>"
      ],
      "text/plain": [
       "| 9280      | 1m 7s         | 2.40757e+06    | 0               |"
      ]
     },
     "metadata": {},
     "output_type": "display_data"
    },
    {
     "data": {
      "text/html": [
       "<pre>| 9290      | 1m 7s         | 2.42121e+06    | 0               |</pre>"
      ],
      "text/plain": [
       "| 9290      | 1m 7s         | 2.42121e+06    | 0               |"
      ]
     },
     "metadata": {},
     "output_type": "display_data"
    },
    {
     "data": {
      "text/html": [
       "<pre>| 9300      | 1m 8s         | 2.35361e+06    | 0               |</pre>"
      ],
      "text/plain": [
       "| 9300      | 1m 8s         | 2.35361e+06    | 0               |"
      ]
     },
     "metadata": {},
     "output_type": "display_data"
    },
    {
     "data": {
      "text/html": [
       "<pre>| 9310      | 1m 8s         | 2.23864e+06    | 0               |</pre>"
      ],
      "text/plain": [
       "| 9310      | 1m 8s         | 2.23864e+06    | 0               |"
      ]
     },
     "metadata": {},
     "output_type": "display_data"
    },
    {
     "data": {
      "text/html": [
       "<pre>| 9320      | 1m 8s         | 2.16608e+06    | 0               |</pre>"
      ],
      "text/plain": [
       "| 9320      | 1m 8s         | 2.16608e+06    | 0               |"
      ]
     },
     "metadata": {},
     "output_type": "display_data"
    },
    {
     "data": {
      "text/html": [
       "<pre>| 9330      | 1m 8s         | 4.65712e+06    | 0               |</pre>"
      ],
      "text/plain": [
       "| 9330      | 1m 8s         | 4.65712e+06    | 0               |"
      ]
     },
     "metadata": {},
     "output_type": "display_data"
    },
    {
     "data": {
      "text/html": [
       "<pre>| 9340      | 1m 8s         | 2.49925e+06    | 0               |</pre>"
      ],
      "text/plain": [
       "| 9340      | 1m 8s         | 2.49925e+06    | 0               |"
      ]
     },
     "metadata": {},
     "output_type": "display_data"
    },
    {
     "data": {
      "text/html": [
       "<pre>| 9350      | 1m 8s         | 2.28257e+06    | 0               |</pre>"
      ],
      "text/plain": [
       "| 9350      | 1m 8s         | 2.28257e+06    | 0               |"
      ]
     },
     "metadata": {},
     "output_type": "display_data"
    },
    {
     "data": {
      "text/html": [
       "<pre>| 9360      | 1m 8s         | 2.29827e+06    | 0               |</pre>"
      ],
      "text/plain": [
       "| 9360      | 1m 8s         | 2.29827e+06    | 0               |"
      ]
     },
     "metadata": {},
     "output_type": "display_data"
    },
    {
     "data": {
      "text/html": [
       "<pre>| 9370      | 1m 8s         | 2.30115e+06    | 0               |</pre>"
      ],
      "text/plain": [
       "| 9370      | 1m 8s         | 2.30115e+06    | 0               |"
      ]
     },
     "metadata": {},
     "output_type": "display_data"
    },
    {
     "data": {
      "text/html": [
       "<pre>| 9380      | 1m 8s         | 2.2914e+06     | 0               |</pre>"
      ],
      "text/plain": [
       "| 9380      | 1m 8s         | 2.2914e+06     | 0               |"
      ]
     },
     "metadata": {},
     "output_type": "display_data"
    },
    {
     "data": {
      "text/html": [
       "<pre>| 9390      | 1m 8s         | 2.49146e+06    | 0               |</pre>"
      ],
      "text/plain": [
       "| 9390      | 1m 8s         | 2.49146e+06    | 0               |"
      ]
     },
     "metadata": {},
     "output_type": "display_data"
    },
    {
     "data": {
      "text/html": [
       "<pre>| 9400      | 1m 8s         | 2.20401e+06    | 0               |</pre>"
      ],
      "text/plain": [
       "| 9400      | 1m 8s         | 2.20401e+06    | 0               |"
      ]
     },
     "metadata": {},
     "output_type": "display_data"
    },
    {
     "data": {
      "text/html": [
       "<pre>| 9410      | 1m 8s         | 2.15389e+06    | 0               |</pre>"
      ],
      "text/plain": [
       "| 9410      | 1m 8s         | 2.15389e+06    | 0               |"
      ]
     },
     "metadata": {},
     "output_type": "display_data"
    },
    {
     "data": {
      "text/html": [
       "<pre>| 9420      | 1m 8s         | 2.2313e+06     | 0               |</pre>"
      ],
      "text/plain": [
       "| 9420      | 1m 8s         | 2.2313e+06     | 0               |"
      ]
     },
     "metadata": {},
     "output_type": "display_data"
    },
    {
     "data": {
      "text/html": [
       "<pre>| 9430      | 1m 9s         | 2.19689e+06    | 0               |</pre>"
      ],
      "text/plain": [
       "| 9430      | 1m 9s         | 2.19689e+06    | 0               |"
      ]
     },
     "metadata": {},
     "output_type": "display_data"
    },
    {
     "data": {
      "text/html": [
       "<pre>| 9440      | 1m 9s         | 2.22267e+06    | 0               |</pre>"
      ],
      "text/plain": [
       "| 9440      | 1m 9s         | 2.22267e+06    | 0               |"
      ]
     },
     "metadata": {},
     "output_type": "display_data"
    },
    {
     "data": {
      "text/html": [
       "<pre>| 9450      | 1m 9s         | 4.43889e+06    | 0               |</pre>"
      ],
      "text/plain": [
       "| 9450      | 1m 9s         | 4.43889e+06    | 0               |"
      ]
     },
     "metadata": {},
     "output_type": "display_data"
    },
    {
     "data": {
      "text/html": [
       "<pre>| 9460      | 1m 9s         | 2.10673e+06    | 0               |</pre>"
      ],
      "text/plain": [
       "| 9460      | 1m 9s         | 2.10673e+06    | 0               |"
      ]
     },
     "metadata": {},
     "output_type": "display_data"
    },
    {
     "data": {
      "text/html": [
       "<pre>| 9470      | 1m 9s         | 2.16684e+06    | 0               |</pre>"
      ],
      "text/plain": [
       "| 9470      | 1m 9s         | 2.16684e+06    | 0               |"
      ]
     },
     "metadata": {},
     "output_type": "display_data"
    },
    {
     "data": {
      "text/html": [
       "<pre>| 9480      | 1m 9s         | 2.30606e+06    | 0               |</pre>"
      ],
      "text/plain": [
       "| 9480      | 1m 9s         | 2.30606e+06    | 0               |"
      ]
     },
     "metadata": {},
     "output_type": "display_data"
    },
    {
     "data": {
      "text/html": [
       "<pre>| 9490      | 1m 9s         | 2.26095e+06    | 0               |</pre>"
      ],
      "text/plain": [
       "| 9490      | 1m 9s         | 2.26095e+06    | 0               |"
      ]
     },
     "metadata": {},
     "output_type": "display_data"
    },
    {
     "data": {
      "text/html": [
       "<pre>| 9500      | 1m 9s         | 2.29483e+06    | 0               |</pre>"
      ],
      "text/plain": [
       "| 9500      | 1m 9s         | 2.29483e+06    | 0               |"
      ]
     },
     "metadata": {},
     "output_type": "display_data"
    },
    {
     "data": {
      "text/html": [
       "<pre>| 9510      | 1m 9s         | 2.46969e+06    | 0               |</pre>"
      ],
      "text/plain": [
       "| 9510      | 1m 9s         | 2.46969e+06    | 0               |"
      ]
     },
     "metadata": {},
     "output_type": "display_data"
    },
    {
     "data": {
      "text/html": [
       "<pre>| 9520      | 1m 9s         | 2.31507e+06    | 0               |</pre>"
      ],
      "text/plain": [
       "| 9520      | 1m 9s         | 2.31507e+06    | 0               |"
      ]
     },
     "metadata": {},
     "output_type": "display_data"
    },
    {
     "data": {
      "text/html": [
       "<pre>| 9530      | 1m 9s         | 2.54705e+06    | 0               |</pre>"
      ],
      "text/plain": [
       "| 9530      | 1m 9s         | 2.54705e+06    | 0               |"
      ]
     },
     "metadata": {},
     "output_type": "display_data"
    },
    {
     "data": {
      "text/html": [
       "<pre>| 9540      | 1m 9s         | 2.25429e+06    | 0               |</pre>"
      ],
      "text/plain": [
       "| 9540      | 1m 9s         | 2.25429e+06    | 0               |"
      ]
     },
     "metadata": {},
     "output_type": "display_data"
    },
    {
     "data": {
      "text/html": [
       "<pre>| 9550      | 1m 9s         | 2.36239e+06    | 0               |</pre>"
      ],
      "text/plain": [
       "| 9550      | 1m 9s         | 2.36239e+06    | 0               |"
      ]
     },
     "metadata": {},
     "output_type": "display_data"
    },
    {
     "data": {
      "text/html": [
       "<pre>| 9560      | 1m 10s        | 2.36543e+06    | 0               |</pre>"
      ],
      "text/plain": [
       "| 9560      | 1m 10s        | 2.36543e+06    | 0               |"
      ]
     },
     "metadata": {},
     "output_type": "display_data"
    },
    {
     "data": {
      "text/html": [
       "<pre>| 9570      | 1m 10s        | 2.49315e+06    | 0               |</pre>"
      ],
      "text/plain": [
       "| 9570      | 1m 10s        | 2.49315e+06    | 0               |"
      ]
     },
     "metadata": {},
     "output_type": "display_data"
    },
    {
     "data": {
      "text/html": [
       "<pre>| 9580      | 1m 10s        | 2.44018e+06    | 0               |</pre>"
      ],
      "text/plain": [
       "| 9580      | 1m 10s        | 2.44018e+06    | 0               |"
      ]
     },
     "metadata": {},
     "output_type": "display_data"
    },
    {
     "data": {
      "text/html": [
       "<pre>| 9590      | 1m 10s        | 2.49993e+06    | 0               |</pre>"
      ],
      "text/plain": [
       "| 9590      | 1m 10s        | 2.49993e+06    | 0               |"
      ]
     },
     "metadata": {},
     "output_type": "display_data"
    },
    {
     "data": {
      "text/html": [
       "<pre>| 9600      | 1m 10s        | 4.56005e+06    | 0               |</pre>"
      ],
      "text/plain": [
       "| 9600      | 1m 10s        | 4.56005e+06    | 0               |"
      ]
     },
     "metadata": {},
     "output_type": "display_data"
    },
    {
     "data": {
      "text/html": [
       "<pre>| 9610      | 1m 10s        | 2.49959e+06    | 0               |</pre>"
      ],
      "text/plain": [
       "| 9610      | 1m 10s        | 2.49959e+06    | 0               |"
      ]
     },
     "metadata": {},
     "output_type": "display_data"
    },
    {
     "data": {
      "text/html": [
       "<pre>| 9620      | 1m 10s        | 3.59347e+06    | 0               |</pre>"
      ],
      "text/plain": [
       "| 9620      | 1m 10s        | 3.59347e+06    | 0               |"
      ]
     },
     "metadata": {},
     "output_type": "display_data"
    },
    {
     "data": {
      "text/html": [
       "<pre>| 9630      | 1m 10s        | 2.47769e+06    | 0               |</pre>"
      ],
      "text/plain": [
       "| 9630      | 1m 10s        | 2.47769e+06    | 0               |"
      ]
     },
     "metadata": {},
     "output_type": "display_data"
    },
    {
     "data": {
      "text/html": [
       "<pre>| 9640      | 1m 10s        | 2.41644e+06    | 0               |</pre>"
      ],
      "text/plain": [
       "| 9640      | 1m 10s        | 2.41644e+06    | 0               |"
      ]
     },
     "metadata": {},
     "output_type": "display_data"
    },
    {
     "data": {
      "text/html": [
       "<pre>| 9650      | 1m 10s        | 2.45092e+06    | 0               |</pre>"
      ],
      "text/plain": [
       "| 9650      | 1m 10s        | 2.45092e+06    | 0               |"
      ]
     },
     "metadata": {},
     "output_type": "display_data"
    },
    {
     "data": {
      "text/html": [
       "<pre>| 9660      | 1m 10s        | 4.04334e+06    | 0               |</pre>"
      ],
      "text/plain": [
       "| 9660      | 1m 10s        | 4.04334e+06    | 0               |"
      ]
     },
     "metadata": {},
     "output_type": "display_data"
    },
    {
     "data": {
      "text/html": [
       "<pre>| 9670      | 1m 10s        | 2.48003e+06    | 0               |</pre>"
      ],
      "text/plain": [
       "| 9670      | 1m 10s        | 2.48003e+06    | 0               |"
      ]
     },
     "metadata": {},
     "output_type": "display_data"
    },
    {
     "data": {
      "text/html": [
       "<pre>| 9680      | 1m 10s        | 2.53896e+06    | 0               |</pre>"
      ],
      "text/plain": [
       "| 9680      | 1m 10s        | 2.53896e+06    | 0               |"
      ]
     },
     "metadata": {},
     "output_type": "display_data"
    },
    {
     "data": {
      "text/html": [
       "<pre>| 9690      | 1m 11s        | 2.45682e+06    | 0               |</pre>"
      ],
      "text/plain": [
       "| 9690      | 1m 11s        | 2.45682e+06    | 0               |"
      ]
     },
     "metadata": {},
     "output_type": "display_data"
    },
    {
     "data": {
      "text/html": [
       "<pre>| 9700      | 1m 11s        | 2.41707e+06    | 0               |</pre>"
      ],
      "text/plain": [
       "| 9700      | 1m 11s        | 2.41707e+06    | 0               |"
      ]
     },
     "metadata": {},
     "output_type": "display_data"
    },
    {
     "data": {
      "text/html": [
       "<pre>| 9710      | 1m 11s        | 2.60556e+06    | 0               |</pre>"
      ],
      "text/plain": [
       "| 9710      | 1m 11s        | 2.60556e+06    | 0               |"
      ]
     },
     "metadata": {},
     "output_type": "display_data"
    },
    {
     "data": {
      "text/html": [
       "<pre>| 9720      | 1m 11s        | 2.55307e+06    | 0               |</pre>"
      ],
      "text/plain": [
       "| 9720      | 1m 11s        | 2.55307e+06    | 0               |"
      ]
     },
     "metadata": {},
     "output_type": "display_data"
    },
    {
     "data": {
      "text/html": [
       "<pre>| 9730      | 1m 11s        | 2.5552e+06     | 0               |</pre>"
      ],
      "text/plain": [
       "| 9730      | 1m 11s        | 2.5552e+06     | 0               |"
      ]
     },
     "metadata": {},
     "output_type": "display_data"
    },
    {
     "data": {
      "text/html": [
       "<pre>| 9740      | 1m 11s        | 2.4807e+06     | 0               |</pre>"
      ],
      "text/plain": [
       "| 9740      | 1m 11s        | 2.4807e+06     | 0               |"
      ]
     },
     "metadata": {},
     "output_type": "display_data"
    },
    {
     "data": {
      "text/html": [
       "<pre>| 9750      | 1m 11s        | 2.54564e+06    | 0               |</pre>"
      ],
      "text/plain": [
       "| 9750      | 1m 11s        | 2.54564e+06    | 0               |"
      ]
     },
     "metadata": {},
     "output_type": "display_data"
    },
    {
     "data": {
      "text/html": [
       "<pre>| 9760      | 1m 11s        | 2.5609e+06     | 0               |</pre>"
      ],
      "text/plain": [
       "| 9760      | 1m 11s        | 2.5609e+06     | 0               |"
      ]
     },
     "metadata": {},
     "output_type": "display_data"
    },
    {
     "data": {
      "text/html": [
       "<pre>| 9770      | 1m 11s        | 2.55059e+06    | 0               |</pre>"
      ],
      "text/plain": [
       "| 9770      | 1m 11s        | 2.55059e+06    | 0               |"
      ]
     },
     "metadata": {},
     "output_type": "display_data"
    },
    {
     "data": {
      "text/html": [
       "<pre>| 9780      | 1m 11s        | 2.6381e+06     | 0               |</pre>"
      ],
      "text/plain": [
       "| 9780      | 1m 11s        | 2.6381e+06     | 0               |"
      ]
     },
     "metadata": {},
     "output_type": "display_data"
    },
    {
     "data": {
      "text/html": [
       "<pre>| 9790      | 1m 11s        | 2.51636e+06    | 0               |</pre>"
      ],
      "text/plain": [
       "| 9790      | 1m 11s        | 2.51636e+06    | 0               |"
      ]
     },
     "metadata": {},
     "output_type": "display_data"
    },
    {
     "data": {
      "text/html": [
       "<pre>| 9800      | 1m 11s        | 2.57814e+06    | 0               |</pre>"
      ],
      "text/plain": [
       "| 9800      | 1m 11s        | 2.57814e+06    | 0               |"
      ]
     },
     "metadata": {},
     "output_type": "display_data"
    },
    {
     "data": {
      "text/html": [
       "<pre>| 9810      | 1m 11s        | 2.62566e+06    | 0               |</pre>"
      ],
      "text/plain": [
       "| 9810      | 1m 11s        | 2.62566e+06    | 0               |"
      ]
     },
     "metadata": {},
     "output_type": "display_data"
    },
    {
     "data": {
      "text/html": [
       "<pre>| 9820      | 1m 11s        | 2.55378e+06    | 0               |</pre>"
      ],
      "text/plain": [
       "| 9820      | 1m 11s        | 2.55378e+06    | 0               |"
      ]
     },
     "metadata": {},
     "output_type": "display_data"
    },
    {
     "data": {
      "text/html": [
       "<pre>| 9830      | 1m 12s        | 2.45092e+06    | 0               |</pre>"
      ],
      "text/plain": [
       "| 9830      | 1m 12s        | 2.45092e+06    | 0               |"
      ]
     },
     "metadata": {},
     "output_type": "display_data"
    },
    {
     "data": {
      "text/html": [
       "<pre>| 9840      | 1m 12s        | 2.52293e+06    | 0               |</pre>"
      ],
      "text/plain": [
       "| 9840      | 1m 12s        | 2.52293e+06    | 0               |"
      ]
     },
     "metadata": {},
     "output_type": "display_data"
    },
    {
     "data": {
      "text/html": [
       "<pre>| 9850      | 1m 12s        | 2.59599e+06    | 0               |</pre>"
      ],
      "text/plain": [
       "| 9850      | 1m 12s        | 2.59599e+06    | 0               |"
      ]
     },
     "metadata": {},
     "output_type": "display_data"
    },
    {
     "data": {
      "text/html": [
       "<pre>| 9860      | 1m 12s        | 2.29025e+06    | 0               |</pre>"
      ],
      "text/plain": [
       "| 9860      | 1m 12s        | 2.29025e+06    | 0               |"
      ]
     },
     "metadata": {},
     "output_type": "display_data"
    },
    {
     "data": {
      "text/html": [
       "<pre>| 9870      | 1m 12s        | 2.42729e+06    | 0               |</pre>"
      ],
      "text/plain": [
       "| 9870      | 1m 12s        | 2.42729e+06    | 0               |"
      ]
     },
     "metadata": {},
     "output_type": "display_data"
    },
    {
     "data": {
      "text/html": [
       "<pre>| 9880      | 1m 12s        | 2.48573e+06    | 0               |</pre>"
      ],
      "text/plain": [
       "| 9880      | 1m 12s        | 2.48573e+06    | 0               |"
      ]
     },
     "metadata": {},
     "output_type": "display_data"
    },
    {
     "data": {
      "text/html": [
       "<pre>| 9890      | 1m 12s        | 2.53966e+06    | 0               |</pre>"
      ],
      "text/plain": [
       "| 9890      | 1m 12s        | 2.53966e+06    | 0               |"
      ]
     },
     "metadata": {},
     "output_type": "display_data"
    },
    {
     "data": {
      "text/html": [
       "<pre>| 9900      | 1m 12s        | 2.47668e+06    | 0               |</pre>"
      ],
      "text/plain": [
       "| 9900      | 1m 12s        | 2.47668e+06    | 0               |"
      ]
     },
     "metadata": {},
     "output_type": "display_data"
    },
    {
     "data": {
      "text/html": [
       "<pre>| 9910      | 1m 12s        | 2.54036e+06    | 0               |</pre>"
      ],
      "text/plain": [
       "| 9910      | 1m 12s        | 2.54036e+06    | 0               |"
      ]
     },
     "metadata": {},
     "output_type": "display_data"
    },
    {
     "data": {
      "text/html": [
       "<pre>| 9920      | 1m 12s        | 2.49857e+06    | 0               |</pre>"
      ],
      "text/plain": [
       "| 9920      | 1m 12s        | 2.49857e+06    | 0               |"
      ]
     },
     "metadata": {},
     "output_type": "display_data"
    },
    {
     "data": {
      "text/html": [
       "<pre>| 9930      | 1m 12s        | 2.44245e+06    | 0               |</pre>"
      ],
      "text/plain": [
       "| 9930      | 1m 12s        | 2.44245e+06    | 0               |"
      ]
     },
     "metadata": {},
     "output_type": "display_data"
    },
    {
     "data": {
      "text/html": [
       "<pre>| 9940      | 1m 12s        | 2.53022e+06    | 0               |</pre>"
      ],
      "text/plain": [
       "| 9940      | 1m 12s        | 2.53022e+06    | 0               |"
      ]
     },
     "metadata": {},
     "output_type": "display_data"
    },
    {
     "data": {
      "text/html": [
       "<pre>| 9950      | 1m 12s        | 2.48137e+06    | 0               |</pre>"
      ],
      "text/plain": [
       "| 9950      | 1m 12s        | 2.48137e+06    | 0               |"
      ]
     },
     "metadata": {},
     "output_type": "display_data"
    },
    {
     "data": {
      "text/html": [
       "<pre>| 9960      | 1m 13s        | 2.33953e+06    | 0               |</pre>"
      ],
      "text/plain": [
       "| 9960      | 1m 13s        | 2.33953e+06    | 0               |"
      ]
     },
     "metadata": {},
     "output_type": "display_data"
    },
    {
     "data": {
      "text/html": [
       "<pre>| 9970      | 1m 13s        | 2.49349e+06    | 0               |</pre>"
      ],
      "text/plain": [
       "| 9970      | 1m 13s        | 2.49349e+06    | 0               |"
      ]
     },
     "metadata": {},
     "output_type": "display_data"
    },
    {
     "data": {
      "text/html": [
       "<pre>| 9980      | 1m 13s        | 2.43468e+06    | 0               |</pre>"
      ],
      "text/plain": [
       "| 9980      | 1m 13s        | 2.43468e+06    | 0               |"
      ]
     },
     "metadata": {},
     "output_type": "display_data"
    },
    {
     "data": {
      "text/html": [
       "<pre>| 9990      | 1m 13s        | 2.3746e+06     | 0               |</pre>"
      ],
      "text/plain": [
       "| 9990      | 1m 13s        | 2.3746e+06     | 0               |"
      ]
     },
     "metadata": {},
     "output_type": "display_data"
    },
    {
     "data": {
      "text/html": [
       "<pre>| 10000     | 1m 13s        | 2.49755e+06    | 0               |</pre>"
      ],
      "text/plain": [
       "| 10000     | 1m 13s        | 2.49755e+06    | 0               |"
      ]
     },
     "metadata": {},
     "output_type": "display_data"
    },
    {
     "data": {
      "text/html": [
       "<pre>| 10010     | 1m 13s        | 2.35512e+06    | 0               |</pre>"
      ],
      "text/plain": [
       "| 10010     | 1m 13s        | 2.35512e+06    | 0               |"
      ]
     },
     "metadata": {},
     "output_type": "display_data"
    },
    {
     "data": {
      "text/html": [
       "<pre>| 10020     | 1m 13s        | 2.55165e+06    | 0               |</pre>"
      ],
      "text/plain": [
       "| 10020     | 1m 13s        | 2.55165e+06    | 0               |"
      ]
     },
     "metadata": {},
     "output_type": "display_data"
    },
    {
     "data": {
      "text/html": [
       "<pre>| 10030     | 1m 13s        | 2.56268e+06    | 0               |</pre>"
      ],
      "text/plain": [
       "| 10030     | 1m 13s        | 2.56268e+06    | 0               |"
      ]
     },
     "metadata": {},
     "output_type": "display_data"
    },
    {
     "data": {
      "text/html": [
       "<pre>| 10040     | 1m 13s        | 2.50061e+06    | 0               |</pre>"
      ],
      "text/plain": [
       "| 10040     | 1m 13s        | 2.50061e+06    | 0               |"
      ]
     },
     "metadata": {},
     "output_type": "display_data"
    },
    {
     "data": {
      "text/html": [
       "<pre>| 10050     | 1m 13s        | 2.57381e+06    | 0               |</pre>"
      ],
      "text/plain": [
       "| 10050     | 1m 13s        | 2.57381e+06    | 0               |"
      ]
     },
     "metadata": {},
     "output_type": "display_data"
    },
    {
     "data": {
      "text/html": [
       "<pre>| 10060     | 1m 13s        | 2.51705e+06    | 0               |</pre>"
      ],
      "text/plain": [
       "| 10060     | 1m 13s        | 2.51705e+06    | 0               |"
      ]
     },
     "metadata": {},
     "output_type": "display_data"
    },
    {
     "data": {
      "text/html": [
       "<pre>| 10070     | 1m 13s        | 2.64493e+06    | 0               |</pre>"
      ],
      "text/plain": [
       "| 10070     | 1m 13s        | 2.64493e+06    | 0               |"
      ]
     },
     "metadata": {},
     "output_type": "display_data"
    },
    {
     "data": {
      "text/html": [
       "<pre>| 10080     | 1m 13s        | 2.49654e+06    | 0               |</pre>"
      ],
      "text/plain": [
       "| 10080     | 1m 13s        | 2.49654e+06    | 0               |"
      ]
     },
     "metadata": {},
     "output_type": "display_data"
    },
    {
     "data": {
      "text/html": [
       "<pre>| 10090     | 1m 14s        | 2.46671e+06    | 0               |</pre>"
      ],
      "text/plain": [
       "| 10090     | 1m 14s        | 2.46671e+06    | 0               |"
      ]
     },
     "metadata": {},
     "output_type": "display_data"
    },
    {
     "data": {
      "text/html": [
       "<pre>| 10100     | 1m 14s        | 2.54283e+06    | 0               |</pre>"
      ],
      "text/plain": [
       "| 10100     | 1m 14s        | 2.54283e+06    | 0               |"
      ]
     },
     "metadata": {},
     "output_type": "display_data"
    },
    {
     "data": {
      "text/html": [
       "<pre>| 10110     | 1m 14s        | 2.54072e+06    | 0               |</pre>"
      ],
      "text/plain": [
       "| 10110     | 1m 14s        | 2.54072e+06    | 0               |"
      ]
     },
     "metadata": {},
     "output_type": "display_data"
    },
    {
     "data": {
      "text/html": [
       "<pre>| 10120     | 1m 14s        | 2.56555e+06    | 0               |</pre>"
      ],
      "text/plain": [
       "| 10120     | 1m 14s        | 2.56555e+06    | 0               |"
      ]
     },
     "metadata": {},
     "output_type": "display_data"
    },
    {
     "data": {
      "text/html": [
       "<pre>| 10130     | 1m 14s        | 2.60593e+06    | 0               |</pre>"
      ],
      "text/plain": [
       "| 10130     | 1m 14s        | 2.60593e+06    | 0               |"
      ]
     },
     "metadata": {},
     "output_type": "display_data"
    },
    {
     "data": {
      "text/html": [
       "<pre>| 10140     | 1m 14s        | 2.48003e+06    | 0               |</pre>"
      ],
      "text/plain": [
       "| 10140     | 1m 14s        | 2.48003e+06    | 0               |"
      ]
     },
     "metadata": {},
     "output_type": "display_data"
    },
    {
     "data": {
      "text/html": [
       "<pre>| 10150     | 1m 14s        | 2.46506e+06    | 0               |</pre>"
      ],
      "text/plain": [
       "| 10150     | 1m 14s        | 2.46506e+06    | 0               |"
      ]
     },
     "metadata": {},
     "output_type": "display_data"
    },
    {
     "data": {
      "text/html": [
       "<pre>| 10160     | 1m 14s        | 2.6518e+06     | 0               |</pre>"
      ],
      "text/plain": [
       "| 10160     | 1m 14s        | 2.6518e+06     | 0               |"
      ]
     },
     "metadata": {},
     "output_type": "display_data"
    },
    {
     "data": {
      "text/html": [
       "<pre>| 10170     | 1m 14s        | 2.54917e+06    | 0               |</pre>"
      ],
      "text/plain": [
       "| 10170     | 1m 14s        | 2.54917e+06    | 0               |"
      ]
     },
     "metadata": {},
     "output_type": "display_data"
    },
    {
     "data": {
      "text/html": [
       "<pre>| 10180     | 1m 14s        | 2.57778e+06    | 0               |</pre>"
      ],
      "text/plain": [
       "| 10180     | 1m 14s        | 2.57778e+06    | 0               |"
      ]
     },
     "metadata": {},
     "output_type": "display_data"
    },
    {
     "data": {
      "text/html": [
       "<pre>| 10190     | 1m 14s        | 2.54177e+06    | 0               |</pre>"
      ],
      "text/plain": [
       "| 10190     | 1m 14s        | 2.54177e+06    | 0               |"
      ]
     },
     "metadata": {},
     "output_type": "display_data"
    },
    {
     "data": {
      "text/html": [
       "<pre>| 10200     | 1m 14s        | 2.48876e+06    | 0               |</pre>"
      ],
      "text/plain": [
       "| 10200     | 1m 14s        | 2.48876e+06    | 0               |"
      ]
     },
     "metadata": {},
     "output_type": "display_data"
    },
    {
     "data": {
      "text/html": [
       "<pre>| 10210     | 1m 14s        | 2.57995e+06    | 0               |</pre>"
      ],
      "text/plain": [
       "| 10210     | 1m 14s        | 2.57995e+06    | 0               |"
      ]
     },
     "metadata": {},
     "output_type": "display_data"
    },
    {
     "data": {
      "text/html": [
       "<pre>| 10220     | 1m 14s        | 2.57959e+06    | 0               |</pre>"
      ],
      "text/plain": [
       "| 10220     | 1m 14s        | 2.57959e+06    | 0               |"
      ]
     },
     "metadata": {},
     "output_type": "display_data"
    },
    {
     "data": {
      "text/html": [
       "<pre>| 10230     | 1m 15s        | 2.48304e+06    | 0               |</pre>"
      ],
      "text/plain": [
       "| 10230     | 1m 15s        | 2.48304e+06    | 0               |"
      ]
     },
     "metadata": {},
     "output_type": "display_data"
    },
    {
     "data": {
      "text/html": [
       "<pre>| 10240     | 1m 15s        | 2.56662e+06    | 0               |</pre>"
      ],
      "text/plain": [
       "| 10240     | 1m 15s        | 2.56662e+06    | 0               |"
      ]
     },
     "metadata": {},
     "output_type": "display_data"
    },
    {
     "data": {
      "text/html": [
       "<pre>| 10250     | 1m 15s        | 2.47368e+06    | 0               |</pre>"
      ],
      "text/plain": [
       "| 10250     | 1m 15s        | 2.47368e+06    | 0               |"
      ]
     },
     "metadata": {},
     "output_type": "display_data"
    },
    {
     "data": {
      "text/html": [
       "<pre>| 10260     | 1m 15s        | 2.26989e+06    | 0               |</pre>"
      ],
      "text/plain": [
       "| 10260     | 1m 15s        | 2.26989e+06    | 0               |"
      ]
     },
     "metadata": {},
     "output_type": "display_data"
    },
    {
     "data": {
      "text/html": [
       "<pre>| 10270     | 1m 15s        | 2.46044e+06    | 0               |</pre>"
      ],
      "text/plain": [
       "| 10270     | 1m 15s        | 2.46044e+06    | 0               |"
      ]
     },
     "metadata": {},
     "output_type": "display_data"
    },
    {
     "data": {
      "text/html": [
       "<pre>| 10280     | 1m 15s        | 2.56304e+06    | 0               |</pre>"
      ],
      "text/plain": [
       "| 10280     | 1m 15s        | 2.56304e+06    | 0               |"
      ]
     },
     "metadata": {},
     "output_type": "display_data"
    },
    {
     "data": {
      "text/html": [
       "<pre>| 10290     | 1m 15s        | 2.40757e+06    | 0               |</pre>"
      ],
      "text/plain": [
       "| 10290     | 1m 15s        | 2.40757e+06    | 0               |"
      ]
     },
     "metadata": {},
     "output_type": "display_data"
    },
    {
     "data": {
      "text/html": [
       "<pre>| 10300     | 1m 15s        | 2.37644e+06    | 0               |</pre>"
      ],
      "text/plain": [
       "| 10300     | 1m 15s        | 2.37644e+06    | 0               |"
      ]
     },
     "metadata": {},
     "output_type": "display_data"
    },
    {
     "data": {
      "text/html": [
       "<pre>| 10310     | 1m 15s        | 2.52779e+06    | 0               |</pre>"
      ],
      "text/plain": [
       "| 10310     | 1m 15s        | 2.52779e+06    | 0               |"
      ]
     },
     "metadata": {},
     "output_type": "display_data"
    },
    {
     "data": {
      "text/html": [
       "<pre>| 10320     | 1m 15s        | 2.57923e+06    | 0               |</pre>"
      ],
      "text/plain": [
       "| 10320     | 1m 15s        | 2.57923e+06    | 0               |"
      ]
     },
     "metadata": {},
     "output_type": "display_data"
    },
    {
     "data": {
      "text/html": [
       "<pre>| 10330     | 1m 15s        | 2.55059e+06    | 0               |</pre>"
      ],
      "text/plain": [
       "| 10330     | 1m 15s        | 2.55059e+06    | 0               |"
      ]
     },
     "metadata": {},
     "output_type": "display_data"
    },
    {
     "data": {
      "text/html": [
       "<pre>| 10340     | 1m 15s        | 2.44213e+06    | 0               |</pre>"
      ],
      "text/plain": [
       "| 10340     | 1m 15s        | 2.44213e+06    | 0               |"
      ]
     },
     "metadata": {},
     "output_type": "display_data"
    },
    {
     "data": {
      "text/html": [
       "<pre>| 10350     | 1m 15s        | 2.5264e+06     | 0               |</pre>"
      ],
      "text/plain": [
       "| 10350     | 1m 15s        | 2.5264e+06     | 0               |"
      ]
     },
     "metadata": {},
     "output_type": "display_data"
    },
    {
     "data": {
      "text/html": [
       "<pre>| 10360     | 1m 16s        | 2.3826e+06     | 0               |</pre>"
      ],
      "text/plain": [
       "| 10360     | 1m 16s        | 2.3826e+06     | 0               |"
      ]
     },
     "metadata": {},
     "output_type": "display_data"
    },
    {
     "data": {
      "text/html": [
       "<pre>| 10370     | 1m 16s        | 2.55698e+06    | 0               |</pre>"
      ],
      "text/plain": [
       "| 10370     | 1m 16s        | 2.55698e+06    | 0               |"
      ]
     },
     "metadata": {},
     "output_type": "display_data"
    },
    {
     "data": {
      "text/html": [
       "<pre>| 10380     | 1m 16s        | 2.50129e+06    | 0               |</pre>"
      ],
      "text/plain": [
       "| 10380     | 1m 16s        | 2.50129e+06    | 0               |"
      ]
     },
     "metadata": {},
     "output_type": "display_data"
    },
    {
     "data": {
      "text/html": [
       "<pre>| 10390     | 1m 16s        | 2.59746e+06    | 0               |</pre>"
      ],
      "text/plain": [
       "| 10390     | 1m 16s        | 2.59746e+06    | 0               |"
      ]
     },
     "metadata": {},
     "output_type": "display_data"
    },
    {
     "data": {
      "text/html": [
       "<pre>| 10400     | 1m 16s        | 2.46903e+06    | 0               |</pre>"
      ],
      "text/plain": [
       "| 10400     | 1m 16s        | 2.46903e+06    | 0               |"
      ]
     },
     "metadata": {},
     "output_type": "display_data"
    },
    {
     "data": {
      "text/html": [
       "<pre>| 10410     | 1m 16s        | 2.58795e+06    | 0               |</pre>"
      ],
      "text/plain": [
       "| 10410     | 1m 16s        | 2.58795e+06    | 0               |"
      ]
     },
     "metadata": {},
     "output_type": "display_data"
    },
    {
     "data": {
      "text/html": [
       "<pre>| 10420     | 1m 16s        | 2.60334e+06    | 0               |</pre>"
      ],
      "text/plain": [
       "| 10420     | 1m 16s        | 2.60334e+06    | 0               |"
      ]
     },
     "metadata": {},
     "output_type": "display_data"
    },
    {
     "data": {
      "text/html": [
       "<pre>| 10430     | 1m 16s        | 2.48003e+06    | 0               |</pre>"
      ],
      "text/plain": [
       "| 10430     | 1m 16s        | 2.48003e+06    | 0               |"
      ]
     },
     "metadata": {},
     "output_type": "display_data"
    },
    {
     "data": {
      "text/html": [
       "<pre>| 10440     | 1m 16s        | 2.4418e+06     | 0               |</pre>"
      ],
      "text/plain": [
       "| 10440     | 1m 16s        | 2.4418e+06     | 0               |"
      ]
     },
     "metadata": {},
     "output_type": "display_data"
    },
    {
     "data": {
      "text/html": [
       "<pre>| 10450     | 1m 16s        | 2.45256e+06    | 0               |</pre>"
      ],
      "text/plain": [
       "| 10450     | 1m 16s        | 2.45256e+06    | 0               |"
      ]
     },
     "metadata": {},
     "output_type": "display_data"
    },
    {
     "data": {
      "text/html": [
       "<pre>| 10460     | 1m 16s        | 2.45682e+06    | 0               |</pre>"
      ],
      "text/plain": [
       "| 10460     | 1m 16s        | 2.45682e+06    | 0               |"
      ]
     },
     "metadata": {},
     "output_type": "display_data"
    },
    {
     "data": {
      "text/html": [
       "<pre>| 10470     | 1m 16s        | 2.62005e+06    | 0               |</pre>"
      ],
      "text/plain": [
       "| 10470     | 1m 16s        | 2.62005e+06    | 0               |"
      ]
     },
     "metadata": {},
     "output_type": "display_data"
    },
    {
     "data": {
      "text/html": [
       "<pre>| 10480     | 1m 16s        | 2.48876e+06    | 0               |</pre>"
      ],
      "text/plain": [
       "| 10480     | 1m 16s        | 2.48876e+06    | 0               |"
      ]
     },
     "metadata": {},
     "output_type": "display_data"
    },
    {
     "data": {
      "text/html": [
       "<pre>| 10490     | 1m 16s        | 2.3464e+06     | 0               |</pre>"
      ],
      "text/plain": [
       "| 10490     | 1m 16s        | 2.3464e+06     | 0               |"
      ]
     },
     "metadata": {},
     "output_type": "display_data"
    },
    {
     "data": {
      "text/html": [
       "<pre>| 10500     | 1m 17s        | 2.39502e+06    | 0               |</pre>"
      ],
      "text/plain": [
       "| 10500     | 1m 17s        | 2.39502e+06    | 0               |"
      ]
     },
     "metadata": {},
     "output_type": "display_data"
    },
    {
     "data": {
      "text/html": [
       "<pre>| 10510     | 1m 17s        | 2.59233e+06    | 0               |</pre>"
      ],
      "text/plain": [
       "| 10510     | 1m 17s        | 2.59233e+06    | 0               |"
      ]
     },
     "metadata": {},
     "output_type": "display_data"
    },
    {
     "data": {
      "text/html": [
       "<pre>| 10520     | 1m 17s        | 2.52848e+06    | 0               |</pre>"
      ],
      "text/plain": [
       "| 10520     | 1m 17s        | 2.52848e+06    | 0               |"
      ]
     },
     "metadata": {},
     "output_type": "display_data"
    },
    {
     "data": {
      "text/html": [
       "<pre>| 10530     | 1m 17s        | 2.57129e+06    | 0               |</pre>"
      ],
      "text/plain": [
       "| 10530     | 1m 17s        | 2.57129e+06    | 0               |"
      ]
     },
     "metadata": {},
     "output_type": "display_data"
    },
    {
     "data": {
      "text/html": [
       "<pre>| 10540     | 1m 17s        | 2.55627e+06    | 0               |</pre>"
      ],
      "text/plain": [
       "| 10540     | 1m 17s        | 2.55627e+06    | 0               |"
      ]
     },
     "metadata": {},
     "output_type": "display_data"
    },
    {
     "data": {
      "text/html": [
       "<pre>| 10550     | 1m 17s        | 2.54494e+06    | 0               |</pre>"
      ],
      "text/plain": [
       "| 10550     | 1m 17s        | 2.54494e+06    | 0               |"
      ]
     },
     "metadata": {},
     "output_type": "display_data"
    },
    {
     "data": {
      "text/html": [
       "<pre>| 10560     | 1m 17s        | 2.66333e+06    | 0               |</pre>"
      ],
      "text/plain": [
       "| 10560     | 1m 17s        | 2.66333e+06    | 0               |"
      ]
     },
     "metadata": {},
     "output_type": "display_data"
    },
    {
     "data": {
      "text/html": [
       "<pre>| 10570     | 1m 17s        | 2.52189e+06    | 0               |</pre>"
      ],
      "text/plain": [
       "| 10570     | 1m 17s        | 2.52189e+06    | 0               |"
      ]
     },
     "metadata": {},
     "output_type": "display_data"
    },
    {
     "data": {
      "text/html": [
       "<pre>| 10580     | 1m 17s        | 2.71287e+06    | 0               |</pre>"
      ],
      "text/plain": [
       "| 10580     | 1m 17s        | 2.71287e+06    | 0               |"
      ]
     },
     "metadata": {},
     "output_type": "display_data"
    },
    {
     "data": {
      "text/html": [
       "<pre>| 10590     | 1m 17s        | 2.64913e+06    | 0               |</pre>"
      ],
      "text/plain": [
       "| 10590     | 1m 17s        | 2.64913e+06    | 0               |"
      ]
     },
     "metadata": {},
     "output_type": "display_data"
    },
    {
     "data": {
      "text/html": [
       "<pre>| 10600     | 1m 17s        | 2.55947e+06    | 0               |</pre>"
      ],
      "text/plain": [
       "| 10600     | 1m 17s        | 2.55947e+06    | 0               |"
      ]
     },
     "metadata": {},
     "output_type": "display_data"
    },
    {
     "data": {
      "text/html": [
       "<pre>| 10610     | 1m 17s        | 2.55769e+06    | 0               |</pre>"
      ],
      "text/plain": [
       "| 10610     | 1m 17s        | 2.55769e+06    | 0               |"
      ]
     },
     "metadata": {},
     "output_type": "display_data"
    },
    {
     "data": {
      "text/html": [
       "<pre>| 10620     | 1m 17s        | 2.68356e+06    | 0               |</pre>"
      ],
      "text/plain": [
       "| 10620     | 1m 17s        | 2.68356e+06    | 0               |"
      ]
     },
     "metadata": {},
     "output_type": "display_data"
    },
    {
     "data": {
      "text/html": [
       "<pre>| 10630     | 1m 18s        | 2.19479e+06    | 0               |</pre>"
      ],
      "text/plain": [
       "| 10630     | 1m 18s        | 2.19479e+06    | 0               |"
      ]
     },
     "metadata": {},
     "output_type": "display_data"
    },
    {
     "data": {
      "text/html": [
       "<pre>| 10640     | 1m 18s        | 4.55779e+06    | 0               |</pre>"
      ],
      "text/plain": [
       "| 10640     | 1m 18s        | 4.55779e+06    | 0               |"
      ]
     },
     "metadata": {},
     "output_type": "display_data"
    },
    {
     "data": {
      "text/html": [
       "<pre>| 10650     | 1m 18s        | 2.12721e+06    | 0               |</pre>"
      ],
      "text/plain": [
       "| 10650     | 1m 18s        | 2.12721e+06    | 0               |"
      ]
     },
     "metadata": {},
     "output_type": "display_data"
    },
    {
     "data": {
      "text/html": [
       "<pre>| 10660     | 1m 18s        | 2.08735e+06    | 0               |</pre>"
      ],
      "text/plain": [
       "| 10660     | 1m 18s        | 2.08735e+06    | 0               |"
      ]
     },
     "metadata": {},
     "output_type": "display_data"
    },
    {
     "data": {
      "text/html": [
       "<pre>| 10670     | 1m 18s        | 2.30058e+06    | 0               |</pre>"
      ],
      "text/plain": [
       "| 10670     | 1m 18s        | 2.30058e+06    | 0               |"
      ]
     },
     "metadata": {},
     "output_type": "display_data"
    },
    {
     "data": {
      "text/html": [
       "<pre>| 10680     | 1m 18s        | 2.23973e+06    | 0               |</pre>"
      ],
      "text/plain": [
       "| 10680     | 1m 18s        | 2.23973e+06    | 0               |"
      ]
     },
     "metadata": {},
     "output_type": "display_data"
    },
    {
     "data": {
      "text/html": [
       "<pre>| 10690     | 1m 18s        | 2.33122e+06    | 0               |</pre>"
      ],
      "text/plain": [
       "| 10690     | 1m 18s        | 2.33122e+06    | 0               |"
      ]
     },
     "metadata": {},
     "output_type": "display_data"
    },
    {
     "data": {
      "text/html": [
       "<pre>| 10700     | 1m 18s        | 2.52501e+06    | 0               |</pre>"
      ],
      "text/plain": [
       "| 10700     | 1m 18s        | 2.52501e+06    | 0               |"
      ]
     },
     "metadata": {},
     "output_type": "display_data"
    },
    {
     "data": {
      "text/html": [
       "<pre>| 10710     | 1m 18s        | 4.78942e+06    | 0               |</pre>"
      ],
      "text/plain": [
       "| 10710     | 1m 18s        | 4.78942e+06    | 0               |"
      ]
     },
     "metadata": {},
     "output_type": "display_data"
    },
    {
     "data": {
      "text/html": [
       "<pre>| 10720     | 1m 18s        | 2.64875e+06    | 0               |</pre>"
      ],
      "text/plain": [
       "| 10720     | 1m 18s        | 2.64875e+06    | 0               |"
      ]
     },
     "metadata": {},
     "output_type": "display_data"
    },
    {
     "data": {
      "text/html": [
       "<pre>| 10730     | 1m 18s        | 2.51912e+06    | 0               |</pre>"
      ],
      "text/plain": [
       "| 10730     | 1m 18s        | 2.51912e+06    | 0               |"
      ]
     },
     "metadata": {},
     "output_type": "display_data"
    },
    {
     "data": {
      "text/html": [
       "<pre>| 10740     | 1m 18s        | 2.56233e+06    | 0               |</pre>"
      ],
      "text/plain": [
       "| 10740     | 1m 18s        | 2.56233e+06    | 0               |"
      ]
     },
     "metadata": {},
     "output_type": "display_data"
    },
    {
     "data": {
      "text/html": [
       "<pre>| 10750     | 1m 18s        | 2.67925e+06    | 0               |</pre>"
      ],
      "text/plain": [
       "| 10750     | 1m 18s        | 2.67925e+06    | 0               |"
      ]
     },
     "metadata": {},
     "output_type": "display_data"
    },
    {
     "data": {
      "text/html": [
       "<pre>| 10760     | 1m 19s        | 2.47335e+06    | 0               |</pre>"
      ],
      "text/plain": [
       "| 10760     | 1m 19s        | 2.47335e+06    | 0               |"
      ]
     },
     "metadata": {},
     "output_type": "display_data"
    },
    {
     "data": {
      "text/html": [
       "<pre>| 10770     | 1m 19s        | 2.53127e+06    | 0               |</pre>"
      ],
      "text/plain": [
       "| 10770     | 1m 19s        | 2.53127e+06    | 0               |"
      ]
     },
     "metadata": {},
     "output_type": "display_data"
    },
    {
     "data": {
      "text/html": [
       "<pre>| 10780     | 1m 19s        | 2.6347e+06     | 0               |</pre>"
      ],
      "text/plain": [
       "| 10780     | 1m 19s        | 2.6347e+06     | 0               |"
      ]
     },
     "metadata": {},
     "output_type": "display_data"
    },
    {
     "data": {
      "text/html": [
       "<pre>| 10790     | 1m 19s        | 2.41612e+06    | 0               |</pre>"
      ],
      "text/plain": [
       "| 10790     | 1m 19s        | 2.41612e+06    | 0               |"
      ]
     },
     "metadata": {},
     "output_type": "display_data"
    },
    {
     "data": {
      "text/html": [
       "<pre>| 10800     | 1m 19s        | 2.45945e+06    | 0               |</pre>"
      ],
      "text/plain": [
       "| 10800     | 1m 19s        | 2.45945e+06    | 0               |"
      ]
     },
     "metadata": {},
     "output_type": "display_data"
    },
    {
     "data": {
      "text/html": [
       "<pre>| 10810     | 1m 19s        | 2.58612e+06    | 0               |</pre>"
      ],
      "text/plain": [
       "| 10810     | 1m 19s        | 2.58612e+06    | 0               |"
      ]
     },
     "metadata": {},
     "output_type": "display_data"
    },
    {
     "data": {
      "text/html": [
       "<pre>| 10820     | 1m 19s        | 2.56197e+06    | 0               |</pre>"
      ],
      "text/plain": [
       "| 10820     | 1m 19s        | 2.56197e+06    | 0               |"
      ]
     },
     "metadata": {},
     "output_type": "display_data"
    },
    {
     "data": {
      "text/html": [
       "<pre>| 10830     | 1m 19s        | 2.59379e+06    | 0               |</pre>"
      ],
      "text/plain": [
       "| 10830     | 1m 19s        | 2.59379e+06    | 0               |"
      ]
     },
     "metadata": {},
     "output_type": "display_data"
    },
    {
     "data": {
      "text/html": [
       "<pre>| 10840     | 1m 19s        | 2.51052e+06    | 0               |</pre>"
      ],
      "text/plain": [
       "| 10840     | 1m 19s        | 2.51052e+06    | 0               |"
      ]
     },
     "metadata": {},
     "output_type": "display_data"
    },
    {
     "data": {
      "text/html": [
       "<pre>| 10850     | 1m 19s        | 2.47202e+06    | 0               |</pre>"
      ],
      "text/plain": [
       "| 10850     | 1m 19s        | 2.47202e+06    | 0               |"
      ]
     },
     "metadata": {},
     "output_type": "display_data"
    },
    {
     "data": {
      "text/html": [
       "<pre>| 10860     | 1m 19s        | 2.49552e+06    | 0               |</pre>"
      ],
      "text/plain": [
       "| 10860     | 1m 19s        | 2.49552e+06    | 0               |"
      ]
     },
     "metadata": {},
     "output_type": "display_data"
    },
    {
     "data": {
      "text/html": [
       "<pre>| 10870     | 1m 19s        | 2.58358e+06    | 0               |</pre>"
      ],
      "text/plain": [
       "| 10870     | 1m 19s        | 2.58358e+06    | 0               |"
      ]
     },
     "metadata": {},
     "output_type": "display_data"
    },
    {
     "data": {
      "text/html": [
       "<pre>| 10880     | 1m 19s        | 2.45715e+06    | 0               |</pre>"
      ],
      "text/plain": [
       "| 10880     | 1m 19s        | 2.45715e+06    | 0               |"
      ]
     },
     "metadata": {},
     "output_type": "display_data"
    },
    {
     "data": {
      "text/html": [
       "<pre>| 10890     | 1m 19s        | 2.60187e+06    | 0               |</pre>"
      ],
      "text/plain": [
       "| 10890     | 1m 19s        | 2.60187e+06    | 0               |"
      ]
     },
     "metadata": {},
     "output_type": "display_data"
    },
    {
     "data": {
      "text/html": [
       "<pre>| 10900     | 1m 20s        | 2.51327e+06    | 0               |</pre>"
      ],
      "text/plain": [
       "| 10900     | 1m 20s        | 2.51327e+06    | 0               |"
      ]
     },
     "metadata": {},
     "output_type": "display_data"
    },
    {
     "data": {
      "text/html": [
       "<pre>| 10910     | 1m 20s        | 2.49045e+06    | 0               |</pre>"
      ],
      "text/plain": [
       "| 10910     | 1m 20s        | 2.49045e+06    | 0               |"
      ]
     },
     "metadata": {},
     "output_type": "display_data"
    },
    {
     "data": {
      "text/html": [
       "<pre>| 10920     | 1m 20s        | 2.51395e+06    | 0               |</pre>"
      ],
      "text/plain": [
       "| 10920     | 1m 20s        | 2.51395e+06    | 0               |"
      ]
     },
     "metadata": {},
     "output_type": "display_data"
    },
    {
     "data": {
      "text/html": [
       "<pre>| 10930     | 1m 20s        | 2.63696e+06    | 0               |</pre>"
      ],
      "text/plain": [
       "| 10930     | 1m 20s        | 2.63696e+06    | 0               |"
      ]
     },
     "metadata": {},
     "output_type": "display_data"
    },
    {
     "data": {
      "text/html": [
       "<pre>| 10940     | 1m 20s        | 2.40757e+06    | 0               |</pre>"
      ],
      "text/plain": [
       "| 10940     | 1m 20s        | 2.40757e+06    | 0               |"
      ]
     },
     "metadata": {},
     "output_type": "display_data"
    },
    {
     "data": {
      "text/html": [
       "<pre>| 10950     | 1m 20s        | 2.52189e+06    | 0               |</pre>"
      ],
      "text/plain": [
       "| 10950     | 1m 20s        | 2.52189e+06    | 0               |"
      ]
     },
     "metadata": {},
     "output_type": "display_data"
    },
    {
     "data": {
      "text/html": [
       "<pre>| 10960     | 1m 20s        | 2.31565e+06    | 0               |</pre>"
      ],
      "text/plain": [
       "| 10960     | 1m 20s        | 2.31565e+06    | 0               |"
      ]
     },
     "metadata": {},
     "output_type": "display_data"
    },
    {
     "data": {
      "text/html": [
       "<pre>| 10970     | 1m 20s        | 2.55627e+06    | 0               |</pre>"
      ],
      "text/plain": [
       "| 10970     | 1m 20s        | 2.55627e+06    | 0               |"
      ]
     },
     "metadata": {},
     "output_type": "display_data"
    },
    {
     "data": {
      "text/html": [
       "<pre>| 10980     | 1m 20s        | 2.62042e+06    | 0               |</pre>"
      ],
      "text/plain": [
       "| 10980     | 1m 20s        | 2.62042e+06    | 0               |"
      ]
     },
     "metadata": {},
     "output_type": "display_data"
    },
    {
     "data": {
      "text/html": [
       "<pre>| 10990     | 1m 20s        | 2.45846e+06    | 0               |</pre>"
      ],
      "text/plain": [
       "| 10990     | 1m 20s        | 2.45846e+06    | 0               |"
      ]
     },
     "metadata": {},
     "output_type": "display_data"
    },
    {
     "data": {
      "text/html": [
       "<pre>| 11000     | 1m 20s        | 2.48775e+06    | 0               |</pre>"
      ],
      "text/plain": [
       "| 11000     | 1m 20s        | 2.48775e+06    | 0               |"
      ]
     },
     "metadata": {},
     "output_type": "display_data"
    },
    {
     "data": {
      "text/html": [
       "<pre>| 11010     | 1m 20s        | 2.55556e+06    | 0               |</pre>"
      ],
      "text/plain": [
       "| 11010     | 1m 20s        | 2.55556e+06    | 0               |"
      ]
     },
     "metadata": {},
     "output_type": "display_data"
    },
    {
     "data": {
      "text/html": [
       "<pre>| 11020     | 1m 20s        | 2.5609e+06     | 0               |</pre>"
      ],
      "text/plain": [
       "| 11020     | 1m 20s        | 2.5609e+06     | 0               |"
      ]
     },
     "metadata": {},
     "output_type": "display_data"
    },
    {
     "data": {
      "text/html": [
       "<pre>| 11030     | 1m 21s        | 2.55059e+06    | 0               |</pre>"
      ],
      "text/plain": [
       "| 11030     | 1m 21s        | 2.55059e+06    | 0               |"
      ]
     },
     "metadata": {},
     "output_type": "display_data"
    },
    {
     "data": {
      "text/html": [
       "<pre>| 11040     | 1m 21s        | 2.50778e+06    | 0               |</pre>"
      ],
      "text/plain": [
       "| 11040     | 1m 21s        | 2.50778e+06    | 0               |"
      ]
     },
     "metadata": {},
     "output_type": "display_data"
    },
    {
     "data": {
      "text/html": [
       "<pre>| 11050     | 1m 21s        | 2.62716e+06    | 0               |</pre>"
      ],
      "text/plain": [
       "| 11050     | 1m 21s        | 2.62716e+06    | 0               |"
      ]
     },
     "metadata": {},
     "output_type": "display_data"
    },
    {
     "data": {
      "text/html": [
       "<pre>| 11060     | 1m 21s        | 2.57309e+06    | 0               |</pre>"
      ],
      "text/plain": [
       "| 11060     | 1m 21s        | 2.57309e+06    | 0               |"
      ]
     },
     "metadata": {},
     "output_type": "display_data"
    },
    {
     "data": {
      "text/html": [
       "<pre>| 11070     | 1m 21s        | 2.50778e+06    | 0               |</pre>"
      ],
      "text/plain": [
       "| 11070     | 1m 21s        | 2.50778e+06    | 0               |"
      ]
     },
     "metadata": {},
     "output_type": "display_data"
    },
    {
     "data": {
      "text/html": [
       "<pre>| 11080     | 1m 21s        | 2.5659e+06     | 0               |</pre>"
      ],
      "text/plain": [
       "| 11080     | 1m 21s        | 2.5659e+06     | 0               |"
      ]
     },
     "metadata": {},
     "output_type": "display_data"
    },
    {
     "data": {
      "text/html": [
       "<pre>| 11090     | 1m 21s        | 2.61111e+06    | 0               |</pre>"
      ],
      "text/plain": [
       "| 11090     | 1m 21s        | 2.61111e+06    | 0               |"
      ]
     },
     "metadata": {},
     "output_type": "display_data"
    },
    {
     "data": {
      "text/html": [
       "<pre>| 11100     | 1m 21s        | 2.4945e+06     | 0               |</pre>"
      ],
      "text/plain": [
       "| 11100     | 1m 21s        | 2.4945e+06     | 0               |"
      ]
     },
     "metadata": {},
     "output_type": "display_data"
    },
    {
     "data": {
      "text/html": [
       "<pre>| 11110     | 1m 21s        | 2.63962e+06    | 0               |</pre>"
      ],
      "text/plain": [
       "| 11110     | 1m 21s        | 2.63962e+06    | 0               |"
      ]
     },
     "metadata": {},
     "output_type": "display_data"
    },
    {
     "data": {
      "text/html": [
       "<pre>| 11120     | 1m 21s        | 2.54212e+06    | 0               |</pre>"
      ],
      "text/plain": [
       "| 11120     | 1m 21s        | 2.54212e+06    | 0               |"
      ]
     },
     "metadata": {},
     "output_type": "display_data"
    },
    {
     "data": {
      "text/html": [
       "<pre>| 11130     | 1m 21s        | 2.53092e+06    | 0               |</pre>"
      ],
      "text/plain": [
       "| 11130     | 1m 21s        | 2.53092e+06    | 0               |"
      ]
     },
     "metadata": {},
     "output_type": "display_data"
    },
    {
     "data": {
      "text/html": [
       "<pre>| 11140     | 1m 21s        | 2.52918e+06    | 0               |</pre>"
      ],
      "text/plain": [
       "| 11140     | 1m 21s        | 2.52918e+06    | 0               |"
      ]
     },
     "metadata": {},
     "output_type": "display_data"
    },
    {
     "data": {
      "text/html": [
       "<pre>| 11150     | 1m 21s        | 2.5814e+06     | 0               |</pre>"
      ],
      "text/plain": [
       "| 11150     | 1m 21s        | 2.5814e+06     | 0               |"
      ]
     },
     "metadata": {},
     "output_type": "display_data"
    },
    {
     "data": {
      "text/html": [
       "<pre>| 11160     | 1m 21s        | 2.54353e+06    | 0               |</pre>"
      ],
      "text/plain": [
       "| 11160     | 1m 21s        | 2.54353e+06    | 0               |"
      ]
     },
     "metadata": {},
     "output_type": "display_data"
    },
    {
     "data": {
      "text/html": [
       "<pre>| 11170     | 1m 22s        | 2.53301e+06    | 0               |</pre>"
      ],
      "text/plain": [
       "| 11170     | 1m 22s        | 2.53301e+06    | 0               |"
      ]
     },
     "metadata": {},
     "output_type": "display_data"
    },
    {
     "data": {
      "text/html": [
       "<pre>| 11180     | 1m 22s        | 2.64989e+06    | 0               |</pre>"
      ],
      "text/plain": [
       "| 11180     | 1m 22s        | 2.64989e+06    | 0               |"
      ]
     },
     "metadata": {},
     "output_type": "display_data"
    },
    {
     "data": {
      "text/html": [
       "<pre>| 11190     | 1m 22s        | 2.53651e+06    | 0               |</pre>"
      ],
      "text/plain": [
       "| 11190     | 1m 22s        | 2.53651e+06    | 0               |"
      ]
     },
     "metadata": {},
     "output_type": "display_data"
    },
    {
     "data": {
      "text/html": [
       "<pre>| 11200     | 1m 22s        | 2.50983e+06    | 0               |</pre>"
      ],
      "text/plain": [
       "| 11200     | 1m 22s        | 2.50983e+06    | 0               |"
      ]
     },
     "metadata": {},
     "output_type": "display_data"
    },
    {
     "data": {
      "text/html": [
       "<pre>| 11210     | 1m 22s        | 2.5205e+06     | 0               |</pre>"
      ],
      "text/plain": [
       "| 11210     | 1m 22s        | 2.5205e+06     | 0               |"
      ]
     },
     "metadata": {},
     "output_type": "display_data"
    },
    {
     "data": {
      "text/html": [
       "<pre>| 11220     | 1m 22s        | 2.61669e+06    | 0               |</pre>"
      ],
      "text/plain": [
       "| 11220     | 1m 22s        | 2.61669e+06    | 0               |"
      ]
     },
     "metadata": {},
     "output_type": "display_data"
    },
    {
     "data": {
      "text/html": [
       "<pre>| 11230     | 1m 22s        | 2.33596e+06    | 0               |</pre>"
      ],
      "text/plain": [
       "| 11230     | 1m 22s        | 2.33596e+06    | 0               |"
      ]
     },
     "metadata": {},
     "output_type": "display_data"
    },
    {
     "data": {
      "text/html": [
       "<pre>| 11240     | 1m 22s        | 2.40128e+06    | 0               |</pre>"
      ],
      "text/plain": [
       "| 11240     | 1m 22s        | 2.40128e+06    | 0               |"
      ]
     },
     "metadata": {},
     "output_type": "display_data"
    },
    {
     "data": {
      "text/html": [
       "<pre>| 11250     | 1m 22s        | 2.55449e+06    | 0               |</pre>"
      ],
      "text/plain": [
       "| 11250     | 1m 22s        | 2.55449e+06    | 0               |"
      ]
     },
     "metadata": {},
     "output_type": "display_data"
    },
    {
     "data": {
      "text/html": [
       "<pre>| 11260     | 1m 22s        | 2.49552e+06    | 0               |</pre>"
      ],
      "text/plain": [
       "| 11260     | 1m 22s        | 2.49552e+06    | 0               |"
      ]
     },
     "metadata": {},
     "output_type": "display_data"
    },
    {
     "data": {
      "text/html": [
       "<pre>| 11270     | 1m 22s        | 2.61781e+06    | 0               |</pre>"
      ],
      "text/plain": [
       "| 11270     | 1m 22s        | 2.61781e+06    | 0               |"
      ]
     },
     "metadata": {},
     "output_type": "display_data"
    },
    {
     "data": {
      "text/html": [
       "<pre>| 11280     | 1m 22s        | 2.44733e+06    | 0               |</pre>"
      ],
      "text/plain": [
       "| 11280     | 1m 22s        | 2.44733e+06    | 0               |"
      ]
     },
     "metadata": {},
     "output_type": "display_data"
    },
    {
     "data": {
      "text/html": [
       "<pre>| 11290     | 1m 23s        | 2.24301e+06    | 0               |</pre>"
      ],
      "text/plain": [
       "| 11290     | 1m 23s        | 2.24301e+06    | 0               |"
      ]
     },
     "metadata": {},
     "output_type": "display_data"
    },
    {
     "data": {
      "text/html": [
       "<pre>| 11300     | 1m 23s        | 2.38075e+06    | 0               |</pre>"
      ],
      "text/plain": [
       "| 11300     | 1m 23s        | 2.38075e+06    | 0               |"
      ]
     },
     "metadata": {},
     "output_type": "display_data"
    },
    {
     "data": {
      "text/html": [
       "<pre>| 11310     | 1m 23s        | 2.26485e+06    | 0               |</pre>"
      ],
      "text/plain": [
       "| 11310     | 1m 23s        | 2.26485e+06    | 0               |"
      ]
     },
     "metadata": {},
     "output_type": "display_data"
    },
    {
     "data": {
      "text/html": [
       "<pre>| 11320     | 1m 23s        | 2.03443e+06    | 0               |</pre>"
      ],
      "text/plain": [
       "| 11320     | 1m 23s        | 2.03443e+06    | 0               |"
      ]
     },
     "metadata": {},
     "output_type": "display_data"
    },
    {
     "data": {
      "text/html": [
       "<pre>| 11330     | 1m 23s        | 2.52431e+06    | 0               |</pre>"
      ],
      "text/plain": [
       "| 11330     | 1m 23s        | 2.52431e+06    | 0               |"
      ]
     },
     "metadata": {},
     "output_type": "display_data"
    },
    {
     "data": {
      "text/html": [
       "<pre>| 11340     | 1m 23s        | 2940320        | 0               |</pre>"
      ],
      "text/plain": [
       "| 11340     | 1m 23s        | 2940320        | 0               |"
      ]
     },
     "metadata": {},
     "output_type": "display_data"
    },
    {
     "data": {
      "text/html": [
       "<pre>| 11350     | 1m 23s        | 2.69221e+06    | 0               |</pre>"
      ],
      "text/plain": [
       "| 11350     | 1m 23s        | 2.69221e+06    | 0               |"
      ]
     },
     "metadata": {},
     "output_type": "display_data"
    },
    {
     "data": {
      "text/html": [
       "<pre>| 11360     | 1m 23s        | 2.34311e+06    | 0               |</pre>"
      ],
      "text/plain": [
       "| 11360     | 1m 23s        | 2.34311e+06    | 0               |"
      ]
     },
     "metadata": {},
     "output_type": "display_data"
    },
    {
     "data": {
      "text/html": [
       "<pre>| 11370     | 1m 23s        | 3.28513e+06    | 0               |</pre>"
      ],
      "text/plain": [
       "| 11370     | 1m 23s        | 3.28513e+06    | 0               |"
      ]
     },
     "metadata": {},
     "output_type": "display_data"
    },
    {
     "data": {
      "text/html": [
       "<pre>| 11380     | 1m 23s        | 2.61222e+06    | 0               |</pre>"
      ],
      "text/plain": [
       "| 11380     | 1m 23s        | 2.61222e+06    | 0               |"
      ]
     },
     "metadata": {},
     "output_type": "display_data"
    },
    {
     "data": {
      "text/html": [
       "<pre>| 11390     | 1m 23s        | 2.56233e+06    | 0               |</pre>"
      ],
      "text/plain": [
       "| 11390     | 1m 23s        | 2.56233e+06    | 0               |"
      ]
     },
     "metadata": {},
     "output_type": "display_data"
    },
    {
     "data": {
      "text/html": [
       "<pre>| 11400     | 1m 23s        | 2.8995e+06     | 0               |</pre>"
      ],
      "text/plain": [
       "| 11400     | 1m 23s        | 2.8995e+06     | 0               |"
      ]
     },
     "metadata": {},
     "output_type": "display_data"
    },
    {
     "data": {
      "text/html": [
       "<pre>| 11410     | 1m 23s        | 2.43501e+06    | 0               |</pre>"
      ],
      "text/plain": [
       "| 11410     | 1m 23s        | 2.43501e+06    | 0               |"
      ]
     },
     "metadata": {},
     "output_type": "display_data"
    },
    {
     "data": {
      "text/html": [
       "<pre>| 11420     | 1m 23s        | 2.60519e+06    | 0               |</pre>"
      ],
      "text/plain": [
       "| 11420     | 1m 23s        | 2.60519e+06    | 0               |"
      ]
     },
     "metadata": {},
     "output_type": "display_data"
    },
    {
     "data": {
      "text/html": [
       "<pre>| 11430     | 1m 24s        | 2.24383e+06    | 0               |</pre>"
      ],
      "text/plain": [
       "| 11430     | 1m 24s        | 2.24383e+06    | 0               |"
      ]
     },
     "metadata": {},
     "output_type": "display_data"
    },
    {
     "data": {
      "text/html": [
       "<pre>| 11440     | 1m 24s        | 2.55272e+06    | 0               |</pre>"
      ],
      "text/plain": [
       "| 11440     | 1m 24s        | 2.55272e+06    | 0               |"
      ]
     },
     "metadata": {},
     "output_type": "display_data"
    },
    {
     "data": {
      "text/html": [
       "<pre>| 11450     | 1m 24s        | 2.3789e+06     | 0               |</pre>"
      ],
      "text/plain": [
       "| 11450     | 1m 24s        | 2.3789e+06     | 0               |"
      ]
     },
     "metadata": {},
     "output_type": "display_data"
    },
    {
     "data": {
      "text/html": [
       "<pre>| 11460     | 1m 24s        | 2.50027e+06    | 0               |</pre>"
      ],
      "text/plain": [
       "| 11460     | 1m 24s        | 2.50027e+06    | 0               |"
      ]
     },
     "metadata": {},
     "output_type": "display_data"
    },
    {
     "data": {
      "text/html": [
       "<pre>| 11470     | 1m 24s        | 2.53371e+06    | 0               |</pre>"
      ],
      "text/plain": [
       "| 11470     | 1m 24s        | 2.53371e+06    | 0               |"
      ]
     },
     "metadata": {},
     "output_type": "display_data"
    },
    {
     "data": {
      "text/html": [
       "<pre>| 11480     | 1m 24s        | 2.6004e+06     | 0               |</pre>"
      ],
      "text/plain": [
       "| 11480     | 1m 24s        | 2.6004e+06     | 0               |"
      ]
     },
     "metadata": {},
     "output_type": "display_data"
    },
    {
     "data": {
      "text/html": [
       "<pre>| 11490     | 1m 24s        | 2.45912e+06    | 0               |</pre>"
      ],
      "text/plain": [
       "| 11490     | 1m 24s        | 2.45912e+06    | 0               |"
      ]
     },
     "metadata": {},
     "output_type": "display_data"
    },
    {
     "data": {
      "text/html": [
       "<pre>| 11500     | 1m 24s        | 2.64417e+06    | 0               |</pre>"
      ],
      "text/plain": [
       "| 11500     | 1m 24s        | 2.64417e+06    | 0               |"
      ]
     },
     "metadata": {},
     "output_type": "display_data"
    },
    {
     "data": {
      "text/html": [
       "<pre>| 11510     | 1m 24s        | 2.54494e+06    | 0               |</pre>"
      ],
      "text/plain": [
       "| 11510     | 1m 24s        | 2.54494e+06    | 0               |"
      ]
     },
     "metadata": {},
     "output_type": "display_data"
    },
    {
     "data": {
      "text/html": [
       "<pre>| 11520     | 1m 24s        | 2.51636e+06    | 0               |</pre>"
      ],
      "text/plain": [
       "| 11520     | 1m 24s        | 2.51636e+06    | 0               |"
      ]
     },
     "metadata": {},
     "output_type": "display_data"
    },
    {
     "data": {
      "text/html": [
       "<pre>| 11530     | 1m 24s        | 2.6476e+06     | 0               |</pre>"
      ],
      "text/plain": [
       "| 11530     | 1m 24s        | 2.6476e+06     | 0               |"
      ]
     },
     "metadata": {},
     "output_type": "display_data"
    },
    {
     "data": {
      "text/html": [
       "<pre>| 11540     | 1m 24s        | 2.60224e+06    | 0               |</pre>"
      ],
      "text/plain": [
       "| 11540     | 1m 24s        | 2.60224e+06    | 0               |"
      ]
     },
     "metadata": {},
     "output_type": "display_data"
    },
    {
     "data": {
      "text/html": [
       "<pre>| 11550     | 1m 24s        | 2.58249e+06    | 0               |</pre>"
      ],
      "text/plain": [
       "| 11550     | 1m 24s        | 2.58249e+06    | 0               |"
      ]
     },
     "metadata": {},
     "output_type": "display_data"
    },
    {
     "data": {
      "text/html": [
       "<pre>| 11560     | 1m 25s        | 2.52605e+06    | 0               |</pre>"
      ],
      "text/plain": [
       "| 11560     | 1m 25s        | 2.52605e+06    | 0               |"
      ]
     },
     "metadata": {},
     "output_type": "display_data"
    },
    {
     "data": {
      "text/html": [
       "<pre>| 11570     | 1m 25s        | 2.63545e+06    | 0               |</pre>"
      ],
      "text/plain": [
       "| 11570     | 1m 25s        | 2.63545e+06    | 0               |"
      ]
     },
     "metadata": {},
     "output_type": "display_data"
    },
    {
     "data": {
      "text/html": [
       "<pre>| 11580     | 1m 25s        | 2.67886e+06    | 0               |</pre>"
      ],
      "text/plain": [
       "| 11580     | 1m 25s        | 2.67886e+06    | 0               |"
      ]
     },
     "metadata": {},
     "output_type": "display_data"
    },
    {
     "data": {
      "text/html": [
       "<pre>| 11590     | 1m 25s        | 2.60003e+06    | 0               |</pre>"
      ],
      "text/plain": [
       "| 11590     | 1m 25s        | 2.60003e+06    | 0               |"
      ]
     },
     "metadata": {},
     "output_type": "display_data"
    },
    {
     "data": {
      "text/html": [
       "<pre>| 11600     | 1m 25s        | 1.43268e+06    | 0               |</pre>"
      ],
      "text/plain": [
       "| 11600     | 1m 25s        | 1.43268e+06    | 0               |"
      ]
     },
     "metadata": {},
     "output_type": "display_data"
    },
    {
     "data": {
      "text/html": [
       "<pre>| 11610     | 1m 25s        | 2.62791e+06    | 0               |</pre>"
      ],
      "text/plain": [
       "| 11610     | 1m 25s        | 2.62791e+06    | 0               |"
      ]
     },
     "metadata": {},
     "output_type": "display_data"
    },
    {
     "data": {
      "text/html": [
       "<pre>| 11620     | 1m 25s        | 2.69102e+06    | 0               |</pre>"
      ],
      "text/plain": [
       "| 11620     | 1m 25s        | 2.69102e+06    | 0               |"
      ]
     },
     "metadata": {},
     "output_type": "display_data"
    },
    {
     "data": {
      "text/html": [
       "<pre>| 11630     | 1m 25s        | 2.53231e+06    | 0               |</pre>"
      ],
      "text/plain": [
       "| 11630     | 1m 25s        | 2.53231e+06    | 0               |"
      ]
     },
     "metadata": {},
     "output_type": "display_data"
    },
    {
     "data": {
      "text/html": [
       "<pre>| 11640     | 1m 25s        | 2.45583e+06    | 0               |</pre>"
      ],
      "text/plain": [
       "| 11640     | 1m 25s        | 2.45583e+06    | 0               |"
      ]
     },
     "metadata": {},
     "output_type": "display_data"
    },
    {
     "data": {
      "text/html": [
       "<pre>| 11650     | 1m 25s        | 2.60556e+06    | 0               |</pre>"
      ],
      "text/plain": [
       "| 11650     | 1m 25s        | 2.60556e+06    | 0               |"
      ]
     },
     "metadata": {},
     "output_type": "display_data"
    },
    {
     "data": {
      "text/html": [
       "<pre>| 11660     | 1m 25s        | 2.5854e+06     | 0               |</pre>"
      ],
      "text/plain": [
       "| 11660     | 1m 25s        | 2.5854e+06     | 0               |"
      ]
     },
     "metadata": {},
     "output_type": "display_data"
    },
    {
     "data": {
      "text/html": [
       "<pre>| 11670     | 1m 25s        | 2.41358e+06    | 0               |</pre>"
      ],
      "text/plain": [
       "| 11670     | 1m 25s        | 2.41358e+06    | 0               |"
      ]
     },
     "metadata": {},
     "output_type": "display_data"
    },
    {
     "data": {
      "text/html": [
       "<pre>| 11680     | 1m 25s        | 2.59819e+06    | 0               |</pre>"
      ],
      "text/plain": [
       "| 11680     | 1m 25s        | 2.59819e+06    | 0               |"
      ]
     },
     "metadata": {},
     "output_type": "display_data"
    },
    {
     "data": {
      "text/html": [
       "<pre>| 11690     | 1m 25s        | 2.62566e+06    | 0               |</pre>"
      ],
      "text/plain": [
       "| 11690     | 1m 25s        | 2.62566e+06    | 0               |"
      ]
     },
     "metadata": {},
     "output_type": "display_data"
    },
    {
     "data": {
      "text/html": [
       "<pre>| 11700     | 1m 26s        | 2.42089e+06    | 0               |</pre>"
      ],
      "text/plain": [
       "| 11700     | 1m 26s        | 2.42089e+06    | 0               |"
      ]
     },
     "metadata": {},
     "output_type": "display_data"
    },
    {
     "data": {
      "text/html": [
       "<pre>| 11710     | 1m 26s        | 2.58068e+06    | 0               |</pre>"
      ],
      "text/plain": [
       "| 11710     | 1m 26s        | 2.58068e+06    | 0               |"
      ]
     },
     "metadata": {},
     "output_type": "display_data"
    },
    {
     "data": {
      "text/html": [
       "<pre>| 11720     | 1m 26s        | 2.5584e+06     | 0               |</pre>"
      ],
      "text/plain": [
       "| 11720     | 1m 26s        | 2.5584e+06     | 0               |"
      ]
     },
     "metadata": {},
     "output_type": "display_data"
    },
    {
     "data": {
      "text/html": [
       "<pre>| 11730     | 1m 26s        | 2.61148e+06    | 0               |</pre>"
      ],
      "text/plain": [
       "| 11730     | 1m 26s        | 2.61148e+06    | 0               |"
      ]
     },
     "metadata": {},
     "output_type": "display_data"
    },
    {
     "data": {
      "text/html": [
       "<pre>| 11740     | 1m 26s        | 2.56519e+06    | 0               |</pre>"
      ],
      "text/plain": [
       "| 11740     | 1m 26s        | 2.56519e+06    | 0               |"
      ]
     },
     "metadata": {},
     "output_type": "display_data"
    },
    {
     "data": {
      "text/html": [
       "<pre>| 11750     | 1m 26s        | 2.47402e+06    | 0               |</pre>"
      ],
      "text/plain": [
       "| 11750     | 1m 26s        | 2.47402e+06    | 0               |"
      ]
     },
     "metadata": {},
     "output_type": "display_data"
    },
    {
     "data": {
      "text/html": [
       "<pre>| 11760     | 1m 26s        | 2.63545e+06    | 0               |</pre>"
      ],
      "text/plain": [
       "| 11760     | 1m 26s        | 2.63545e+06    | 0               |"
      ]
     },
     "metadata": {},
     "output_type": "display_data"
    },
    {
     "data": {
      "text/html": [
       "<pre>| 11770     | 1m 26s        | 2.56125e+06    | 0               |</pre>"
      ],
      "text/plain": [
       "| 11770     | 1m 26s        | 2.56125e+06    | 0               |"
      ]
     },
     "metadata": {},
     "output_type": "display_data"
    },
    {
     "data": {
      "text/html": [
       "<pre>| 11780     | 1m 26s        | 2.58176e+06    | 0               |</pre>"
      ],
      "text/plain": [
       "| 11780     | 1m 26s        | 2.58176e+06    | 0               |"
      ]
     },
     "metadata": {},
     "output_type": "display_data"
    },
    {
     "data": {
      "text/html": [
       "<pre>| 11790     | 1m 26s        | 2.51567e+06    | 0               |</pre>"
      ],
      "text/plain": [
       "| 11790     | 1m 26s        | 2.51567e+06    | 0               |"
      ]
     },
     "metadata": {},
     "output_type": "display_data"
    },
    {
     "data": {
      "text/html": [
       "<pre>| 11800     | 1m 26s        | 2.69102e+06    | 0               |</pre>"
      ],
      "text/plain": [
       "| 11800     | 1m 26s        | 2.69102e+06    | 0               |"
      ]
     },
     "metadata": {},
     "output_type": "display_data"
    },
    {
     "data": {
      "text/html": [
       "<pre>| 11810     | 1m 26s        | 2.59929e+06    | 0               |</pre>"
      ],
      "text/plain": [
       "| 11810     | 1m 26s        | 2.59929e+06    | 0               |"
      ]
     },
     "metadata": {},
     "output_type": "display_data"
    },
    {
     "data": {
      "text/html": [
       "<pre>| 11820     | 1m 26s        | 2.5513e+06     | 0               |</pre>"
      ],
      "text/plain": [
       "| 11820     | 1m 26s        | 2.5513e+06     | 0               |"
      ]
     },
     "metadata": {},
     "output_type": "display_data"
    },
    {
     "data": {
      "text/html": [
       "<pre>| 11830     | 1m 26s        | 2.55769e+06    | 0               |</pre>"
      ],
      "text/plain": [
       "| 11830     | 1m 26s        | 2.55769e+06    | 0               |"
      ]
     },
     "metadata": {},
     "output_type": "display_data"
    },
    {
     "data": {
      "text/html": [
       "<pre>| 11840     | 1m 27s        | 2.4962e+06     | 0               |</pre>"
      ],
      "text/plain": [
       "| 11840     | 1m 27s        | 2.4962e+06     | 0               |"
      ]
     },
     "metadata": {},
     "output_type": "display_data"
    },
    {
     "data": {
      "text/html": [
       "<pre>| 11850     | 1m 27s        | 2.54072e+06    | 0               |</pre>"
      ],
      "text/plain": [
       "| 11850     | 1m 27s        | 2.54072e+06    | 0               |"
      ]
     },
     "metadata": {},
     "output_type": "display_data"
    },
    {
     "data": {
      "text/html": [
       "<pre>| 11860     | 1m 27s        | 2.62079e+06    | 0               |</pre>"
      ],
      "text/plain": [
       "| 11860     | 1m 27s        | 2.62079e+06    | 0               |"
      ]
     },
     "metadata": {},
     "output_type": "display_data"
    },
    {
     "data": {
      "text/html": [
       "<pre>| 11870     | 1m 27s        | 2.47936e+06    | 0               |</pre>"
      ],
      "text/plain": [
       "| 11870     | 1m 27s        | 2.47936e+06    | 0               |"
      ]
     },
     "metadata": {},
     "output_type": "display_data"
    },
    {
     "data": {
      "text/html": [
       "<pre>| 11880     | 1m 27s        | 2.29254e+06    | 0               |</pre>"
      ],
      "text/plain": [
       "| 11880     | 1m 27s        | 2.29254e+06    | 0               |"
      ]
     },
     "metadata": {},
     "output_type": "display_data"
    },
    {
     "data": {
      "text/html": [
       "<pre>| 11890     | 1m 27s        | 2.42409e+06    | 0               |</pre>"
      ],
      "text/plain": [
       "| 11890     | 1m 27s        | 2.42409e+06    | 0               |"
      ]
     },
     "metadata": {},
     "output_type": "display_data"
    },
    {
     "data": {
      "text/html": [
       "<pre>| 11900     | 1m 27s        | 2.41803e+06    | 0               |</pre>"
      ],
      "text/plain": [
       "| 11900     | 1m 27s        | 2.41803e+06    | 0               |"
      ]
     },
     "metadata": {},
     "output_type": "display_data"
    },
    {
     "data": {
      "text/html": [
       "<pre>| 11910     | 1m 27s        | 2.48036e+06    | 0               |</pre>"
      ],
      "text/plain": [
       "| 11910     | 1m 27s        | 2.48036e+06    | 0               |"
      ]
     },
     "metadata": {},
     "output_type": "display_data"
    },
    {
     "data": {
      "text/html": [
       "<pre>| 11920     | 1m 27s        | 2.59086e+06    | 0               |</pre>"
      ],
      "text/plain": [
       "| 11920     | 1m 27s        | 2.59086e+06    | 0               |"
      ]
     },
     "metadata": {},
     "output_type": "display_data"
    },
    {
     "data": {
      "text/html": [
       "<pre>| 11930     | 1m 27s        | 2.58649e+06    | 0               |</pre>"
      ],
      "text/plain": [
       "| 11930     | 1m 27s        | 2.58649e+06    | 0               |"
      ]
     },
     "metadata": {},
     "output_type": "display_data"
    },
    {
     "data": {
      "text/html": [
       "<pre>| 11940     | 1m 27s        | 2.51636e+06    | 0               |</pre>"
      ],
      "text/plain": [
       "| 11940     | 1m 27s        | 2.51636e+06    | 0               |"
      ]
     },
     "metadata": {},
     "output_type": "display_data"
    },
    {
     "data": {
      "text/html": [
       "<pre>| 11950     | 1m 27s        | 2.62904e+06    | 0               |</pre>"
      ],
      "text/plain": [
       "| 11950     | 1m 27s        | 2.62904e+06    | 0               |"
      ]
     },
     "metadata": {},
     "output_type": "display_data"
    },
    {
     "data": {
      "text/html": [
       "<pre>| 11960     | 1m 27s        | 2.57165e+06    | 0               |</pre>"
      ],
      "text/plain": [
       "| 11960     | 1m 27s        | 2.57165e+06    | 0               |"
      ]
     },
     "metadata": {},
     "output_type": "display_data"
    },
    {
     "data": {
      "text/html": [
       "<pre>| 11970     | 1m 28s        | 2.42473e+06    | 0               |</pre>"
      ],
      "text/plain": [
       "| 11970     | 1m 28s        | 2.42473e+06    | 0               |"
      ]
     },
     "metadata": {},
     "output_type": "display_data"
    },
    {
     "data": {
      "text/html": [
       "<pre>| 11980     | 1m 28s        | 2.4687e+06     | 0               |</pre>"
      ],
      "text/plain": [
       "| 11980     | 1m 28s        | 2.4687e+06     | 0               |"
      ]
     },
     "metadata": {},
     "output_type": "display_data"
    },
    {
     "data": {
      "text/html": [
       "<pre>| 11990     | 1m 28s        | 2.46143e+06    | 0               |</pre>"
      ],
      "text/plain": [
       "| 11990     | 1m 28s        | 2.46143e+06    | 0               |"
      ]
     },
     "metadata": {},
     "output_type": "display_data"
    },
    {
     "data": {
      "text/html": [
       "<pre>| 12000     | 1m 28s        | 2.49416e+06    | 0               |</pre>"
      ],
      "text/plain": [
       "| 12000     | 1m 28s        | 2.49416e+06    | 0               |"
      ]
     },
     "metadata": {},
     "output_type": "display_data"
    },
    {
     "data": {
      "text/html": [
       "<pre>| 12010     | 1m 28s        | 2.41898e+06    | 0               |</pre>"
      ],
      "text/plain": [
       "| 12010     | 1m 28s        | 2.41898e+06    | 0               |"
      ]
     },
     "metadata": {},
     "output_type": "display_data"
    },
    {
     "data": {
      "text/html": [
       "<pre>| 12020     | 1m 28s        | 2.36512e+06    | 0               |</pre>"
      ],
      "text/plain": [
       "| 12020     | 1m 28s        | 2.36512e+06    | 0               |"
      ]
     },
     "metadata": {},
     "output_type": "display_data"
    },
    {
     "data": {
      "text/html": [
       "<pre>| 12030     | 1m 28s        | 2.43501e+06    | 0               |</pre>"
      ],
      "text/plain": [
       "| 12030     | 1m 28s        | 2.43501e+06    | 0               |"
      ]
     },
     "metadata": {},
     "output_type": "display_data"
    },
    {
     "data": {
      "text/html": [
       "<pre>| 12040     | 1m 28s        | 2.53651e+06    | 0               |</pre>"
      ],
      "text/plain": [
       "| 12040     | 1m 28s        | 2.53651e+06    | 0               |"
      ]
     },
     "metadata": {},
     "output_type": "display_data"
    },
    {
     "data": {
      "text/html": [
       "<pre>| 12050     | 1m 28s        | 2875000        | 0               |</pre>"
      ],
      "text/plain": [
       "| 12050     | 1m 28s        | 2875000        | 0               |"
      ]
     },
     "metadata": {},
     "output_type": "display_data"
    },
    {
     "data": {
      "text/html": [
       "<pre>| 12060     | 1m 28s        | 2.48304e+06    | 0               |</pre>"
      ],
      "text/plain": [
       "| 12060     | 1m 28s        | 2.48304e+06    | 0               |"
      ]
     },
     "metadata": {},
     "output_type": "display_data"
    },
    {
     "data": {
      "text/html": [
       "<pre>| 12070     | 1m 28s        | 2.39315e+06    | 0               |</pre>"
      ],
      "text/plain": [
       "| 12070     | 1m 28s        | 2.39315e+06    | 0               |"
      ]
     },
     "metadata": {},
     "output_type": "display_data"
    },
    {
     "data": {
      "text/html": [
       "<pre>| 12080     | 1m 28s        | 2496875        | 0               |</pre>"
      ],
      "text/plain": [
       "| 12080     | 1m 28s        | 2496875        | 0               |"
      ]
     },
     "metadata": {},
     "output_type": "display_data"
    },
    {
     "data": {
      "text/html": [
       "<pre>| 12090     | 1m 28s        | 2.50641e+06    | 0               |</pre>"
      ],
      "text/plain": [
       "| 12090     | 1m 28s        | 2.50641e+06    | 0               |"
      ]
     },
     "metadata": {},
     "output_type": "display_data"
    },
    {
     "data": {
      "text/html": [
       "<pre>| 12100     | 1m 29s        | 2.54247e+06    | 0               |</pre>"
      ],
      "text/plain": [
       "| 12100     | 1m 29s        | 2.54247e+06    | 0               |"
      ]
     },
     "metadata": {},
     "output_type": "display_data"
    },
    {
     "data": {
      "text/html": [
       "<pre>| 12110     | 1m 29s        | 2.42665e+06    | 0               |</pre>"
      ],
      "text/plain": [
       "| 12110     | 1m 29s        | 2.42665e+06    | 0               |"
      ]
     },
     "metadata": {},
     "output_type": "display_data"
    },
    {
     "data": {
      "text/html": [
       "<pre>| 12120     | 1m 29s        | 2.52362e+06    | 0               |</pre>"
      ],
      "text/plain": [
       "| 12120     | 1m 29s        | 2.52362e+06    | 0               |"
      ]
     },
     "metadata": {},
     "output_type": "display_data"
    },
    {
     "data": {
      "text/html": [
       "<pre>| 12130     | 1m 29s        | 2.46307e+06    | 0               |</pre>"
      ],
      "text/plain": [
       "| 12130     | 1m 29s        | 2.46307e+06    | 0               |"
      ]
     },
     "metadata": {},
     "output_type": "display_data"
    },
    {
     "data": {
      "text/html": [
       "<pre>| 12140     | 1m 29s        | 2.34012e+06    | 0               |</pre>"
      ],
      "text/plain": [
       "| 12140     | 1m 29s        | 2.34012e+06    | 0               |"
      ]
     },
     "metadata": {},
     "output_type": "display_data"
    },
    {
     "data": {
      "text/html": [
       "<pre>| 12150     | 1m 29s        | 2.52189e+06    | 0               |</pre>"
      ],
      "text/plain": [
       "| 12150     | 1m 29s        | 2.52189e+06    | 0               |"
      ]
     },
     "metadata": {},
     "output_type": "display_data"
    },
    {
     "data": {
      "text/html": [
       "<pre>| 12160     | 1m 29s        | 2.39284e+06    | 0               |</pre>"
      ],
      "text/plain": [
       "| 12160     | 1m 29s        | 2.39284e+06    | 0               |"
      ]
     },
     "metadata": {},
     "output_type": "display_data"
    },
    {
     "data": {
      "text/html": [
       "<pre>| 12170     | 1m 29s        | 2.51567e+06    | 0               |</pre>"
      ],
      "text/plain": [
       "| 12170     | 1m 29s        | 2.51567e+06    | 0               |"
      ]
     },
     "metadata": {},
     "output_type": "display_data"
    },
    {
     "data": {
      "text/html": [
       "<pre>| 12180     | 1m 29s        | 2.45288e+06    | 0               |</pre>"
      ],
      "text/plain": [
       "| 12180     | 1m 29s        | 2.45288e+06    | 0               |"
      ]
     },
     "metadata": {},
     "output_type": "display_data"
    },
    {
     "data": {
      "text/html": [
       "<pre>| 12190     | 1m 29s        | 2.33151e+06    | 0               |</pre>"
      ],
      "text/plain": [
       "| 12190     | 1m 29s        | 2.33151e+06    | 0               |"
      ]
     },
     "metadata": {},
     "output_type": "display_data"
    },
    {
     "data": {
      "text/html": [
       "<pre>| 12200     | 1m 29s        | 2.52709e+06    | 0               |</pre>"
      ],
      "text/plain": [
       "| 12200     | 1m 29s        | 2.52709e+06    | 0               |"
      ]
     },
     "metadata": {},
     "output_type": "display_data"
    },
    {
     "data": {
      "text/html": [
       "<pre>| 12210     | 1m 29s        | 2.49518e+06    | 0               |</pre>"
      ],
      "text/plain": [
       "| 12210     | 1m 29s        | 2.49518e+06    | 0               |"
      ]
     },
     "metadata": {},
     "output_type": "display_data"
    },
    {
     "data": {
      "text/html": [
       "<pre>| 12220     | 1m 29s        | 2.4864e+06     | 0               |</pre>"
      ],
      "text/plain": [
       "| 12220     | 1m 29s        | 2.4864e+06     | 0               |"
      ]
     },
     "metadata": {},
     "output_type": "display_data"
    },
    {
     "data": {
      "text/html": [
       "<pre>| 12230     | 1m 30s        | 2.47769e+06    | 0               |</pre>"
      ],
      "text/plain": [
       "| 12230     | 1m 30s        | 2.47769e+06    | 0               |"
      ]
     },
     "metadata": {},
     "output_type": "display_data"
    },
    {
     "data": {
      "text/html": [
       "<pre>| 12240     | 1m 30s        | 2.42057e+06    | 0               |</pre>"
      ],
      "text/plain": [
       "| 12240     | 1m 30s        | 2.42057e+06    | 0               |"
      ]
     },
     "metadata": {},
     "output_type": "display_data"
    },
    {
     "data": {
      "text/html": [
       "<pre>| 12250     | 1m 30s        | 2.55236e+06    | 0               |</pre>"
      ],
      "text/plain": [
       "| 12250     | 1m 30s        | 2.55236e+06    | 0               |"
      ]
     },
     "metadata": {},
     "output_type": "display_data"
    },
    {
     "data": {
      "text/html": [
       "<pre>| 12260     | 1m 30s        | 2.42089e+06    | 0               |</pre>"
      ],
      "text/plain": [
       "| 12260     | 1m 30s        | 2.42089e+06    | 0               |"
      ]
     },
     "metadata": {},
     "output_type": "display_data"
    },
    {
     "data": {
      "text/html": [
       "<pre>| 12270     | 1m 30s        | 2.46407e+06    | 0               |</pre>"
      ],
      "text/plain": [
       "| 12270     | 1m 30s        | 2.46407e+06    | 0               |"
      ]
     },
     "metadata": {},
     "output_type": "display_data"
    },
    {
     "data": {
      "text/html": [
       "<pre>| 12280     | 1m 30s        | 2.55556e+06    | 0               |</pre>"
      ],
      "text/plain": [
       "| 12280     | 1m 30s        | 2.55556e+06    | 0               |"
      ]
     },
     "metadata": {},
     "output_type": "display_data"
    },
    {
     "data": {
      "text/html": [
       "<pre>| 12290     | 1m 30s        | 2.45813e+06    | 0               |</pre>"
      ],
      "text/plain": [
       "| 12290     | 1m 30s        | 2.45813e+06    | 0               |"
      ]
     },
     "metadata": {},
     "output_type": "display_data"
    },
    {
     "data": {
      "text/html": [
       "<pre>| 12300     | 1m 30s        | 2.58176e+06    | 0               |</pre>"
      ],
      "text/plain": [
       "| 12300     | 1m 30s        | 2.58176e+06    | 0               |"
      ]
     },
     "metadata": {},
     "output_type": "display_data"
    },
    {
     "data": {
      "text/html": [
       "<pre>| 12310     | 1m 30s        | 2.57453e+06    | 0               |</pre>"
      ],
      "text/plain": [
       "| 12310     | 1m 30s        | 2.57453e+06    | 0               |"
      ]
     },
     "metadata": {},
     "output_type": "display_data"
    },
    {
     "data": {
      "text/html": [
       "<pre>| 12320     | 1m 30s        | 2.49349e+06    | 0               |</pre>"
      ],
      "text/plain": [
       "| 12320     | 1m 30s        | 2.49349e+06    | 0               |"
      ]
     },
     "metadata": {},
     "output_type": "display_data"
    },
    {
     "data": {
      "text/html": [
       "<pre>| 12330     | 1m 30s        | 2.39846e+06    | 0               |</pre>"
      ],
      "text/plain": [
       "| 12330     | 1m 30s        | 2.39846e+06    | 0               |"
      ]
     },
     "metadata": {},
     "output_type": "display_data"
    },
    {
     "data": {
      "text/html": [
       "<pre>| 12340     | 1m 30s        | 2.31799e+06    | 0               |</pre>"
      ],
      "text/plain": [
       "| 12340     | 1m 30s        | 2.31799e+06    | 0               |"
      ]
     },
     "metadata": {},
     "output_type": "display_data"
    },
    {
     "data": {
      "text/html": [
       "<pre>| 12350     | 1m 30s        | 2.41866e+06    | 0               |</pre>"
      ],
      "text/plain": [
       "| 12350     | 1m 30s        | 2.41866e+06    | 0               |"
      ]
     },
     "metadata": {},
     "output_type": "display_data"
    },
    {
     "data": {
      "text/html": [
       "<pre>| 12360     | 1m 31s        | 2.48573e+06    | 0               |</pre>"
      ],
      "text/plain": [
       "| 12360     | 1m 31s        | 2.48573e+06    | 0               |"
      ]
     },
     "metadata": {},
     "output_type": "display_data"
    },
    {
     "data": {
      "text/html": [
       "<pre>| 12370     | 1m 31s        | 2.43727e+06    | 0               |</pre>"
      ],
      "text/plain": [
       "| 12370     | 1m 31s        | 2.43727e+06    | 0               |"
      ]
     },
     "metadata": {},
     "output_type": "display_data"
    },
    {
     "data": {
      "text/html": [
       "<pre>| 12380     | 1m 31s        | 2.4431e+06     | 0               |</pre>"
      ],
      "text/plain": [
       "| 12380     | 1m 31s        | 2.4431e+06     | 0               |"
      ]
     },
     "metadata": {},
     "output_type": "display_data"
    },
    {
     "data": {
      "text/html": [
       "<pre>| 12390     | 1m 31s        | 2.60076e+06    | 0               |</pre>"
      ],
      "text/plain": [
       "| 12390     | 1m 31s        | 2.60076e+06    | 0               |"
      ]
     },
     "metadata": {},
     "output_type": "display_data"
    },
    {
     "data": {
      "text/html": [
       "<pre>| 12400     | 1m 31s        | 3.915e+06      | 0               |</pre>"
      ],
      "text/plain": [
       "| 12400     | 1m 31s        | 3.915e+06      | 0               |"
      ]
     },
     "metadata": {},
     "output_type": "display_data"
    },
    {
     "data": {
      "text/html": [
       "<pre>| 12410     | 1m 31s        | 2.49823e+06    | 0               |</pre>"
      ],
      "text/plain": [
       "| 12410     | 1m 31s        | 2.49823e+06    | 0               |"
      ]
     },
     "metadata": {},
     "output_type": "display_data"
    },
    {
     "data": {
      "text/html": [
       "<pre>| 12420     | 1m 31s        | 2.40128e+06    | 0               |</pre>"
      ],
      "text/plain": [
       "| 12420     | 1m 31s        | 2.40128e+06    | 0               |"
      ]
     },
     "metadata": {},
     "output_type": "display_data"
    },
    {
     "data": {
      "text/html": [
       "<pre>| 12430     | 1m 31s        | 2.37798e+06    | 0               |</pre>"
      ],
      "text/plain": [
       "| 12430     | 1m 31s        | 2.37798e+06    | 0               |"
      ]
     },
     "metadata": {},
     "output_type": "display_data"
    },
    {
     "data": {
      "text/html": [
       "<pre>| 12440     | 1m 31s        | 2.43436e+06    | 0               |</pre>"
      ],
      "text/plain": [
       "| 12440     | 1m 31s        | 2.43436e+06    | 0               |"
      ]
     },
     "metadata": {},
     "output_type": "display_data"
    },
    {
     "data": {
      "text/html": [
       "<pre>| 12450     | 1m 31s        | 2.54459e+06    | 0               |</pre>"
      ],
      "text/plain": [
       "| 12450     | 1m 31s        | 2.54459e+06    | 0               |"
      ]
     },
     "metadata": {},
     "output_type": "display_data"
    },
    {
     "data": {
      "text/html": [
       "<pre>| 12460     | 1m 31s        | 2.38353e+06    | 0               |</pre>"
      ],
      "text/plain": [
       "| 12460     | 1m 31s        | 2.38353e+06    | 0               |"
      ]
     },
     "metadata": {},
     "output_type": "display_data"
    },
    {
     "data": {
      "text/html": [
       "<pre>| 12470     | 1m 31s        | 2.45059e+06    | 0               |</pre>"
      ],
      "text/plain": [
       "| 12470     | 1m 31s        | 2.45059e+06    | 0               |"
      ]
     },
     "metadata": {},
     "output_type": "display_data"
    },
    {
     "data": {
      "text/html": [
       "<pre>| 12480     | 1m 31s        | 2.46473e+06    | 0               |</pre>"
      ],
      "text/plain": [
       "| 12480     | 1m 31s        | 2.46473e+06    | 0               |"
      ]
     },
     "metadata": {},
     "output_type": "display_data"
    },
    {
     "data": {
      "text/html": [
       "<pre>| 12490     | 1m 32s        | 2.5634e+06     | 0               |</pre>"
      ],
      "text/plain": [
       "| 12490     | 1m 32s        | 2.5634e+06     | 0               |"
      ]
     },
     "metadata": {},
     "output_type": "display_data"
    },
    {
     "data": {
      "text/html": [
       "<pre>| 12500     | 1m 32s        | 2.60519e+06    | 0               |</pre>"
      ],
      "text/plain": [
       "| 12500     | 1m 32s        | 2.60519e+06    | 0               |"
      ]
     },
     "metadata": {},
     "output_type": "display_data"
    },
    {
     "data": {
      "text/html": [
       "<pre>| 12510     | 1m 32s        | 2.42409e+06    | 0               |</pre>"
      ],
      "text/plain": [
       "| 12510     | 1m 32s        | 2.42409e+06    | 0               |"
      ]
     },
     "metadata": {},
     "output_type": "display_data"
    },
    {
     "data": {
      "text/html": [
       "<pre>| 12520     | 1m 32s        | 2.60187e+06    | 0               |</pre>"
      ],
      "text/plain": [
       "| 12520     | 1m 32s        | 2.60187e+06    | 0               |"
      ]
     },
     "metadata": {},
     "output_type": "display_data"
    },
    {
     "data": {
      "text/html": [
       "<pre>| 12530     | 1m 32s        | 2.51878e+06    | 0               |</pre>"
      ],
      "text/plain": [
       "| 12530     | 1m 32s        | 2.51878e+06    | 0               |"
      ]
     },
     "metadata": {},
     "output_type": "display_data"
    },
    {
     "data": {
      "text/html": [
       "<pre>| 12540     | 1m 32s        | 2.54847e+06    | 0               |</pre>"
      ],
      "text/plain": [
       "| 12540     | 1m 32s        | 2.54847e+06    | 0               |"
      ]
     },
     "metadata": {},
     "output_type": "display_data"
    },
    {
     "data": {
      "text/html": [
       "<pre>| 12550     | 1m 32s        | 2.64189e+06    | 0               |</pre>"
      ],
      "text/plain": [
       "| 12550     | 1m 32s        | 2.64189e+06    | 0               |"
      ]
     },
     "metadata": {},
     "output_type": "display_data"
    },
    {
     "data": {
      "text/html": [
       "<pre>| 12560     | 1m 32s        | 2.61483e+06    | 0               |</pre>"
      ],
      "text/plain": [
       "| 12560     | 1m 32s        | 2.61483e+06    | 0               |"
      ]
     },
     "metadata": {},
     "output_type": "display_data"
    },
    {
     "data": {
      "text/html": [
       "<pre>| 12570     | 1m 32s        | 2.83859e+06    | 0               |</pre>"
      ],
      "text/plain": [
       "| 12570     | 1m 32s        | 2.83859e+06    | 0               |"
      ]
     },
     "metadata": {},
     "output_type": "display_data"
    },
    {
     "data": {
      "text/html": [
       "<pre>| 12580     | 1m 32s        | 2.47568e+06    | 0               |</pre>"
      ],
      "text/plain": [
       "| 12580     | 1m 32s        | 2.47568e+06    | 0               |"
      ]
     },
     "metadata": {},
     "output_type": "display_data"
    },
    {
     "data": {
      "text/html": [
       "<pre>| 12590     | 1m 32s        | 2.51018e+06    | 0               |</pre>"
      ],
      "text/plain": [
       "| 12590     | 1m 32s        | 2.51018e+06    | 0               |"
      ]
     },
     "metadata": {},
     "output_type": "display_data"
    },
    {
     "data": {
      "text/html": [
       "<pre>| 12600     | 1m 32s        | 2.49112e+06    | 0               |</pre>"
      ],
      "text/plain": [
       "| 12600     | 1m 32s        | 2.49112e+06    | 0               |"
      ]
     },
     "metadata": {},
     "output_type": "display_data"
    },
    {
     "data": {
      "text/html": [
       "<pre>| 12610     | 1m 32s        | 2.56483e+06    | 0               |</pre>"
      ],
      "text/plain": [
       "| 12610     | 1m 32s        | 2.56483e+06    | 0               |"
      ]
     },
     "metadata": {},
     "output_type": "display_data"
    },
    {
     "data": {
      "text/html": [
       "<pre>| 12620     | 1m 32s        | 2.57093e+06    | 0               |</pre>"
      ],
      "text/plain": [
       "| 12620     | 1m 32s        | 2.57093e+06    | 0               |"
      ]
     },
     "metadata": {},
     "output_type": "display_data"
    },
    {
     "data": {
      "text/html": [
       "<pre>| 12630     | 1m 33s        | 2.24795e+06    | 0               |</pre>"
      ],
      "text/plain": [
       "| 12630     | 1m 33s        | 2.24795e+06    | 0               |"
      ]
     },
     "metadata": {},
     "output_type": "display_data"
    },
    {
     "data": {
      "text/html": [
       "<pre>| 12640     | 1m 33s        | 2.33122e+06    | 0               |</pre>"
      ],
      "text/plain": [
       "| 12640     | 1m 33s        | 2.33122e+06    | 0               |"
      ]
     },
     "metadata": {},
     "output_type": "display_data"
    },
    {
     "data": {
      "text/html": [
       "<pre>| 12650     | 1m 33s        | 2.46704e+06    | 0               |</pre>"
      ],
      "text/plain": [
       "| 12650     | 1m 33s        | 2.46704e+06    | 0               |"
      ]
     },
     "metadata": {},
     "output_type": "display_data"
    },
    {
     "data": {
      "text/html": [
       "<pre>| 12660     | 1m 33s        | 2.38106e+06    | 0               |</pre>"
      ],
      "text/plain": [
       "| 12660     | 1m 33s        | 2.38106e+06    | 0               |"
      ]
     },
     "metadata": {},
     "output_type": "display_data"
    },
    {
     "data": {
      "text/html": [
       "<pre>| 12670     | 1m 33s        | 2.39035e+06    | 0               |</pre>"
      ],
      "text/plain": [
       "| 12670     | 1m 33s        | 2.39035e+06    | 0               |"
      ]
     },
     "metadata": {},
     "output_type": "display_data"
    },
    {
     "data": {
      "text/html": [
       "<pre>| 12680     | 1m 33s        | 2.20057e+06    | 0               |</pre>"
      ],
      "text/plain": [
       "| 12680     | 1m 33s        | 2.20057e+06    | 0               |"
      ]
     },
     "metadata": {},
     "output_type": "display_data"
    },
    {
     "data": {
      "text/html": [
       "<pre>| 12690     | 1m 33s        | 2.30751e+06    | 0               |</pre>"
      ],
      "text/plain": [
       "| 12690     | 1m 33s        | 2.30751e+06    | 0               |"
      ]
     },
     "metadata": {},
     "output_type": "display_data"
    },
    {
     "data": {
      "text/html": [
       "<pre>| 12700     | 1m 33s        | 2.37184e+06    | 0               |</pre>"
      ],
      "text/plain": [
       "| 12700     | 1m 33s        | 2.37184e+06    | 0               |"
      ]
     },
     "metadata": {},
     "output_type": "display_data"
    },
    {
     "data": {
      "text/html": [
       "<pre>| 12710     | 1m 33s        | 2.55094e+06    | 0               |</pre>"
      ],
      "text/plain": [
       "| 12710     | 1m 33s        | 2.55094e+06    | 0               |"
      ]
     },
     "metadata": {},
     "output_type": "display_data"
    },
    {
     "data": {
      "text/html": [
       "<pre>| 12720     | 1m 33s        | 2.52953e+06    | 0               |</pre>"
      ],
      "text/plain": [
       "| 12720     | 1m 33s        | 2.52953e+06    | 0               |"
      ]
     },
     "metadata": {},
     "output_type": "display_data"
    },
    {
     "data": {
      "text/html": [
       "<pre>| 12730     | 1m 33s        | 2.66411e+06    | 0               |</pre>"
      ],
      "text/plain": [
       "| 12730     | 1m 33s        | 2.66411e+06    | 0               |"
      ]
     },
     "metadata": {},
     "output_type": "display_data"
    },
    {
     "data": {
      "text/html": [
       "<pre>| 12740     | 1m 33s        | 2.52744e+06    | 0               |</pre>"
      ],
      "text/plain": [
       "| 12740     | 1m 33s        | 2.52744e+06    | 0               |"
      ]
     },
     "metadata": {},
     "output_type": "display_data"
    },
    {
     "data": {
      "text/html": [
       "<pre>| 12750     | 1m 33s        | 2.56949e+06    | 0               |</pre>"
      ],
      "text/plain": [
       "| 12750     | 1m 33s        | 2.56949e+06    | 0               |"
      ]
     },
     "metadata": {},
     "output_type": "display_data"
    },
    {
     "data": {
      "text/html": [
       "<pre>| 12760     | 1m 34s        | 2.62341e+06    | 0               |</pre>"
      ],
      "text/plain": [
       "| 12760     | 1m 34s        | 2.62341e+06    | 0               |"
      ]
     },
     "metadata": {},
     "output_type": "display_data"
    },
    {
     "data": {
      "text/html": [
       "<pre>| 12770     | 1m 34s        | 2.9375e+06     | 0               |</pre>"
      ],
      "text/plain": [
       "| 12770     | 1m 34s        | 2.9375e+06     | 0               |"
      ]
     },
     "metadata": {},
     "output_type": "display_data"
    },
    {
     "data": {
      "text/html": [
       "<pre>| 12780     | 1m 34s        | 2.52397e+06    | 0               |</pre>"
      ],
      "text/plain": [
       "| 12780     | 1m 34s        | 2.52397e+06    | 0               |"
      ]
     },
     "metadata": {},
     "output_type": "display_data"
    },
    {
     "data": {
      "text/html": [
       "<pre>| 12790     | 1m 34s        | 2.58031e+06    | 0               |</pre>"
      ],
      "text/plain": [
       "| 12790     | 1m 34s        | 2.58031e+06    | 0               |"
      ]
     },
     "metadata": {},
     "output_type": "display_data"
    },
    {
     "data": {
      "text/html": [
       "<pre>| 12800     | 1m 34s        | 2.56877e+06    | 0               |</pre>"
      ],
      "text/plain": [
       "| 12800     | 1m 34s        | 2.56877e+06    | 0               |"
      ]
     },
     "metadata": {},
     "output_type": "display_data"
    },
    {
     "data": {
      "text/html": [
       "<pre>| 12810     | 1m 34s        | 2.58249e+06    | 0               |</pre>"
      ],
      "text/plain": [
       "| 12810     | 1m 34s        | 2.58249e+06    | 0               |"
      ]
     },
     "metadata": {},
     "output_type": "display_data"
    },
    {
     "data": {
      "text/html": [
       "<pre>| 12820     | 1m 34s        | 2.52987e+06    | 0               |</pre>"
      ],
      "text/plain": [
       "| 12820     | 1m 34s        | 2.52987e+06    | 0               |"
      ]
     },
     "metadata": {},
     "output_type": "display_data"
    },
    {
     "data": {
      "text/html": [
       "<pre>| 12830     | 1m 34s        | 2.6063e+06     | 0               |</pre>"
      ],
      "text/plain": [
       "| 12830     | 1m 34s        | 2.6063e+06     | 0               |"
      ]
     },
     "metadata": {},
     "output_type": "display_data"
    },
    {
     "data": {
      "text/html": [
       "<pre>| 12840     | 1m 34s        | 2.57597e+06    | 0               |</pre>"
      ],
      "text/plain": [
       "| 12840     | 1m 34s        | 2.57597e+06    | 0               |"
      ]
     },
     "metadata": {},
     "output_type": "display_data"
    },
    {
     "data": {
      "text/html": [
       "<pre>| 12850     | 1m 34s        | 2.5905e+06     | 0               |</pre>"
      ],
      "text/plain": [
       "| 12850     | 1m 34s        | 2.5905e+06     | 0               |"
      ]
     },
     "metadata": {},
     "output_type": "display_data"
    },
    {
     "data": {
      "text/html": [
       "<pre>| 12860     | 1m 34s        | 2.5467e+06     | 0               |</pre>"
      ],
      "text/plain": [
       "| 12860     | 1m 34s        | 2.5467e+06     | 0               |"
      ]
     },
     "metadata": {},
     "output_type": "display_data"
    },
    {
     "data": {
      "text/html": [
       "<pre>| 12870     | 1m 34s        | 2.65717e+06    | 0               |</pre>"
      ],
      "text/plain": [
       "| 12870     | 1m 34s        | 2.65717e+06    | 0               |"
      ]
     },
     "metadata": {},
     "output_type": "display_data"
    },
    {
     "data": {
      "text/html": [
       "<pre>| 12880     | 1m 34s        | 2.64417e+06    | 0               |</pre>"
      ],
      "text/plain": [
       "| 12880     | 1m 34s        | 2.64417e+06    | 0               |"
      ]
     },
     "metadata": {},
     "output_type": "display_data"
    },
    {
     "data": {
      "text/html": [
       "<pre>| 12890     | 1m 35s        | 2.47302e+06    | 0               |</pre>"
      ],
      "text/plain": [
       "| 12890     | 1m 35s        | 2.47302e+06    | 0               |"
      ]
     },
     "metadata": {},
     "output_type": "display_data"
    },
    {
     "data": {
      "text/html": [
       "<pre>| 12900     | 1m 35s        | 2.62416e+06    | 0               |</pre>"
      ],
      "text/plain": [
       "| 12900     | 1m 35s        | 2.62416e+06    | 0               |"
      ]
     },
     "metadata": {},
     "output_type": "display_data"
    },
    {
     "data": {
      "text/html": [
       "<pre>| 12910     | 1m 35s        | 2.54847e+06    | 0               |</pre>"
      ],
      "text/plain": [
       "| 12910     | 1m 35s        | 2.54847e+06    | 0               |"
      ]
     },
     "metadata": {},
     "output_type": "display_data"
    },
    {
     "data": {
      "text/html": [
       "<pre>| 12920     | 1m 35s        | 2.54988e+06    | 0               |</pre>"
      ],
      "text/plain": [
       "| 12920     | 1m 35s        | 2.54988e+06    | 0               |"
      ]
     },
     "metadata": {},
     "output_type": "display_data"
    },
    {
     "data": {
      "text/html": [
       "<pre>| 12930     | 1m 35s        | 2.45649e+06    | 0               |</pre>"
      ],
      "text/plain": [
       "| 12930     | 1m 35s        | 2.45649e+06    | 0               |"
      ]
     },
     "metadata": {},
     "output_type": "display_data"
    },
    {
     "data": {
      "text/html": [
       "<pre>| 12940     | 1m 35s        | 2.48472e+06    | 0               |</pre>"
      ],
      "text/plain": [
       "| 12940     | 1m 35s        | 2.48472e+06    | 0               |"
      ]
     },
     "metadata": {},
     "output_type": "display_data"
    },
    {
     "data": {
      "text/html": [
       "<pre>| 12950     | 1m 35s        | 2.58068e+06    | 0               |</pre>"
      ],
      "text/plain": [
       "| 12950     | 1m 35s        | 2.58068e+06    | 0               |"
      ]
     },
     "metadata": {},
     "output_type": "display_data"
    },
    {
     "data": {
      "text/html": [
       "<pre>| 12960     | 1m 35s        | 2.67574e+06    | 0               |</pre>"
      ],
      "text/plain": [
       "| 12960     | 1m 35s        | 2.67574e+06    | 0               |"
      ]
     },
     "metadata": {},
     "output_type": "display_data"
    },
    {
     "data": {
      "text/html": [
       "<pre>| 12970     | 1m 35s        | 2.51912e+06    | 0               |</pre>"
      ],
      "text/plain": [
       "| 12970     | 1m 35s        | 2.51912e+06    | 0               |"
      ]
     },
     "metadata": {},
     "output_type": "display_data"
    },
    {
     "data": {
      "text/html": [
       "<pre>| 12980     | 1m 35s        | 2.50915e+06    | 0               |</pre>"
      ],
      "text/plain": [
       "| 12980     | 1m 35s        | 2.50915e+06    | 0               |"
      ]
     },
     "metadata": {},
     "output_type": "display_data"
    },
    {
     "data": {
      "text/html": [
       "<pre>| 12990     | 1m 35s        | 2.53511e+06    | 0               |</pre>"
      ],
      "text/plain": [
       "| 12990     | 1m 35s        | 2.53511e+06    | 0               |"
      ]
     },
     "metadata": {},
     "output_type": "display_data"
    },
    {
     "data": {
      "text/html": [
       "<pre>| 13000     | 1m 35s        | 2.546e+06      | 0               |</pre>"
      ],
      "text/plain": [
       "| 13000     | 1m 35s        | 2.546e+06      | 0               |"
      ]
     },
     "metadata": {},
     "output_type": "display_data"
    },
    {
     "data": {
      "text/html": [
       "<pre>| 13010     | 1m 35s        | 2.47535e+06    | 0               |</pre>"
      ],
      "text/plain": [
       "| 13010     | 1m 35s        | 2.47535e+06    | 0               |"
      ]
     },
     "metadata": {},
     "output_type": "display_data"
    },
    {
     "data": {
      "text/html": [
       "<pre>| 13020     | 1m 35s        | 2.59929e+06    | 0               |</pre>"
      ],
      "text/plain": [
       "| 13020     | 1m 35s        | 2.59929e+06    | 0               |"
      ]
     },
     "metadata": {},
     "output_type": "display_data"
    },
    {
     "data": {
      "text/html": [
       "<pre>| 13030     | 1m 36s        | 2.54917e+06    | 0               |</pre>"
      ],
      "text/plain": [
       "| 13030     | 1m 36s        | 2.54917e+06    | 0               |"
      ]
     },
     "metadata": {},
     "output_type": "display_data"
    },
    {
     "data": {
      "text/html": [
       "<pre>| 13040     | 1m 36s        | 2.39253e+06    | 0               |</pre>"
      ],
      "text/plain": [
       "| 13040     | 1m 36s        | 2.39253e+06    | 0               |"
      ]
     },
     "metadata": {},
     "output_type": "display_data"
    },
    {
     "data": {
      "text/html": [
       "<pre>| 13050     | 1m 36s        | 2.49552e+06    | 0               |</pre>"
      ],
      "text/plain": [
       "| 13050     | 1m 36s        | 2.49552e+06    | 0               |"
      ]
     },
     "metadata": {},
     "output_type": "display_data"
    },
    {
     "data": {
      "text/html": [
       "<pre>| 13060     | 1m 36s        | 2.52327e+06    | 0               |</pre>"
      ],
      "text/plain": [
       "| 13060     | 1m 36s        | 2.52327e+06    | 0               |"
      ]
     },
     "metadata": {},
     "output_type": "display_data"
    },
    {
     "data": {
      "text/html": [
       "<pre>| 13070     | 1m 36s        | 2.52154e+06    | 0               |</pre>"
      ],
      "text/plain": [
       "| 13070     | 1m 36s        | 2.52154e+06    | 0               |"
      ]
     },
     "metadata": {},
     "output_type": "display_data"
    },
    {
     "data": {
      "text/html": [
       "<pre>| 13080     | 1m 36s        | 2.45879e+06    | 0               |</pre>"
      ],
      "text/plain": [
       "| 13080     | 1m 36s        | 2.45879e+06    | 0               |"
      ]
     },
     "metadata": {},
     "output_type": "display_data"
    },
    {
     "data": {
      "text/html": [
       "<pre>| 13090     | 1m 36s        | 2.42345e+06    | 0               |</pre>"
      ],
      "text/plain": [
       "| 13090     | 1m 36s        | 2.42345e+06    | 0               |"
      ]
     },
     "metadata": {},
     "output_type": "display_data"
    },
    {
     "data": {
      "text/html": [
       "<pre>| 13100     | 1m 36s        | 2.57778e+06    | 0               |</pre>"
      ],
      "text/plain": [
       "| 13100     | 1m 36s        | 2.57778e+06    | 0               |"
      ]
     },
     "metadata": {},
     "output_type": "display_data"
    },
    {
     "data": {
      "text/html": [
       "<pre>| 13110     | 1m 36s        | 2.62454e+06    | 0               |</pre>"
      ],
      "text/plain": [
       "| 13110     | 1m 36s        | 2.62454e+06    | 0               |"
      ]
     },
     "metadata": {},
     "output_type": "display_data"
    },
    {
     "data": {
      "text/html": [
       "<pre>| 13120     | 1m 36s        | 2.4945e+06     | 0               |</pre>"
      ],
      "text/plain": [
       "| 13120     | 1m 36s        | 2.4945e+06     | 0               |"
      ]
     },
     "metadata": {},
     "output_type": "display_data"
    },
    {
     "data": {
      "text/html": [
       "<pre>| 13130     | 1m 36s        | 2.60815e+06    | 0               |</pre>"
      ],
      "text/plain": [
       "| 13130     | 1m 36s        | 2.60815e+06    | 0               |"
      ]
     },
     "metadata": {},
     "output_type": "display_data"
    },
    {
     "data": {
      "text/html": [
       "<pre>| 13140     | 1m 36s        | 2.60076e+06    | 0               |</pre>"
      ],
      "text/plain": [
       "| 13140     | 1m 36s        | 2.60076e+06    | 0               |"
      ]
     },
     "metadata": {},
     "output_type": "display_data"
    },
    {
     "data": {
      "text/html": [
       "<pre>| 13150     | 1m 36s        | 2.53371e+06    | 0               |</pre>"
      ],
      "text/plain": [
       "| 13150     | 1m 36s        | 2.53371e+06    | 0               |"
      ]
     },
     "metadata": {},
     "output_type": "display_data"
    },
    {
     "data": {
      "text/html": [
       "<pre>| 13160     | 1m 37s        | 2.59013e+06    | 0               |</pre>"
      ],
      "text/plain": [
       "| 13160     | 1m 37s        | 2.59013e+06    | 0               |"
      ]
     },
     "metadata": {},
     "output_type": "display_data"
    },
    {
     "data": {
      "text/html": [
       "<pre>| 13170     | 1m 37s        | 2.56626e+06    | 0               |</pre>"
      ],
      "text/plain": [
       "| 13170     | 1m 37s        | 2.56626e+06    | 0               |"
      ]
     },
     "metadata": {},
     "output_type": "display_data"
    },
    {
     "data": {
      "text/html": [
       "<pre>| 13180     | 1m 37s        | 2.5659e+06     | 0               |</pre>"
      ],
      "text/plain": [
       "| 13180     | 1m 37s        | 2.5659e+06     | 0               |"
      ]
     },
     "metadata": {},
     "output_type": "display_data"
    },
    {
     "data": {
      "text/html": [
       "<pre>| 13190     | 1m 37s        | 2.51809e+06    | 0               |</pre>"
      ],
      "text/plain": [
       "| 13190     | 1m 37s        | 2.51809e+06    | 0               |"
      ]
     },
     "metadata": {},
     "output_type": "display_data"
    },
    {
     "data": {
      "text/html": [
       "<pre>| 13200     | 1m 37s        | 2.61893e+06    | 0               |</pre>"
      ],
      "text/plain": [
       "| 13200     | 1m 37s        | 2.61893e+06    | 0               |"
      ]
     },
     "metadata": {},
     "output_type": "display_data"
    },
    {
     "data": {
      "text/html": [
       "<pre>| 13210     | 1m 37s        | 2.47869e+06    | 0               |</pre>"
      ],
      "text/plain": [
       "| 13210     | 1m 37s        | 2.47869e+06    | 0               |"
      ]
     },
     "metadata": {},
     "output_type": "display_data"
    },
    {
     "data": {
      "text/html": [
       "<pre>| 13220     | 1m 37s        | 2.53756e+06    | 0               |</pre>"
      ],
      "text/plain": [
       "| 13220     | 1m 37s        | 2.53756e+06    | 0               |"
      ]
     },
     "metadata": {},
     "output_type": "display_data"
    },
    {
     "data": {
      "text/html": [
       "<pre>| 13230     | 1m 37s        | 2.54529e+06    | 0               |</pre>"
      ],
      "text/plain": [
       "| 13230     | 1m 37s        | 2.54529e+06    | 0               |"
      ]
     },
     "metadata": {},
     "output_type": "display_data"
    },
    {
     "data": {
      "text/html": [
       "<pre>| 13240     | 1m 37s        | 2.49823e+06    | 0               |</pre>"
      ],
      "text/plain": [
       "| 13240     | 1m 37s        | 2.49823e+06    | 0               |"
      ]
     },
     "metadata": {},
     "output_type": "display_data"
    },
    {
     "data": {
      "text/html": [
       "<pre>| 13250     | 1m 37s        | 2.38973e+06    | 0               |</pre>"
      ],
      "text/plain": [
       "| 13250     | 1m 37s        | 2.38973e+06    | 0               |"
      ]
     },
     "metadata": {},
     "output_type": "display_data"
    },
    {
     "data": {
      "text/html": [
       "<pre>| 13260     | 1m 37s        | 2.46175e+06    | 0               |</pre>"
      ],
      "text/plain": [
       "| 13260     | 1m 37s        | 2.46175e+06    | 0               |"
      ]
     },
     "metadata": {},
     "output_type": "display_data"
    },
    {
     "data": {
      "text/html": [
       "<pre>| 13270     | 1m 37s        | 2.54247e+06    | 0               |</pre>"
      ],
      "text/plain": [
       "| 13270     | 1m 37s        | 2.54247e+06    | 0               |"
      ]
     },
     "metadata": {},
     "output_type": "display_data"
    },
    {
     "data": {
      "text/html": [
       "<pre>| 13280     | 1m 37s        | 2.67652e+06    | 0               |</pre>"
      ],
      "text/plain": [
       "| 13280     | 1m 37s        | 2.67652e+06    | 0               |"
      ]
     },
     "metadata": {},
     "output_type": "display_data"
    },
    {
     "data": {
      "text/html": [
       "<pre>| 13290     | 1m 37s        | 2.52605e+06    | 0               |</pre>"
      ],
      "text/plain": [
       "| 13290     | 1m 37s        | 2.52605e+06    | 0               |"
      ]
     },
     "metadata": {},
     "output_type": "display_data"
    },
    {
     "data": {
      "text/html": [
       "<pre>| 13300     | 1m 38s        | 2.43146e+06    | 0               |</pre>"
      ],
      "text/plain": [
       "| 13300     | 1m 38s        | 2.43146e+06    | 0               |"
      ]
     },
     "metadata": {},
     "output_type": "display_data"
    },
    {
     "data": {
      "text/html": [
       "<pre>| 13310     | 1m 38s        | 2.33122e+06    | 0               |</pre>"
      ],
      "text/plain": [
       "| 13310     | 1m 38s        | 2.33122e+06    | 0               |"
      ]
     },
     "metadata": {},
     "output_type": "display_data"
    },
    {
     "data": {
      "text/html": [
       "<pre>| 13320     | 1m 38s        | 2.40947e+06    | 0               |</pre>"
      ],
      "text/plain": [
       "| 13320     | 1m 38s        | 2.40947e+06    | 0               |"
      ]
     },
     "metadata": {},
     "output_type": "display_data"
    },
    {
     "data": {
      "text/html": [
       "<pre>| 13330     | 1m 38s        | 2.54423e+06    | 0               |</pre>"
      ],
      "text/plain": [
       "| 13330     | 1m 38s        | 2.54423e+06    | 0               |"
      ]
     },
     "metadata": {},
     "output_type": "display_data"
    },
    {
     "data": {
      "text/html": [
       "<pre>| 13340     | 1m 38s        | 2.42409e+06    | 0               |</pre>"
      ],
      "text/plain": [
       "| 13340     | 1m 38s        | 2.42409e+06    | 0               |"
      ]
     },
     "metadata": {},
     "output_type": "display_data"
    },
    {
     "data": {
      "text/html": [
       "<pre>| 13350     | 1m 38s        | 2.44766e+06    | 0               |</pre>"
      ],
      "text/plain": [
       "| 13350     | 1m 38s        | 2.44766e+06    | 0               |"
      ]
     },
     "metadata": {},
     "output_type": "display_data"
    },
    {
     "data": {
      "text/html": [
       "<pre>| 13360     | 1m 38s        | 2.43243e+06    | 0               |</pre>"
      ],
      "text/plain": [
       "| 13360     | 1m 38s        | 2.43243e+06    | 0               |"
      ]
     },
     "metadata": {},
     "output_type": "display_data"
    },
    {
     "data": {
      "text/html": [
       "<pre>| 13370     | 1m 38s        | 3.39184e+06    | 0               |</pre>"
      ],
      "text/plain": [
       "| 13370     | 1m 38s        | 3.39184e+06    | 0               |"
      ]
     },
     "metadata": {},
     "output_type": "display_data"
    },
    {
     "data": {
      "text/html": [
       "<pre>| 13380     | 1m 38s        | 2.46837e+06    | 0               |</pre>"
      ],
      "text/plain": [
       "| 13380     | 1m 38s        | 2.46837e+06    | 0               |"
      ]
     },
     "metadata": {},
     "output_type": "display_data"
    },
    {
     "data": {
      "text/html": [
       "<pre>| 13390     | 1m 38s        | 2.4962e+06     | 0               |</pre>"
      ],
      "text/plain": [
       "| 13390     | 1m 38s        | 2.4962e+06     | 0               |"
      ]
     },
     "metadata": {},
     "output_type": "display_data"
    },
    {
     "data": {
      "text/html": [
       "<pre>| 13400     | 1m 38s        | 2.51327e+06    | 0               |</pre>"
      ],
      "text/plain": [
       "| 13400     | 1m 38s        | 2.51327e+06    | 0               |"
      ]
     },
     "metadata": {},
     "output_type": "display_data"
    },
    {
     "data": {
      "text/html": [
       "<pre>| 13410     | 1m 38s        | 2.54142e+06    | 0               |</pre>"
      ],
      "text/plain": [
       "| 13410     | 1m 38s        | 2.54142e+06    | 0               |"
      ]
     },
     "metadata": {},
     "output_type": "display_data"
    },
    {
     "data": {
      "text/html": [
       "<pre>| 13420     | 1m 38s        | 2.45223e+06    | 0               |</pre>"
      ],
      "text/plain": [
       "| 13420     | 1m 38s        | 2.45223e+06    | 0               |"
      ]
     },
     "metadata": {},
     "output_type": "display_data"
    },
    {
     "data": {
      "text/html": [
       "<pre>| 13430     | 1m 39s        | 2.52293e+06    | 0               |</pre>"
      ],
      "text/plain": [
       "| 13430     | 1m 39s        | 2.52293e+06    | 0               |"
      ]
     },
     "metadata": {},
     "output_type": "display_data"
    },
    {
     "data": {
      "text/html": [
       "<pre>| 13440     | 1m 39s        | 2.51602e+06    | 0               |</pre>"
      ],
      "text/plain": [
       "| 13440     | 1m 39s        | 2.51602e+06    | 0               |"
      ]
     },
     "metadata": {},
     "output_type": "display_data"
    },
    {
     "data": {
      "text/html": [
       "<pre>| 13450     | 1m 39s        | 2.49586e+06    | 0               |</pre>"
      ],
      "text/plain": [
       "| 13450     | 1m 39s        | 2.49586e+06    | 0               |"
      ]
     },
     "metadata": {},
     "output_type": "display_data"
    },
    {
     "data": {
      "text/html": [
       "<pre>| 13460     | 1m 39s        | 2.51912e+06    | 0               |</pre>"
      ],
      "text/plain": [
       "| 13460     | 1m 39s        | 2.51912e+06    | 0               |"
      ]
     },
     "metadata": {},
     "output_type": "display_data"
    },
    {
     "data": {
      "text/html": [
       "<pre>| 13470     | 1m 39s        | 2.43824e+06    | 0               |</pre>"
      ],
      "text/plain": [
       "| 13470     | 1m 39s        | 2.43824e+06    | 0               |"
      ]
     },
     "metadata": {},
     "output_type": "display_data"
    },
    {
     "data": {
      "text/html": [
       "<pre>| 13480     | 1m 39s        | 2.57706e+06    | 0               |</pre>"
      ],
      "text/plain": [
       "| 13480     | 1m 39s        | 2.57706e+06    | 0               |"
      ]
     },
     "metadata": {},
     "output_type": "display_data"
    },
    {
     "data": {
      "text/html": [
       "<pre>| 13490     | 1m 39s        | 2.53861e+06    | 0               |</pre>"
      ],
      "text/plain": [
       "| 13490     | 1m 39s        | 2.53861e+06    | 0               |"
      ]
     },
     "metadata": {},
     "output_type": "display_data"
    },
    {
     "data": {
      "text/html": [
       "<pre>| 13500     | 1m 39s        | 2.43953e+06    | 0               |</pre>"
      ],
      "text/plain": [
       "| 13500     | 1m 39s        | 2.43953e+06    | 0               |"
      ]
     },
     "metadata": {},
     "output_type": "display_data"
    },
    {
     "data": {
      "text/html": [
       "<pre>| 13510     | 1m 39s        | 2.48539e+06    | 0               |</pre>"
      ],
      "text/plain": [
       "| 13510     | 1m 39s        | 2.48539e+06    | 0               |"
      ]
     },
     "metadata": {},
     "output_type": "display_data"
    },
    {
     "data": {
      "text/html": [
       "<pre>| 13520     | 1m 39s        | 2.63924e+06    | 0               |</pre>"
      ],
      "text/plain": [
       "| 13520     | 1m 39s        | 2.63924e+06    | 0               |"
      ]
     },
     "metadata": {},
     "output_type": "display_data"
    },
    {
     "data": {
      "text/html": [
       "<pre>| 13530     | 1m 39s        | 2.63055e+06    | 0               |</pre>"
      ],
      "text/plain": [
       "| 13530     | 1m 39s        | 2.63055e+06    | 0               |"
      ]
     },
     "metadata": {},
     "output_type": "display_data"
    },
    {
     "data": {
      "text/html": [
       "<pre>| 13540     | 1m 39s        | 2.62791e+06    | 0               |</pre>"
      ],
      "text/plain": [
       "| 13540     | 1m 39s        | 2.62791e+06    | 0               |"
      ]
     },
     "metadata": {},
     "output_type": "display_data"
    },
    {
     "data": {
      "text/html": [
       "<pre>| 13550     | 1m 39s        | 3.03602e+06    | 0               |</pre>"
      ],
      "text/plain": [
       "| 13550     | 1m 39s        | 3.03602e+06    | 0               |"
      ]
     },
     "metadata": {},
     "output_type": "display_data"
    },
    {
     "data": {
      "text/html": [
       "<pre>| 13560     | 1m 40s        | 2.51327e+06    | 0               |</pre>"
      ],
      "text/plain": [
       "| 13560     | 1m 40s        | 2.51327e+06    | 0               |"
      ]
     },
     "metadata": {},
     "output_type": "display_data"
    },
    {
     "data": {
      "text/html": [
       "<pre>| 13570     | 1m 40s        | 2.58068e+06    | 0               |</pre>"
      ],
      "text/plain": [
       "| 13570     | 1m 40s        | 2.58068e+06    | 0               |"
      ]
     },
     "metadata": {},
     "output_type": "display_data"
    },
    {
     "data": {
      "text/html": [
       "<pre>| 13580     | 1m 40s        | 2.51464e+06    | 0               |</pre>"
      ],
      "text/plain": [
       "| 13580     | 1m 40s        | 2.51464e+06    | 0               |"
      ]
     },
     "metadata": {},
     "output_type": "display_data"
    },
    {
     "data": {
      "text/html": [
       "<pre>| 13590     | 1m 40s        | 2.52327e+06    | 0               |</pre>"
      ],
      "text/plain": [
       "| 13590     | 1m 40s        | 2.52327e+06    | 0               |"
      ]
     },
     "metadata": {},
     "output_type": "display_data"
    },
    {
     "data": {
      "text/html": [
       "<pre>| 13600     | 1m 40s        | 2.53791e+06    | 0               |</pre>"
      ],
      "text/plain": [
       "| 13600     | 1m 40s        | 2.53791e+06    | 0               |"
      ]
     },
     "metadata": {},
     "output_type": "display_data"
    },
    {
     "data": {
      "text/html": [
       "<pre>| 13610     | 1m 40s        | 2.68004e+06    | 0               |</pre>"
      ],
      "text/plain": [
       "| 13610     | 1m 40s        | 2.68004e+06    | 0               |"
      ]
     },
     "metadata": {},
     "output_type": "display_data"
    },
    {
     "data": {
      "text/html": [
       "<pre>| 13620     | 1m 40s        | 2.60076e+06    | 0               |</pre>"
      ],
      "text/plain": [
       "| 13620     | 1m 40s        | 2.60076e+06    | 0               |"
      ]
     },
     "metadata": {},
     "output_type": "display_data"
    },
    {
     "data": {
      "text/html": [
       "<pre>| 13630     | 1m 40s        | 2.65909e+06    | 0               |</pre>"
      ],
      "text/plain": [
       "| 13630     | 1m 40s        | 2.65909e+06    | 0               |"
      ]
     },
     "metadata": {},
     "output_type": "display_data"
    },
    {
     "data": {
      "text/html": [
       "<pre>| 13640     | 1m 40s        | 2.54564e+06    | 0               |</pre>"
      ],
      "text/plain": [
       "| 13640     | 1m 40s        | 2.54564e+06    | 0               |"
      ]
     },
     "metadata": {},
     "output_type": "display_data"
    },
    {
     "data": {
      "text/html": [
       "<pre>| 13650     | 1m 40s        | 2.55698e+06    | 0               |</pre>"
      ],
      "text/plain": [
       "| 13650     | 1m 40s        | 2.55698e+06    | 0               |"
      ]
     },
     "metadata": {},
     "output_type": "display_data"
    },
    {
     "data": {
      "text/html": [
       "<pre>| 13660     | 1m 40s        | 2.59379e+06    | 0               |</pre>"
      ],
      "text/plain": [
       "| 13660     | 1m 40s        | 2.59379e+06    | 0               |"
      ]
     },
     "metadata": {},
     "output_type": "display_data"
    },
    {
     "data": {
      "text/html": [
       "<pre>| 13670     | 1m 40s        | 2.62005e+06    | 0               |</pre>"
      ],
      "text/plain": [
       "| 13670     | 1m 40s        | 2.62005e+06    | 0               |"
      ]
     },
     "metadata": {},
     "output_type": "display_data"
    },
    {
     "data": {
      "text/html": [
       "<pre>| 13680     | 1m 40s        | 2.58104e+06    | 0               |</pre>"
      ],
      "text/plain": [
       "| 13680     | 1m 40s        | 2.58104e+06    | 0               |"
      ]
     },
     "metadata": {},
     "output_type": "display_data"
    },
    {
     "data": {
      "text/html": [
       "<pre>| 13690     | 1m 40s        | 2.65794e+06    | 0               |</pre>"
      ],
      "text/plain": [
       "| 13690     | 1m 40s        | 2.65794e+06    | 0               |"
      ]
     },
     "metadata": {},
     "output_type": "display_data"
    },
    {
     "data": {
      "text/html": [
       "<pre>| 13700     | 1m 41s        | 2.66333e+06    | 0               |</pre>"
      ],
      "text/plain": [
       "| 13700     | 1m 41s        | 2.66333e+06    | 0               |"
      ]
     },
     "metadata": {},
     "output_type": "display_data"
    },
    {
     "data": {
      "text/html": [
       "<pre>| 13710     | 1m 41s        | 2.87905e+06    | 0               |</pre>"
      ],
      "text/plain": [
       "| 13710     | 1m 41s        | 2.87905e+06    | 0               |"
      ]
     },
     "metadata": {},
     "output_type": "display_data"
    },
    {
     "data": {
      "text/html": [
       "<pre>| 13720     | 1m 41s        | 2.50949e+06    | 0               |</pre>"
      ],
      "text/plain": [
       "| 13720     | 1m 41s        | 2.50949e+06    | 0               |"
      ]
     },
     "metadata": {},
     "output_type": "display_data"
    },
    {
     "data": {
      "text/html": [
       "<pre>| 13730     | 1m 41s        | 2.56376e+06    | 0               |</pre>"
      ],
      "text/plain": [
       "| 13730     | 1m 41s        | 2.56376e+06    | 0               |"
      ]
     },
     "metadata": {},
     "output_type": "display_data"
    },
    {
     "data": {
      "text/html": [
       "<pre>| 13740     | 1m 41s        | 2.50846e+06    | 0               |</pre>"
      ],
      "text/plain": [
       "| 13740     | 1m 41s        | 2.50846e+06    | 0               |"
      ]
     },
     "metadata": {},
     "output_type": "display_data"
    },
    {
     "data": {
      "text/html": [
       "<pre>| 13750     | 1m 41s        | 2.53127e+06    | 0               |</pre>"
      ],
      "text/plain": [
       "| 13750     | 1m 41s        | 2.53127e+06    | 0               |"
      ]
     },
     "metadata": {},
     "output_type": "display_data"
    },
    {
     "data": {
      "text/html": [
       "<pre>| 13760     | 1m 41s        | 2.56805e+06    | 0               |</pre>"
      ],
      "text/plain": [
       "| 13760     | 1m 41s        | 2.56805e+06    | 0               |"
      ]
     },
     "metadata": {},
     "output_type": "display_data"
    },
    {
     "data": {
      "text/html": [
       "<pre>| 13770     | 1m 41s        | 2.59159e+06    | 0               |</pre>"
      ],
      "text/plain": [
       "| 13770     | 1m 41s        | 2.59159e+06    | 0               |"
      ]
     },
     "metadata": {},
     "output_type": "display_data"
    },
    {
     "data": {
      "text/html": [
       "<pre>| 13780     | 1m 41s        | 2.46804e+06    | 0               |</pre>"
      ],
      "text/plain": [
       "| 13780     | 1m 41s        | 2.46804e+06    | 0               |"
      ]
     },
     "metadata": {},
     "output_type": "display_data"
    },
    {
     "data": {
      "text/html": [
       "<pre>| 13790     | 1m 41s        | 2.54741e+06    | 0               |</pre>"
      ],
      "text/plain": [
       "| 13790     | 1m 41s        | 2.54741e+06    | 0               |"
      ]
     },
     "metadata": {},
     "output_type": "display_data"
    },
    {
     "data": {
      "text/html": [
       "<pre>| 13800     | 1m 41s        | 2.47635e+06    | 0               |</pre>"
      ],
      "text/plain": [
       "| 13800     | 1m 41s        | 2.47635e+06    | 0               |"
      ]
     },
     "metadata": {},
     "output_type": "display_data"
    },
    {
     "data": {
      "text/html": [
       "<pre>| 13810     | 1m 41s        | 2.56913e+06    | 0               |</pre>"
      ],
      "text/plain": [
       "| 13810     | 1m 41s        | 2.56913e+06    | 0               |"
      ]
     },
     "metadata": {},
     "output_type": "display_data"
    },
    {
     "data": {
      "text/html": [
       "<pre>| 13820     | 1m 41s        | 2.51395e+06    | 0               |</pre>"
      ],
      "text/plain": [
       "| 13820     | 1m 41s        | 2.51395e+06    | 0               |"
      ]
     },
     "metadata": {},
     "output_type": "display_data"
    },
    {
     "data": {
      "text/html": [
       "<pre>| 13830     | 1m 42s        | 2.49925e+06    | 0               |</pre>"
      ],
      "text/plain": [
       "| 13830     | 1m 42s        | 2.49925e+06    | 0               |"
      ]
     },
     "metadata": {},
     "output_type": "display_data"
    },
    {
     "data": {
      "text/html": [
       "<pre>| 13840     | 1m 42s        | 2.61669e+06    | 0               |</pre>"
      ],
      "text/plain": [
       "| 13840     | 1m 42s        | 2.61669e+06    | 0               |"
      ]
     },
     "metadata": {},
     "output_type": "display_data"
    },
    {
     "data": {
      "text/html": [
       "<pre>| 13850     | 1m 42s        | 2.55272e+06    | 0               |</pre>"
      ],
      "text/plain": [
       "| 13850     | 1m 42s        | 2.55272e+06    | 0               |"
      ]
     },
     "metadata": {},
     "output_type": "display_data"
    },
    {
     "data": {
      "text/html": [
       "<pre>| 13860     | 1m 42s        | 2.55236e+06    | 0               |</pre>"
      ],
      "text/plain": [
       "| 13860     | 1m 42s        | 2.55236e+06    | 0               |"
      ]
     },
     "metadata": {},
     "output_type": "display_data"
    },
    {
     "data": {
      "text/html": [
       "<pre>| 13870     | 1m 42s        | 2.49078e+06    | 0               |</pre>"
      ],
      "text/plain": [
       "| 13870     | 1m 42s        | 2.49078e+06    | 0               |"
      ]
     },
     "metadata": {},
     "output_type": "display_data"
    },
    {
     "data": {
      "text/html": [
       "<pre>| 13880     | 1m 42s        | 2.52501e+06    | 0               |</pre>"
      ],
      "text/plain": [
       "| 13880     | 1m 42s        | 2.52501e+06    | 0               |"
      ]
     },
     "metadata": {},
     "output_type": "display_data"
    },
    {
     "data": {
      "text/html": [
       "<pre>| 13890     | 1m 42s        | 2.43889e+06    | 0               |</pre>"
      ],
      "text/plain": [
       "| 13890     | 1m 42s        | 2.43889e+06    | 0               |"
      ]
     },
     "metadata": {},
     "output_type": "display_data"
    },
    {
     "data": {
      "text/html": [
       "<pre>| 13900     | 1m 42s        | 2.58904e+06    | 0               |</pre>"
      ],
      "text/plain": [
       "| 13900     | 1m 42s        | 2.58904e+06    | 0               |"
      ]
     },
     "metadata": {},
     "output_type": "display_data"
    },
    {
     "data": {
      "text/html": [
       "<pre>| 13910     | 1m 42s        | 2.59269e+06    | 0               |</pre>"
      ],
      "text/plain": [
       "| 13910     | 1m 42s        | 2.59269e+06    | 0               |"
      ]
     },
     "metadata": {},
     "output_type": "display_data"
    },
    {
     "data": {
      "text/html": [
       "<pre>| 13920     | 1m 42s        | 2.58722e+06    | 0               |</pre>"
      ],
      "text/plain": [
       "| 13920     | 1m 42s        | 2.58722e+06    | 0               |"
      ]
     },
     "metadata": {},
     "output_type": "display_data"
    },
    {
     "data": {
      "text/html": [
       "<pre>| 13930     | 1m 42s        | 2.58358e+06    | 0               |</pre>"
      ],
      "text/plain": [
       "| 13930     | 1m 42s        | 2.58358e+06    | 0               |"
      ]
     },
     "metadata": {},
     "output_type": "display_data"
    },
    {
     "data": {
      "text/html": [
       "<pre>| 13940     | 1m 42s        | 2.5677e+06     | 0               |</pre>"
      ],
      "text/plain": [
       "| 13940     | 1m 42s        | 2.5677e+06     | 0               |"
      ]
     },
     "metadata": {},
     "output_type": "display_data"
    },
    {
     "data": {
      "text/html": [
       "<pre>| 13950     | 1m 42s        | 2.54423e+06    | 0               |</pre>"
      ],
      "text/plain": [
       "| 13950     | 1m 42s        | 2.54423e+06    | 0               |"
      ]
     },
     "metadata": {},
     "output_type": "display_data"
    },
    {
     "data": {
      "text/html": [
       "<pre>| 13960     | 1m 42s        | 2.54529e+06    | 0               |</pre>"
      ],
      "text/plain": [
       "| 13960     | 1m 42s        | 2.54529e+06    | 0               |"
      ]
     },
     "metadata": {},
     "output_type": "display_data"
    },
    {
     "data": {
      "text/html": [
       "<pre>| 13970     | 1m 43s        | 2.47635e+06    | 0               |</pre>"
      ],
      "text/plain": [
       "| 13970     | 1m 43s        | 2.47635e+06    | 0               |"
      ]
     },
     "metadata": {},
     "output_type": "display_data"
    },
    {
     "data": {
      "text/html": [
       "<pre>| 13980     | 1m 43s        | 2.42057e+06    | 0               |</pre>"
      ],
      "text/plain": [
       "| 13980     | 1m 43s        | 2.42057e+06    | 0               |"
      ]
     },
     "metadata": {},
     "output_type": "display_data"
    },
    {
     "data": {
      "text/html": [
       "<pre>| 13990     | 1m 43s        | 2.41136e+06    | 0               |</pre>"
      ],
      "text/plain": [
       "| 13990     | 1m 43s        | 2.41136e+06    | 0               |"
      ]
     },
     "metadata": {},
     "output_type": "display_data"
    },
    {
     "data": {
      "text/html": [
       "<pre>| 14000     | 1m 43s        | 2.41612e+06    | 0               |</pre>"
      ],
      "text/plain": [
       "| 14000     | 1m 43s        | 2.41612e+06    | 0               |"
      ]
     },
     "metadata": {},
     "output_type": "display_data"
    },
    {
     "data": {
      "text/html": [
       "<pre>| 14010     | 1m 43s        | 2.45846e+06    | 0               |</pre>"
      ],
      "text/plain": [
       "| 14010     | 1m 43s        | 2.45846e+06    | 0               |"
      ]
     },
     "metadata": {},
     "output_type": "display_data"
    },
    {
     "data": {
      "text/html": [
       "<pre>| 14020     | 1m 43s        | 2.70091e+06    | 0               |</pre>"
      ],
      "text/plain": [
       "| 14020     | 1m 43s        | 2.70091e+06    | 0               |"
      ]
     },
     "metadata": {},
     "output_type": "display_data"
    },
    {
     "data": {
      "text/html": [
       "<pre>| 14030     | 1m 43s        | 2.62716e+06    | 0               |</pre>"
      ],
      "text/plain": [
       "| 14030     | 1m 43s        | 2.62716e+06    | 0               |"
      ]
     },
     "metadata": {},
     "output_type": "display_data"
    },
    {
     "data": {
      "text/html": [
       "<pre>| 14040     | 1m 43s        | 2.44148e+06    | 0               |</pre>"
      ],
      "text/plain": [
       "| 14040     | 1m 43s        | 2.44148e+06    | 0               |"
      ]
     },
     "metadata": {},
     "output_type": "display_data"
    },
    {
     "data": {
      "text/html": [
       "<pre>| 14050     | 1m 43s        | 2.46307e+06    | 0               |</pre>"
      ],
      "text/plain": [
       "| 14050     | 1m 43s        | 2.46307e+06    | 0               |"
      ]
     },
     "metadata": {},
     "output_type": "display_data"
    },
    {
     "data": {
      "text/html": [
       "<pre>| 14060     | 1m 43s        | 2.36208e+06    | 0               |</pre>"
      ],
      "text/plain": [
       "| 14060     | 1m 43s        | 2.36208e+06    | 0               |"
      ]
     },
     "metadata": {},
     "output_type": "display_data"
    },
    {
     "data": {
      "text/html": [
       "<pre>| 14070     | 1m 43s        | 2.57093e+06    | 0               |</pre>"
      ],
      "text/plain": [
       "| 14070     | 1m 43s        | 2.57093e+06    | 0               |"
      ]
     },
     "metadata": {},
     "output_type": "display_data"
    },
    {
     "data": {
      "text/html": [
       "<pre>| 14080     | 1m 43s        | 2.50334e+06    | 0               |</pre>"
      ],
      "text/plain": [
       "| 14080     | 1m 43s        | 2.50334e+06    | 0               |"
      ]
     },
     "metadata": {},
     "output_type": "display_data"
    },
    {
     "data": {
      "text/html": [
       "<pre>| 14090     | 1m 43s        | 2.5467e+06     | 0               |</pre>"
      ],
      "text/plain": [
       "| 14090     | 1m 43s        | 2.5467e+06     | 0               |"
      ]
     },
     "metadata": {},
     "output_type": "display_data"
    },
    {
     "data": {
      "text/html": [
       "<pre>| 14100     | 1m 44s        | 2.49078e+06    | 0               |</pre>"
      ],
      "text/plain": [
       "| 14100     | 1m 44s        | 2.49078e+06    | 0               |"
      ]
     },
     "metadata": {},
     "output_type": "display_data"
    },
    {
     "data": {
      "text/html": [
       "<pre>| 14110     | 1m 44s        | 2.52258e+06    | 0               |</pre>"
      ],
      "text/plain": [
       "| 14110     | 1m 44s        | 2.52258e+06    | 0               |"
      ]
     },
     "metadata": {},
     "output_type": "display_data"
    },
    {
     "data": {
      "text/html": [
       "<pre>| 14120     | 1m 44s        | 2.52709e+06    | 0               |</pre>"
      ],
      "text/plain": [
       "| 14120     | 1m 44s        | 2.52709e+06    | 0               |"
      ]
     },
     "metadata": {},
     "output_type": "display_data"
    },
    {
     "data": {
      "text/html": [
       "<pre>| 14130     | 1m 44s        | 2.48708e+06    | 0               |</pre>"
      ],
      "text/plain": [
       "| 14130     | 1m 44s        | 2.48708e+06    | 0               |"
      ]
     },
     "metadata": {},
     "output_type": "display_data"
    },
    {
     "data": {
      "text/html": [
       "<pre>| 14140     | 1m 44s        | 2.45879e+06    | 0               |</pre>"
      ],
      "text/plain": [
       "| 14140     | 1m 44s        | 2.45879e+06    | 0               |"
      ]
     },
     "metadata": {},
     "output_type": "display_data"
    },
    {
     "data": {
      "text/html": [
       "<pre>| 14150     | 1m 44s        | 2.50744e+06    | 0               |</pre>"
      ],
      "text/plain": [
       "| 14150     | 1m 44s        | 2.50744e+06    | 0               |"
      ]
     },
     "metadata": {},
     "output_type": "display_data"
    },
    {
     "data": {
      "text/html": [
       "<pre>| 14160     | 1m 44s        | 2.40568e+06    | 0               |</pre>"
      ],
      "text/plain": [
       "| 14160     | 1m 44s        | 2.40568e+06    | 0               |"
      ]
     },
     "metadata": {},
     "output_type": "display_data"
    },
    {
     "data": {
      "text/html": [
       "<pre>| 14170     | 1m 44s        | 2.56161e+06    | 0               |</pre>"
      ],
      "text/plain": [
       "| 14170     | 1m 44s        | 2.56161e+06    | 0               |"
      ]
     },
     "metadata": {},
     "output_type": "display_data"
    },
    {
     "data": {
      "text/html": [
       "<pre>| 14180     | 1m 44s        | 2.51052e+06    | 0               |</pre>"
      ],
      "text/plain": [
       "| 14180     | 1m 44s        | 2.51052e+06    | 0               |"
      ]
     },
     "metadata": {},
     "output_type": "display_data"
    },
    {
     "data": {
      "text/html": [
       "<pre>| 14190     | 1m 44s        | 2.81554e+06    | 0               |</pre>"
      ],
      "text/plain": [
       "| 14190     | 1m 44s        | 2.81554e+06    | 0               |"
      ]
     },
     "metadata": {},
     "output_type": "display_data"
    },
    {
     "data": {
      "text/html": [
       "<pre>| 14200     | 1m 44s        | 2.52674e+06    | 0               |</pre>"
      ],
      "text/plain": [
       "| 14200     | 1m 44s        | 2.52674e+06    | 0               |"
      ]
     },
     "metadata": {},
     "output_type": "display_data"
    },
    {
     "data": {
      "text/html": [
       "<pre>| 14210     | 1m 44s        | 2.503e+06      | 0               |</pre>"
      ],
      "text/plain": [
       "| 14210     | 1m 44s        | 2.503e+06      | 0               |"
      ]
     },
     "metadata": {},
     "output_type": "display_data"
    },
    {
     "data": {
      "text/html": [
       "<pre>| 14220     | 1m 44s        | 2.42217e+06    | 0               |</pre>"
      ],
      "text/plain": [
       "| 14220     | 1m 44s        | 2.42217e+06    | 0               |"
      ]
     },
     "metadata": {},
     "output_type": "display_data"
    },
    {
     "data": {
      "text/html": [
       "<pre>| 14230     | 1m 45s        | 2.53092e+06    | 0               |</pre>"
      ],
      "text/plain": [
       "| 14230     | 1m 45s        | 2.53092e+06    | 0               |"
      ]
     },
     "metadata": {},
     "output_type": "display_data"
    },
    {
     "data": {
      "text/html": [
       "<pre>| 14240     | 1m 45s        | 2.46044e+06    | 0               |</pre>"
      ],
      "text/plain": [
       "| 14240     | 1m 45s        | 2.46044e+06    | 0               |"
      ]
     },
     "metadata": {},
     "output_type": "display_data"
    },
    {
     "data": {
      "text/html": [
       "<pre>| 14250     | 1m 45s        | 2.4139e+06     | 0               |</pre>"
      ],
      "text/plain": [
       "| 14250     | 1m 45s        | 2.4139e+06     | 0               |"
      ]
     },
     "metadata": {},
     "output_type": "display_data"
    },
    {
     "data": {
      "text/html": [
       "<pre>| 14260     | 1m 45s        | 2.4864e+06     | 0               |</pre>"
      ],
      "text/plain": [
       "| 14260     | 1m 45s        | 2.4864e+06     | 0               |"
      ]
     },
     "metadata": {},
     "output_type": "display_data"
    },
    {
     "data": {
      "text/html": [
       "<pre>| 14270     | 1m 45s        | 2.39253e+06    | 0               |</pre>"
      ],
      "text/plain": [
       "| 14270     | 1m 45s        | 2.39253e+06    | 0               |"
      ]
     },
     "metadata": {},
     "output_type": "display_data"
    },
    {
     "data": {
      "text/html": [
       "<pre>| 14280     | 1m 45s        | 2.34012e+06    | 0               |</pre>"
      ],
      "text/plain": [
       "| 14280     | 1m 45s        | 2.34012e+06    | 0               |"
      ]
     },
     "metadata": {},
     "output_type": "display_data"
    },
    {
     "data": {
      "text/html": [
       "<pre>| 14290     | 1m 45s        | 3.04406e+06    | 0               |</pre>"
      ],
      "text/plain": [
       "| 14290     | 1m 45s        | 3.04406e+06    | 0               |"
      ]
     },
     "metadata": {},
     "output_type": "display_data"
    },
    {
     "data": {
      "text/html": [
       "<pre>| 14300     | 1m 45s        | 2.30606e+06    | 0               |</pre>"
      ],
      "text/plain": [
       "| 14300     | 1m 45s        | 2.30606e+06    | 0               |"
      ]
     },
     "metadata": {},
     "output_type": "display_data"
    },
    {
     "data": {
      "text/html": [
       "<pre>| 14310     | 1m 45s        | 2.52535e+06    | 0               |</pre>"
      ],
      "text/plain": [
       "| 14310     | 1m 45s        | 2.52535e+06    | 0               |"
      ]
     },
     "metadata": {},
     "output_type": "display_data"
    },
    {
     "data": {
      "text/html": [
       "<pre>| 14320     | 1m 45s        | 2.48607e+06    | 0               |</pre>"
      ],
      "text/plain": [
       "| 14320     | 1m 45s        | 2.48607e+06    | 0               |"
      ]
     },
     "metadata": {},
     "output_type": "display_data"
    },
    {
     "data": {
      "text/html": [
       "<pre>| 14330     | 1m 45s        | 2.53581e+06    | 0               |</pre>"
      ],
      "text/plain": [
       "| 14330     | 1m 45s        | 2.53581e+06    | 0               |"
      ]
     },
     "metadata": {},
     "output_type": "display_data"
    },
    {
     "data": {
      "text/html": [
       "<pre>| 14340     | 1m 45s        | 2.4193e+06     | 0               |</pre>"
      ],
      "text/plain": [
       "| 14340     | 1m 45s        | 2.4193e+06     | 0               |"
      ]
     },
     "metadata": {},
     "output_type": "display_data"
    },
    {
     "data": {
      "text/html": [
       "<pre>| 14350     | 1m 45s        | 2.54529e+06    | 0               |</pre>"
      ],
      "text/plain": [
       "| 14350     | 1m 45s        | 2.54529e+06    | 0               |"
      ]
     },
     "metadata": {},
     "output_type": "display_data"
    },
    {
     "data": {
      "text/html": [
       "<pre>| 14360     | 1m 46s        | 2.48539e+06    | 0               |</pre>"
      ],
      "text/plain": [
       "| 14360     | 1m 46s        | 2.48539e+06    | 0               |"
      ]
     },
     "metadata": {},
     "output_type": "display_data"
    },
    {
     "data": {
      "text/html": [
       "<pre>| 14370     | 1m 46s        | 2.46903e+06    | 0               |</pre>"
      ],
      "text/plain": [
       "| 14370     | 1m 46s        | 2.46903e+06    | 0               |"
      ]
     },
     "metadata": {},
     "output_type": "display_data"
    },
    {
     "data": {
      "text/html": [
       "<pre>| 14380     | 1m 46s        | 2.51567e+06    | 0               |</pre>"
      ],
      "text/plain": [
       "| 14380     | 1m 46s        | 2.51567e+06    | 0               |"
      ]
     },
     "metadata": {},
     "output_type": "display_data"
    },
    {
     "data": {
      "text/html": [
       "<pre>| 14390     | 1m 46s        | 2.53651e+06    | 0               |</pre>"
      ],
      "text/plain": [
       "| 14390     | 1m 46s        | 2.53651e+06    | 0               |"
      ]
     },
     "metadata": {},
     "output_type": "display_data"
    },
    {
     "data": {
      "text/html": [
       "<pre>| 14400     | 1m 46s        | 2.46837e+06    | 0               |</pre>"
      ],
      "text/plain": [
       "| 14400     | 1m 46s        | 2.46837e+06    | 0               |"
      ]
     },
     "metadata": {},
     "output_type": "display_data"
    },
    {
     "data": {
      "text/html": [
       "<pre>| 14410     | 1m 46s        | 2.55627e+06    | 0               |</pre>"
      ],
      "text/plain": [
       "| 14410     | 1m 46s        | 2.55627e+06    | 0               |"
      ]
     },
     "metadata": {},
     "output_type": "display_data"
    },
    {
     "data": {
      "text/html": [
       "<pre>| 14420     | 1m 46s        | 2.48674e+06    | 0               |</pre>"
      ],
      "text/plain": [
       "| 14420     | 1m 46s        | 2.48674e+06    | 0               |"
      ]
     },
     "metadata": {},
     "output_type": "display_data"
    },
    {
     "data": {
      "text/html": [
       "<pre>| 14430     | 1m 46s        | 2.51189e+06    | 0               |</pre>"
      ],
      "text/plain": [
       "| 14430     | 1m 46s        | 2.51189e+06    | 0               |"
      ]
     },
     "metadata": {},
     "output_type": "display_data"
    },
    {
     "data": {
      "text/html": [
       "<pre>| 14440     | 1m 46s        | 2.4864e+06     | 0               |</pre>"
      ],
      "text/plain": [
       "| 14440     | 1m 46s        | 2.4864e+06     | 0               |"
      ]
     },
     "metadata": {},
     "output_type": "display_data"
    },
    {
     "data": {
      "text/html": [
       "<pre>| 14450     | 1m 46s        | 2.59966e+06    | 0               |</pre>"
      ],
      "text/plain": [
       "| 14450     | 1m 46s        | 2.59966e+06    | 0               |"
      ]
     },
     "metadata": {},
     "output_type": "display_data"
    },
    {
     "data": {
      "text/html": [
       "<pre>| 14460     | 1m 46s        | 2.50915e+06    | 0               |</pre>"
      ],
      "text/plain": [
       "| 14460     | 1m 46s        | 2.50915e+06    | 0               |"
      ]
     },
     "metadata": {},
     "output_type": "display_data"
    },
    {
     "data": {
      "text/html": [
       "<pre>| 14470     | 1m 46s        | 2.35633e+06    | 0               |</pre>"
      ],
      "text/plain": [
       "| 14470     | 1m 46s        | 2.35633e+06    | 0               |"
      ]
     },
     "metadata": {},
     "output_type": "display_data"
    },
    {
     "data": {
      "text/html": [
       "<pre>| 14480     | 1m 46s        | 2.6004e+06     | 0               |</pre>"
      ],
      "text/plain": [
       "| 14480     | 1m 46s        | 2.6004e+06     | 0               |"
      ]
     },
     "metadata": {},
     "output_type": "display_data"
    },
    {
     "data": {
      "text/html": [
       "<pre>| 14490     | 1m 47s        | 2.3969e+06     | 0               |</pre>"
      ],
      "text/plain": [
       "| 14490     | 1m 47s        | 2.3969e+06     | 0               |"
      ]
     },
     "metadata": {},
     "output_type": "display_data"
    },
    {
     "data": {
      "text/html": [
       "<pre>| 14500     | 1m 47s        | 2.39471e+06    | 0               |</pre>"
      ],
      "text/plain": [
       "| 14500     | 1m 47s        | 2.39471e+06    | 0               |"
      ]
     },
     "metadata": {},
     "output_type": "display_data"
    },
    {
     "data": {
      "text/html": [
       "<pre>| 14510     | 1m 47s        | 2.5634e+06     | 0               |</pre>"
      ],
      "text/plain": [
       "| 14510     | 1m 47s        | 2.5634e+06     | 0               |"
      ]
     },
     "metadata": {},
     "output_type": "display_data"
    },
    {
     "data": {
      "text/html": [
       "<pre>| 14520     | 1m 47s        | 2.57381e+06    | 0               |</pre>"
      ],
      "text/plain": [
       "| 14520     | 1m 47s        | 2.57381e+06    | 0               |"
      ]
     },
     "metadata": {},
     "output_type": "display_data"
    },
    {
     "data": {
      "text/html": [
       "<pre>| 14530     | 1m 47s        | 2.48539e+06    | 0               |</pre>"
      ],
      "text/plain": [
       "| 14530     | 1m 47s        | 2.48539e+06    | 0               |"
      ]
     },
     "metadata": {},
     "output_type": "display_data"
    },
    {
     "data": {
      "text/html": [
       "<pre>| 14540     | 1m 47s        | 2.39128e+06    | 0               |</pre>"
      ],
      "text/plain": [
       "| 14540     | 1m 47s        | 2.39128e+06    | 0               |"
      ]
     },
     "metadata": {},
     "output_type": "display_data"
    },
    {
     "data": {
      "text/html": [
       "<pre>| 14550     | 1m 47s        | 2.52605e+06    | 0               |</pre>"
      ],
      "text/plain": [
       "| 14550     | 1m 47s        | 2.52605e+06    | 0               |"
      ]
     },
     "metadata": {},
     "output_type": "display_data"
    },
    {
     "data": {
      "text/html": [
       "<pre>| 14560     | 1m 47s        | 2.52466e+06    | 0               |</pre>"
      ],
      "text/plain": [
       "| 14560     | 1m 47s        | 2.52466e+06    | 0               |"
      ]
     },
     "metadata": {},
     "output_type": "display_data"
    },
    {
     "data": {
      "text/html": [
       "<pre>| 14570     | 1m 47s        | 2.4807e+06     | 0               |</pre>"
      ],
      "text/plain": [
       "| 14570     | 1m 47s        | 2.4807e+06     | 0               |"
      ]
     },
     "metadata": {},
     "output_type": "display_data"
    },
    {
     "data": {
      "text/html": [
       "<pre>| 14580     | 1m 47s        | 2.85801e+06    | 0               |</pre>"
      ],
      "text/plain": [
       "| 14580     | 1m 47s        | 2.85801e+06    | 0               |"
      ]
     },
     "metadata": {},
     "output_type": "display_data"
    },
    {
     "data": {
      "text/html": [
       "<pre>| 14590     | 1m 47s        | 2.54142e+06    | 0               |</pre>"
      ],
      "text/plain": [
       "| 14590     | 1m 47s        | 2.54142e+06    | 0               |"
      ]
     },
     "metadata": {},
     "output_type": "display_data"
    },
    {
     "data": {
      "text/html": [
       "<pre>| 14600     | 1m 47s        | 2.61222e+06    | 0               |</pre>"
      ],
      "text/plain": [
       "| 14600     | 1m 47s        | 2.61222e+06    | 0               |"
      ]
     },
     "metadata": {},
     "output_type": "display_data"
    },
    {
     "data": {
      "text/html": [
       "<pre>| 14610     | 1m 47s        | 2.62042e+06    | 0               |</pre>"
      ],
      "text/plain": [
       "| 14610     | 1m 47s        | 2.62042e+06    | 0               |"
      ]
     },
     "metadata": {},
     "output_type": "display_data"
    },
    {
     "data": {
      "text/html": [
       "<pre>| 14620     | 1m 48s        | 2.45059e+06    | 0               |</pre>"
      ],
      "text/plain": [
       "| 14620     | 1m 48s        | 2.45059e+06    | 0               |"
      ]
     },
     "metadata": {},
     "output_type": "display_data"
    },
    {
     "data": {
      "text/html": [
       "<pre>| 14630     | 1m 48s        | 2.31303e+06    | 0               |</pre>"
      ],
      "text/plain": [
       "| 14630     | 1m 48s        | 2.31303e+06    | 0               |"
      ]
     },
     "metadata": {},
     "output_type": "display_data"
    },
    {
     "data": {
      "text/html": [
       "<pre>| 14640     | 1m 48s        | 2.37214e+06    | 0               |</pre>"
      ],
      "text/plain": [
       "| 14640     | 1m 48s        | 2.37214e+06    | 0               |"
      ]
     },
     "metadata": {},
     "output_type": "display_data"
    },
    {
     "data": {
      "text/html": [
       "<pre>| 14650     | 1m 48s        | 2.3697e+06     | 0               |</pre>"
      ],
      "text/plain": [
       "| 14650     | 1m 48s        | 2.3697e+06     | 0               |"
      ]
     },
     "metadata": {},
     "output_type": "display_data"
    },
    {
     "data": {
      "text/html": [
       "<pre>| 14660     | 1m 48s        | 2.18722e+06    | 0               |</pre>"
      ],
      "text/plain": [
       "| 14660     | 1m 48s        | 2.18722e+06    | 0               |"
      ]
     },
     "metadata": {},
     "output_type": "display_data"
    },
    {
     "data": {
      "text/html": [
       "<pre>| 14670     | 1m 48s        | 2.4139e+06     | 0               |</pre>"
      ],
      "text/plain": [
       "| 14670     | 1m 48s        | 2.4139e+06     | 0               |"
      ]
     },
     "metadata": {},
     "output_type": "display_data"
    },
    {
     "data": {
      "text/html": [
       "<pre>| 14680     | 1m 48s        | 2.53092e+06    | 0               |</pre>"
      ],
      "text/plain": [
       "| 14680     | 1m 48s        | 2.53092e+06    | 0               |"
      ]
     },
     "metadata": {},
     "output_type": "display_data"
    },
    {
     "data": {
      "text/html": [
       "<pre>| 14690     | 1m 48s        | 2.58758e+06    | 0               |</pre>"
      ],
      "text/plain": [
       "| 14690     | 1m 48s        | 2.58758e+06    | 0               |"
      ]
     },
     "metadata": {},
     "output_type": "display_data"
    },
    {
     "data": {
      "text/html": [
       "<pre>| 14700     | 1m 48s        | 2.38507e+06    | 0               |</pre>"
      ],
      "text/plain": [
       "| 14700     | 1m 48s        | 2.38507e+06    | 0               |"
      ]
     },
     "metadata": {},
     "output_type": "display_data"
    },
    {
     "data": {
      "text/html": [
       "<pre>| 14710     | 1m 48s        | 2.4945e+06     | 0               |</pre>"
      ],
      "text/plain": [
       "| 14710     | 1m 48s        | 2.4945e+06     | 0               |"
      ]
     },
     "metadata": {},
     "output_type": "display_data"
    },
    {
     "data": {
      "text/html": [
       "<pre>| 14720     | 1m 48s        | 2.54142e+06    | 0               |</pre>"
      ],
      "text/plain": [
       "| 14720     | 1m 48s        | 2.54142e+06    | 0               |"
      ]
     },
     "metadata": {},
     "output_type": "display_data"
    },
    {
     "data": {
      "text/html": [
       "<pre>| 14730     | 1m 48s        | 3.82774e+06    | 0               |</pre>"
      ],
      "text/plain": [
       "| 14730     | 1m 48s        | 3.82774e+06    | 0               |"
      ]
     },
     "metadata": {},
     "output_type": "display_data"
    },
    {
     "data": {
      "text/html": [
       "<pre>| 14740     | 1m 48s        | 2.62716e+06    | 0               |</pre>"
      ],
      "text/plain": [
       "| 14740     | 1m 48s        | 2.62716e+06    | 0               |"
      ]
     },
     "metadata": {},
     "output_type": "display_data"
    },
    {
     "data": {
      "text/html": [
       "<pre>| 14750     | 1m 49s        | 2.54529e+06    | 0               |</pre>"
      ],
      "text/plain": [
       "| 14750     | 1m 49s        | 2.54529e+06    | 0               |"
      ]
     },
     "metadata": {},
     "output_type": "display_data"
    },
    {
     "data": {
      "text/html": [
       "<pre>| 14760     | 1m 49s        | 2.50504e+06    | 0               |</pre>"
      ],
      "text/plain": [
       "| 14760     | 1m 49s        | 2.50504e+06    | 0               |"
      ]
     },
     "metadata": {},
     "output_type": "display_data"
    },
    {
     "data": {
      "text/html": [
       "<pre>| 14770     | 1m 49s        | 2.60297e+06    | 0               |</pre>"
      ],
      "text/plain": [
       "| 14770     | 1m 49s        | 2.60297e+06    | 0               |"
      ]
     },
     "metadata": {},
     "output_type": "display_data"
    },
    {
     "data": {
      "text/html": [
       "<pre>| 14780     | 1m 49s        | 2.60593e+06    | 0               |</pre>"
      ],
      "text/plain": [
       "| 14780     | 1m 49s        | 2.60593e+06    | 0               |"
      ]
     },
     "metadata": {},
     "output_type": "display_data"
    },
    {
     "data": {
      "text/html": [
       "<pre>| 14790     | 1m 49s        | 2.53546e+06    | 0               |</pre>"
      ],
      "text/plain": [
       "| 14790     | 1m 49s        | 2.53546e+06    | 0               |"
      ]
     },
     "metadata": {},
     "output_type": "display_data"
    },
    {
     "data": {
      "text/html": [
       "<pre>| 14800     | 1m 49s        | 2.48775e+06    | 0               |</pre>"
      ],
      "text/plain": [
       "| 14800     | 1m 49s        | 2.48775e+06    | 0               |"
      ]
     },
     "metadata": {},
     "output_type": "display_data"
    },
    {
     "data": {
      "text/html": [
       "<pre>| 14810     | 1m 49s        | 2.57345e+06    | 0               |</pre>"
      ],
      "text/plain": [
       "| 14810     | 1m 49s        | 2.57345e+06    | 0               |"
      ]
     },
     "metadata": {},
     "output_type": "display_data"
    },
    {
     "data": {
      "text/html": [
       "<pre>| 14820     | 1m 49s        | 2.55733e+06    | 0               |</pre>"
      ],
      "text/plain": [
       "| 14820     | 1m 49s        | 2.55733e+06    | 0               |"
      ]
     },
     "metadata": {},
     "output_type": "display_data"
    },
    {
     "data": {
      "text/html": [
       "<pre>| 14830     | 1m 49s        | 2.55627e+06    | 0               |</pre>"
      ],
      "text/plain": [
       "| 14830     | 1m 49s        | 2.55627e+06    | 0               |"
      ]
     },
     "metadata": {},
     "output_type": "display_data"
    },
    {
     "data": {
      "text/html": [
       "<pre>| 14840     | 1m 49s        | 2.53861e+06    | 0               |</pre>"
      ],
      "text/plain": [
       "| 14840     | 1m 49s        | 2.53861e+06    | 0               |"
      ]
     },
     "metadata": {},
     "output_type": "display_data"
    },
    {
     "data": {
      "text/html": [
       "<pre>| 14850     | 1m 49s        | 2.49518e+06    | 0               |</pre>"
      ],
      "text/plain": [
       "| 14850     | 1m 49s        | 2.49518e+06    | 0               |"
      ]
     },
     "metadata": {},
     "output_type": "display_data"
    },
    {
     "data": {
      "text/html": [
       "<pre>| 14860     | 1m 49s        | 2.4457e+06     | 0               |</pre>"
      ],
      "text/plain": [
       "| 14860     | 1m 49s        | 2.4457e+06     | 0               |"
      ]
     },
     "metadata": {},
     "output_type": "display_data"
    },
    {
     "data": {
      "text/html": [
       "<pre>| 14870     | 1m 49s        | 2.57237e+06    | 0               |</pre>"
      ],
      "text/plain": [
       "| 14870     | 1m 49s        | 2.57237e+06    | 0               |"
      ]
     },
     "metadata": {},
     "output_type": "display_data"
    },
    {
     "data": {
      "text/html": [
       "<pre>| 14880     | 1m 49s        | 2.46936e+06    | 0               |</pre>"
      ],
      "text/plain": [
       "| 14880     | 1m 49s        | 2.46936e+06    | 0               |"
      ]
     },
     "metadata": {},
     "output_type": "display_data"
    },
    {
     "data": {
      "text/html": [
       "<pre>| 14890     | 1m 50s        | 2.55947e+06    | 0               |</pre>"
      ],
      "text/plain": [
       "| 14890     | 1m 50s        | 2.55947e+06    | 0               |"
      ]
     },
     "metadata": {},
     "output_type": "display_data"
    },
    {
     "data": {
      "text/html": [
       "<pre>| 14900     | 1m 50s        | 2.35723e+06    | 0               |</pre>"
      ],
      "text/plain": [
       "| 14900     | 1m 50s        | 2.35723e+06    | 0               |"
      ]
     },
     "metadata": {},
     "output_type": "display_data"
    },
    {
     "data": {
      "text/html": [
       "<pre>| 14910     | 1m 50s        | 2.47602e+06    | 0               |</pre>"
      ],
      "text/plain": [
       "| 14910     | 1m 50s        | 2.47602e+06    | 0               |"
      ]
     },
     "metadata": {},
     "output_type": "display_data"
    },
    {
     "data": {
      "text/html": [
       "<pre>| 14920     | 1m 50s        | 2.52744e+06    | 0               |</pre>"
      ],
      "text/plain": [
       "| 14920     | 1m 50s        | 2.52744e+06    | 0               |"
      ]
     },
     "metadata": {},
     "output_type": "display_data"
    },
    {
     "data": {
      "text/html": [
       "<pre>| 14930     | 1m 50s        | 2.46804e+06    | 0               |</pre>"
      ],
      "text/plain": [
       "| 14930     | 1m 50s        | 2.46804e+06    | 0               |"
      ]
     },
     "metadata": {},
     "output_type": "display_data"
    },
    {
     "data": {
      "text/html": [
       "<pre>| 14940     | 1m 50s        | 2.46903e+06    | 0               |</pre>"
      ],
      "text/plain": [
       "| 14940     | 1m 50s        | 2.46903e+06    | 0               |"
      ]
     },
     "metadata": {},
     "output_type": "display_data"
    },
    {
     "data": {
      "text/html": [
       "<pre>| 14950     | 1m 50s        | 2.72777e+06    | 0               |</pre>"
      ],
      "text/plain": [
       "| 14950     | 1m 50s        | 2.72777e+06    | 0               |"
      ]
     },
     "metadata": {},
     "output_type": "display_data"
    },
    {
     "data": {
      "text/html": [
       "<pre>| 14960     | 1m 50s        | 2.59893e+06    | 0               |</pre>"
      ],
      "text/plain": [
       "| 14960     | 1m 50s        | 2.59893e+06    | 0               |"
      ]
     },
     "metadata": {},
     "output_type": "display_data"
    },
    {
     "data": {
      "text/html": [
       "<pre>| 14970     | 1m 50s        | 2.63356e+06    | 0               |</pre>"
      ],
      "text/plain": [
       "| 14970     | 1m 50s        | 2.63356e+06    | 0               |"
      ]
     },
     "metadata": {},
     "output_type": "display_data"
    },
    {
     "data": {
      "text/html": [
       "<pre>| 14980     | 1m 50s        | 2.9119e+06     | 0               |</pre>"
      ],
      "text/plain": [
       "| 14980     | 1m 50s        | 2.9119e+06     | 0               |"
      ]
     },
     "metadata": {},
     "output_type": "display_data"
    },
    {
     "data": {
      "text/html": [
       "<pre>| 14990     | 1m 50s        | 2.60556e+06    | 0               |</pre>"
      ],
      "text/plain": [
       "| 14990     | 1m 50s        | 2.60556e+06    | 0               |"
      ]
     },
     "metadata": {},
     "output_type": "display_data"
    },
    {
     "data": {
      "text/html": [
       "<pre>| 15000     | 1m 50s        | 2.54705e+06    | 0               |</pre>"
      ],
      "text/plain": [
       "| 15000     | 1m 50s        | 2.54705e+06    | 0               |"
      ]
     },
     "metadata": {},
     "output_type": "display_data"
    },
    {
     "data": {
      "text/html": [
       "<pre>| 15010     | 1m 50s        | 2.51018e+06    | 0               |</pre>"
      ],
      "text/plain": [
       "| 15010     | 1m 50s        | 2.51018e+06    | 0               |"
      ]
     },
     "metadata": {},
     "output_type": "display_data"
    },
    {
     "data": {
      "text/html": [
       "<pre>| 15020     | 1m 51s        | 2.61483e+06    | 0               |</pre>"
      ],
      "text/plain": [
       "| 15020     | 1m 51s        | 2.61483e+06    | 0               |"
      ]
     },
     "metadata": {},
     "output_type": "display_data"
    },
    {
     "data": {
      "text/html": [
       "<pre>| 15030     | 1m 51s        | 2.32091e+06    | 0               |</pre>"
      ],
      "text/plain": [
       "| 15030     | 1m 51s        | 2.32091e+06    | 0               |"
      ]
     },
     "metadata": {},
     "output_type": "display_data"
    },
    {
     "data": {
      "text/html": [
       "<pre>| 15040     | 1m 51s        | 2.51086e+06    | 0               |</pre>"
      ],
      "text/plain": [
       "| 15040     | 1m 51s        | 2.51086e+06    | 0               |"
      ]
     },
     "metadata": {},
     "output_type": "display_data"
    },
    {
     "data": {
      "text/html": [
       "<pre>| 15050     | 1m 51s        | 2.50709e+06    | 0               |</pre>"
      ],
      "text/plain": [
       "| 15050     | 1m 51s        | 2.50709e+06    | 0               |"
      ]
     },
     "metadata": {},
     "output_type": "display_data"
    },
    {
     "data": {
      "text/html": [
       "<pre>| 15060     | 1m 51s        | 2.58867e+06    | 0               |</pre>"
      ],
      "text/plain": [
       "| 15060     | 1m 51s        | 2.58867e+06    | 0               |"
      ]
     },
     "metadata": {},
     "output_type": "display_data"
    },
    {
     "data": {
      "text/html": [
       "<pre>| 15070     | 1m 51s        | 2.57417e+06    | 0               |</pre>"
      ],
      "text/plain": [
       "| 15070     | 1m 51s        | 2.57417e+06    | 0               |"
      ]
     },
     "metadata": {},
     "output_type": "display_data"
    },
    {
     "data": {
      "text/html": [
       "<pre>| 15080     | 1m 51s        | 2.49959e+06    | 0               |</pre>"
      ],
      "text/plain": [
       "| 15080     | 1m 51s        | 2.49959e+06    | 0               |"
      ]
     },
     "metadata": {},
     "output_type": "display_data"
    },
    {
     "data": {
      "text/html": [
       "<pre>| 15090     | 1m 51s        | 2.57309e+06    | 0               |</pre>"
      ],
      "text/plain": [
       "| 15090     | 1m 51s        | 2.57309e+06    | 0               |"
      ]
     },
     "metadata": {},
     "output_type": "display_data"
    },
    {
     "data": {
      "text/html": [
       "<pre>| 15100     | 1m 51s        | 2.56125e+06    | 0               |</pre>"
      ],
      "text/plain": [
       "| 15100     | 1m 51s        | 2.56125e+06    | 0               |"
      ]
     },
     "metadata": {},
     "output_type": "display_data"
    },
    {
     "data": {
      "text/html": [
       "<pre>| 15110     | 1m 51s        | 2.63583e+06    | 0               |</pre>"
      ],
      "text/plain": [
       "| 15110     | 1m 51s        | 2.63583e+06    | 0               |"
      ]
     },
     "metadata": {},
     "output_type": "display_data"
    },
    {
     "data": {
      "text/html": [
       "<pre>| 15120     | 1m 51s        | 2.50675e+06    | 0               |</pre>"
      ],
      "text/plain": [
       "| 15120     | 1m 51s        | 2.50675e+06    | 0               |"
      ]
     },
     "metadata": {},
     "output_type": "display_data"
    },
    {
     "data": {
      "text/html": [
       "<pre>| 15130     | 1m 51s        | 2.46506e+06    | 0               |</pre>"
      ],
      "text/plain": [
       "| 15130     | 1m 51s        | 2.46506e+06    | 0               |"
      ]
     },
     "metadata": {},
     "output_type": "display_data"
    },
    {
     "data": {
      "text/html": [
       "<pre>| 15140     | 1m 51s        | 2.50129e+06    | 0               |</pre>"
      ],
      "text/plain": [
       "| 15140     | 1m 51s        | 2.50129e+06    | 0               |"
      ]
     },
     "metadata": {},
     "output_type": "display_data"
    },
    {
     "data": {
      "text/html": [
       "<pre>| 15150     | 1m 52s        | 2.58649e+06    | 0               |</pre>"
      ],
      "text/plain": [
       "| 15150     | 1m 52s        | 2.58649e+06    | 0               |"
      ]
     },
     "metadata": {},
     "output_type": "display_data"
    },
    {
     "data": {
      "text/html": [
       "<pre>| 15160     | 1m 52s        | 2.53162e+06    | 0               |</pre>"
      ],
      "text/plain": [
       "| 15160     | 1m 52s        | 2.53162e+06    | 0               |"
      ]
     },
     "metadata": {},
     "output_type": "display_data"
    },
    {
     "data": {
      "text/html": [
       "<pre>| 15170     | 1m 52s        | 2.54247e+06    | 0               |</pre>"
      ],
      "text/plain": [
       "| 15170     | 1m 52s        | 2.54247e+06    | 0               |"
      ]
     },
     "metadata": {},
     "output_type": "display_data"
    },
    {
     "data": {
      "text/html": [
       "<pre>| 15180     | 1m 52s        | 2.37921e+06    | 0               |</pre>"
      ],
      "text/plain": [
       "| 15180     | 1m 52s        | 2.37921e+06    | 0               |"
      ]
     },
     "metadata": {},
     "output_type": "display_data"
    },
    {
     "data": {
      "text/html": [
       "<pre>| 15190     | 1m 52s        | 2.54001e+06    | 0               |</pre>"
      ],
      "text/plain": [
       "| 15190     | 1m 52s        | 2.54001e+06    | 0               |"
      ]
     },
     "metadata": {},
     "output_type": "display_data"
    },
    {
     "data": {
      "text/html": [
       "<pre>| 15200     | 1m 52s        | 2.62754e+06    | 0               |</pre>"
      ],
      "text/plain": [
       "| 15200     | 1m 52s        | 2.62754e+06    | 0               |"
      ]
     },
     "metadata": {},
     "output_type": "display_data"
    },
    {
     "data": {
      "text/html": [
       "<pre>| 15210     | 1m 52s        | 2.50881e+06    | 0               |</pre>"
      ],
      "text/plain": [
       "| 15210     | 1m 52s        | 2.50881e+06    | 0               |"
      ]
     },
     "metadata": {},
     "output_type": "display_data"
    },
    {
     "data": {
      "text/html": [
       "<pre>| 15220     | 1m 52s        | 2.43889e+06    | 0               |</pre>"
      ],
      "text/plain": [
       "| 15220     | 1m 52s        | 2.43889e+06    | 0               |"
      ]
     },
     "metadata": {},
     "output_type": "display_data"
    },
    {
     "data": {
      "text/html": [
       "<pre>| 15230     | 1m 52s        | 2.5814e+06     | 0               |</pre>"
      ],
      "text/plain": [
       "| 15230     | 1m 52s        | 2.5814e+06     | 0               |"
      ]
     },
     "metadata": {},
     "output_type": "display_data"
    },
    {
     "data": {
      "text/html": [
       "<pre>| 15240     | 1m 52s        | 2.54283e+06    | 0               |</pre>"
      ],
      "text/plain": [
       "| 15240     | 1m 52s        | 2.54283e+06    | 0               |"
      ]
     },
     "metadata": {},
     "output_type": "display_data"
    },
    {
     "data": {
      "text/html": [
       "<pre>| 15250     | 1m 52s        | 2.49654e+06    | 0               |</pre>"
      ],
      "text/plain": [
       "| 15250     | 1m 52s        | 2.49654e+06    | 0               |"
      ]
     },
     "metadata": {},
     "output_type": "display_data"
    },
    {
     "data": {
      "text/html": [
       "<pre>| 15260     | 1m 52s        | 2.45846e+06    | 0               |</pre>"
      ],
      "text/plain": [
       "| 15260     | 1m 52s        | 2.45846e+06    | 0               |"
      ]
     },
     "metadata": {},
     "output_type": "display_data"
    },
    {
     "data": {
      "text/html": [
       "<pre>| 15270     | 1m 52s        | 2.48607e+06    | 0               |</pre>"
      ],
      "text/plain": [
       "| 15270     | 1m 52s        | 2.48607e+06    | 0               |"
      ]
     },
     "metadata": {},
     "output_type": "display_data"
    },
    {
     "data": {
      "text/html": [
       "<pre>| 15280     | 1m 52s        | 2.54705e+06    | 0               |</pre>"
      ],
      "text/plain": [
       "| 15280     | 1m 52s        | 2.54705e+06    | 0               |"
      ]
     },
     "metadata": {},
     "output_type": "display_data"
    },
    {
     "data": {
      "text/html": [
       "<pre>| 15290     | 1m 53s        | 2.39035e+06    | 0               |</pre>"
      ],
      "text/plain": [
       "| 15290     | 1m 53s        | 2.39035e+06    | 0               |"
      ]
     },
     "metadata": {},
     "output_type": "display_data"
    },
    {
     "data": {
      "text/html": [
       "<pre>| 15300     | 1m 53s        | 2.46208e+06    | 0               |</pre>"
      ],
      "text/plain": [
       "| 15300     | 1m 53s        | 2.46208e+06    | 0               |"
      ]
     },
     "metadata": {},
     "output_type": "display_data"
    },
    {
     "data": {
      "text/html": [
       "<pre>| 15310     | 1m 53s        | 2.46307e+06    | 0               |</pre>"
      ],
      "text/plain": [
       "| 15310     | 1m 53s        | 2.46307e+06    | 0               |"
      ]
     },
     "metadata": {},
     "output_type": "display_data"
    },
    {
     "data": {
      "text/html": [
       "<pre>| 15320     | 1m 53s        | 2.52674e+06    | 0               |</pre>"
      ],
      "text/plain": [
       "| 15320     | 1m 53s        | 2.52674e+06    | 0               |"
      ]
     },
     "metadata": {},
     "output_type": "display_data"
    },
    {
     "data": {
      "text/html": [
       "<pre>| 15330     | 1m 53s        | 2.58467e+06    | 0               |</pre>"
      ],
      "text/plain": [
       "| 15330     | 1m 53s        | 2.58467e+06    | 0               |"
      ]
     },
     "metadata": {},
     "output_type": "display_data"
    },
    {
     "data": {
      "text/html": [
       "<pre>| 15340     | 1m 53s        | 3.07822e+06    | 0               |</pre>"
      ],
      "text/plain": [
       "| 15340     | 1m 53s        | 3.07822e+06    | 0               |"
      ]
     },
     "metadata": {},
     "output_type": "display_data"
    },
    {
     "data": {
      "text/html": [
       "<pre>| 15350     | 1m 53s        | 2.50641e+06    | 0               |</pre>"
      ],
      "text/plain": [
       "| 15350     | 1m 53s        | 2.50641e+06    | 0               |"
      ]
     },
     "metadata": {},
     "output_type": "display_data"
    },
    {
     "data": {
      "text/html": [
       "<pre>| 15360     | 1m 53s        | 2.35361e+06    | 0               |</pre>"
      ],
      "text/plain": [
       "| 15360     | 1m 53s        | 2.35361e+06    | 0               |"
      ]
     },
     "metadata": {},
     "output_type": "display_data"
    },
    {
     "data": {
      "text/html": [
       "<pre>| 15370     | 1m 53s        | 2.62229e+06    | 0               |</pre>"
      ],
      "text/plain": [
       "| 15370     | 1m 53s        | 2.62229e+06    | 0               |"
      ]
     },
     "metadata": {},
     "output_type": "display_data"
    },
    {
     "data": {
      "text/html": [
       "<pre>| 15380     | 1m 53s        | 2.57887e+06    | 0               |</pre>"
      ],
      "text/plain": [
       "| 15380     | 1m 53s        | 2.57887e+06    | 0               |"
      ]
     },
     "metadata": {},
     "output_type": "display_data"
    },
    {
     "data": {
      "text/html": [
       "<pre>| 15390     | 1m 53s        | 3.37007e+06    | 0               |</pre>"
      ],
      "text/plain": [
       "| 15390     | 1m 53s        | 3.37007e+06    | 0               |"
      ]
     },
     "metadata": {},
     "output_type": "display_data"
    },
    {
     "data": {
      "text/html": [
       "<pre>| 15400     | 1m 53s        | 2.49416e+06    | 0               |</pre>"
      ],
      "text/plain": [
       "| 15400     | 1m 53s        | 2.49416e+06    | 0               |"
      ]
     },
     "metadata": {},
     "output_type": "display_data"
    },
    {
     "data": {
      "text/html": [
       "<pre>| 15410     | 1m 53s        | 2.62042e+06    | 0               |</pre>"
      ],
      "text/plain": [
       "| 15410     | 1m 53s        | 2.62042e+06    | 0               |"
      ]
     },
     "metadata": {},
     "output_type": "display_data"
    },
    {
     "data": {
      "text/html": [
       "<pre>| 15420     | 1m 54s        | 2.53301e+06    | 0               |</pre>"
      ],
      "text/plain": [
       "| 15420     | 1m 54s        | 2.53301e+06    | 0               |"
      ]
     },
     "metadata": {},
     "output_type": "display_data"
    },
    {
     "data": {
      "text/html": [
       "<pre>| 15430     | 1m 54s        | 1.60793e+06    | 0               |</pre>"
      ],
      "text/plain": [
       "| 15430     | 1m 54s        | 1.60793e+06    | 0               |"
      ]
     },
     "metadata": {},
     "output_type": "display_data"
    },
    {
     "data": {
      "text/html": [
       "<pre>| 15440     | 1m 54s        | 2.64341e+06    | 0               |</pre>"
      ],
      "text/plain": [
       "| 15440     | 1m 54s        | 2.64341e+06    | 0               |"
      ]
     },
     "metadata": {},
     "output_type": "display_data"
    },
    {
     "data": {
      "text/html": [
       "<pre>| 15450     | 1m 54s        | 2.50846e+06    | 0               |</pre>"
      ],
      "text/plain": [
       "| 15450     | 1m 54s        | 2.50846e+06    | 0               |"
      ]
     },
     "metadata": {},
     "output_type": "display_data"
    },
    {
     "data": {
      "text/html": [
       "<pre>| 15460     | 1m 54s        | 2.52258e+06    | 0               |</pre>"
      ],
      "text/plain": [
       "| 15460     | 1m 54s        | 2.52258e+06    | 0               |"
      ]
     },
     "metadata": {},
     "output_type": "display_data"
    },
    {
     "data": {
      "text/html": [
       "<pre>| 15470     | 1m 54s        | 2.38291e+06    | 0               |</pre>"
      ],
      "text/plain": [
       "| 15470     | 1m 54s        | 2.38291e+06    | 0               |"
      ]
     },
     "metadata": {},
     "output_type": "display_data"
    },
    {
     "data": {
      "text/html": [
       "<pre>| 15480     | 1m 54s        | 2.53616e+06    | 0               |</pre>"
      ],
      "text/plain": [
       "| 15480     | 1m 54s        | 2.53616e+06    | 0               |"
      ]
     },
     "metadata": {},
     "output_type": "display_data"
    },
    {
     "data": {
      "text/html": [
       "<pre>| 15490     | 1m 54s        | 2.36786e+06    | 0               |</pre>"
      ],
      "text/plain": [
       "| 15490     | 1m 54s        | 2.36786e+06    | 0               |"
      ]
     },
     "metadata": {},
     "output_type": "display_data"
    },
    {
     "data": {
      "text/html": [
       "<pre>| 15500     | 1m 54s        | 2.56805e+06    | 0               |</pre>"
      ],
      "text/plain": [
       "| 15500     | 1m 54s        | 2.56805e+06    | 0               |"
      ]
     },
     "metadata": {},
     "output_type": "display_data"
    },
    {
     "data": {
      "text/html": [
       "<pre>| 15510     | 1m 54s        | 2.48439e+06    | 0               |</pre>"
      ],
      "text/plain": [
       "| 15510     | 1m 54s        | 2.48439e+06    | 0               |"
      ]
     },
     "metadata": {},
     "output_type": "display_data"
    },
    {
     "data": {
      "text/html": [
       "<pre>| 15520     | 1m 54s        | 2.40978e+06    | 0               |</pre>"
      ],
      "text/plain": [
       "| 15520     | 1m 54s        | 2.40978e+06    | 0               |"
      ]
     },
     "metadata": {},
     "output_type": "display_data"
    },
    {
     "data": {
      "text/html": [
       "<pre>| 15530     | 1m 54s        | 2.56376e+06    | 0               |</pre>"
      ],
      "text/plain": [
       "| 15530     | 1m 54s        | 2.56376e+06    | 0               |"
      ]
     },
     "metadata": {},
     "output_type": "display_data"
    },
    {
     "data": {
      "text/html": [
       "<pre>| 15540     | 1m 54s        | 2.54882e+06    | 0               |</pre>"
      ],
      "text/plain": [
       "| 15540     | 1m 54s        | 2.54882e+06    | 0               |"
      ]
     },
     "metadata": {},
     "output_type": "display_data"
    },
    {
     "data": {
      "text/html": [
       "<pre>| 15550     | 1m 55s        | 2.55698e+06    | 0               |</pre>"
      ],
      "text/plain": [
       "| 15550     | 1m 55s        | 2.55698e+06    | 0               |"
      ]
     },
     "metadata": {},
     "output_type": "display_data"
    },
    {
     "data": {
      "text/html": [
       "<pre>| 15560     | 1m 55s        | 2.4864e+06     | 0               |</pre>"
      ],
      "text/plain": [
       "| 15560     | 1m 55s        | 2.4864e+06     | 0               |"
      ]
     },
     "metadata": {},
     "output_type": "display_data"
    },
    {
     "data": {
      "text/html": [
       "<pre>| 15570     | 1m 55s        | 2.41485e+06    | 0               |</pre>"
      ],
      "text/plain": [
       "| 15570     | 1m 55s        | 2.41485e+06    | 0               |"
      ]
     },
     "metadata": {},
     "output_type": "display_data"
    },
    {
     "data": {
      "text/html": [
       "<pre>| 15580     | 1m 55s        | 2.58867e+06    | 0               |</pre>"
      ],
      "text/plain": [
       "| 15580     | 1m 55s        | 2.58867e+06    | 0               |"
      ]
     },
     "metadata": {},
     "output_type": "display_data"
    },
    {
     "data": {
      "text/html": [
       "<pre>| 15590     | 1m 55s        | 2.49891e+06    | 0               |</pre>"
      ],
      "text/plain": [
       "| 15590     | 1m 55s        | 2.49891e+06    | 0               |"
      ]
     },
     "metadata": {},
     "output_type": "display_data"
    },
    {
     "data": {
      "text/html": [
       "<pre>| 15600     | 1m 55s        | 2.56698e+06    | 0               |</pre>"
      ],
      "text/plain": [
       "| 15600     | 1m 55s        | 2.56698e+06    | 0               |"
      ]
     },
     "metadata": {},
     "output_type": "display_data"
    },
    {
     "data": {
      "text/html": [
       "<pre>| 15610     | 1m 55s        | 2.62379e+06    | 0               |</pre>"
      ],
      "text/plain": [
       "| 15610     | 1m 55s        | 2.62379e+06    | 0               |"
      ]
     },
     "metadata": {},
     "output_type": "display_data"
    },
    {
     "data": {
      "text/html": [
       "<pre>| 15620     | 1m 55s        | 3.08235e+06    | 0               |</pre>"
      ],
      "text/plain": [
       "| 15620     | 1m 55s        | 3.08235e+06    | 0               |"
      ]
     },
     "metadata": {},
     "output_type": "display_data"
    },
    {
     "data": {
      "text/html": [
       "<pre>| 15630     | 1m 55s        | 2.57093e+06    | 0               |</pre>"
      ],
      "text/plain": [
       "| 15630     | 1m 55s        | 2.57093e+06    | 0               |"
      ]
     },
     "metadata": {},
     "output_type": "display_data"
    },
    {
     "data": {
      "text/html": [
       "<pre>| 15640     | 1m 55s        | 2.38848e+06    | 0               |</pre>"
      ],
      "text/plain": [
       "| 15640     | 1m 55s        | 2.38848e+06    | 0               |"
      ]
     },
     "metadata": {},
     "output_type": "display_data"
    },
    {
     "data": {
      "text/html": [
       "<pre>| 15650     | 1m 55s        | 2.5174e+06     | 0               |</pre>"
      ],
      "text/plain": [
       "| 15650     | 1m 55s        | 2.5174e+06     | 0               |"
      ]
     },
     "metadata": {},
     "output_type": "display_data"
    },
    {
     "data": {
      "text/html": [
       "<pre>| 15660     | 1m 55s        | 2.16684e+06    | 0               |</pre>"
      ],
      "text/plain": [
       "| 15660     | 1m 55s        | 2.16684e+06    | 0               |"
      ]
     },
     "metadata": {},
     "output_type": "display_data"
    },
    {
     "data": {
      "text/html": [
       "<pre>| 15670     | 1m 55s        | 2.48271e+06    | 0               |</pre>"
      ],
      "text/plain": [
       "| 15670     | 1m 55s        | 2.48271e+06    | 0               |"
      ]
     },
     "metadata": {},
     "output_type": "display_data"
    },
    {
     "data": {
      "text/html": [
       "<pre>| 15680     | 1m 55s        | 2.46407e+06    | 0               |</pre>"
      ],
      "text/plain": [
       "| 15680     | 1m 55s        | 2.46407e+06    | 0               |"
      ]
     },
     "metadata": {},
     "output_type": "display_data"
    },
    {
     "data": {
      "text/html": [
       "<pre>| 15690     | 1m 56s        | 2.59782e+06    | 0               |</pre>"
      ],
      "text/plain": [
       "| 15690     | 1m 56s        | 2.59782e+06    | 0               |"
      ]
     },
     "metadata": {},
     "output_type": "display_data"
    },
    {
     "data": {
      "text/html": [
       "<pre>| 15700     | 1m 56s        | 2.33804e+06    | 0               |</pre>"
      ],
      "text/plain": [
       "| 15700     | 1m 56s        | 2.33804e+06    | 0               |"
      ]
     },
     "metadata": {},
     "output_type": "display_data"
    },
    {
     "data": {
      "text/html": [
       "<pre>| 15710     | 1m 56s        | 2.50368e+06    | 0               |</pre>"
      ],
      "text/plain": [
       "| 15710     | 1m 56s        | 2.50368e+06    | 0               |"
      ]
     },
     "metadata": {},
     "output_type": "display_data"
    },
    {
     "data": {
      "text/html": [
       "<pre>| 15720     | 1m 56s        | 2.51981e+06    | 0               |</pre>"
      ],
      "text/plain": [
       "| 15720     | 1m 56s        | 2.51981e+06    | 0               |"
      ]
     },
     "metadata": {},
     "output_type": "display_data"
    },
    {
     "data": {
      "text/html": [
       "<pre>| 15730     | 1m 56s        | 2.41105e+06    | 0               |</pre>"
      ],
      "text/plain": [
       "| 15730     | 1m 56s        | 2.41105e+06    | 0               |"
      ]
     },
     "metadata": {},
     "output_type": "display_data"
    },
    {
     "data": {
      "text/html": [
       "<pre>| 15740     | 1m 56s        | 2.60741e+06    | 0               |</pre>"
      ],
      "text/plain": [
       "| 15740     | 1m 56s        | 2.60741e+06    | 0               |"
      ]
     },
     "metadata": {},
     "output_type": "display_data"
    },
    {
     "data": {
      "text/html": [
       "<pre>| 15750     | 1m 56s        | 2.58285e+06    | 0               |</pre>"
      ],
      "text/plain": [
       "| 15750     | 1m 56s        | 2.58285e+06    | 0               |"
      ]
     },
     "metadata": {},
     "output_type": "display_data"
    },
    {
     "data": {
      "text/html": [
       "<pre>| 15760     | 1m 56s        | 2.45715e+06    | 0               |</pre>"
      ],
      "text/plain": [
       "| 15760     | 1m 56s        | 2.45715e+06    | 0               |"
      ]
     },
     "metadata": {},
     "output_type": "display_data"
    },
    {
     "data": {
      "text/html": [
       "<pre>| 15770     | 1m 56s        | 2.62566e+06    | 0               |</pre>"
      ],
      "text/plain": [
       "| 15770     | 1m 56s        | 2.62566e+06    | 0               |"
      ]
     },
     "metadata": {},
     "output_type": "display_data"
    },
    {
     "data": {
      "text/html": [
       "<pre>| 15780     | 1m 56s        | 2.51155e+06    | 0               |</pre>"
      ],
      "text/plain": [
       "| 15780     | 1m 56s        | 2.51155e+06    | 0               |"
      ]
     },
     "metadata": {},
     "output_type": "display_data"
    },
    {
     "data": {
      "text/html": [
       "<pre>| 15790     | 1m 56s        | 2.62304e+06    | 0               |</pre>"
      ],
      "text/plain": [
       "| 15790     | 1m 56s        | 2.62304e+06    | 0               |"
      ]
     },
     "metadata": {},
     "output_type": "display_data"
    },
    {
     "data": {
      "text/html": [
       "<pre>| 15800     | 1m 56s        | 2.66218e+06    | 0               |</pre>"
      ],
      "text/plain": [
       "| 15800     | 1m 56s        | 2.66218e+06    | 0               |"
      ]
     },
     "metadata": {},
     "output_type": "display_data"
    },
    {
     "data": {
      "text/html": [
       "<pre>| 15810     | 1m 56s        | 2.57887e+06    | 0               |</pre>"
      ],
      "text/plain": [
       "| 15810     | 1m 56s        | 2.57887e+06    | 0               |"
      ]
     },
     "metadata": {},
     "output_type": "display_data"
    },
    {
     "data": {
      "text/html": [
       "<pre>| 15820     | 1m 57s        | 2.5584e+06     | 0               |</pre>"
      ],
      "text/plain": [
       "| 15820     | 1m 57s        | 2.5584e+06     | 0               |"
      ]
     },
     "metadata": {},
     "output_type": "display_data"
    },
    {
     "data": {
      "text/html": [
       "<pre>| 15830     | 1m 57s        | 2.41962e+06    | 0               |</pre>"
      ],
      "text/plain": [
       "| 15830     | 1m 57s        | 2.41962e+06    | 0               |"
      ]
     },
     "metadata": {},
     "output_type": "display_data"
    },
    {
     "data": {
      "text/html": [
       "<pre>| 15840     | 1m 57s        | 2.6004e+06     | 0               |</pre>"
      ],
      "text/plain": [
       "| 15840     | 1m 57s        | 2.6004e+06     | 0               |"
      ]
     },
     "metadata": {},
     "output_type": "display_data"
    },
    {
     "data": {
      "text/html": [
       "<pre>| 15850     | 1m 57s        | 2.53231e+06    | 0               |</pre>"
      ],
      "text/plain": [
       "| 15850     | 1m 57s        | 2.53231e+06    | 0               |"
      ]
     },
     "metadata": {},
     "output_type": "display_data"
    },
    {
     "data": {
      "text/html": [
       "<pre>| 15860     | 1m 57s        | 2.41548e+06    | 0               |</pre>"
      ],
      "text/plain": [
       "| 15860     | 1m 57s        | 2.41548e+06    | 0               |"
      ]
     },
     "metadata": {},
     "output_type": "display_data"
    },
    {
     "data": {
      "text/html": [
       "<pre>| 15870     | 1m 57s        | 2.49959e+06    | 0               |</pre>"
      ],
      "text/plain": [
       "| 15870     | 1m 57s        | 2.49959e+06    | 0               |"
      ]
     },
     "metadata": {},
     "output_type": "display_data"
    },
    {
     "data": {
      "text/html": [
       "<pre>| 15880     | 1m 57s        | 2.43468e+06    | 0               |</pre>"
      ],
      "text/plain": [
       "| 15880     | 1m 57s        | 2.43468e+06    | 0               |"
      ]
     },
     "metadata": {},
     "output_type": "display_data"
    },
    {
     "data": {
      "text/html": [
       "<pre>| 15890     | 1m 57s        | 2.53966e+06    | 0               |</pre>"
      ],
      "text/plain": [
       "| 15890     | 1m 57s        | 2.53966e+06    | 0               |"
      ]
     },
     "metadata": {},
     "output_type": "display_data"
    },
    {
     "data": {
      "text/html": [
       "<pre>| 15900     | 1m 57s        | 2.50266e+06    | 0               |</pre>"
      ],
      "text/plain": [
       "| 15900     | 1m 57s        | 2.50266e+06    | 0               |"
      ]
     },
     "metadata": {},
     "output_type": "display_data"
    },
    {
     "data": {
      "text/html": [
       "<pre>| 15910     | 1m 57s        | 2.55733e+06    | 0               |</pre>"
      ],
      "text/plain": [
       "| 15910     | 1m 57s        | 2.55733e+06    | 0               |"
      ]
     },
     "metadata": {},
     "output_type": "display_data"
    },
    {
     "data": {
      "text/html": [
       "<pre>| 15920     | 1m 57s        | 2.55911e+06    | 0               |</pre>"
      ],
      "text/plain": [
       "| 15920     | 1m 57s        | 2.55911e+06    | 0               |"
      ]
     },
     "metadata": {},
     "output_type": "display_data"
    },
    {
     "data": {
      "text/html": [
       "<pre>| 15930     | 1m 57s        | 2.54988e+06    | 0               |</pre>"
      ],
      "text/plain": [
       "| 15930     | 1m 57s        | 2.54988e+06    | 0               |"
      ]
     },
     "metadata": {},
     "output_type": "display_data"
    },
    {
     "data": {
      "text/html": [
       "<pre>| 15940     | 1m 57s        | 2.48607e+06    | 0               |</pre>"
      ],
      "text/plain": [
       "| 15940     | 1m 57s        | 2.48607e+06    | 0               |"
      ]
     },
     "metadata": {},
     "output_type": "display_data"
    },
    {
     "data": {
      "text/html": [
       "<pre>| 15950     | 1m 58s        | 2.59562e+06    | 0               |</pre>"
      ],
      "text/plain": [
       "| 15950     | 1m 58s        | 2.59562e+06    | 0               |"
      ]
     },
     "metadata": {},
     "output_type": "display_data"
    },
    {
     "data": {
      "text/html": [
       "<pre>| 15960     | 1m 58s        | 2.58394e+06    | 0               |</pre>"
      ],
      "text/plain": [
       "| 15960     | 1m 58s        | 2.58394e+06    | 0               |"
      ]
     },
     "metadata": {},
     "output_type": "display_data"
    },
    {
     "data": {
      "text/html": [
       "<pre>| 15970     | 1m 58s        | 2.49959e+06    | 0               |</pre>"
      ],
      "text/plain": [
       "| 15970     | 1m 58s        | 2.49959e+06    | 0               |"
      ]
     },
     "metadata": {},
     "output_type": "display_data"
    },
    {
     "data": {
      "text/html": [
       "<pre>| 15980     | 1m 58s        | 2.30577e+06    | 0               |</pre>"
      ],
      "text/plain": [
       "| 15980     | 1m 58s        | 2.30577e+06    | 0               |"
      ]
     },
     "metadata": {},
     "output_type": "display_data"
    },
    {
     "data": {
      "text/html": [
       "<pre>| 15990     | 1m 58s        | 2.546e+06      | 0               |</pre>"
      ],
      "text/plain": [
       "| 15990     | 1m 58s        | 2.546e+06      | 0               |"
      ]
     },
     "metadata": {},
     "output_type": "display_data"
    },
    {
     "data": {
      "text/html": [
       "<pre>| 16000     | 1m 58s        | 2.53756e+06    | 0               |</pre>"
      ],
      "text/plain": [
       "| 16000     | 1m 58s        | 2.53756e+06    | 0               |"
      ]
     },
     "metadata": {},
     "output_type": "display_data"
    },
    {
     "data": {
      "text/html": [
       "<pre>| 16010     | 1m 58s        | 2.38538e+06    | 0               |</pre>"
      ],
      "text/plain": [
       "| 16010     | 1m 58s        | 2.38538e+06    | 0               |"
      ]
     },
     "metadata": {},
     "output_type": "display_data"
    },
    {
     "data": {
      "text/html": [
       "<pre>| 16020     | 1m 58s        | 2.57597e+06    | 0               |</pre>"
      ],
      "text/plain": [
       "| 16020     | 1m 58s        | 2.57597e+06    | 0               |"
      ]
     },
     "metadata": {},
     "output_type": "display_data"
    },
    {
     "data": {
      "text/html": [
       "<pre>| 16030     | 1m 58s        | 2.94692e+06    | 0               |</pre>"
      ],
      "text/plain": [
       "| 16030     | 1m 58s        | 2.94692e+06    | 0               |"
      ]
     },
     "metadata": {},
     "output_type": "display_data"
    },
    {
     "data": {
      "text/html": [
       "<pre>| 16040     | 1m 58s        | 3.86966e+06    | 0               |</pre>"
      ],
      "text/plain": [
       "| 16040     | 1m 58s        | 3.86966e+06    | 0               |"
      ]
     },
     "metadata": {},
     "output_type": "display_data"
    },
    {
     "data": {
      "text/html": [
       "<pre>| 16050     | 1m 58s        | 2.47269e+06    | 0               |</pre>"
      ],
      "text/plain": [
       "| 16050     | 1m 58s        | 2.47269e+06    | 0               |"
      ]
     },
     "metadata": {},
     "output_type": "display_data"
    },
    {
     "data": {
      "text/html": [
       "<pre>| 16060     | 1m 58s        | 2.48607e+06    | 0               |</pre>"
      ],
      "text/plain": [
       "| 16060     | 1m 58s        | 2.48607e+06    | 0               |"
      ]
     },
     "metadata": {},
     "output_type": "display_data"
    },
    {
     "data": {
      "text/html": [
       "<pre>| 16070     | 1m 58s        | 2.53861e+06    | 0               |</pre>"
      ],
      "text/plain": [
       "| 16070     | 1m 58s        | 2.53861e+06    | 0               |"
      ]
     },
     "metadata": {},
     "output_type": "display_data"
    },
    {
     "data": {
      "text/html": [
       "<pre>| 16080     | 1m 58s        | 2.59379e+06    | 0               |</pre>"
      ],
      "text/plain": [
       "| 16080     | 1m 58s        | 2.59379e+06    | 0               |"
      ]
     },
     "metadata": {},
     "output_type": "display_data"
    },
    {
     "data": {
      "text/html": [
       "<pre>| 16090     | 1m 59s        | 2.49416e+06    | 0               |</pre>"
      ],
      "text/plain": [
       "| 16090     | 1m 59s        | 2.49416e+06    | 0               |"
      ]
     },
     "metadata": {},
     "output_type": "display_data"
    },
    {
     "data": {
      "text/html": [
       "<pre>| 16100     | 1m 59s        | 2.59416e+06    | 0               |</pre>"
      ],
      "text/plain": [
       "| 16100     | 1m 59s        | 2.59416e+06    | 0               |"
      ]
     },
     "metadata": {},
     "output_type": "display_data"
    },
    {
     "data": {
      "text/html": [
       "<pre>| 16110     | 1m 59s        | 2.50504e+06    | 0               |</pre>"
      ],
      "text/plain": [
       "| 16110     | 1m 59s        | 2.50504e+06    | 0               |"
      ]
     },
     "metadata": {},
     "output_type": "display_data"
    },
    {
     "data": {
      "text/html": [
       "<pre>| 16120     | 1m 59s        | 2.4305e+06     | 0               |</pre>"
      ],
      "text/plain": [
       "| 16120     | 1m 59s        | 2.4305e+06     | 0               |"
      ]
     },
     "metadata": {},
     "output_type": "display_data"
    },
    {
     "data": {
      "text/html": [
       "<pre>| 16130     | 1m 59s        | 2.45485e+06    | 0               |</pre>"
      ],
      "text/plain": [
       "| 16130     | 1m 59s        | 2.45485e+06    | 0               |"
      ]
     },
     "metadata": {},
     "output_type": "display_data"
    },
    {
     "data": {
      "text/html": [
       "<pre>| 16140     | 1m 59s        | 2.58685e+06    | 0               |</pre>"
      ],
      "text/plain": [
       "| 16140     | 1m 59s        | 2.58685e+06    | 0               |"
      ]
     },
     "metadata": {},
     "output_type": "display_data"
    },
    {
     "data": {
      "text/html": [
       "<pre>| 16150     | 1m 59s        | 2.45616e+06    | 0               |</pre>"
      ],
      "text/plain": [
       "| 16150     | 1m 59s        | 2.45616e+06    | 0               |"
      ]
     },
     "metadata": {},
     "output_type": "display_data"
    },
    {
     "data": {
      "text/html": [
       "<pre>| 16160     | 1m 59s        | 2.50129e+06    | 0               |</pre>"
      ],
      "text/plain": [
       "| 16160     | 1m 59s        | 2.50129e+06    | 0               |"
      ]
     },
     "metadata": {},
     "output_type": "display_data"
    },
    {
     "data": {
      "text/html": [
       "<pre>| 16170     | 1m 59s        | 2.60003e+06    | 0               |</pre>"
      ],
      "text/plain": [
       "| 16170     | 1m 59s        | 2.60003e+06    | 0               |"
      ]
     },
     "metadata": {},
     "output_type": "display_data"
    },
    {
     "data": {
      "text/html": [
       "<pre>| 16180     | 1m 59s        | 2.58249e+06    | 0               |</pre>"
      ],
      "text/plain": [
       "| 16180     | 1m 59s        | 2.58249e+06    | 0               |"
      ]
     },
     "metadata": {},
     "output_type": "display_data"
    },
    {
     "data": {
      "text/html": [
       "<pre>| 16190     | 1m 59s        | 2.57778e+06    | 0               |</pre>"
      ],
      "text/plain": [
       "| 16190     | 1m 59s        | 2.57778e+06    | 0               |"
      ]
     },
     "metadata": {},
     "output_type": "display_data"
    },
    {
     "data": {
      "text/html": [
       "<pre>| 16200     | 1m 59s        | 2.58722e+06    | 0               |</pre>"
      ],
      "text/plain": [
       "| 16200     | 1m 59s        | 2.58722e+06    | 0               |"
      ]
     },
     "metadata": {},
     "output_type": "display_data"
    },
    {
     "data": {
      "text/html": [
       "<pre>| 16210     | 1m 59s        | 2.55983e+06    | 0               |</pre>"
      ],
      "text/plain": [
       "| 16210     | 1m 59s        | 2.55983e+06    | 0               |"
      ]
     },
     "metadata": {},
     "output_type": "display_data"
    },
    {
     "data": {
      "text/html": [
       "<pre>| 16220     | 2m 0s         | 2.47735e+06    | 0               |</pre>"
      ],
      "text/plain": [
       "| 16220     | 2m 0s         | 2.47735e+06    | 0               |"
      ]
     },
     "metadata": {},
     "output_type": "display_data"
    },
    {
     "data": {
      "text/html": [
       "<pre>| 16230     | 2m 0s         | 2.57237e+06    | 0               |</pre>"
      ],
      "text/plain": [
       "| 16230     | 2m 0s         | 2.57237e+06    | 0               |"
      ]
     },
     "metadata": {},
     "output_type": "display_data"
    },
    {
     "data": {
      "text/html": [
       "<pre>| 16240     | 2m 0s         | 2.51361e+06    | 0               |</pre>"
      ],
      "text/plain": [
       "| 16240     | 2m 0s         | 2.51361e+06    | 0               |"
      ]
     },
     "metadata": {},
     "output_type": "display_data"
    },
    {
     "data": {
      "text/html": [
       "<pre>| 16250     | 2m 0s         | 2.46638e+06    | 0               |</pre>"
      ],
      "text/plain": [
       "| 16250     | 2m 0s         | 2.46638e+06    | 0               |"
      ]
     },
     "metadata": {},
     "output_type": "display_data"
    },
    {
     "data": {
      "text/html": [
       "<pre>| 16260     | 2m 0s         | 2.52501e+06    | 0               |</pre>"
      ],
      "text/plain": [
       "| 16260     | 2m 0s         | 2.52501e+06    | 0               |"
      ]
     },
     "metadata": {},
     "output_type": "display_data"
    },
    {
     "data": {
      "text/html": [
       "<pre>| 16270     | 2m 0s         | 2.56698e+06    | 0               |</pre>"
      ],
      "text/plain": [
       "| 16270     | 2m 0s         | 2.56698e+06    | 0               |"
      ]
     },
     "metadata": {},
     "output_type": "display_data"
    },
    {
     "data": {
      "text/html": [
       "<pre>| 16280     | 2m 0s         | 2.30346e+06    | 0               |</pre>"
      ],
      "text/plain": [
       "| 16280     | 2m 0s         | 2.30346e+06    | 0               |"
      ]
     },
     "metadata": {},
     "output_type": "display_data"
    },
    {
     "data": {
      "text/html": [
       "<pre>| 16290     | 2m 0s         | 2.46671e+06    | 0               |</pre>"
      ],
      "text/plain": [
       "| 16290     | 2m 0s         | 2.46671e+06    | 0               |"
      ]
     },
     "metadata": {},
     "output_type": "display_data"
    },
    {
     "data": {
      "text/html": [
       "<pre>| 16300     | 2m 0s         | 2.44635e+06    | 0               |</pre>"
      ],
      "text/plain": [
       "| 16300     | 2m 0s         | 2.44635e+06    | 0               |"
      ]
     },
     "metadata": {},
     "output_type": "display_data"
    },
    {
     "data": {
      "text/html": [
       "<pre>| 16310     | 2m 0s         | 2.62005e+06    | 0               |</pre>"
      ],
      "text/plain": [
       "| 16310     | 2m 0s         | 2.62005e+06    | 0               |"
      ]
     },
     "metadata": {},
     "output_type": "display_data"
    },
    {
     "data": {
      "text/html": [
       "<pre>| 16320     | 2m 0s         | 2.67613e+06    | 0               |</pre>"
      ],
      "text/plain": [
       "| 16320     | 2m 0s         | 2.67613e+06    | 0               |"
      ]
     },
     "metadata": {},
     "output_type": "display_data"
    },
    {
     "data": {
      "text/html": [
       "<pre>| 16330     | 2m 0s         | 2.54494e+06    | 0               |</pre>"
      ],
      "text/plain": [
       "| 16330     | 2m 0s         | 2.54494e+06    | 0               |"
      ]
     },
     "metadata": {},
     "output_type": "display_data"
    },
    {
     "data": {
      "text/html": [
       "<pre>| 16340     | 2m 0s         | 2.56519e+06    | 0               |</pre>"
      ],
      "text/plain": [
       "| 16340     | 2m 0s         | 2.56519e+06    | 0               |"
      ]
     },
     "metadata": {},
     "output_type": "display_data"
    },
    {
     "data": {
      "text/html": [
       "<pre>| 16350     | 2m 0s         | 2.63621e+06    | 0               |</pre>"
      ],
      "text/plain": [
       "| 16350     | 2m 0s         | 2.63621e+06    | 0               |"
      ]
     },
     "metadata": {},
     "output_type": "display_data"
    },
    {
     "data": {
      "text/html": [
       "<pre>| 16360     | 2m 1s         | 2.56555e+06    | 0               |</pre>"
      ],
      "text/plain": [
       "| 16360     | 2m 1s         | 2.56555e+06    | 0               |"
      ]
     },
     "metadata": {},
     "output_type": "display_data"
    },
    {
     "data": {
      "text/html": [
       "<pre>| 16370     | 2m 1s         | 2.45912e+06    | 0               |</pre>"
      ],
      "text/plain": [
       "| 16370     | 2m 1s         | 2.45912e+06    | 0               |"
      ]
     },
     "metadata": {},
     "output_type": "display_data"
    },
    {
     "data": {
      "text/html": [
       "<pre>| 16380     | 2m 1s         | 2.4431e+06     | 0               |</pre>"
      ],
      "text/plain": [
       "| 16380     | 2m 1s         | 2.4431e+06     | 0               |"
      ]
     },
     "metadata": {},
     "output_type": "display_data"
    },
    {
     "data": {
      "text/html": [
       "<pre>| 16390     | 2m 1s         | 2.42121e+06    | 0               |</pre>"
      ],
      "text/plain": [
       "| 16390     | 2m 1s         | 2.42121e+06    | 0               |"
      ]
     },
     "metadata": {},
     "output_type": "display_data"
    },
    {
     "data": {
      "text/html": [
       "<pre>| 16400     | 2m 1s         | 2.63507e+06    | 0               |</pre>"
      ],
      "text/plain": [
       "| 16400     | 2m 1s         | 2.63507e+06    | 0               |"
      ]
     },
     "metadata": {},
     "output_type": "display_data"
    },
    {
     "data": {
      "text/html": [
       "<pre>| 16410     | 2m 1s         | 2.54847e+06    | 0               |</pre>"
      ],
      "text/plain": [
       "| 16410     | 2m 1s         | 2.54847e+06    | 0               |"
      ]
     },
     "metadata": {},
     "output_type": "display_data"
    },
    {
     "data": {
      "text/html": [
       "<pre>| 16420     | 2m 1s         | 2.63394e+06    | 0               |</pre>"
      ],
      "text/plain": [
       "| 16420     | 2m 1s         | 2.63394e+06    | 0               |"
      ]
     },
     "metadata": {},
     "output_type": "display_data"
    },
    {
     "data": {
      "text/html": [
       "<pre>| 16430     | 2m 1s         | 2.45321e+06    | 0               |</pre>"
      ],
      "text/plain": [
       "| 16430     | 2m 1s         | 2.45321e+06    | 0               |"
      ]
     },
     "metadata": {},
     "output_type": "display_data"
    },
    {
     "data": {
      "text/html": [
       "<pre>| 16440     | 2m 1s         | 2.56519e+06    | 0               |</pre>"
      ],
      "text/plain": [
       "| 16440     | 2m 1s         | 2.56519e+06    | 0               |"
      ]
     },
     "metadata": {},
     "output_type": "display_data"
    },
    {
     "data": {
      "text/html": [
       "<pre>| 16450     | 2m 1s         | 2.47969e+06    | 0               |</pre>"
      ],
      "text/plain": [
       "| 16450     | 2m 1s         | 2.47969e+06    | 0               |"
      ]
     },
     "metadata": {},
     "output_type": "display_data"
    },
    {
     "data": {
      "text/html": [
       "<pre>| 16460     | 2m 1s         | 2.55733e+06    | 0               |</pre>"
      ],
      "text/plain": [
       "| 16460     | 2m 1s         | 2.55733e+06    | 0               |"
      ]
     },
     "metadata": {},
     "output_type": "display_data"
    },
    {
     "data": {
      "text/html": [
       "<pre>| 16470     | 2m 1s         | 2.9156e+06     | 0               |</pre>"
      ],
      "text/plain": [
       "| 16470     | 2m 1s         | 2.9156e+06     | 0               |"
      ]
     },
     "metadata": {},
     "output_type": "display_data"
    },
    {
     "data": {
      "text/html": [
       "<pre>| 16480     | 2m 1s         | 2.46274e+06    | 0               |</pre>"
      ],
      "text/plain": [
       "| 16480     | 2m 1s         | 2.46274e+06    | 0               |"
      ]
     },
     "metadata": {},
     "output_type": "display_data"
    },
    {
     "data": {
      "text/html": [
       "<pre>| 16490     | 2m 2s         | 2.53581e+06    | 0               |</pre>"
      ],
      "text/plain": [
       "| 16490     | 2m 2s         | 2.53581e+06    | 0               |"
      ]
     },
     "metadata": {},
     "output_type": "display_data"
    },
    {
     "data": {
      "text/html": [
       "<pre>| 16500     | 2m 2s         | 2.56841e+06    | 0               |</pre>"
      ],
      "text/plain": [
       "| 16500     | 2m 2s         | 2.56841e+06    | 0               |"
      ]
     },
     "metadata": {},
     "output_type": "display_data"
    },
    {
     "data": {
      "text/html": [
       "<pre>| 16510     | 2m 2s         | 2.56913e+06    | 0               |</pre>"
      ],
      "text/plain": [
       "| 16510     | 2m 2s         | 2.56913e+06    | 0               |"
      ]
     },
     "metadata": {},
     "output_type": "display_data"
    },
    {
     "data": {
      "text/html": [
       "<pre>| 16520     | 2m 2s         | 2.55627e+06    | 0               |</pre>"
      ],
      "text/plain": [
       "| 16520     | 2m 2s         | 2.55627e+06    | 0               |"
      ]
     },
     "metadata": {},
     "output_type": "display_data"
    },
    {
     "data": {
      "text/html": [
       "<pre>| 16530     | 2m 2s         | 2.54177e+06    | 0               |</pre>"
      ],
      "text/plain": [
       "| 16530     | 2m 2s         | 2.54177e+06    | 0               |"
      ]
     },
     "metadata": {},
     "output_type": "display_data"
    },
    {
     "data": {
      "text/html": [
       "<pre>| 16540     | 2m 2s         | 2.61e+06       | 0               |</pre>"
      ],
      "text/plain": [
       "| 16540     | 2m 2s         | 2.61e+06       | 0               |"
      ]
     },
     "metadata": {},
     "output_type": "display_data"
    },
    {
     "data": {
      "text/html": [
       "<pre>| 16550     | 2m 2s         | 2.70887e+06    | 0               |</pre>"
      ],
      "text/plain": [
       "| 16550     | 2m 2s         | 2.70887e+06    | 0               |"
      ]
     },
     "metadata": {},
     "output_type": "display_data"
    },
    {
     "data": {
      "text/html": [
       "<pre>| 16560     | 2m 2s         | 2.24768e+06    | 0               |</pre>"
      ],
      "text/plain": [
       "| 16560     | 2m 2s         | 2.24768e+06    | 0               |"
      ]
     },
     "metadata": {},
     "output_type": "display_data"
    },
    {
     "data": {
      "text/html": [
       "<pre>| 16570     | 2m 2s         | 2.63734e+06    | 0               |</pre>"
      ],
      "text/plain": [
       "| 16570     | 2m 2s         | 2.63734e+06    | 0               |"
      ]
     },
     "metadata": {},
     "output_type": "display_data"
    },
    {
     "data": {
      "text/html": [
       "<pre>| 16580     | 2m 2s         | 2.55947e+06    | 0               |</pre>"
      ],
      "text/plain": [
       "| 16580     | 2m 2s         | 2.55947e+06    | 0               |"
      ]
     },
     "metadata": {},
     "output_type": "display_data"
    },
    {
     "data": {
      "text/html": [
       "<pre>| 16590     | 2m 2s         | 2.52779e+06    | 0               |</pre>"
      ],
      "text/plain": [
       "| 16590     | 2m 2s         | 2.52779e+06    | 0               |"
      ]
     },
     "metadata": {},
     "output_type": "display_data"
    },
    {
     "data": {
      "text/html": [
       "<pre>| 16600     | 2m 2s         | 2.59306e+06    | 0               |</pre>"
      ],
      "text/plain": [
       "| 16600     | 2m 2s         | 2.59306e+06    | 0               |"
      ]
     },
     "metadata": {},
     "output_type": "display_data"
    },
    {
     "data": {
      "text/html": [
       "<pre>| 16610     | 2m 2s         | 2.62341e+06    | 0               |</pre>"
      ],
      "text/plain": [
       "| 16610     | 2m 2s         | 2.62341e+06    | 0               |"
      ]
     },
     "metadata": {},
     "output_type": "display_data"
    },
    {
     "data": {
      "text/html": [
       "<pre>| 16620     | 2m 2s         | 2.46241e+06    | 0               |</pre>"
      ],
      "text/plain": [
       "| 16620     | 2m 2s         | 2.46241e+06    | 0               |"
      ]
     },
     "metadata": {},
     "output_type": "display_data"
    },
    {
     "data": {
      "text/html": [
       "<pre>| 16630     | 2m 3s         | 2.43243e+06    | 0               |</pre>"
      ],
      "text/plain": [
       "| 16630     | 2m 3s         | 2.43243e+06    | 0               |"
      ]
     },
     "metadata": {},
     "output_type": "display_data"
    },
    {
     "data": {
      "text/html": [
       "<pre>| 16640     | 2m 3s         | 2.48338e+06    | 0               |</pre>"
      ],
      "text/plain": [
       "| 16640     | 2m 3s         | 2.48338e+06    | 0               |"
      ]
     },
     "metadata": {},
     "output_type": "display_data"
    },
    {
     "data": {
      "text/html": [
       "<pre>| 16650     | 2m 3s         | 2.47568e+06    | 0               |</pre>"
      ],
      "text/plain": [
       "| 16650     | 2m 3s         | 2.47568e+06    | 0               |"
      ]
     },
     "metadata": {},
     "output_type": "display_data"
    },
    {
     "data": {
      "text/html": [
       "<pre>| 16660     | 2m 3s         | 2.33774e+06    | 0               |</pre>"
      ],
      "text/plain": [
       "| 16660     | 2m 3s         | 2.33774e+06    | 0               |"
      ]
     },
     "metadata": {},
     "output_type": "display_data"
    },
    {
     "data": {
      "text/html": [
       "<pre>| 16670     | 2m 3s         | 2.27861e+06    | 0               |</pre>"
      ],
      "text/plain": [
       "| 16670     | 2m 3s         | 2.27861e+06    | 0               |"
      ]
     },
     "metadata": {},
     "output_type": "display_data"
    },
    {
     "data": {
      "text/html": [
       "<pre>| 16680     | 2m 3s         | 2.42857e+06    | 0               |</pre>"
      ],
      "text/plain": [
       "| 16680     | 2m 3s         | 2.42857e+06    | 0               |"
      ]
     },
     "metadata": {},
     "output_type": "display_data"
    },
    {
     "data": {
      "text/html": [
       "<pre>| 16690     | 2m 3s         | 2.3446e+06     | 0               |</pre>"
      ],
      "text/plain": [
       "| 16690     | 2m 3s         | 2.3446e+06     | 0               |"
      ]
     },
     "metadata": {},
     "output_type": "display_data"
    },
    {
     "data": {
      "text/html": [
       "<pre>| 16700     | 2m 3s         | 2.38322e+06    | 0               |</pre>"
      ],
      "text/plain": [
       "| 16700     | 2m 3s         | 2.38322e+06    | 0               |"
      ]
     },
     "metadata": {},
     "output_type": "display_data"
    },
    {
     "data": {
      "text/html": [
       "<pre>| 16710     | 2m 3s         | 3.84376e+06    | 0               |</pre>"
      ],
      "text/plain": [
       "| 16710     | 2m 3s         | 3.84376e+06    | 0               |"
      ]
     },
     "metadata": {},
     "output_type": "display_data"
    },
    {
     "data": {
      "text/html": [
       "<pre>| 16720     | 2m 3s         | 2.47269e+06    | 0               |</pre>"
      ],
      "text/plain": [
       "| 16720     | 2m 3s         | 2.47269e+06    | 0               |"
      ]
     },
     "metadata": {},
     "output_type": "display_data"
    },
    {
     "data": {
      "text/html": [
       "<pre>| 16730     | 2m 3s         | 2.47769e+06    | 0               |</pre>"
      ],
      "text/plain": [
       "| 16730     | 2m 3s         | 2.47769e+06    | 0               |"
      ]
     },
     "metadata": {},
     "output_type": "display_data"
    },
    {
     "data": {
      "text/html": [
       "<pre>| 16740     | 2m 3s         | 2.47635e+06    | 0               |</pre>"
      ],
      "text/plain": [
       "| 16740     | 2m 3s         | 2.47635e+06    | 0               |"
      ]
     },
     "metadata": {},
     "output_type": "display_data"
    },
    {
     "data": {
      "text/html": [
       "<pre>| 16750     | 2m 3s         | 2.47635e+06    | 0               |</pre>"
      ],
      "text/plain": [
       "| 16750     | 2m 3s         | 2.47635e+06    | 0               |"
      ]
     },
     "metadata": {},
     "output_type": "display_data"
    },
    {
     "data": {
      "text/html": [
       "<pre>| 16760     | 2m 4s         | 2.51843e+06    | 0               |</pre>"
      ],
      "text/plain": [
       "| 16760     | 2m 4s         | 2.51843e+06    | 0               |"
      ]
     },
     "metadata": {},
     "output_type": "display_data"
    },
    {
     "data": {
      "text/html": [
       "<pre>| 16770     | 2m 4s         | 2.57814e+06    | 0               |</pre>"
      ],
      "text/plain": [
       "| 16770     | 2m 4s         | 2.57814e+06    | 0               |"
      ]
     },
     "metadata": {},
     "output_type": "display_data"
    },
    {
     "data": {
      "text/html": [
       "<pre>| 16780     | 2m 4s         | 2.48573e+06    | 0               |</pre>"
      ],
      "text/plain": [
       "| 16780     | 2m 4s         | 2.48573e+06    | 0               |"
      ]
     },
     "metadata": {},
     "output_type": "display_data"
    },
    {
     "data": {
      "text/html": [
       "<pre>| 16790     | 2m 4s         | 2.53371e+06    | 0               |</pre>"
      ],
      "text/plain": [
       "| 16790     | 2m 4s         | 2.53371e+06    | 0               |"
      ]
     },
     "metadata": {},
     "output_type": "display_data"
    },
    {
     "data": {
      "text/html": [
       "<pre>| 16800     | 2m 4s         | 2.51464e+06    | 0               |</pre>"
      ],
      "text/plain": [
       "| 16800     | 2m 4s         | 2.51464e+06    | 0               |"
      ]
     },
     "metadata": {},
     "output_type": "display_data"
    },
    {
     "data": {
      "text/html": [
       "<pre>| 16810     | 2m 4s         | 2.5513e+06     | 0               |</pre>"
      ],
      "text/plain": [
       "| 16810     | 2m 4s         | 2.5513e+06     | 0               |"
      ]
     },
     "metadata": {},
     "output_type": "display_data"
    },
    {
     "data": {
      "text/html": [
       "<pre>| 16820     | 2m 4s         | 2.47602e+06    | 0               |</pre>"
      ],
      "text/plain": [
       "| 16820     | 2m 4s         | 2.47602e+06    | 0               |"
      ]
     },
     "metadata": {},
     "output_type": "display_data"
    },
    {
     "data": {
      "text/html": [
       "<pre>| 16830     | 2m 4s         | 2.51533e+06    | 0               |</pre>"
      ],
      "text/plain": [
       "| 16830     | 2m 4s         | 2.51533e+06    | 0               |"
      ]
     },
     "metadata": {},
     "output_type": "display_data"
    },
    {
     "data": {
      "text/html": [
       "<pre>| 16840     | 2m 4s         | 2.29426e+06    | 0               |</pre>"
      ],
      "text/plain": [
       "| 16840     | 2m 4s         | 2.29426e+06    | 0               |"
      ]
     },
     "metadata": {},
     "output_type": "display_data"
    },
    {
     "data": {
      "text/html": [
       "<pre>| 16850     | 2m 4s         | 2.42537e+06    | 0               |</pre>"
      ],
      "text/plain": [
       "| 16850     | 2m 4s         | 2.42537e+06    | 0               |"
      ]
     },
     "metadata": {},
     "output_type": "display_data"
    },
    {
     "data": {
      "text/html": [
       "<pre>| 16860     | 2m 4s         | 2.75517e+06    | 0               |</pre>"
      ],
      "text/plain": [
       "| 16860     | 2m 4s         | 2.75517e+06    | 0               |"
      ]
     },
     "metadata": {},
     "output_type": "display_data"
    },
    {
     "data": {
      "text/html": [
       "<pre>| 16870     | 2m 4s         | 2.43018e+06    | 0               |</pre>"
      ],
      "text/plain": [
       "| 16870     | 2m 4s         | 2.43018e+06    | 0               |"
      ]
     },
     "metadata": {},
     "output_type": "display_data"
    },
    {
     "data": {
      "text/html": [
       "<pre>| 16880     | 2m 4s         | 2.38384e+06    | 0               |</pre>"
      ],
      "text/plain": [
       "| 16880     | 2m 4s         | 2.38384e+06    | 0               |"
      ]
     },
     "metadata": {},
     "output_type": "display_data"
    },
    {
     "data": {
      "text/html": [
       "<pre>| 16890     | 2m 5s         | 2.55911e+06    | 0               |</pre>"
      ],
      "text/plain": [
       "| 16890     | 2m 5s         | 2.55911e+06    | 0               |"
      ]
     },
     "metadata": {},
     "output_type": "display_data"
    },
    {
     "data": {
      "text/html": [
       "<pre>| 16900     | 2m 5s         | 2.32385e+06    | 0               |</pre>"
      ],
      "text/plain": [
       "| 16900     | 2m 5s         | 2.32385e+06    | 0               |"
      ]
     },
     "metadata": {},
     "output_type": "display_data"
    },
    {
     "data": {
      "text/html": [
       "<pre>| 16910     | 2m 5s         | 2.55201e+06    | 0               |</pre>"
      ],
      "text/plain": [
       "| 16910     | 2m 5s         | 2.55201e+06    | 0               |"
      ]
     },
     "metadata": {},
     "output_type": "display_data"
    },
    {
     "data": {
      "text/html": [
       "<pre>| 16920     | 2m 5s         | 2.39627e+06    | 0               |</pre>"
      ],
      "text/plain": [
       "| 16920     | 2m 5s         | 2.39627e+06    | 0               |"
      ]
     },
     "metadata": {},
     "output_type": "display_data"
    },
    {
     "data": {
      "text/html": [
       "<pre>| 16930     | 2m 5s         | 2.44245e+06    | 0               |</pre>"
      ],
      "text/plain": [
       "| 16930     | 2m 5s         | 2.44245e+06    | 0               |"
      ]
     },
     "metadata": {},
     "output_type": "display_data"
    },
    {
     "data": {
      "text/html": [
       "<pre>| 16940     | 2m 5s         | 2.3636e+06     | 0               |</pre>"
      ],
      "text/plain": [
       "| 16940     | 2m 5s         | 2.3636e+06     | 0               |"
      ]
     },
     "metadata": {},
     "output_type": "display_data"
    },
    {
     "data": {
      "text/html": [
       "<pre>| 16950     | 2m 5s         | 2.34401e+06    | 0               |</pre>"
      ],
      "text/plain": [
       "| 16950     | 2m 5s         | 2.34401e+06    | 0               |"
      ]
     },
     "metadata": {},
     "output_type": "display_data"
    },
    {
     "data": {
      "text/html": [
       "<pre>| 16960     | 2m 5s         | 2.33655e+06    | 0               |</pre>"
      ],
      "text/plain": [
       "| 16960     | 2m 5s         | 2.33655e+06    | 0               |"
      ]
     },
     "metadata": {},
     "output_type": "display_data"
    },
    {
     "data": {
      "text/html": [
       "<pre>| 16970     | 2m 5s         | 2.37153e+06    | 0               |</pre>"
      ],
      "text/plain": [
       "| 16970     | 2m 5s         | 2.37153e+06    | 0               |"
      ]
     },
     "metadata": {},
     "output_type": "display_data"
    },
    {
     "data": {
      "text/html": [
       "<pre>| 16980     | 2m 5s         | 2.3697e+06     | 0               |</pre>"
      ],
      "text/plain": [
       "| 16980     | 2m 5s         | 2.3697e+06     | 0               |"
      ]
     },
     "metadata": {},
     "output_type": "display_data"
    },
    {
     "data": {
      "text/html": [
       "<pre>| 16990     | 2m 5s         | 2.46704e+06    | 0               |</pre>"
      ],
      "text/plain": [
       "| 16990     | 2m 5s         | 2.46704e+06    | 0               |"
      ]
     },
     "metadata": {},
     "output_type": "display_data"
    },
    {
     "data": {
      "text/html": [
       "<pre>| 17000     | 2m 5s         | 2.24795e+06    | 0               |</pre>"
      ],
      "text/plain": [
       "| 17000     | 2m 5s         | 2.24795e+06    | 0               |"
      ]
     },
     "metadata": {},
     "output_type": "display_data"
    },
    {
     "data": {
      "text/html": [
       "<pre>| 17010     | 2m 5s         | 2.33329e+06    | 0               |</pre>"
      ],
      "text/plain": [
       "| 17010     | 2m 5s         | 2.33329e+06    | 0               |"
      ]
     },
     "metadata": {},
     "output_type": "display_data"
    },
    {
     "data": {
      "text/html": [
       "<pre>| 17020     | 2m 6s         | 2.45551e+06    | 0               |</pre>"
      ],
      "text/plain": [
       "| 17020     | 2m 6s         | 2.45551e+06    | 0               |"
      ]
     },
     "metadata": {},
     "output_type": "display_data"
    },
    {
     "data": {
      "text/html": [
       "<pre>| 17030     | 2m 6s         | 2.48472e+06    | 0               |</pre>"
      ],
      "text/plain": [
       "| 17030     | 2m 6s         | 2.48472e+06    | 0               |"
      ]
     },
     "metadata": {},
     "output_type": "display_data"
    },
    {
     "data": {
      "text/html": [
       "<pre>| 17040     | 2m 6s         | 2.43307e+06    | 0               |</pre>"
      ],
      "text/plain": [
       "| 17040     | 2m 6s         | 2.43307e+06    | 0               |"
      ]
     },
     "metadata": {},
     "output_type": "display_data"
    },
    {
     "data": {
      "text/html": [
       "<pre>| 17050     | 2m 6s         | 2.37982e+06    | 0               |</pre>"
      ],
      "text/plain": [
       "| 17050     | 2m 6s         | 2.37982e+06    | 0               |"
      ]
     },
     "metadata": {},
     "output_type": "display_data"
    },
    {
     "data": {
      "text/html": [
       "<pre>| 17060     | 2m 6s         | 2.4687e+06     | 0               |</pre>"
      ],
      "text/plain": [
       "| 17060     | 2m 6s         | 2.4687e+06     | 0               |"
      ]
     },
     "metadata": {},
     "output_type": "display_data"
    },
    {
     "data": {
      "text/html": [
       "<pre>| 17070     | 2m 6s         | 2.32033e+06    | 0               |</pre>"
      ],
      "text/plain": [
       "| 17070     | 2m 6s         | 2.32033e+06    | 0               |"
      ]
     },
     "metadata": {},
     "output_type": "display_data"
    },
    {
     "data": {
      "text/html": [
       "<pre>| 17080     | 2m 6s         | 2.4817e+06     | 0               |</pre>"
      ],
      "text/plain": [
       "| 17080     | 2m 6s         | 2.4817e+06     | 0               |"
      ]
     },
     "metadata": {},
     "output_type": "display_data"
    },
    {
     "data": {
      "text/html": [
       "<pre>| 17090     | 2m 6s         | 2.2313e+06     | 0               |</pre>"
      ],
      "text/plain": [
       "| 17090     | 2m 6s         | 2.2313e+06     | 0               |"
      ]
     },
     "metadata": {},
     "output_type": "display_data"
    },
    {
     "data": {
      "text/html": [
       "<pre>| 17100     | 2m 6s         | 2.43018e+06    | 0               |</pre>"
      ],
      "text/plain": [
       "| 17100     | 2m 6s         | 2.43018e+06    | 0               |"
      ]
     },
     "metadata": {},
     "output_type": "display_data"
    },
    {
     "data": {
      "text/html": [
       "<pre>| 17110     | 2m 6s         | 2.53966e+06    | 0               |</pre>"
      ],
      "text/plain": [
       "| 17110     | 2m 6s         | 2.53966e+06    | 0               |"
      ]
     },
     "metadata": {},
     "output_type": "display_data"
    },
    {
     "data": {
      "text/html": [
       "<pre>| 17120     | 2m 6s         | 2.35996e+06    | 0               |</pre>"
      ],
      "text/plain": [
       "| 17120     | 2m 6s         | 2.35996e+06    | 0               |"
      ]
     },
     "metadata": {},
     "output_type": "display_data"
    },
    {
     "data": {
      "text/html": [
       "<pre>| 17130     | 2m 6s         | 2.37184e+06    | 0               |</pre>"
      ],
      "text/plain": [
       "| 17130     | 2m 6s         | 2.37184e+06    | 0               |"
      ]
     },
     "metadata": {},
     "output_type": "display_data"
    },
    {
     "data": {
      "text/html": [
       "<pre>| 17140     | 2m 6s         | 2.40757e+06    | 0               |</pre>"
      ],
      "text/plain": [
       "| 17140     | 2m 6s         | 2.40757e+06    | 0               |"
      ]
     },
     "metadata": {},
     "output_type": "display_data"
    },
    {
     "data": {
      "text/html": [
       "<pre>| 17150     | 2m 7s         | 2.43598e+06    | 0               |</pre>"
      ],
      "text/plain": [
       "| 17150     | 2m 7s         | 2.43598e+06    | 0               |"
      ]
     },
     "metadata": {},
     "output_type": "display_data"
    },
    {
     "data": {
      "text/html": [
       "<pre>| 17160     | 2m 7s         | 2.35542e+06    | 0               |</pre>"
      ],
      "text/plain": [
       "| 17160     | 2m 7s         | 2.35542e+06    | 0               |"
      ]
     },
     "metadata": {},
     "output_type": "display_data"
    },
    {
     "data": {
      "text/html": [
       "<pre>| 17170     | 2m 7s         | 2.4962e+06     | 0               |</pre>"
      ],
      "text/plain": [
       "| 17170     | 2m 7s         | 2.4962e+06     | 0               |"
      ]
     },
     "metadata": {},
     "output_type": "display_data"
    },
    {
     "data": {
      "text/html": [
       "<pre>| 17180     | 2m 7s         | 2.28087e+06    | 0               |</pre>"
      ],
      "text/plain": [
       "| 17180     | 2m 7s         | 2.28087e+06    | 0               |"
      ]
     },
     "metadata": {},
     "output_type": "display_data"
    },
    {
     "data": {
      "text/html": [
       "<pre>| 17190     | 2m 7s         | 2.43372e+06    | 0               |</pre>"
      ],
      "text/plain": [
       "| 17190     | 2m 7s         | 2.43372e+06    | 0               |"
      ]
     },
     "metadata": {},
     "output_type": "display_data"
    },
    {
     "data": {
      "text/html": [
       "<pre>| 17200     | 2m 7s         | 2.38817e+06    | 0               |</pre>"
      ],
      "text/plain": [
       "| 17200     | 2m 7s         | 2.38817e+06    | 0               |"
      ]
     },
     "metadata": {},
     "output_type": "display_data"
    },
    {
     "data": {
      "text/html": [
       "<pre>| 17210     | 2m 7s         | 2.27045e+06    | 0               |</pre>"
      ],
      "text/plain": [
       "| 17210     | 2m 7s         | 2.27045e+06    | 0               |"
      ]
     },
     "metadata": {},
     "output_type": "display_data"
    },
    {
     "data": {
      "text/html": [
       "<pre>| 17220     | 2m 7s         | 2.62867e+06    | 0               |</pre>"
      ],
      "text/plain": [
       "| 17220     | 2m 7s         | 2.62867e+06    | 0               |"
      ]
     },
     "metadata": {},
     "output_type": "display_data"
    },
    {
     "data": {
      "text/html": [
       "<pre>| 17230     | 2m 7s         | 2.27805e+06    | 0               |</pre>"
      ],
      "text/plain": [
       "| 17230     | 2m 7s         | 2.27805e+06    | 0               |"
      ]
     },
     "metadata": {},
     "output_type": "display_data"
    },
    {
     "data": {
      "text/html": [
       "<pre>| 17240     | 2m 7s         | 2.32679e+06    | 0               |</pre>"
      ],
      "text/plain": [
       "| 17240     | 2m 7s         | 2.32679e+06    | 0               |"
      ]
     },
     "metadata": {},
     "output_type": "display_data"
    },
    {
     "data": {
      "text/html": [
       "<pre>| 17250     | 2m 7s         | 2.29483e+06    | 0               |</pre>"
      ],
      "text/plain": [
       "| 17250     | 2m 7s         | 2.29483e+06    | 0               |"
      ]
     },
     "metadata": {},
     "output_type": "display_data"
    },
    {
     "data": {
      "text/html": [
       "<pre>| 17260     | 2m 7s         | 2.32856e+06    | 0               |</pre>"
      ],
      "text/plain": [
       "| 17260     | 2m 7s         | 2.32856e+06    | 0               |"
      ]
     },
     "metadata": {},
     "output_type": "display_data"
    },
    {
     "data": {
      "text/html": [
       "<pre>| 17270     | 2m 8s         | 2.73427e+06    | 0               |</pre>"
      ],
      "text/plain": [
       "| 17270     | 2m 8s         | 2.73427e+06    | 0               |"
      ]
     },
     "metadata": {},
     "output_type": "display_data"
    },
    {
     "data": {
      "text/html": [
       "<pre>| 17280     | 2m 8s         | 2.3944e+06     | 0               |</pre>"
      ],
      "text/plain": [
       "| 17280     | 2m 8s         | 2.3944e+06     | 0               |"
      ]
     },
     "metadata": {},
     "output_type": "display_data"
    },
    {
     "data": {
      "text/html": [
       "<pre>| 17290     | 2m 8s         | 2.35996e+06    | 0               |</pre>"
      ],
      "text/plain": [
       "| 17290     | 2m 8s         | 2.35996e+06    | 0               |"
      ]
     },
     "metadata": {},
     "output_type": "display_data"
    },
    {
     "data": {
      "text/html": [
       "<pre>| 17300     | 2m 8s         | 2.41041e+06    | 0               |</pre>"
      ],
      "text/plain": [
       "| 17300     | 2m 8s         | 2.41041e+06    | 0               |"
      ]
     },
     "metadata": {},
     "output_type": "display_data"
    },
    {
     "data": {
      "text/html": [
       "<pre>| 17310     | 2m 8s         | 2.46044e+06    | 0               |</pre>"
      ],
      "text/plain": [
       "| 17310     | 2m 8s         | 2.46044e+06    | 0               |"
      ]
     },
     "metadata": {},
     "output_type": "display_data"
    },
    {
     "data": {
      "text/html": [
       "<pre>| 17320     | 2m 8s         | 2.26123e+06    | 0               |</pre>"
      ],
      "text/plain": [
       "| 17320     | 2m 8s         | 2.26123e+06    | 0               |"
      ]
     },
     "metadata": {},
     "output_type": "display_data"
    },
    {
     "data": {
      "text/html": [
       "<pre>| 17330     | 2m 8s         | 2.36604e+06    | 0               |</pre>"
      ],
      "text/plain": [
       "| 17330     | 2m 8s         | 2.36604e+06    | 0               |"
      ]
     },
     "metadata": {},
     "output_type": "display_data"
    },
    {
     "data": {
      "text/html": [
       "<pre>| 17340     | 2m 8s         | 2.35301e+06    | 0               |</pre>"
      ],
      "text/plain": [
       "| 17340     | 2m 8s         | 2.35301e+06    | 0               |"
      ]
     },
     "metadata": {},
     "output_type": "display_data"
    },
    {
     "data": {
      "text/html": [
       "<pre>| 17350     | 2m 8s         | 2.40474e+06    | 0               |</pre>"
      ],
      "text/plain": [
       "| 17350     | 2m 8s         | 2.40474e+06    | 0               |"
      ]
     },
     "metadata": {},
     "output_type": "display_data"
    },
    {
     "data": {
      "text/html": [
       "<pre>| 17360     | 2m 8s         | 2.34311e+06    | 0               |</pre>"
      ],
      "text/plain": [
       "| 17360     | 2m 8s         | 2.34311e+06    | 0               |"
      ]
     },
     "metadata": {},
     "output_type": "display_data"
    },
    {
     "data": {
      "text/html": [
       "<pre>| 17370     | 2m 8s         | 2.30693e+06    | 0               |</pre>"
      ],
      "text/plain": [
       "| 17370     | 2m 8s         | 2.30693e+06    | 0               |"
      ]
     },
     "metadata": {},
     "output_type": "display_data"
    },
    {
     "data": {
      "text/html": [
       "<pre>| 17380     | 2m 8s         | 2.38384e+06    | 0               |</pre>"
      ],
      "text/plain": [
       "| 17380     | 2m 8s         | 2.38384e+06    | 0               |"
      ]
     },
     "metadata": {},
     "output_type": "display_data"
    },
    {
     "data": {
      "text/html": [
       "<pre>| 17390     | 2m 8s         | 2.39222e+06    | 0               |</pre>"
      ],
      "text/plain": [
       "| 17390     | 2m 8s         | 2.39222e+06    | 0               |"
      ]
     },
     "metadata": {},
     "output_type": "display_data"
    },
    {
     "data": {
      "text/html": [
       "<pre>| 17400     | 2m 9s         | 2.48472e+06    | 0               |</pre>"
      ],
      "text/plain": [
       "| 17400     | 2m 9s         | 2.48472e+06    | 0               |"
      ]
     },
     "metadata": {},
     "output_type": "display_data"
    },
    {
     "data": {
      "text/html": [
       "<pre>| 17410     | 2m 9s         | 2.33715e+06    | 0               |</pre>"
      ],
      "text/plain": [
       "| 17410     | 2m 9s         | 2.33715e+06    | 0               |"
      ]
     },
     "metadata": {},
     "output_type": "display_data"
    },
    {
     "data": {
      "text/html": [
       "<pre>| 17420     | 2m 9s         | 2.26067e+06    | 0               |</pre>"
      ],
      "text/plain": [
       "| 17420     | 2m 9s         | 2.26067e+06    | 0               |"
      ]
     },
     "metadata": {},
     "output_type": "display_data"
    },
    {
     "data": {
      "text/html": [
       "<pre>| 17430     | 2m 9s         | 2.32267e+06    | 0               |</pre>"
      ],
      "text/plain": [
       "| 17430     | 2m 9s         | 2.32267e+06    | 0               |"
      ]
     },
     "metadata": {},
     "output_type": "display_data"
    },
    {
     "data": {
      "text/html": [
       "<pre>| 17440     | 2m 9s         | 2.23673e+06    | 0               |</pre>"
      ],
      "text/plain": [
       "| 17440     | 2m 9s         | 2.23673e+06    | 0               |"
      ]
     },
     "metadata": {},
     "output_type": "display_data"
    },
    {
     "data": {
      "text/html": [
       "<pre>| 17450     | 2m 9s         | 2.42057e+06    | 0               |</pre>"
      ],
      "text/plain": [
       "| 17450     | 2m 9s         | 2.42057e+06    | 0               |"
      ]
     },
     "metadata": {},
     "output_type": "display_data"
    },
    {
     "data": {
      "text/html": [
       "<pre>| 17460     | 2m 9s         | 2.43662e+06    | 0               |</pre>"
      ],
      "text/plain": [
       "| 17460     | 2m 9s         | 2.43662e+06    | 0               |"
      ]
     },
     "metadata": {},
     "output_type": "display_data"
    },
    {
     "data": {
      "text/html": [
       "<pre>| 17470     | 2m 9s         | 2.35482e+06    | 0               |</pre>"
      ],
      "text/plain": [
       "| 17470     | 2m 9s         | 2.35482e+06    | 0               |"
      ]
     },
     "metadata": {},
     "output_type": "display_data"
    },
    {
     "data": {
      "text/html": [
       "<pre>| 17480     | 2m 9s         | 2.23103e+06    | 0               |</pre>"
      ],
      "text/plain": [
       "| 17480     | 2m 9s         | 2.23103e+06    | 0               |"
      ]
     },
     "metadata": {},
     "output_type": "display_data"
    },
    {
     "data": {
      "text/html": [
       "<pre>| 17490     | 2m 9s         | 2443750        | 0               |</pre>"
      ],
      "text/plain": [
       "| 17490     | 2m 9s         | 2443750        | 0               |"
      ]
     },
     "metadata": {},
     "output_type": "display_data"
    },
    {
     "data": {
      "text/html": [
       "<pre>| 17500     | 2m 9s         | 2.40978e+06    | 0               |</pre>"
      ],
      "text/plain": [
       "| 17500     | 2m 9s         | 2.40978e+06    | 0               |"
      ]
     },
     "metadata": {},
     "output_type": "display_data"
    },
    {
     "data": {
      "text/html": [
       "<pre>| 17510     | 2m 9s         | 2.33004e+06    | 0               |</pre>"
      ],
      "text/plain": [
       "| 17510     | 2m 9s         | 2.33004e+06    | 0               |"
      ]
     },
     "metadata": {},
     "output_type": "display_data"
    },
    {
     "data": {
      "text/html": [
       "<pre>| 17520     | 2m 9s         | 2.49112e+06    | 0               |</pre>"
      ],
      "text/plain": [
       "| 17520     | 2m 9s         | 2.49112e+06    | 0               |"
      ]
     },
     "metadata": {},
     "output_type": "display_data"
    },
    {
     "data": {
      "text/html": [
       "<pre>| 17530     | 2m 10s        | 2.39097e+06    | 0               |</pre>"
      ],
      "text/plain": [
       "| 17530     | 2m 10s        | 2.39097e+06    | 0               |"
      ]
     },
     "metadata": {},
     "output_type": "display_data"
    },
    {
     "data": {
      "text/html": [
       "<pre>| 17540     | 2m 10s        | 2.40505e+06    | 0               |</pre>"
      ],
      "text/plain": [
       "| 17540     | 2m 10s        | 2.40505e+06    | 0               |"
      ]
     },
     "metadata": {},
     "output_type": "display_data"
    },
    {
     "data": {
      "text/html": [
       "<pre>| 17550     | 2m 10s        | 2.33329e+06    | 0               |</pre>"
      ],
      "text/plain": [
       "| 17550     | 2m 10s        | 2.33329e+06    | 0               |"
      ]
     },
     "metadata": {},
     "output_type": "display_data"
    },
    {
     "data": {
      "text/html": [
       "<pre>| 17560     | 2m 10s        | 2.37767e+06    | 0               |</pre>"
      ],
      "text/plain": [
       "| 17560     | 2m 10s        | 2.37767e+06    | 0               |"
      ]
     },
     "metadata": {},
     "output_type": "display_data"
    },
    {
     "data": {
      "text/html": [
       "<pre>| 17570     | 2m 10s        | 2.42409e+06    | 0               |</pre>"
      ],
      "text/plain": [
       "| 17570     | 2m 10s        | 2.42409e+06    | 0               |"
      ]
     },
     "metadata": {},
     "output_type": "display_data"
    },
    {
     "data": {
      "text/html": [
       "<pre>| 17580     | 2m 10s        | 2.4139e+06     | 0               |</pre>"
      ],
      "text/plain": [
       "| 17580     | 2m 10s        | 2.4139e+06     | 0               |"
      ]
     },
     "metadata": {},
     "output_type": "display_data"
    },
    {
     "data": {
      "text/html": [
       "<pre>| 17590     | 2m 10s        | 2.30173e+06    | 0               |</pre>"
      ],
      "text/plain": [
       "| 17590     | 2m 10s        | 2.30173e+06    | 0               |"
      ]
     },
     "metadata": {},
     "output_type": "display_data"
    },
    {
     "data": {
      "text/html": [
       "<pre>| 17600     | 2m 10s        | 2.41295e+06    | 0               |</pre>"
      ],
      "text/plain": [
       "| 17600     | 2m 10s        | 2.41295e+06    | 0               |"
      ]
     },
     "metadata": {},
     "output_type": "display_data"
    },
    {
     "data": {
      "text/html": [
       "<pre>| 17610     | 2m 10s        | 2.31799e+06    | 0               |</pre>"
      ],
      "text/plain": [
       "| 17610     | 2m 10s        | 2.31799e+06    | 0               |"
      ]
     },
     "metadata": {},
     "output_type": "display_data"
    },
    {
     "data": {
      "text/html": [
       "<pre>| 17620     | 2m 10s        | 2.43856e+06    | 0               |</pre>"
      ],
      "text/plain": [
       "| 17620     | 2m 10s        | 2.43856e+06    | 0               |"
      ]
     },
     "metadata": {},
     "output_type": "display_data"
    },
    {
     "data": {
      "text/html": [
       "<pre>| 17630     | 2m 10s        | 2.34042e+06    | 0               |</pre>"
      ],
      "text/plain": [
       "| 17630     | 2m 10s        | 2.34042e+06    | 0               |"
      ]
     },
     "metadata": {},
     "output_type": "display_data"
    },
    {
     "data": {
      "text/html": [
       "<pre>| 17640     | 2m 10s        | 2.52501e+06    | 0               |</pre>"
      ],
      "text/plain": [
       "| 17640     | 2m 10s        | 2.52501e+06    | 0               |"
      ]
     },
     "metadata": {},
     "output_type": "display_data"
    },
    {
     "data": {
      "text/html": [
       "<pre>| 17650     | 2m 11s        | 2.49213e+06    | 0               |</pre>"
      ],
      "text/plain": [
       "| 17650     | 2m 11s        | 2.49213e+06    | 0               |"
      ]
     },
     "metadata": {},
     "output_type": "display_data"
    },
    {
     "data": {
      "text/html": [
       "<pre>| 17660     | 2m 11s        | 2.4305e+06     | 0               |</pre>"
      ],
      "text/plain": [
       "| 17660     | 2m 11s        | 2.4305e+06     | 0               |"
      ]
     },
     "metadata": {},
     "output_type": "display_data"
    },
    {
     "data": {
      "text/html": [
       "<pre>| 17670     | 2m 11s        | 2.47402e+06    | 0               |</pre>"
      ],
      "text/plain": [
       "| 17670     | 2m 11s        | 2.47402e+06    | 0               |"
      ]
     },
     "metadata": {},
     "output_type": "display_data"
    },
    {
     "data": {
      "text/html": [
       "<pre>| 17680     | 2m 11s        | 2.44635e+06    | 0               |</pre>"
      ],
      "text/plain": [
       "| 17680     | 2m 11s        | 2.44635e+06    | 0               |"
      ]
     },
     "metadata": {},
     "output_type": "display_data"
    },
    {
     "data": {
      "text/html": [
       "<pre>| 17690     | 2m 11s        | 2.39627e+06    | 0               |</pre>"
      ],
      "text/plain": [
       "| 17690     | 2m 11s        | 2.39627e+06    | 0               |"
      ]
     },
     "metadata": {},
     "output_type": "display_data"
    },
    {
     "data": {
      "text/html": [
       "<pre>| 17700     | 2m 11s        | 2.4519e+06     | 0               |</pre>"
      ],
      "text/plain": [
       "| 17700     | 2m 11s        | 2.4519e+06     | 0               |"
      ]
     },
     "metadata": {},
     "output_type": "display_data"
    },
    {
     "data": {
      "text/html": [
       "<pre>| 17710     | 2m 11s        | 2.39128e+06    | 0               |</pre>"
      ],
      "text/plain": [
       "| 17710     | 2m 11s        | 2.39128e+06    | 0               |"
      ]
     },
     "metadata": {},
     "output_type": "display_data"
    },
    {
     "data": {
      "text/html": [
       "<pre>| 17720     | 2m 11s        | 2.42569e+06    | 0               |</pre>"
      ],
      "text/plain": [
       "| 17720     | 2m 11s        | 2.42569e+06    | 0               |"
      ]
     },
     "metadata": {},
     "output_type": "display_data"
    },
    {
     "data": {
      "text/html": [
       "<pre>| 17730     | 2m 11s        | 2.40097e+06    | 0               |</pre>"
      ],
      "text/plain": [
       "| 17730     | 2m 11s        | 2.40097e+06    | 0               |"
      ]
     },
     "metadata": {},
     "output_type": "display_data"
    },
    {
     "data": {
      "text/html": [
       "<pre>| 17740     | 2m 11s        | 2.43889e+06    | 0               |</pre>"
      ],
      "text/plain": [
       "| 17740     | 2m 11s        | 2.43889e+06    | 0               |"
      ]
     },
     "metadata": {},
     "output_type": "display_data"
    },
    {
     "data": {
      "text/html": [
       "<pre>| 17750     | 2m 11s        | 2.44018e+06    | 0               |</pre>"
      ],
      "text/plain": [
       "| 17750     | 2m 11s        | 2.44018e+06    | 0               |"
      ]
     },
     "metadata": {},
     "output_type": "display_data"
    },
    {
     "data": {
      "text/html": [
       "<pre>| 17760     | 2m 11s        | 2.50778e+06    | 0               |</pre>"
      ],
      "text/plain": [
       "| 17760     | 2m 11s        | 2.50778e+06    | 0               |"
      ]
     },
     "metadata": {},
     "output_type": "display_data"
    },
    {
     "data": {
      "text/html": [
       "<pre>| 17770     | 2m 11s        | 2.51602e+06    | 0               |</pre>"
      ],
      "text/plain": [
       "| 17770     | 2m 11s        | 2.51602e+06    | 0               |"
      ]
     },
     "metadata": {},
     "output_type": "display_data"
    },
    {
     "data": {
      "text/html": [
       "<pre>| 17780     | 2m 12s        | 2.81856e+06    | 0               |</pre>"
      ],
      "text/plain": [
       "| 17780     | 2m 12s        | 2.81856e+06    | 0               |"
      ]
     },
     "metadata": {},
     "output_type": "display_data"
    },
    {
     "data": {
      "text/html": [
       "<pre>| 17790     | 2m 12s        | 2.37582e+06    | 0               |</pre>"
      ],
      "text/plain": [
       "| 17790     | 2m 12s        | 2.37582e+06    | 0               |"
      ]
     },
     "metadata": {},
     "output_type": "display_data"
    },
    {
     "data": {
      "text/html": [
       "<pre>| 17800     | 2m 12s        | 2.27805e+06    | 0               |</pre>"
      ],
      "text/plain": [
       "| 17800     | 2m 12s        | 2.27805e+06    | 0               |"
      ]
     },
     "metadata": {},
     "output_type": "display_data"
    },
    {
     "data": {
      "text/html": [
       "<pre>| 17810     | 2m 12s        | 2.40537e+06    | 0               |</pre>"
      ],
      "text/plain": [
       "| 17810     | 2m 12s        | 2.40537e+06    | 0               |"
      ]
     },
     "metadata": {},
     "output_type": "display_data"
    },
    {
     "data": {
      "text/html": [
       "<pre>| 17820     | 2m 12s        | 2.22482e+06    | 0               |</pre>"
      ],
      "text/plain": [
       "| 17820     | 2m 12s        | 2.22482e+06    | 0               |"
      ]
     },
     "metadata": {},
     "output_type": "display_data"
    },
    {
     "data": {
      "text/html": [
       "<pre>| 17830     | 2m 12s        | 2.27101e+06    | 0               |</pre>"
      ],
      "text/plain": [
       "| 17830     | 2m 12s        | 2.27101e+06    | 0               |"
      ]
     },
     "metadata": {},
     "output_type": "display_data"
    },
    {
     "data": {
      "text/html": [
       "<pre>| 17840     | 2m 12s        | 2.42665e+06    | 0               |</pre>"
      ],
      "text/plain": [
       "| 17840     | 2m 12s        | 2.42665e+06    | 0               |"
      ]
     },
     "metadata": {},
     "output_type": "display_data"
    },
    {
     "data": {
      "text/html": [
       "<pre>| 17850     | 2m 12s        | 2.18982e+06    | 0               |</pre>"
      ],
      "text/plain": [
       "| 17850     | 2m 12s        | 2.18982e+06    | 0               |"
      ]
     },
     "metadata": {},
     "output_type": "display_data"
    },
    {
     "data": {
      "text/html": [
       "<pre>| 17860     | 2m 12s        | 2.28144e+06    | 0               |</pre>"
      ],
      "text/plain": [
       "| 17860     | 2m 12s        | 2.28144e+06    | 0               |"
      ]
     },
     "metadata": {},
     "output_type": "display_data"
    },
    {
     "data": {
      "text/html": [
       "<pre>| 17870     | 2m 12s        | 2.39752e+06    | 0               |</pre>"
      ],
      "text/plain": [
       "| 17870     | 2m 12s        | 2.39752e+06    | 0               |"
      ]
     },
     "metadata": {},
     "output_type": "display_data"
    },
    {
     "data": {
      "text/html": [
       "<pre>| 17880     | 2m 12s        | 2.43598e+06    | 0               |</pre>"
      ],
      "text/plain": [
       "| 17880     | 2m 12s        | 2.43598e+06    | 0               |"
      ]
     },
     "metadata": {},
     "output_type": "display_data"
    },
    {
     "data": {
      "text/html": [
       "<pre>| 17890     | 2m 12s        | 2.44733e+06    | 0               |</pre>"
      ],
      "text/plain": [
       "| 17890     | 2m 12s        | 2.44733e+06    | 0               |"
      ]
     },
     "metadata": {},
     "output_type": "display_data"
    },
    {
     "data": {
      "text/html": [
       "<pre>| 17900     | 2m 12s        | 2.42601e+06    | 0               |</pre>"
      ],
      "text/plain": [
       "| 17900     | 2m 12s        | 2.42601e+06    | 0               |"
      ]
     },
     "metadata": {},
     "output_type": "display_data"
    },
    {
     "data": {
      "text/html": [
       "<pre>| 17910     | 2m 13s        | 2.32267e+06    | 0               |</pre>"
      ],
      "text/plain": [
       "| 17910     | 2m 13s        | 2.32267e+06    | 0               |"
      ]
     },
     "metadata": {},
     "output_type": "display_data"
    },
    {
     "data": {
      "text/html": [
       "<pre>| 17920     | 2m 13s        | 2.28201e+06    | 0               |</pre>"
      ],
      "text/plain": [
       "| 17920     | 2m 13s        | 2.28201e+06    | 0               |"
      ]
     },
     "metadata": {},
     "output_type": "display_data"
    },
    {
     "data": {
      "text/html": [
       "<pre>| 17930     | 2m 13s        | 2.23891e+06    | 0               |</pre>"
      ],
      "text/plain": [
       "| 17930     | 2m 13s        | 2.23891e+06    | 0               |"
      ]
     },
     "metadata": {},
     "output_type": "display_data"
    },
    {
     "data": {
      "text/html": [
       "<pre>| 17940     | 2m 13s        | 2.32091e+06    | 0               |</pre>"
      ],
      "text/plain": [
       "| 17940     | 2m 13s        | 2.32091e+06    | 0               |"
      ]
     },
     "metadata": {},
     "output_type": "display_data"
    },
    {
     "data": {
      "text/html": [
       "<pre>| 17950     | 2m 13s        | 2.38569e+06    | 0               |</pre>"
      ],
      "text/plain": [
       "| 17950     | 2m 13s        | 2.38569e+06    | 0               |"
      ]
     },
     "metadata": {},
     "output_type": "display_data"
    },
    {
     "data": {
      "text/html": [
       "<pre>| 17960     | 2m 13s        | 2.6672e+06     | 0               |</pre>"
      ],
      "text/plain": [
       "| 17960     | 2m 13s        | 2.6672e+06     | 0               |"
      ]
     },
     "metadata": {},
     "output_type": "display_data"
    },
    {
     "data": {
      "text/html": [
       "<pre>| 17970     | 2m 13s        | 2.39658e+06    | 0               |</pre>"
      ],
      "text/plain": [
       "| 17970     | 2m 13s        | 2.39658e+06    | 0               |"
      ]
     },
     "metadata": {},
     "output_type": "display_data"
    },
    {
     "data": {
      "text/html": [
       "<pre>| 17980     | 2m 13s        | 4.41013e+06    | 0               |</pre>"
      ],
      "text/plain": [
       "| 17980     | 2m 13s        | 4.41013e+06    | 0               |"
      ]
     },
     "metadata": {},
     "output_type": "display_data"
    },
    {
     "data": {
      "text/html": [
       "<pre>| 17990     | 2m 13s        | 2.38198e+06    | 0               |</pre>"
      ],
      "text/plain": [
       "| 17990     | 2m 13s        | 2.38198e+06    | 0               |"
      ]
     },
     "metadata": {},
     "output_type": "display_data"
    },
    {
     "data": {
      "text/html": [
       "<pre>| 18000     | 2m 13s        | 3.60899e+06    | 0               |</pre>"
      ],
      "text/plain": [
       "| 18000     | 2m 13s        | 3.60899e+06    | 0               |"
      ]
     },
     "metadata": {},
     "output_type": "display_data"
    },
    {
     "data": {
      "text/html": [
       "<pre>| 18010     | 2m 13s        | 2.23646e+06    | 0               |</pre>"
      ],
      "text/plain": [
       "| 18010     | 2m 13s        | 2.23646e+06    | 0               |"
      ]
     },
     "metadata": {},
     "output_type": "display_data"
    },
    {
     "data": {
      "text/html": [
       "<pre>| 18020     | 2m 13s        | 2.41517e+06    | 0               |</pre>"
      ],
      "text/plain": [
       "| 18020     | 2m 13s        | 2.41517e+06    | 0               |"
      ]
     },
     "metadata": {},
     "output_type": "display_data"
    },
    {
     "data": {
      "text/html": [
       "<pre>| 18030     | 2m 13s        | 2.36665e+06    | 0               |</pre>"
      ],
      "text/plain": [
       "| 18030     | 2m 13s        | 2.36665e+06    | 0               |"
      ]
     },
     "metadata": {},
     "output_type": "display_data"
    },
    {
     "data": {
      "text/html": [
       "<pre>| 18040     | 2m 14s        | 2.47402e+06    | 0               |</pre>"
      ],
      "text/plain": [
       "| 18040     | 2m 14s        | 2.47402e+06    | 0               |"
      ]
     },
     "metadata": {},
     "output_type": "display_data"
    },
    {
     "data": {
      "text/html": [
       "<pre>| 18050     | 2m 14s        | 2.37613e+06    | 0               |</pre>"
      ],
      "text/plain": [
       "| 18050     | 2m 14s        | 2.37613e+06    | 0               |"
      ]
     },
     "metadata": {},
     "output_type": "display_data"
    },
    {
     "data": {
      "text/html": [
       "<pre>| 18060     | 2m 14s        | 2.4611e+06     | 0               |</pre>"
      ],
      "text/plain": [
       "| 18060     | 2m 14s        | 2.4611e+06     | 0               |"
      ]
     },
     "metadata": {},
     "output_type": "display_data"
    },
    {
     "data": {
      "text/html": [
       "<pre>| 18070     | 2m 14s        | 2.46374e+06    | 0               |</pre>"
      ],
      "text/plain": [
       "| 18070     | 2m 14s        | 2.46374e+06    | 0               |"
      ]
     },
     "metadata": {},
     "output_type": "display_data"
    },
    {
     "data": {
      "text/html": [
       "<pre>| 18080     | 2m 14s        | 2.51499e+06    | 0               |</pre>"
      ],
      "text/plain": [
       "| 18080     | 2m 14s        | 2.51499e+06    | 0               |"
      ]
     },
     "metadata": {},
     "output_type": "display_data"
    },
    {
     "data": {
      "text/html": [
       "<pre>| 18090     | 2m 14s        | 2.42057e+06    | 0               |</pre>"
      ],
      "text/plain": [
       "| 18090     | 2m 14s        | 2.42057e+06    | 0               |"
      ]
     },
     "metadata": {},
     "output_type": "display_data"
    },
    {
     "data": {
      "text/html": [
       "<pre>| 18100     | 2m 14s        | 2.46374e+06    | 0               |</pre>"
      ],
      "text/plain": [
       "| 18100     | 2m 14s        | 2.46374e+06    | 0               |"
      ]
     },
     "metadata": {},
     "output_type": "display_data"
    },
    {
     "data": {
      "text/html": [
       "<pre>| 18110     | 2m 14s        | 2496875        | 0               |</pre>"
      ],
      "text/plain": [
       "| 18110     | 2m 14s        | 2496875        | 0               |"
      ]
     },
     "metadata": {},
     "output_type": "display_data"
    },
    {
     "data": {
      "text/html": [
       "<pre>| 18120     | 2m 14s        | 2.4817e+06     | 0               |</pre>"
      ],
      "text/plain": [
       "| 18120     | 2m 14s        | 2.4817e+06     | 0               |"
      ]
     },
     "metadata": {},
     "output_type": "display_data"
    },
    {
     "data": {
      "text/html": [
       "<pre>| 18130     | 2m 14s        | 2.38662e+06    | 0               |</pre>"
      ],
      "text/plain": [
       "| 18130     | 2m 14s        | 2.38662e+06    | 0               |"
      ]
     },
     "metadata": {},
     "output_type": "display_data"
    },
    {
     "data": {
      "text/html": [
       "<pre>| 18140     | 2m 14s        | 2.42345e+06    | 0               |</pre>"
      ],
      "text/plain": [
       "| 18140     | 2m 14s        | 2.42345e+06    | 0               |"
      ]
     },
     "metadata": {},
     "output_type": "display_data"
    },
    {
     "data": {
      "text/html": [
       "<pre>| 18150     | 2m 14s        | 2.40757e+06    | 0               |</pre>"
      ],
      "text/plain": [
       "| 18150     | 2m 14s        | 2.40757e+06    | 0               |"
      ]
     },
     "metadata": {},
     "output_type": "display_data"
    },
    {
     "data": {
      "text/html": [
       "<pre>| 18160     | 2m 15s        | 2.36725e+06    | 0               |</pre>"
      ],
      "text/plain": [
       "| 18160     | 2m 15s        | 2.36725e+06    | 0               |"
      ]
     },
     "metadata": {},
     "output_type": "display_data"
    },
    {
     "data": {
      "text/html": [
       "<pre>| 18170     | 2m 15s        | 2.31828e+06    | 0               |</pre>"
      ],
      "text/plain": [
       "| 18170     | 2m 15s        | 2.31828e+06    | 0               |"
      ]
     },
     "metadata": {},
     "output_type": "display_data"
    },
    {
     "data": {
      "text/html": [
       "<pre>| 18180     | 2m 15s        | 2.4519e+06     | 0               |</pre>"
      ],
      "text/plain": [
       "| 18180     | 2m 15s        | 2.4519e+06     | 0               |"
      ]
     },
     "metadata": {},
     "output_type": "display_data"
    },
    {
     "data": {
      "text/html": [
       "<pre>| 18190     | 2m 15s        | 2.33923e+06    | 0               |</pre>"
      ],
      "text/plain": [
       "| 18190     | 2m 15s        | 2.33923e+06    | 0               |"
      ]
     },
     "metadata": {},
     "output_type": "display_data"
    },
    {
     "data": {
      "text/html": [
       "<pre>| 18200     | 2m 15s        | 2.2101e+06     | 0               |</pre>"
      ],
      "text/plain": [
       "| 18200     | 2m 15s        | 2.2101e+06     | 0               |"
      ]
     },
     "metadata": {},
     "output_type": "display_data"
    },
    {
     "data": {
      "text/html": [
       "<pre>| 18210     | 2m 15s        | 2.26597e+06    | 0               |</pre>"
      ],
      "text/plain": [
       "| 18210     | 2m 15s        | 2.26597e+06    | 0               |"
      ]
     },
     "metadata": {},
     "output_type": "display_data"
    },
    {
     "data": {
      "text/html": [
       "<pre>| 18220     | 2m 15s        | 2.20612e+06    | 0               |</pre>"
      ],
      "text/plain": [
       "| 18220     | 2m 15s        | 2.20612e+06    | 0               |"
      ]
     },
     "metadata": {},
     "output_type": "display_data"
    },
    {
     "data": {
      "text/html": [
       "<pre>| 18230     | 2m 15s        | 2.32385e+06    | 0               |</pre>"
      ],
      "text/plain": [
       "| 18230     | 2m 15s        | 2.32385e+06    | 0               |"
      ]
     },
     "metadata": {},
     "output_type": "display_data"
    },
    {
     "data": {
      "text/html": [
       "<pre>| 18240     | 2m 15s        | 2.35875e+06    | 0               |</pre>"
      ],
      "text/plain": [
       "| 18240     | 2m 15s        | 2.35875e+06    | 0               |"
      ]
     },
     "metadata": {},
     "output_type": "display_data"
    },
    {
     "data": {
      "text/html": [
       "<pre>| 18250     | 2m 15s        | 2.36695e+06    | 0               |</pre>"
      ],
      "text/plain": [
       "| 18250     | 2m 15s        | 2.36695e+06    | 0               |"
      ]
     },
     "metadata": {},
     "output_type": "display_data"
    },
    {
     "data": {
      "text/html": [
       "<pre>| 18260     | 2m 15s        | 2.33151e+06    | 0               |</pre>"
      ],
      "text/plain": [
       "| 18260     | 2m 15s        | 2.33151e+06    | 0               |"
      ]
     },
     "metadata": {},
     "output_type": "display_data"
    },
    {
     "data": {
      "text/html": [
       "<pre>| 18270     | 2m 15s        | 2.22833e+06    | 0               |</pre>"
      ],
      "text/plain": [
       "| 18270     | 2m 15s        | 2.22833e+06    | 0               |"
      ]
     },
     "metadata": {},
     "output_type": "display_data"
    },
    {
     "data": {
      "text/html": [
       "<pre>| 18280     | 2m 15s        | 2.35754e+06    | 0               |</pre>"
      ],
      "text/plain": [
       "| 18280     | 2m 15s        | 2.35754e+06    | 0               |"
      ]
     },
     "metadata": {},
     "output_type": "display_data"
    },
    {
     "data": {
      "text/html": [
       "<pre>| 18290     | 2m 16s        | 2.31594e+06    | 0               |</pre>"
      ],
      "text/plain": [
       "| 18290     | 2m 16s        | 2.31594e+06    | 0               |"
      ]
     },
     "metadata": {},
     "output_type": "display_data"
    },
    {
     "data": {
      "text/html": [
       "<pre>| 18300     | 2m 16s        | 2.37184e+06    | 0               |</pre>"
      ],
      "text/plain": [
       "| 18300     | 2m 16s        | 2.37184e+06    | 0               |"
      ]
     },
     "metadata": {},
     "output_type": "display_data"
    },
    {
     "data": {
      "text/html": [
       "<pre>| 18310     | 2m 16s        | 2.3503e+06     | 0               |</pre>"
      ],
      "text/plain": [
       "| 18310     | 2m 16s        | 2.3503e+06     | 0               |"
      ]
     },
     "metadata": {},
     "output_type": "display_data"
    },
    {
     "data": {
      "text/html": [
       "<pre>| 18320     | 2m 16s        | 2.3746e+06     | 0               |</pre>"
      ],
      "text/plain": [
       "| 18320     | 2m 16s        | 2.3746e+06     | 0               |"
      ]
     },
     "metadata": {},
     "output_type": "display_data"
    },
    {
     "data": {
      "text/html": [
       "<pre>| 18330     | 2m 16s        | 2.35663e+06    | 0               |</pre>"
      ],
      "text/plain": [
       "| 18330     | 2m 16s        | 2.35663e+06    | 0               |"
      ]
     },
     "metadata": {},
     "output_type": "display_data"
    },
    {
     "data": {
      "text/html": [
       "<pre>| 18340     | 2m 16s        | 2.36391e+06    | 0               |</pre>"
      ],
      "text/plain": [
       "| 18340     | 2m 16s        | 2.36391e+06    | 0               |"
      ]
     },
     "metadata": {},
     "output_type": "display_data"
    },
    {
     "data": {
      "text/html": [
       "<pre>| 18350     | 2m 16s        | 2.31857e+06    | 0               |</pre>"
      ],
      "text/plain": [
       "| 18350     | 2m 16s        | 2.31857e+06    | 0               |"
      ]
     },
     "metadata": {},
     "output_type": "display_data"
    },
    {
     "data": {
      "text/html": [
       "<pre>| 18360     | 2m 16s        | 2.27157e+06    | 0               |</pre>"
      ],
      "text/plain": [
       "| 18360     | 2m 16s        | 2.27157e+06    | 0               |"
      ]
     },
     "metadata": {},
     "output_type": "display_data"
    },
    {
     "data": {
      "text/html": [
       "<pre>| 18370     | 2m 16s        | 2.38817e+06    | 0               |</pre>"
      ],
      "text/plain": [
       "| 18370     | 2m 16s        | 2.38817e+06    | 0               |"
      ]
     },
     "metadata": {},
     "output_type": "display_data"
    },
    {
     "data": {
      "text/html": [
       "<pre>| 18380     | 2m 16s        | 2.27185e+06    | 0               |</pre>"
      ],
      "text/plain": [
       "| 18380     | 2m 16s        | 2.27185e+06    | 0               |"
      ]
     },
     "metadata": {},
     "output_type": "display_data"
    },
    {
     "data": {
      "text/html": [
       "<pre>| 18390     | 2m 16s        | 2.33033e+06    | 0               |</pre>"
      ],
      "text/plain": [
       "| 18390     | 2m 16s        | 2.33033e+06    | 0               |"
      ]
     },
     "metadata": {},
     "output_type": "display_data"
    },
    {
     "data": {
      "text/html": [
       "<pre>| 18400     | 2m 16s        | 2.33626e+06    | 0               |</pre>"
      ],
      "text/plain": [
       "| 18400     | 2m 16s        | 2.33626e+06    | 0               |"
      ]
     },
     "metadata": {},
     "output_type": "display_data"
    },
    {
     "data": {
      "text/html": [
       "<pre>| 18410     | 2m 17s        | 2.22806e+06    | 0               |</pre>"
      ],
      "text/plain": [
       "| 18410     | 2m 17s        | 2.22806e+06    | 0               |"
      ]
     },
     "metadata": {},
     "output_type": "display_data"
    },
    {
     "data": {
      "text/html": [
       "<pre>| 18420     | 2m 17s        | 3.09013e+06    | 0               |</pre>"
      ],
      "text/plain": [
       "| 18420     | 2m 17s        | 3.09013e+06    | 0               |"
      ]
     },
     "metadata": {},
     "output_type": "display_data"
    },
    {
     "data": {
      "text/html": [
       "<pre>| 18430     | 2m 17s        | 2.35512e+06    | 0               |</pre>"
      ],
      "text/plain": [
       "| 18430     | 2m 17s        | 2.35512e+06    | 0               |"
      ]
     },
     "metadata": {},
     "output_type": "display_data"
    },
    {
     "data": {
      "text/html": [
       "<pre>| 18440     | 2m 17s        | 2.18592e+06    | 0               |</pre>"
      ],
      "text/plain": [
       "| 18440     | 2m 17s        | 2.18592e+06    | 0               |"
      ]
     },
     "metadata": {},
     "output_type": "display_data"
    },
    {
     "data": {
      "text/html": [
       "<pre>| 18450     | 2m 17s        | 2.42153e+06    | 0               |</pre>"
      ],
      "text/plain": [
       "| 18450     | 2m 17s        | 2.42153e+06    | 0               |"
      ]
     },
     "metadata": {},
     "output_type": "display_data"
    },
    {
     "data": {
      "text/html": [
       "<pre>| 18460     | 2m 17s        | 2.16608e+06    | 0               |</pre>"
      ],
      "text/plain": [
       "| 18460     | 2m 17s        | 2.16608e+06    | 0               |"
      ]
     },
     "metadata": {},
     "output_type": "display_data"
    },
    {
     "data": {
      "text/html": [
       "<pre>| 18470     | 2m 17s        | 2.41231e+06    | 0               |</pre>"
      ],
      "text/plain": [
       "| 18470     | 2m 17s        | 2.41231e+06    | 0               |"
      ]
     },
     "metadata": {},
     "output_type": "display_data"
    },
    {
     "data": {
      "text/html": [
       "<pre>| 18480     | 2m 17s        | 2.31945e+06    | 0               |</pre>"
      ],
      "text/plain": [
       "| 18480     | 2m 17s        | 2.31945e+06    | 0               |"
      ]
     },
     "metadata": {},
     "output_type": "display_data"
    },
    {
     "data": {
      "text/html": [
       "<pre>| 18490     | 2m 17s        | 2.38817e+06    | 0               |</pre>"
      ],
      "text/plain": [
       "| 18490     | 2m 17s        | 2.38817e+06    | 0               |"
      ]
     },
     "metadata": {},
     "output_type": "display_data"
    },
    {
     "data": {
      "text/html": [
       "<pre>| 18500     | 2m 17s        | 2.30722e+06    | 0               |</pre>"
      ],
      "text/plain": [
       "| 18500     | 2m 17s        | 2.30722e+06    | 0               |"
      ]
     },
     "metadata": {},
     "output_type": "display_data"
    },
    {
     "data": {
      "text/html": [
       "<pre>| 18510     | 2m 17s        | 2.40505e+06    | 0               |</pre>"
      ],
      "text/plain": [
       "| 18510     | 2m 17s        | 2.40505e+06    | 0               |"
      ]
     },
     "metadata": {},
     "output_type": "display_data"
    },
    {
     "data": {
      "text/html": [
       "<pre>| 18520     | 2m 17s        | 2.31041e+06    | 0               |</pre>"
      ],
      "text/plain": [
       "| 18520     | 2m 17s        | 2.31041e+06    | 0               |"
      ]
     },
     "metadata": {},
     "output_type": "display_data"
    },
    {
     "data": {
      "text/html": [
       "<pre>| 18530     | 2m 18s        | 2.40631e+06    | 0               |</pre>"
      ],
      "text/plain": [
       "| 18530     | 2m 18s        | 2.40631e+06    | 0               |"
      ]
     },
     "metadata": {},
     "output_type": "display_data"
    },
    {
     "data": {
      "text/html": [
       "<pre>| 18540     | 2m 18s        | 1.49492e+06    | 0               |</pre>"
      ],
      "text/plain": [
       "| 18540     | 2m 18s        | 1.49492e+06    | 0               |"
      ]
     },
     "metadata": {},
     "output_type": "display_data"
    },
    {
     "data": {
      "text/html": [
       "<pre>| 18550     | 2m 18s        | 2.23592e+06    | 0               |</pre>"
      ],
      "text/plain": [
       "| 18550     | 2m 18s        | 2.23592e+06    | 0               |"
      ]
     },
     "metadata": {},
     "output_type": "display_data"
    },
    {
     "data": {
      "text/html": [
       "<pre>| 18560     | 2m 18s        | 2.59525e+06    | 0               |</pre>"
      ],
      "text/plain": [
       "| 18560     | 2m 18s        | 2.59525e+06    | 0               |"
      ]
     },
     "metadata": {},
     "output_type": "display_data"
    },
    {
     "data": {
      "text/html": [
       "<pre>| 18570     | 2m 18s        | 2.21811e+06    | 0               |</pre>"
      ],
      "text/plain": [
       "| 18570     | 2m 18s        | 2.21811e+06    | 0               |"
      ]
     },
     "metadata": {},
     "output_type": "display_data"
    },
    {
     "data": {
      "text/html": [
       "<pre>| 18580     | 2m 18s        | 2.17685e+06    | 0               |</pre>"
      ],
      "text/plain": [
       "| 18580     | 2m 18s        | 2.17685e+06    | 0               |"
      ]
     },
     "metadata": {},
     "output_type": "display_data"
    },
    {
     "data": {
      "text/html": [
       "<pre>| 18590     | 2m 18s        | 2.75352e+06    | 0               |</pre>"
      ],
      "text/plain": [
       "| 18590     | 2m 18s        | 2.75352e+06    | 0               |"
      ]
     },
     "metadata": {},
     "output_type": "display_data"
    },
    {
     "data": {
      "text/html": [
       "<pre>| 18600     | 2m 18s        | 2.1671e+06     | 0               |</pre>"
      ],
      "text/plain": [
       "| 18600     | 2m 18s        | 2.1671e+06     | 0               |"
      ]
     },
     "metadata": {},
     "output_type": "display_data"
    },
    {
     "data": {
      "text/html": [
       "<pre>| 18610     | 2m 18s        | 2.37582e+06    | 0               |</pre>"
      ],
      "text/plain": [
       "| 18610     | 2m 18s        | 2.37582e+06    | 0               |"
      ]
     },
     "metadata": {},
     "output_type": "display_data"
    },
    {
     "data": {
      "text/html": [
       "<pre>| 18620     | 2m 18s        | 2.20453e+06    | 0               |</pre>"
      ],
      "text/plain": [
       "| 18620     | 2m 18s        | 2.20453e+06    | 0               |"
      ]
     },
     "metadata": {},
     "output_type": "display_data"
    },
    {
     "data": {
      "text/html": [
       "<pre>| 18630     | 2m 18s        | 2.25568e+06    | 0               |</pre>"
      ],
      "text/plain": [
       "| 18630     | 2m 18s        | 2.25568e+06    | 0               |"
      ]
     },
     "metadata": {},
     "output_type": "display_data"
    },
    {
     "data": {
      "text/html": [
       "<pre>| 18640     | 2m 18s        | 2.5467e+06     | 0               |</pre>"
      ],
      "text/plain": [
       "| 18640     | 2m 18s        | 2.5467e+06     | 0               |"
      ]
     },
     "metadata": {},
     "output_type": "display_data"
    },
    {
     "data": {
      "text/html": [
       "<pre>| 18650     | 2m 18s        | 3.19878e+06    | 0               |</pre>"
      ],
      "text/plain": [
       "| 18650     | 2m 18s        | 3.19878e+06    | 0               |"
      ]
     },
     "metadata": {},
     "output_type": "display_data"
    },
    {
     "data": {
      "text/html": [
       "<pre>| 18660     | 2m 19s        | 2.42793e+06    | 0               |</pre>"
      ],
      "text/plain": [
       "| 18660     | 2m 19s        | 2.42793e+06    | 0               |"
      ]
     },
     "metadata": {},
     "output_type": "display_data"
    },
    {
     "data": {
      "text/html": [
       "<pre>| 18670     | 2m 19s        | 2.2914e+06     | 0               |</pre>"
      ],
      "text/plain": [
       "| 18670     | 2m 19s        | 2.2914e+06     | 0               |"
      ]
     },
     "metadata": {},
     "output_type": "display_data"
    },
    {
     "data": {
      "text/html": [
       "<pre>| 18680     | 2m 19s        | 2.40222e+06    | 0               |</pre>"
      ],
      "text/plain": [
       "| 18680     | 2m 19s        | 2.40222e+06    | 0               |"
      ]
     },
     "metadata": {},
     "output_type": "display_data"
    },
    {
     "data": {
      "text/html": [
       "<pre>| 18690     | 2m 19s        | 2.39097e+06    | 0               |</pre>"
      ],
      "text/plain": [
       "| 18690     | 2m 19s        | 2.39097e+06    | 0               |"
      ]
     },
     "metadata": {},
     "output_type": "display_data"
    },
    {
     "data": {
      "text/html": [
       "<pre>| 18700     | 2m 19s        | 2.39658e+06    | 0               |</pre>"
      ],
      "text/plain": [
       "| 18700     | 2m 19s        | 2.39658e+06    | 0               |"
      ]
     },
     "metadata": {},
     "output_type": "display_data"
    },
    {
     "data": {
      "text/html": [
       "<pre>| 18710     | 2m 19s        | 2.38044e+06    | 0               |</pre>"
      ],
      "text/plain": [
       "| 18710     | 2m 19s        | 2.38044e+06    | 0               |"
      ]
     },
     "metadata": {},
     "output_type": "display_data"
    },
    {
     "data": {
      "text/html": [
       "<pre>| 18720     | 2m 19s        | 2.30809e+06    | 0               |</pre>"
      ],
      "text/plain": [
       "| 18720     | 2m 19s        | 2.30809e+06    | 0               |"
      ]
     },
     "metadata": {},
     "output_type": "display_data"
    },
    {
     "data": {
      "text/html": [
       "<pre>| 18730     | 2m 19s        | 2.2117e+06     | 0               |</pre>"
      ],
      "text/plain": [
       "| 18730     | 2m 19s        | 2.2117e+06     | 0               |"
      ]
     },
     "metadata": {},
     "output_type": "display_data"
    },
    {
     "data": {
      "text/html": [
       "<pre>| 18740     | 2m 19s        | 2.37675e+06    | 0               |</pre>"
      ],
      "text/plain": [
       "| 18740     | 2m 19s        | 2.37675e+06    | 0               |"
      ]
     },
     "metadata": {},
     "output_type": "display_data"
    },
    {
     "data": {
      "text/html": [
       "<pre>| 18750     | 2m 19s        | 2.42185e+06    | 0               |</pre>"
      ],
      "text/plain": [
       "| 18750     | 2m 19s        | 2.42185e+06    | 0               |"
      ]
     },
     "metadata": {},
     "output_type": "display_data"
    },
    {
     "data": {
      "text/html": [
       "<pre>| 18760     | 2m 19s        | 2.32561e+06    | 0               |</pre>"
      ],
      "text/plain": [
       "| 18760     | 2m 19s        | 2.32561e+06    | 0               |"
      ]
     },
     "metadata": {},
     "output_type": "display_data"
    },
    {
     "data": {
      "text/html": [
       "<pre>| 18770     | 2m 19s        | 2.3488e+06     | 0               |</pre>"
      ],
      "text/plain": [
       "| 18770     | 2m 19s        | 2.3488e+06     | 0               |"
      ]
     },
     "metadata": {},
     "output_type": "display_data"
    },
    {
     "data": {
      "text/html": [
       "<pre>| 18780     | 2m 20s        | 2.34341e+06    | 0               |</pre>"
      ],
      "text/plain": [
       "| 18780     | 2m 20s        | 2.34341e+06    | 0               |"
      ]
     },
     "metadata": {},
     "output_type": "display_data"
    },
    {
     "data": {
      "text/html": [
       "<pre>| 18790     | 2m 20s        | 2.33211e+06    | 0               |</pre>"
      ],
      "text/plain": [
       "| 18790     | 2m 20s        | 2.33211e+06    | 0               |"
      ]
     },
     "metadata": {},
     "output_type": "display_data"
    },
    {
     "data": {
      "text/html": [
       "<pre>| 18800     | 2m 20s        | 2.37613e+06    | 0               |</pre>"
      ],
      "text/plain": [
       "| 18800     | 2m 20s        | 2.37613e+06    | 0               |"
      ]
     },
     "metadata": {},
     "output_type": "display_data"
    },
    {
     "data": {
      "text/html": [
       "<pre>| 18810     | 2m 20s        | 2.28997e+06    | 0               |</pre>"
      ],
      "text/plain": [
       "| 18810     | 2m 20s        | 2.28997e+06    | 0               |"
      ]
     },
     "metadata": {},
     "output_type": "display_data"
    },
    {
     "data": {
      "text/html": [
       "<pre>| 18820     | 2m 20s        | 2.29197e+06    | 0               |</pre>"
      ],
      "text/plain": [
       "| 18820     | 2m 20s        | 2.29197e+06    | 0               |"
      ]
     },
     "metadata": {},
     "output_type": "display_data"
    },
    {
     "data": {
      "text/html": [
       "<pre>| 18830     | 2m 20s        | 2.27466e+06    | 0               |</pre>"
      ],
      "text/plain": [
       "| 18830     | 2m 20s        | 2.27466e+06    | 0               |"
      ]
     },
     "metadata": {},
     "output_type": "display_data"
    },
    {
     "data": {
      "text/html": [
       "<pre>| 18840     | 2m 20s        | 2.40442e+06    | 0               |</pre>"
      ],
      "text/plain": [
       "| 18840     | 2m 20s        | 2.40442e+06    | 0               |"
      ]
     },
     "metadata": {},
     "output_type": "display_data"
    },
    {
     "data": {
      "text/html": [
       "<pre>| 18850     | 2m 20s        | 2.42857e+06    | 0               |</pre>"
      ],
      "text/plain": [
       "| 18850     | 2m 20s        | 2.42857e+06    | 0               |"
      ]
     },
     "metadata": {},
     "output_type": "display_data"
    },
    {
     "data": {
      "text/html": [
       "<pre>| 18860     | 2m 20s        | 2.16455e+06    | 0               |</pre>"
      ],
      "text/plain": [
       "| 18860     | 2m 20s        | 2.16455e+06    | 0               |"
      ]
     },
     "metadata": {},
     "output_type": "display_data"
    },
    {
     "data": {
      "text/html": [
       "<pre>| 18870     | 2m 20s        | 2.36786e+06    | 0               |</pre>"
      ],
      "text/plain": [
       "| 18870     | 2m 20s        | 2.36786e+06    | 0               |"
      ]
     },
     "metadata": {},
     "output_type": "display_data"
    },
    {
     "data": {
      "text/html": [
       "<pre>| 18880     | 2m 20s        | 2.27776e+06    | 0               |</pre>"
      ],
      "text/plain": [
       "| 18880     | 2m 20s        | 2.27776e+06    | 0               |"
      ]
     },
     "metadata": {},
     "output_type": "display_data"
    },
    {
     "data": {
      "text/html": [
       "<pre>| 18890     | 2m 20s        | 2.34311e+06    | 0               |</pre>"
      ],
      "text/plain": [
       "| 18890     | 2m 20s        | 2.34311e+06    | 0               |"
      ]
     },
     "metadata": {},
     "output_type": "display_data"
    },
    {
     "data": {
      "text/html": [
       "<pre>| 18900     | 2m 21s        | 2.36665e+06    | 0               |</pre>"
      ],
      "text/plain": [
       "| 18900     | 2m 21s        | 2.36665e+06    | 0               |"
      ]
     },
     "metadata": {},
     "output_type": "display_data"
    },
    {
     "data": {
      "text/html": [
       "<pre>| 18910     | 2m 21s        | 2.33507e+06    | 0               |</pre>"
      ],
      "text/plain": [
       "| 18910     | 2m 21s        | 2.33507e+06    | 0               |"
      ]
     },
     "metadata": {},
     "output_type": "display_data"
    },
    {
     "data": {
      "text/html": [
       "<pre>| 18920     | 2m 21s        | 2.24905e+06    | 0               |</pre>"
      ],
      "text/plain": [
       "| 18920     | 2m 21s        | 2.24905e+06    | 0               |"
      ]
     },
     "metadata": {},
     "output_type": "display_data"
    },
    {
     "data": {
      "text/html": [
       "<pre>| 18930     | 2m 21s        | 2.31623e+06    | 0               |</pre>"
      ],
      "text/plain": [
       "| 18930     | 2m 21s        | 2.31623e+06    | 0               |"
      ]
     },
     "metadata": {},
     "output_type": "display_data"
    },
    {
     "data": {
      "text/html": [
       "<pre>| 18940     | 2m 21s        | 2297125        | 0               |</pre>"
      ],
      "text/plain": [
       "| 18940     | 2m 21s        | 2297125        | 0               |"
      ]
     },
     "metadata": {},
     "output_type": "display_data"
    },
    {
     "data": {
      "text/html": [
       "<pre>| 18950     | 2m 21s        | 2.10842e+06    | 0               |</pre>"
      ],
      "text/plain": [
       "| 18950     | 2m 21s        | 2.10842e+06    | 0               |"
      ]
     },
     "metadata": {},
     "output_type": "display_data"
    },
    {
     "data": {
      "text/html": [
       "<pre>| 18960     | 2m 21s        | 2.25984e+06    | 0               |</pre>"
      ],
      "text/plain": [
       "| 18960     | 2m 21s        | 2.25984e+06    | 0               |"
      ]
     },
     "metadata": {},
     "output_type": "display_data"
    },
    {
     "data": {
      "text/html": [
       "<pre>| 18970     | 2m 21s        | 2.20427e+06    | 0               |</pre>"
      ],
      "text/plain": [
       "| 18970     | 2m 21s        | 2.20427e+06    | 0               |"
      ]
     },
     "metadata": {},
     "output_type": "display_data"
    },
    {
     "data": {
      "text/html": [
       "<pre>| 18980     | 2m 21s        | 2.23673e+06    | 0               |</pre>"
      ],
      "text/plain": [
       "| 18980     | 2m 21s        | 2.23673e+06    | 0               |"
      ]
     },
     "metadata": {},
     "output_type": "display_data"
    },
    {
     "data": {
      "text/html": [
       "<pre>| 18990     | 2m 21s        | 2.36299e+06    | 0               |</pre>"
      ],
      "text/plain": [
       "| 18990     | 2m 21s        | 2.36299e+06    | 0               |"
      ]
     },
     "metadata": {},
     "output_type": "display_data"
    },
    {
     "data": {
      "text/html": [
       "<pre>| 19000     | 2m 21s        | 2.33507e+06    | 0               |</pre>"
      ],
      "text/plain": [
       "| 19000     | 2m 21s        | 2.33507e+06    | 0               |"
      ]
     },
     "metadata": {},
     "output_type": "display_data"
    },
    {
     "data": {
      "text/html": [
       "<pre>| 19010     | 2m 21s        | 2.30317e+06    | 0               |</pre>"
      ],
      "text/plain": [
       "| 19010     | 2m 21s        | 2.30317e+06    | 0               |"
      ]
     },
     "metadata": {},
     "output_type": "display_data"
    },
    {
     "data": {
      "text/html": [
       "<pre>| 19020     | 2m 22s        | 2.25762e+06    | 0               |</pre>"
      ],
      "text/plain": [
       "| 19020     | 2m 22s        | 2.25762e+06    | 0               |"
      ]
     },
     "metadata": {},
     "output_type": "display_data"
    },
    {
     "data": {
      "text/html": [
       "<pre>| 19030     | 2m 22s        | 2.36026e+06    | 0               |</pre>"
      ],
      "text/plain": [
       "| 19030     | 2m 22s        | 2.36026e+06    | 0               |"
      ]
     },
     "metadata": {},
     "output_type": "display_data"
    },
    {
     "data": {
      "text/html": [
       "<pre>| 19040     | 2m 22s        | 2.28769e+06    | 0               |</pre>"
      ],
      "text/plain": [
       "| 19040     | 2m 22s        | 2.28769e+06    | 0               |"
      ]
     },
     "metadata": {},
     "output_type": "display_data"
    },
    {
     "data": {
      "text/html": [
       "<pre>| 19050     | 2m 22s        | 2.70688e+06    | 0               |</pre>"
      ],
      "text/plain": [
       "| 19050     | 2m 22s        | 2.70688e+06    | 0               |"
      ]
     },
     "metadata": {},
     "output_type": "display_data"
    },
    {
     "data": {
      "text/html": [
       "<pre>| 19060     | 2m 22s        | 2.40348e+06    | 0               |</pre>"
      ],
      "text/plain": [
       "| 19060     | 2m 22s        | 2.40348e+06    | 0               |"
      ]
     },
     "metadata": {},
     "output_type": "display_data"
    },
    {
     "data": {
      "text/html": [
       "<pre>| 19070     | 2m 22s        | 2.36786e+06    | 0               |</pre>"
      ],
      "text/plain": [
       "| 19070     | 2m 22s        | 2.36786e+06    | 0               |"
      ]
     },
     "metadata": {},
     "output_type": "display_data"
    },
    {
     "data": {
      "text/html": [
       "<pre>| 19080     | 2m 22s        | 2.32444e+06    | 0               |</pre>"
      ],
      "text/plain": [
       "| 19080     | 2m 22s        | 2.32444e+06    | 0               |"
      ]
     },
     "metadata": {},
     "output_type": "display_data"
    },
    {
     "data": {
      "text/html": [
       "<pre>| 19090     | 2m 22s        | 2.25706e+06    | 0               |</pre>"
      ],
      "text/plain": [
       "| 19090     | 2m 22s        | 2.25706e+06    | 0               |"
      ]
     },
     "metadata": {},
     "output_type": "display_data"
    },
    {
     "data": {
      "text/html": [
       "<pre>| 19100     | 2m 22s        | 2.17918e+06    | 0               |</pre>"
      ],
      "text/plain": [
       "| 19100     | 2m 22s        | 2.17918e+06    | 0               |"
      ]
     },
     "metadata": {},
     "output_type": "display_data"
    },
    {
     "data": {
      "text/html": [
       "<pre>| 19110     | 2m 22s        | 2.17531e+06    | 0               |</pre>"
      ],
      "text/plain": [
       "| 19110     | 2m 22s        | 2.17531e+06    | 0               |"
      ]
     },
     "metadata": {},
     "output_type": "display_data"
    },
    {
     "data": {
      "text/html": [
       "<pre>| 19120     | 2m 22s        | 2.02904e+06    | 0               |</pre>"
      ],
      "text/plain": [
       "| 19120     | 2m 22s        | 2.02904e+06    | 0               |"
      ]
     },
     "metadata": {},
     "output_type": "display_data"
    },
    {
     "data": {
      "text/html": [
       "<pre>| 19130     | 2m 22s        | 2.26373e+06    | 0               |</pre>"
      ],
      "text/plain": [
       "| 19130     | 2m 22s        | 2.26373e+06    | 0               |"
      ]
     },
     "metadata": {},
     "output_type": "display_data"
    },
    {
     "data": {
      "text/html": [
       "<pre>| 19140     | 2m 22s        | 2.23293e+06    | 0               |</pre>"
      ],
      "text/plain": [
       "| 19140     | 2m 22s        | 2.23293e+06    | 0               |"
      ]
     },
     "metadata": {},
     "output_type": "display_data"
    },
    {
     "data": {
      "text/html": [
       "<pre>| 19150     | 2m 23s        | 2.26095e+06    | 0               |</pre>"
      ],
      "text/plain": [
       "| 19150     | 2m 23s        | 2.26095e+06    | 0               |"
      ]
     },
     "metadata": {},
     "output_type": "display_data"
    },
    {
     "data": {
      "text/html": [
       "<pre>| 19160     | 2m 23s        | 2.34251e+06    | 0               |</pre>"
      ],
      "text/plain": [
       "| 19160     | 2m 23s        | 2.34251e+06    | 0               |"
      ]
     },
     "metadata": {},
     "output_type": "display_data"
    },
    {
     "data": {
      "text/html": [
       "<pre>| 19170     | 2m 23s        | 2.3467e+06     | 0               |</pre>"
      ],
      "text/plain": [
       "| 19170     | 2m 23s        | 2.3467e+06     | 0               |"
      ]
     },
     "metadata": {},
     "output_type": "display_data"
    },
    {
     "data": {
      "text/html": [
       "<pre>| 19180     | 2m 23s        | 2.2133e+06     | 0               |</pre>"
      ],
      "text/plain": [
       "| 19180     | 2m 23s        | 2.2133e+06     | 0               |"
      ]
     },
     "metadata": {},
     "output_type": "display_data"
    },
    {
     "data": {
      "text/html": [
       "<pre>| 19190     | 2m 23s        | 2.29225e+06    | 0               |</pre>"
      ],
      "text/plain": [
       "| 19190     | 2m 23s        | 2.29225e+06    | 0               |"
      ]
     },
     "metadata": {},
     "output_type": "display_data"
    },
    {
     "data": {
      "text/html": [
       "<pre>| 19200     | 2m 23s        | 3.07822e+06    | 0               |</pre>"
      ],
      "text/plain": [
       "| 19200     | 2m 23s        | 3.07822e+06    | 0               |"
      ]
     },
     "metadata": {},
     "output_type": "display_data"
    },
    {
     "data": {
      "text/html": [
       "<pre>| 19210     | 2m 23s        | 2.36178e+06    | 0               |</pre>"
      ],
      "text/plain": [
       "| 19210     | 2m 23s        | 2.36178e+06    | 0               |"
      ]
     },
     "metadata": {},
     "output_type": "display_data"
    },
    {
     "data": {
      "text/html": [
       "<pre>| 19220     | 2m 23s        | 2.25208e+06    | 0               |</pre>"
      ],
      "text/plain": [
       "| 19220     | 2m 23s        | 2.25208e+06    | 0               |"
      ]
     },
     "metadata": {},
     "output_type": "display_data"
    },
    {
     "data": {
      "text/html": [
       "<pre>| 19230     | 2m 23s        | 2.20612e+06    | 0               |</pre>"
      ],
      "text/plain": [
       "| 19230     | 2m 23s        | 2.20612e+06    | 0               |"
      ]
     },
     "metadata": {},
     "output_type": "display_data"
    },
    {
     "data": {
      "text/html": [
       "<pre>| 19240     | 2m 23s        | 2.26737e+06    | 0               |</pre>"
      ],
      "text/plain": [
       "| 19240     | 2m 23s        | 2.26737e+06    | 0               |"
      ]
     },
     "metadata": {},
     "output_type": "display_data"
    },
    {
     "data": {
      "text/html": [
       "<pre>| 19250     | 2m 23s        | 2.28883e+06    | 0               |</pre>"
      ],
      "text/plain": [
       "| 19250     | 2m 23s        | 2.28883e+06    | 0               |"
      ]
     },
     "metadata": {},
     "output_type": "display_data"
    },
    {
     "data": {
      "text/html": [
       "<pre>| 19260     | 2m 23s        | 2.3485e+06     | 0               |</pre>"
      ],
      "text/plain": [
       "| 19260     | 2m 23s        | 2.3485e+06     | 0               |"
      ]
     },
     "metadata": {},
     "output_type": "display_data"
    },
    {
     "data": {
      "text/html": [
       "<pre>| 19270     | 2m 24s        | 2.29111e+06    | 0               |</pre>"
      ],
      "text/plain": [
       "| 19270     | 2m 24s        | 2.29111e+06    | 0               |"
      ]
     },
     "metadata": {},
     "output_type": "display_data"
    },
    {
     "data": {
      "text/html": [
       "<pre>| 19280     | 2m 24s        | 2.38662e+06    | 0               |</pre>"
      ],
      "text/plain": [
       "| 19280     | 2m 24s        | 2.38662e+06    | 0               |"
      ]
     },
     "metadata": {},
     "output_type": "display_data"
    },
    {
     "data": {
      "text/html": [
       "<pre>| 19290     | 2m 24s        | 2.24164e+06    | 0               |</pre>"
      ],
      "text/plain": [
       "| 19290     | 2m 24s        | 2.24164e+06    | 0               |"
      ]
     },
     "metadata": {},
     "output_type": "display_data"
    },
    {
     "data": {
      "text/html": [
       "<pre>| 19300     | 2m 24s        | 2.38817e+06    | 0               |</pre>"
      ],
      "text/plain": [
       "| 19300     | 2m 24s        | 2.38817e+06    | 0               |"
      ]
     },
     "metadata": {},
     "output_type": "display_data"
    },
    {
     "data": {
      "text/html": [
       "<pre>| 19310     | 2m 24s        | 2.26095e+06    | 0               |</pre>"
      ],
      "text/plain": [
       "| 19310     | 2m 24s        | 2.26095e+06    | 0               |"
      ]
     },
     "metadata": {},
     "output_type": "display_data"
    },
    {
     "data": {
      "text/html": [
       "<pre>| 19320     | 2m 24s        | 2.27045e+06    | 0               |</pre>"
      ],
      "text/plain": [
       "| 19320     | 2m 24s        | 2.27045e+06    | 0               |"
      ]
     },
     "metadata": {},
     "output_type": "display_data"
    },
    {
     "data": {
      "text/html": [
       "<pre>| 19330     | 2m 24s        | 2.33715e+06    | 0               |</pre>"
      ],
      "text/plain": [
       "| 19330     | 2m 24s        | 2.33715e+06    | 0               |"
      ]
     },
     "metadata": {},
     "output_type": "display_data"
    },
    {
     "data": {
      "text/html": [
       "<pre>| 19340     | 2m 24s        | 2.23537e+06    | 0               |</pre>"
      ],
      "text/plain": [
       "| 19340     | 2m 24s        | 2.23537e+06    | 0               |"
      ]
     },
     "metadata": {},
     "output_type": "display_data"
    },
    {
     "data": {
      "text/html": [
       "<pre>| 19350     | 2m 24s        | 2.37276e+06    | 0               |</pre>"
      ],
      "text/plain": [
       "| 19350     | 2m 24s        | 2.37276e+06    | 0               |"
      ]
     },
     "metadata": {},
     "output_type": "display_data"
    },
    {
     "data": {
      "text/html": [
       "<pre>| 19360     | 2m 24s        | 2.38384e+06    | 0               |</pre>"
      ],
      "text/plain": [
       "| 19360     | 2m 24s        | 2.38384e+06    | 0               |"
      ]
     },
     "metadata": {},
     "output_type": "display_data"
    },
    {
     "data": {
      "text/html": [
       "<pre>| 19370     | 2m 24s        | 2.35482e+06    | 0               |</pre>"
      ],
      "text/plain": [
       "| 19370     | 2m 24s        | 2.35482e+06    | 0               |"
      ]
     },
     "metadata": {},
     "output_type": "display_data"
    },
    {
     "data": {
      "text/html": [
       "<pre>| 19380     | 2m 24s        | 2.3467e+06     | 0               |</pre>"
      ],
      "text/plain": [
       "| 19380     | 2m 24s        | 2.3467e+06     | 0               |"
      ]
     },
     "metadata": {},
     "output_type": "display_data"
    },
    {
     "data": {
      "text/html": [
       "<pre>| 19390     | 2m 25s        | 2.29426e+06    | 0               |</pre>"
      ],
      "text/plain": [
       "| 19390     | 2m 25s        | 2.29426e+06    | 0               |"
      ]
     },
     "metadata": {},
     "output_type": "display_data"
    },
    {
     "data": {
      "text/html": [
       "<pre>| 19400     | 2m 25s        | 2.33804e+06    | 0               |</pre>"
      ],
      "text/plain": [
       "| 19400     | 2m 25s        | 2.33804e+06    | 0               |"
      ]
     },
     "metadata": {},
     "output_type": "display_data"
    },
    {
     "data": {
      "text/html": [
       "<pre>| 19410     | 2m 25s        | 2.19374e+06    | 0               |</pre>"
      ],
      "text/plain": [
       "| 19410     | 2m 25s        | 2.19374e+06    | 0               |"
      ]
     },
     "metadata": {},
     "output_type": "display_data"
    },
    {
     "data": {
      "text/html": [
       "<pre>| 19420     | 2m 25s        | 2.32974e+06    | 0               |</pre>"
      ],
      "text/plain": [
       "| 19420     | 2m 25s        | 2.32974e+06    | 0               |"
      ]
     },
     "metadata": {},
     "output_type": "display_data"
    },
    {
     "data": {
      "text/html": [
       "<pre>| 19430     | 2m 25s        | 2.39128e+06    | 0               |</pre>"
      ],
      "text/plain": [
       "| 19430     | 2m 25s        | 2.39128e+06    | 0               |"
      ]
     },
     "metadata": {},
     "output_type": "display_data"
    },
    {
     "data": {
      "text/html": [
       "<pre>| 19440     | 2m 25s        | 2.27297e+06    | 0               |</pre>"
      ],
      "text/plain": [
       "| 19440     | 2m 25s        | 2.27297e+06    | 0               |"
      ]
     },
     "metadata": {},
     "output_type": "display_data"
    },
    {
     "data": {
      "text/html": [
       "<pre>| 19450     | 2m 25s        | 2.3497e+06     | 0               |</pre>"
      ],
      "text/plain": [
       "| 19450     | 2m 25s        | 2.3497e+06     | 0               |"
      ]
     },
     "metadata": {},
     "output_type": "display_data"
    },
    {
     "data": {
      "text/html": [
       "<pre>| 19460     | 2m 25s        | 2.3512e+06     | 0               |</pre>"
      ],
      "text/plain": [
       "| 19460     | 2m 25s        | 2.3512e+06     | 0               |"
      ]
     },
     "metadata": {},
     "output_type": "display_data"
    },
    {
     "data": {
      "text/html": [
       "<pre>| 19470     | 2m 25s        | 2.42441e+06    | 0               |</pre>"
      ],
      "text/plain": [
       "| 19470     | 2m 25s        | 2.42441e+06    | 0               |"
      ]
     },
     "metadata": {},
     "output_type": "display_data"
    },
    {
     "data": {
      "text/html": [
       "<pre>| 19480     | 2m 25s        | 2.36878e+06    | 0               |</pre>"
      ],
      "text/plain": [
       "| 19480     | 2m 25s        | 2.36878e+06    | 0               |"
      ]
     },
     "metadata": {},
     "output_type": "display_data"
    },
    {
     "data": {
      "text/html": [
       "<pre>| 19490     | 2m 25s        | 2.28513e+06    | 0               |</pre>"
      ],
      "text/plain": [
       "| 19490     | 2m 25s        | 2.28513e+06    | 0               |"
      ]
     },
     "metadata": {},
     "output_type": "display_data"
    },
    {
     "data": {
      "text/html": [
       "<pre>| 19500     | 2m 25s        | 2.37798e+06    | 0               |</pre>"
      ],
      "text/plain": [
       "| 19500     | 2m 25s        | 2.37798e+06    | 0               |"
      ]
     },
     "metadata": {},
     "output_type": "display_data"
    },
    {
     "data": {
      "text/html": [
       "<pre>| 19510     | 2m 25s        | 2.31274e+06    | 0               |</pre>"
      ],
      "text/plain": [
       "| 19510     | 2m 25s        | 2.31274e+06    | 0               |"
      ]
     },
     "metadata": {},
     "output_type": "display_data"
    },
    {
     "data": {
      "text/html": [
       "<pre>| 19520     | 2m 26s        | 2.3509e+06     | 0               |</pre>"
      ],
      "text/plain": [
       "| 19520     | 2m 26s        | 2.3509e+06     | 0               |"
      ]
     },
     "metadata": {},
     "output_type": "display_data"
    },
    {
     "data": {
      "text/html": [
       "<pre>| 19530     | 2m 26s        | 2.43436e+06    | 0               |</pre>"
      ],
      "text/plain": [
       "| 19530     | 2m 26s        | 2.43436e+06    | 0               |"
      ]
     },
     "metadata": {},
     "output_type": "display_data"
    },
    {
     "data": {
      "text/html": [
       "<pre>| 19540     | 2m 26s        | 2.34401e+06    | 0               |</pre>"
      ],
      "text/plain": [
       "| 19540     | 2m 26s        | 2.34401e+06    | 0               |"
      ]
     },
     "metadata": {},
     "output_type": "display_data"
    },
    {
     "data": {
      "text/html": [
       "<pre>| 19550     | 2m 26s        | 2.27382e+06    | 0               |</pre>"
      ],
      "text/plain": [
       "| 19550     | 2m 26s        | 2.27382e+06    | 0               |"
      ]
     },
     "metadata": {},
     "output_type": "display_data"
    },
    {
     "data": {
      "text/html": [
       "<pre>| 19560     | 2m 26s        | 2.25236e+06    | 0               |</pre>"
      ],
      "text/plain": [
       "| 19560     | 2m 26s        | 2.25236e+06    | 0               |"
      ]
     },
     "metadata": {},
     "output_type": "display_data"
    },
    {
     "data": {
      "text/html": [
       "<pre>| 19570     | 2m 26s        | 3.13013e+06    | 0               |</pre>"
      ],
      "text/plain": [
       "| 19570     | 2m 26s        | 3.13013e+06    | 0               |"
      ]
     },
     "metadata": {},
     "output_type": "display_data"
    },
    {
     "data": {
      "text/html": [
       "<pre>| 19580     | 2m 26s        | 2.26793e+06    | 0               |</pre>"
      ],
      "text/plain": [
       "| 19580     | 2m 26s        | 2.26793e+06    | 0               |"
      ]
     },
     "metadata": {},
     "output_type": "display_data"
    },
    {
     "data": {
      "text/html": [
       "<pre>| 19590     | 2m 26s        | 2.35391e+06    | 0               |</pre>"
      ],
      "text/plain": [
       "| 19590     | 2m 26s        | 2.35391e+06    | 0               |"
      ]
     },
     "metadata": {},
     "output_type": "display_data"
    },
    {
     "data": {
      "text/html": [
       "<pre>| 19600     | 2m 26s        | 2.28314e+06    | 0               |</pre>"
      ],
      "text/plain": [
       "| 19600     | 2m 26s        | 2.28314e+06    | 0               |"
      ]
     },
     "metadata": {},
     "output_type": "display_data"
    },
    {
     "data": {
      "text/html": [
       "<pre>| 19610     | 2m 26s        | 2.41453e+06    | 0               |</pre>"
      ],
      "text/plain": [
       "| 19610     | 2m 26s        | 2.41453e+06    | 0               |"
      ]
     },
     "metadata": {},
     "output_type": "display_data"
    },
    {
     "data": {
      "text/html": [
       "<pre>| 19620     | 2m 26s        | 2.22833e+06    | 0               |</pre>"
      ],
      "text/plain": [
       "| 19620     | 2m 26s        | 2.22833e+06    | 0               |"
      ]
     },
     "metadata": {},
     "output_type": "display_data"
    },
    {
     "data": {
      "text/html": [
       "<pre>| 19630     | 2m 26s        | 2.34221e+06    | 0               |</pre>"
      ],
      "text/plain": [
       "| 19630     | 2m 26s        | 2.34221e+06    | 0               |"
      ]
     },
     "metadata": {},
     "output_type": "display_data"
    },
    {
     "data": {
      "text/html": [
       "<pre>| 19640     | 2m 27s        | 2.34371e+06    | 0               |</pre>"
      ],
      "text/plain": [
       "| 19640     | 2m 27s        | 2.34371e+06    | 0               |"
      ]
     },
     "metadata": {},
     "output_type": "display_data"
    },
    {
     "data": {
      "text/html": [
       "<pre>| 19650     | 2m 27s        | 2.34401e+06    | 0               |</pre>"
      ],
      "text/plain": [
       "| 19650     | 2m 27s        | 2.34401e+06    | 0               |"
      ]
     },
     "metadata": {},
     "output_type": "display_data"
    },
    {
     "data": {
      "text/html": [
       "<pre>| 19660     | 2m 27s        | 2.28257e+06    | 0               |</pre>"
      ],
      "text/plain": [
       "| 19660     | 2m 27s        | 2.28257e+06    | 0               |"
      ]
     },
     "metadata": {},
     "output_type": "display_data"
    },
    {
     "data": {
      "text/html": [
       "<pre>| 19670     | 2m 27s        | 2.11863e+06    | 0               |</pre>"
      ],
      "text/plain": [
       "| 19670     | 2m 27s        | 2.11863e+06    | 0               |"
      ]
     },
     "metadata": {},
     "output_type": "display_data"
    },
    {
     "data": {
      "text/html": [
       "<pre>| 19680     | 2m 27s        | 2.27297e+06    | 0               |</pre>"
      ],
      "text/plain": [
       "| 19680     | 2m 27s        | 2.27297e+06    | 0               |"
      ]
     },
     "metadata": {},
     "output_type": "display_data"
    },
    {
     "data": {
      "text/html": [
       "<pre>| 19690     | 2m 27s        | 2.35784e+06    | 0               |</pre>"
      ],
      "text/plain": [
       "| 19690     | 2m 27s        | 2.35784e+06    | 0               |"
      ]
     },
     "metadata": {},
     "output_type": "display_data"
    },
    {
     "data": {
      "text/html": [
       "<pre>| 19700     | 2m 27s        | 2.3078e+06     | 0               |</pre>"
      ],
      "text/plain": [
       "| 19700     | 2m 27s        | 2.3078e+06     | 0               |"
      ]
     },
     "metadata": {},
     "output_type": "display_data"
    },
    {
     "data": {
      "text/html": [
       "<pre>| 19710     | 2m 27s        | 2.46307e+06    | 0               |</pre>"
      ],
      "text/plain": [
       "| 19710     | 2m 27s        | 2.46307e+06    | 0               |"
      ]
     },
     "metadata": {},
     "output_type": "display_data"
    },
    {
     "data": {
      "text/html": [
       "<pre>| 19720     | 2m 27s        | 2.33774e+06    | 0               |</pre>"
      ],
      "text/plain": [
       "| 19720     | 2m 27s        | 2.33774e+06    | 0               |"
      ]
     },
     "metadata": {},
     "output_type": "display_data"
    },
    {
     "data": {
      "text/html": [
       "<pre>| 19730     | 2m 27s        | 2.26373e+06    | 0               |</pre>"
      ],
      "text/plain": [
       "| 19730     | 2m 27s        | 2.26373e+06    | 0               |"
      ]
     },
     "metadata": {},
     "output_type": "display_data"
    },
    {
     "data": {
      "text/html": [
       "<pre>| 19740     | 2m 27s        | 2.29684e+06    | 0               |</pre>"
      ],
      "text/plain": [
       "| 19740     | 2m 27s        | 2.29684e+06    | 0               |"
      ]
     },
     "metadata": {},
     "output_type": "display_data"
    },
    {
     "data": {
      "text/html": [
       "<pre>| 19750     | 2m 27s        | 2.25457e+06    | 0               |</pre>"
      ],
      "text/plain": [
       "| 19750     | 2m 27s        | 2.25457e+06    | 0               |"
      ]
     },
     "metadata": {},
     "output_type": "display_data"
    },
    {
     "data": {
      "text/html": [
       "<pre>| 19760     | 2m 27s        | 2.4101e+06     | 0               |</pre>"
      ],
      "text/plain": [
       "| 19760     | 2m 27s        | 2.4101e+06     | 0               |"
      ]
     },
     "metadata": {},
     "output_type": "display_data"
    },
    {
     "data": {
      "text/html": [
       "<pre>| 19770     | 2m 28s        | 1.93036e+06    | 0               |</pre>"
      ],
      "text/plain": [
       "| 19770     | 2m 28s        | 1.93036e+06    | 0               |"
      ]
     },
     "metadata": {},
     "output_type": "display_data"
    },
    {
     "data": {
      "text/html": [
       "<pre>| 19780     | 2m 28s        | 2.08569e+06    | 0               |</pre>"
      ],
      "text/plain": [
       "| 19780     | 2m 28s        | 2.08569e+06    | 0               |"
      ]
     },
     "metadata": {},
     "output_type": "display_data"
    },
    {
     "data": {
      "text/html": [
       "<pre>| 19790     | 2m 28s        | 3.03853e+06    | 0               |</pre>"
      ],
      "text/plain": [
       "| 19790     | 2m 28s        | 3.03853e+06    | 0               |"
      ]
     },
     "metadata": {},
     "output_type": "display_data"
    },
    {
     "data": {
      "text/html": [
       "<pre>| 19800     | 2m 28s        | 2.15692e+06    | 0               |</pre>"
      ],
      "text/plain": [
       "| 19800     | 2m 28s        | 2.15692e+06    | 0               |"
      ]
     },
     "metadata": {},
     "output_type": "display_data"
    },
    {
     "data": {
      "text/html": [
       "<pre>| 19810     | 2m 28s        | 2.10939e+06    | 0               |</pre>"
      ],
      "text/plain": [
       "| 19810     | 2m 28s        | 2.10939e+06    | 0               |"
      ]
     },
     "metadata": {},
     "output_type": "display_data"
    },
    {
     "data": {
      "text/html": [
       "<pre>| 19820     | 2m 28s        | 2.35723e+06    | 0               |</pre>"
      ],
      "text/plain": [
       "| 19820     | 2m 28s        | 2.35723e+06    | 0               |"
      ]
     },
     "metadata": {},
     "output_type": "display_data"
    },
    {
     "data": {
      "text/html": [
       "<pre>| 19830     | 2m 28s        | 4.08106e+06    | 0               |</pre>"
      ],
      "text/plain": [
       "| 19830     | 2m 28s        | 4.08106e+06    | 0               |"
      ]
     },
     "metadata": {},
     "output_type": "display_data"
    },
    {
     "data": {
      "text/html": [
       "<pre>| 19840     | 2m 28s        | 2.24493e+06    | 0               |</pre>"
      ],
      "text/plain": [
       "| 19840     | 2m 28s        | 2.24493e+06    | 0               |"
      ]
     },
     "metadata": {},
     "output_type": "display_data"
    },
    {
     "data": {
      "text/html": [
       "<pre>| 19850     | 2m 28s        | 4.42499e+06    | 0               |</pre>"
      ],
      "text/plain": [
       "| 19850     | 2m 28s        | 4.42499e+06    | 0               |"
      ]
     },
     "metadata": {},
     "output_type": "display_data"
    },
    {
     "data": {
      "text/html": [
       "<pre>| 19860     | 2m 28s        | 2.73345e+06    | 0               |</pre>"
      ],
      "text/plain": [
       "| 19860     | 2m 28s        | 2.73345e+06    | 0               |"
      ]
     },
     "metadata": {},
     "output_type": "display_data"
    },
    {
     "data": {
      "text/html": [
       "<pre>| 19870     | 2m 28s        | 3.14621e+06    | 0               |</pre>"
      ],
      "text/plain": [
       "| 19870     | 2m 28s        | 3.14621e+06    | 0               |"
      ]
     },
     "metadata": {},
     "output_type": "display_data"
    },
    {
     "data": {
      "text/html": [
       "<pre>| 19880     | 2m 28s        | 2.37031e+06    | 0               |</pre>"
      ],
      "text/plain": [
       "| 19880     | 2m 28s        | 2.37031e+06    | 0               |"
      ]
     },
     "metadata": {},
     "output_type": "display_data"
    },
    {
     "data": {
      "text/html": [
       "<pre>| 19890     | 2m 29s        | 2.34072e+06    | 0               |</pre>"
      ],
      "text/plain": [
       "| 19890     | 2m 29s        | 2.34072e+06    | 0               |"
      ]
     },
     "metadata": {},
     "output_type": "display_data"
    },
    {
     "data": {
      "text/html": [
       "<pre>| 19900     | 2m 29s        | 2.37644e+06    | 0               |</pre>"
      ],
      "text/plain": [
       "| 19900     | 2m 29s        | 2.37644e+06    | 0               |"
      ]
     },
     "metadata": {},
     "output_type": "display_data"
    },
    {
     "data": {
      "text/html": [
       "<pre>| 19910     | 2m 29s        | 2.3485e+06     | 0               |</pre>"
      ],
      "text/plain": [
       "| 19910     | 2m 29s        | 2.3485e+06     | 0               |"
      ]
     },
     "metadata": {},
     "output_type": "display_data"
    },
    {
     "data": {
      "text/html": [
       "<pre>| 19920     | 2m 29s        | 2.2954e+06     | 0               |</pre>"
      ],
      "text/plain": [
       "| 19920     | 2m 29s        | 2.2954e+06     | 0               |"
      ]
     },
     "metadata": {},
     "output_type": "display_data"
    },
    {
     "data": {
      "text/html": [
       "<pre>| 19930     | 2m 29s        | 2.28059e+06    | 0               |</pre>"
      ],
      "text/plain": [
       "| 19930     | 2m 29s        | 2.28059e+06    | 0               |"
      ]
     },
     "metadata": {},
     "output_type": "display_data"
    },
    {
     "data": {
      "text/html": [
       "<pre>| 19940     | 2m 29s        | 2.3452e+06     | 0               |</pre>"
      ],
      "text/plain": [
       "| 19940     | 2m 29s        | 2.3452e+06     | 0               |"
      ]
     },
     "metadata": {},
     "output_type": "display_data"
    },
    {
     "data": {
      "text/html": [
       "<pre>| 19950     | 2m 29s        | 2.42281e+06    | 0               |</pre>"
      ],
      "text/plain": [
       "| 19950     | 2m 29s        | 2.42281e+06    | 0               |"
      ]
     },
     "metadata": {},
     "output_type": "display_data"
    },
    {
     "data": {
      "text/html": [
       "<pre>| 19960     | 2m 29s        | 2.41485e+06    | 0               |</pre>"
      ],
      "text/plain": [
       "| 19960     | 2m 29s        | 2.41485e+06    | 0               |"
      ]
     },
     "metadata": {},
     "output_type": "display_data"
    },
    {
     "data": {
      "text/html": [
       "<pre>| 19970     | 2m 29s        | 2.38075e+06    | 0               |</pre>"
      ],
      "text/plain": [
       "| 19970     | 2m 29s        | 2.38075e+06    | 0               |"
      ]
     },
     "metadata": {},
     "output_type": "display_data"
    },
    {
     "data": {
      "text/html": [
       "<pre>| 19980     | 2m 29s        | 2.31157e+06    | 0               |</pre>"
      ],
      "text/plain": [
       "| 19980     | 2m 29s        | 2.31157e+06    | 0               |"
      ]
     },
     "metadata": {},
     "output_type": "display_data"
    },
    {
     "data": {
      "text/html": [
       "<pre>| 19990     | 2m 29s        | 2.4082e+06     | 0               |</pre>"
      ],
      "text/plain": [
       "| 19990     | 2m 29s        | 2.4082e+06     | 0               |"
      ]
     },
     "metadata": {},
     "output_type": "display_data"
    },
    {
     "data": {
      "text/html": [
       "<pre>| 20000     | 2m 29s        | 2.39533e+06    | 0               |</pre>"
      ],
      "text/plain": [
       "| 20000     | 2m 29s        | 2.39533e+06    | 0               |"
      ]
     },
     "metadata": {},
     "output_type": "display_data"
    },
    {
     "data": {
      "text/html": [
       "<pre>+-----------+---------------+----------------+-----------------+</pre>"
      ],
      "text/plain": [
       "+-----------+---------------+----------------+-----------------+"
      ]
     },
     "metadata": {},
     "output_type": "display_data"
    }
   ],
   "source": [
    "topic_model = turicreate.topic_model.create(proj_docs, num_topics=8, num_iterations=20000)"
   ]
  },
  {
   "cell_type": "code",
   "execution_count": 226,
   "id": "c8db88f8",
   "metadata": {},
   "outputs": [
    {
     "data": {
      "text/plain": [
       "Class                          : TopicModel\n",
       "\n",
       "Schema\n",
       "------\n",
       "Vocabulary Size                : 5413\n",
       "\n",
       "Settings\n",
       "--------\n",
       "Number of Topics               : 8\n",
       "alpha                          : 6.25\n",
       "beta                           : 0.1\n",
       "Iterations                     : 20000\n",
       "Training time                  : 149.9096\n",
       "Verbose                        : True\n",
       "\n",
       "Accessible fields             : \n",
       "m.topics                      : An SFrame containing the topics.\n",
       "m.vocabulary                  : An SArray containing the words in the vocabulary.\n",
       "Useful methods                : \n",
       "m.get_topics()                : Get the most probable words per topic.\n",
       "m.predict(new_docs)           : Make predictions for new documents."
      ]
     },
     "execution_count": 226,
     "metadata": {},
     "output_type": "execute_result"
    }
   ],
   "source": [
    "topic_model"
   ]
  },
  {
   "cell_type": "markdown",
   "id": "ebc46945",
   "metadata": {},
   "source": [
    "### Assigning names to the clusters created based on the top words in each cluster"
   ]
  },
  {
   "cell_type": "code",
   "execution_count": 323,
   "id": "4ae272d1",
   "metadata": {},
   "outputs": [
    {
     "data": {
      "text/plain": [
       "[['user',\n",
       "  'problem',\n",
       "  'app',\n",
       "  'women',\n",
       "  'users',\n",
       "  'features',\n",
       "  'information',\n",
       "  'location',\n",
       "  'access',\n",
       "  'provided',\n",
       "  'providing',\n",
       "  'feel',\n",
       "  'safe',\n",
       "  'feature',\n",
       "  'live',\n",
       "  'issue',\n",
       "  'based',\n",
       "  'news',\n",
       "  'shared',\n",
       "  'emergency',\n",
       "  'give',\n",
       "  'police',\n",
       "  'videos',\n",
       "  'details',\n",
       "  'number',\n",
       "  'security',\n",
       "  'stations',\n",
       "  'areas',\n",
       "  'sos',\n",
       "  '⭐'],\n",
       " ['problem',\n",
       "  '1',\n",
       "  '2',\n",
       "  'due',\n",
       "  'farmers',\n",
       "  'quality',\n",
       "  'smart',\n",
       "  '3',\n",
       "  'good',\n",
       "  'accidents',\n",
       "  'crops',\n",
       "  'information',\n",
       "  'create',\n",
       "  '4',\n",
       "  'made',\n",
       "  'traffic',\n",
       "  'prices',\n",
       "  'car',\n",
       "  'price',\n",
       "  'buying',\n",
       "  'water',\n",
       "  'important',\n",
       "  'supply',\n",
       "  'human',\n",
       "  'parking',\n",
       "  'sell',\n",
       "  'businesses',\n",
       "  'stocks',\n",
       "  'customer',\n",
       "  'systems'],\n",
       " ['solves',\n",
       "  'problem',\n",
       "  'students',\n",
       "  'online',\n",
       "  'find',\n",
       "  'student',\n",
       "  'web',\n",
       "  'learning',\n",
       "  'place',\n",
       "  'making',\n",
       "  'open',\n",
       "  'education',\n",
       "  'form',\n",
       "  'tool',\n",
       "  'face',\n",
       "  'team',\n",
       "  'created',\n",
       "  'make',\n",
       "  'teachers',\n",
       "  'youtube',\n",
       "  'college',\n",
       "  'dashboard',\n",
       "  'hostel',\n",
       "  'knowledge',\n",
       "  'notes',\n",
       "  'platforms',\n",
       "  'aims',\n",
       "  'learn',\n",
       "  'million',\n",
       "  'shopping'],\n",
       " ['users',\n",
       "  'user',\n",
       "  'platform',\n",
       "  'problem',\n",
       "  'nft',\n",
       "  'solves',\n",
       "  'based',\n",
       "  'nfts',\n",
       "  'chain',\n",
       "  'contract',\n",
       "  'provide',\n",
       "  'blockchain',\n",
       "  'stock',\n",
       "  'process',\n",
       "  'decentralized',\n",
       "  'project',\n",
       "  'bot',\n",
       "  'buy',\n",
       "  'amount',\n",
       "  'branded',\n",
       "  'long',\n",
       "  'main',\n",
       "  'option',\n",
       "  'peer',\n",
       "  'prediction',\n",
       "  'wallet',\n",
       "  'defi',\n",
       "  'generate',\n",
       "  'marketplace',\n",
       "  'multiple'],\n",
       " ['people',\n",
       "  'application',\n",
       "  'covid',\n",
       "  'food',\n",
       "  'make',\n",
       "  'doctor',\n",
       "  'patients',\n",
       "  'pandemic',\n",
       "  'data',\n",
       "  'patient',\n",
       "  'product',\n",
       "  'spoon',\n",
       "  'experience',\n",
       "  'contact',\n",
       "  'create',\n",
       "  '19',\n",
       "  'aim',\n",
       "  'doctors',\n",
       "  'hospital',\n",
       "  'hospitals',\n",
       "  'case',\n",
       "  'diseases',\n",
       "  'user',\n",
       "  'mobile',\n",
       "  'patient’s',\n",
       "  'disease',\n",
       "  'keeping',\n",
       "  'monitor',\n",
       "  'home',\n",
       "  'progress'],\n",
       " ['people',\n",
       "  'health',\n",
       "  'platform',\n",
       "  'problems',\n",
       "  'mental',\n",
       "  'medicines',\n",
       "  'world',\n",
       "  'solves',\n",
       "  'website',\n",
       "  'social',\n",
       "  'india',\n",
       "  'carbon',\n",
       "  'day',\n",
       "  'related',\n",
       "  'lot',\n",
       "  'medicine',\n",
       "  'current',\n",
       "  'issues',\n",
       "  'daily',\n",
       "  'share',\n",
       "  'depression',\n",
       "  'helps',\n",
       "  'anxiety',\n",
       "  'generic',\n",
       "  'lack',\n",
       "  'list',\n",
       "  'person',\n",
       "  'provide',\n",
       "  'society',\n",
       "  'cases'],\n",
       " ['solves',\n",
       "  'solution',\n",
       "  'work',\n",
       "  'video',\n",
       "  'problem',\n",
       "  'project',\n",
       "  'person',\n",
       "  'data',\n",
       "  'required',\n",
       "  'stream',\n",
       "  'system',\n",
       "  'working',\n",
       "  'level',\n",
       "  'order',\n",
       "  'code',\n",
       "  'connect',\n",
       "  'feather',\n",
       "  'major',\n",
       "  'software',\n",
       "  'virtual',\n",
       "  'digital',\n",
       "  'item',\n",
       "  'money',\n",
       "  'points',\n",
       "  'post',\n",
       "  'simply',\n",
       "  'technology',\n",
       "  'fitness',\n",
       "  'text',\n",
       "  'times'],\n",
       " ['time',\n",
       "  'solves',\n",
       "  'app',\n",
       "  'system',\n",
       "  'services',\n",
       "  'products',\n",
       "  'content',\n",
       "  'development',\n",
       "  'customers',\n",
       "  'service',\n",
       "  'scrolling',\n",
       "  'problem',\n",
       "  'product',\n",
       "  'model',\n",
       "  'idea',\n",
       "  'track',\n",
       "  'present',\n",
       "  'apps',\n",
       "  'real',\n",
       "  'book',\n",
       "  'data',\n",
       "  'soil',\n",
       "  'sustainable',\n",
       "  'free',\n",
       "  'game',\n",
       "  'home',\n",
       "  'internet',\n",
       "  'public',\n",
       "  'event',\n",
       "  'point']]"
      ]
     },
     "execution_count": 323,
     "metadata": {},
     "output_type": "execute_result"
    }
   ],
   "source": [
    "[theme['words'] for theme in topic_model.get_topics(output_type='topic_words', num_words=30)]"
   ]
  },
  {
   "cell_type": "code",
   "execution_count": 324,
   "id": "de57bec1",
   "metadata": {},
   "outputs": [],
   "source": [
    "themes = ['safety and wellbeing',\n",
    "          'general wellfare',\n",
    "          'education',\n",
    "          'science and research',\n",
    "          'health and wellness',\n",
    "          'mental health',\n",
    "          'technology',\n",
    "          'miscellaneous ',\n",
    "          ]"
   ]
  },
  {
   "cell_type": "markdown",
   "id": "6a39a754",
   "metadata": {},
   "source": [
    "### Saving the model"
   ]
  },
  {
   "cell_type": "code",
   "execution_count": 325,
   "id": "9210839a",
   "metadata": {},
   "outputs": [],
   "source": [
    "topic_model.save('/Users/adi/Desktop/CaffieneOverflow/Clustered Data/Models/LDA_model')"
   ]
  },
  {
   "cell_type": "code",
   "execution_count": 326,
   "id": "d84b1388",
   "metadata": {},
   "outputs": [],
   "source": [
    "topic_model = turicreate.load_model('/Users/adi/Desktop/CaffieneOverflow/Clustered Data/Models/LDA_model')"
   ]
  },
  {
   "cell_type": "code",
   "execution_count": 327,
   "id": "c746b19d",
   "metadata": {},
   "outputs": [
    {
     "data": {
      "text/plain": [
       "{'desc': 'Live simply so that others may simply live',\n",
       " 'devfolioLink': 'https://devfolio.co/submissions/share-and-care-a-food-management-web-application-d39a',\n",
       " 'githubLinks': ['https://github.com/aniruddha2000/ShareAndCare'],\n",
       " 'longDesc': 'The problem Share And Care - A Food Management Web Application solves\\nFood wastage is a real concern at places where a lot of ready-to-eat food is produced. Create a web/mobile platform to put up leftover food for the nearby locals.\\nShare-and-Care is a web app designed to handle such scenarios. People can log in to the Share-and-Care website, create an account, upload details about leftover food by creating a food post, see and filter global food posts. \\nWith this web app, we aim to solve the food disbalance in our society, by simply posting about the details of the leftover or excess food. The government organisations, NGOs or people who are in need can simply follow the notifications of the app to get post notifications and may respond accordingly.',\n",
       " 'name': 'Share And Care - A Food Management Web Application',\n",
       " 'special_mention': ' ',\n",
       " 'stacksUsed': ['jQuery',\n",
       "  'HTML',\n",
       "  'CSS',\n",
       "  'Django',\n",
       "  'Python',\n",
       "  'Bootstrap',\n",
       "  'django-filter',\n",
       "  'django-countries',\n",
       "  'jinja-templates'],\n",
       " 'word_count': {'respond': 1.0,\n",
       "  'get': 1.0,\n",
       "  'follow': 1.0,\n",
       "  'need': 1.0,\n",
       "  'are': 1.0,\n",
       "  'ngos': 1.0,\n",
       "  'posting': 1.0,\n",
       "  'simply': 2.0,\n",
       "  'notifications': 2.0,\n",
       "  'disbalance': 1.0,\n",
       "  'solve': 1.0,\n",
       "  'aim': 1.0,\n",
       "  'posts': 1.0,\n",
       "  'see': 1.0,\n",
       "  'global': 1.0,\n",
       "  'post': 2.0,\n",
       "  'by': 2.0,\n",
       "  'organisations': 1.0,\n",
       "  'about': 2.0,\n",
       "  'people': 2.0,\n",
       "  'upload': 1.0,\n",
       "  'account': 1.0,\n",
       "  'solves': 1.0,\n",
       "  'log': 1.0,\n",
       "  'society': 1.0,\n",
       "  'food': 9.0,\n",
       "  'can': 2.0,\n",
       "  'the': 9.0,\n",
       "  'website': 1.0,\n",
       "  'or': 2.0,\n",
       "  'scenarios': 1.0,\n",
       "  'excess': 1.0,\n",
       "  'in': 3.0,\n",
       "  'nearby': 1.0,\n",
       "  'create': 2.0,\n",
       "  'handle': 1.0,\n",
       "  'share': 3.0,\n",
       "  'where': 1.0,\n",
       "  'for': 1.0,\n",
       "  'this': 1.0,\n",
       "  'platform': 1.0,\n",
       "  'government': 1.0,\n",
       "  'app': 3.0,\n",
       "  'mobile': 1.0,\n",
       "  'eat': 1.0,\n",
       "  'filter': 1.0,\n",
       "  'creating': 1.0,\n",
       "  'an': 1.0,\n",
       "  'wastage': 1.0,\n",
       "  'put': 1.0,\n",
       "  'ready': 1.0,\n",
       "  'up': 1.0,\n",
       "  'of': 3.0,\n",
       "  'designed': 1.0,\n",
       "  'accordingly': 1.0,\n",
       "  'places': 1.0,\n",
       "  'produced': 1.0,\n",
       "  'who': 1.0,\n",
       "  'application': 1.0,\n",
       "  'lot': 1.0,\n",
       "  'locals': 1.0,\n",
       "  'at': 1.0,\n",
       "  'may': 1.0,\n",
       "  'details': 2.0,\n",
       "  'with': 1.0,\n",
       "  'leftover': 3.0,\n",
       "  'care': 3.0,\n",
       "  'web': 4.0,\n",
       "  'real': 1.0,\n",
       "  'is': 3.0,\n",
       "  'problem': 1.0,\n",
       "  'concern': 1.0,\n",
       "  'our': 1.0,\n",
       "  'to': 6.0,\n",
       "  'management': 1.0,\n",
       "  'and': 5.0,\n",
       "  'we': 1.0,\n",
       "  'a': 6.0,\n",
       "  'such': 1.0},\n",
       " 'tf_idf': {'respond': 5.793013608384144,\n",
       "  'get': 1.5303337313428282,\n",
       "  'follow': 4.694401319716034,\n",
       "  'need': 2.0318134926905813,\n",
       "  'are': 0.594516577118318,\n",
       "  'ngos': 4.406719247264253,\n",
       "  'posting': 5.793013608384144,\n",
       "  'simply': 6.456128501845214,\n",
       "  'notifications': 6.980857030780196,\n",
       "  'disbalance': 5.793013608384144,\n",
       "  'solve': 2.7484911706607207,\n",
       "  'aim': 2.614959778036198,\n",
       "  'posts': 4.001254139156089,\n",
       "  'see': 2.7484911706607207,\n",
       "  'global': 3.228064250922607,\n",
       "  'post': 6.790236671171546,\n",
       "  'by': 1.3027001037629677,\n",
       "  'organisations': 5.099866427824199,\n",
       "  'about': 3.1766419779863555,\n",
       "  'people': 2.1136303199792965,\n",
       "  'upload': 3.8471034593288302,\n",
       "  'account': 3.8471034593288302,\n",
       "  'solves': 0.0,\n",
       "  'log': 4.001254139156089,\n",
       "  'society': 3.228064250922607,\n",
       "  'food': 23.16724005164349,\n",
       "  'can': 0.9794174006501358,\n",
       "  'the': 0.0,\n",
       "  'website': 2.327277705584417,\n",
       "  'or': 1.9293997421636853,\n",
       "  'scenarios': 5.793013608384144,\n",
       "  'excess': 5.099866427824199,\n",
       "  'in': 0.8630462173553426,\n",
       "  'nearby': 3.395118335585773,\n",
       "  'create': 3.9727022372276477,\n",
       "  'handle': 3.8471034593288302,\n",
       "  'share': 8.105913465077483,\n",
       "  'where': 1.3503623518938273,\n",
       "  'for': 0.3724786091118579,\n",
       "  'this': 0.6225296133459919,\n",
       "  'platform': 1.6186263384885067,\n",
       "  'government': 3.595789031047924,\n",
       "  'app': 4.466845545539922,\n",
       "  'mobile': 2.4257177783976696,\n",
       "  'eat': 3.713572066704308,\n",
       "  'filter': 4.406719247264253,\n",
       "  'creating': 3.595789031047924,\n",
       "  'an': 0.782378314287888,\n",
       "  'wastage': 4.183575695950044,\n",
       "  'put': 3.0849634072819336,\n",
       "  'ready': 3.8471034593288302,\n",
       "  'up': 1.6821397442108323,\n",
       "  'of': 0.5949066863469137,\n",
       "  'designed': 3.153956278768885,\n",
       "  'accordingly': 4.001254139156089,\n",
       "  'places': 4.406719247264253,\n",
       "  'produced': 4.001254139156089,\n",
       "  'who': 1.5883209889931778,\n",
       "  'application': 1.8040295618198694,\n",
       "  'lot': 2.46080909820894,\n",
       "  'locals': 5.793013608384144,\n",
       "  'at': 1.1295745142720766,\n",
       "  'may': 2.5349170703626616,\n",
       "  'details': 5.805283700975958,\n",
       "  'with': 0.5565716455541946,\n",
       "  'leftover': 13.220157741792761,\n",
       "  'care': 10.471285546170293,\n",
       "  'web': 10.630077569819976,\n",
       "  'real': 2.5349170703626616,\n",
       "  'is': 1.0778748144897121,\n",
       "  'problem': 0.0,\n",
       "  'concern': 4.406719247264253,\n",
       "  'our': 0.8730326825560188,\n",
       "  'to': 0.7595215216302699,\n",
       "  'management': 3.0849634072819336,\n",
       "  'and': 0.7378335537045306,\n",
       "  'we': 0.6339583091696147,\n",
       "  'a': 1.605364015514159,\n",
       "  'such': 1.9863511186138239},\n",
       " 'lda': array('d', [0.09722222222222222, 0.057539682539682536, 0.09722222222222222, 0.08928571428571429, 0.22420634920634921, 0.14484126984126985, 0.1527777777777778, 0.13690476190476192]),\n",
       " 'result': {'average probabilities': 0.2425396825396825,\n",
       "  'themes': 'health and wellness'},\n",
       " 'label': 'health and wellness'}"
      ]
     },
     "execution_count": 327,
     "metadata": {},
     "output_type": "execute_result"
    }
   ],
   "source": [
    "projects[0]"
   ]
  },
  {
   "cell_type": "markdown",
   "id": "ff3969e4",
   "metadata": {},
   "source": [
    "### Testing the model predictions"
   ]
  },
  {
   "cell_type": "code",
   "execution_count": 328,
   "id": "8e23c41b",
   "metadata": {},
   "outputs": [
    {
     "data": {
      "text/plain": [
       "dtype: str\n",
       "Rows: ?\n",
       "['The problem Share And Care - A Food Management Web Application solves\\nFood wastage is a real concern at places where a lot of ready-to-eat food is produced. Create a web/mobile platform to put up leftover food for the nearby locals.\\nShare-and-Care is a web app designed to handle such scenarios. People can log in to the Share-and-Care website, create an account, upload details about leftover food by creating a food post, see and filter global food posts. \\nWith this web app, we aim to solve the food disbalance in our society, by simply posting about the details of the leftover or excess food. The government organisations, NGOs or people who are in need can simply follow the notifications of the app to get post notifications and may respond accordingly.', ... ]"
      ]
     },
     "execution_count": 328,
     "metadata": {},
     "output_type": "execute_result"
    }
   ],
   "source": [
    "projects[projects['name']=='Share And Care - A Food Management Web Application']['longDesc']"
   ]
  },
  {
   "cell_type": "code",
   "execution_count": 329,
   "id": "6e0262f9",
   "metadata": {},
   "outputs": [
    {
     "name": "stdout",
     "output_type": "stream",
     "text": [
      "+---------------------+---------------------+----------------------+\n",
      "|    predictions-1    |    predictions-2    |    topics/themes     |\n",
      "+---------------------+---------------------+----------------------+\n",
      "| 0.12103174603174603 | 0.12103174603174603 | safety and wellbeing |\n",
      "| 0.06547619047619048 | 0.08134920634920635 |   general wellfare   |\n",
      "| 0.10515873015873016 | 0.12103174603174603 |      education       |\n",
      "|  0.1130952380952381 | 0.09722222222222222 | science and research |\n",
      "| 0.22420634920634921 | 0.22420634920634921 | health and wellness  |\n",
      "| 0.12896825396825398 | 0.12896825396825398 |    mental health     |\n",
      "| 0.12896825396825398 | 0.10515873015873016 |      technology      |\n",
      "|  0.1130952380952381 | 0.12103174603174603 |    miscellaneous     |\n",
      "+---------------------+---------------------+----------------------+\n",
      "[8 rows x 3 columns]\n",
      "\n"
     ]
    }
   ],
   "source": [
    "share_care = turicreate.SArray([proj_docs[int(np.where(projects['name']=='Share And Care - A Food Management Web Application')[0])]])\n",
    "pred1 = topic_model.predict(share_care, output_type='probability')\n",
    "pred2 = topic_model.predict(share_care, output_type='probability')\n",
    "print(turicreate.SFrame({'topics/themes':themes, 'predictions-1':pred1[0], 'predictions-2':pred2[0]}))"
   ]
  },
  {
   "cell_type": "markdown",
   "id": "a9dee250",
   "metadata": {},
   "source": [
    "### Defining a function to run k trials and return the average predictions in each category"
   ]
  },
  {
   "cell_type": "code",
   "execution_count": 356,
   "id": "1ed53a85",
   "metadata": {},
   "outputs": [],
   "source": [
    "def avg_probability(model, project, trials=100):\n",
    "    avg_prob = np.zeros((model.num_topics))\n",
    "    for k in range(trials):\n",
    "        avg_prob += model.predict(project, output_type='probability')[0]\n",
    "    avg_prob = avg_prob/trials\n",
    "    result = turicreate.SFrame({'Category':themes, 'average predictions':avg_prob})\n",
    "    result = result.sort('average predictions', ascending=False)\n",
    "    return result"
   ]
  },
  {
   "cell_type": "code",
   "execution_count": 357,
   "id": "230d277e",
   "metadata": {},
   "outputs": [
    {
     "name": "stdout",
     "output_type": "stream",
     "text": [
      "+----------------------+---------------------+\n",
      "|       Category       | average predictions |\n",
      "+----------------------+---------------------+\n",
      "| health and wellness  | 0.23642857142857135 |\n",
      "|    mental health     | 0.15873015873015903 |\n",
      "| safety and wellbeing | 0.11960317460317457 |\n",
      "|      technology      | 0.11484126984126972 |\n",
      "|    miscellaneous     | 0.11253968253968251 |\n",
      "|      education       |  0.0941269841269841 |\n",
      "| science and research | 0.09396825396825398 |\n",
      "|   general wellfare   | 0.06976190476190486 |\n",
      "+----------------------+---------------------+\n",
      "[8 rows x 2 columns]\n",
      "\n"
     ]
    }
   ],
   "source": [
    "print(avg_probability(topic_model, share_care, 100))"
   ]
  },
  {
   "cell_type": "code",
   "execution_count": 358,
   "id": "6955003f",
   "metadata": {},
   "outputs": [],
   "source": [
    "names = projects['name']"
   ]
  },
  {
   "cell_type": "code",
   "execution_count": 359,
   "id": "9c4f8bda",
   "metadata": {},
   "outputs": [],
   "source": [
    "names = turicreate.SFrame(names)"
   ]
  },
  {
   "cell_type": "code",
   "execution_count": 360,
   "id": "79616bfb",
   "metadata": {},
   "outputs": [
    {
     "name": "stdout",
     "output_type": "stream",
     "text": [
      "+-------------------------------+\n",
      "|               X1              |\n",
      "+-------------------------------+\n",
      "| Share And Care - A Food Ma... |\n",
      "| SheWalksSafe - A Women Saf... |\n",
      "|             Drent             |\n",
      "| ADTech Alcohol Sensing and... |\n",
      "|             Edu V             |\n",
      "|            Vs code            |\n",
      "|            DONTRACK           |\n",
      "|           AnonyMate           |\n",
      "|           DataVault           |\n",
      "|            Peer IO            |\n",
      "+-------------------------------+\n",
      "[328 rows x 1 columns]\n",
      "\n"
     ]
    }
   ],
   "source": [
    "names.print_rows(num_rows=10)"
   ]
  },
  {
   "cell_type": "code",
   "execution_count": 361,
   "id": "ccb557de",
   "metadata": {},
   "outputs": [
    {
     "data": {
      "text/plain": [
       "dtype: str\n",
       "Rows: ?\n",
       "['The problem Healthy You solves\\nInspiration\\nCOVID-19 virus has wreaked havoc around the world, infecting millions and raising fears of uncertainty. As a consequence, Governments have imposed stringent social distancing and lockdown measures to control the spread and contain the pandemic. This has left, those with medical priorities for routine check-ups and other chronic diseases in a quandary. Amidst rising fears of disease infectivity from contaminated surfaces, people have turned their dependency on technology. Technology powered virtual consultation has stepped up into the spotlight aiding healthcare provider organizations, doctors, and patients with digital consultations aired at the safe environs of a hospital/clinic straight to a patient’s home.\\nHow is this tool helpful?\\nAn online consultation with doctors is a major trend that has evolved during the COVID outbreak, after masks, sanitizers and social distancing have caught up with regular routine.\\nWhile doctors are not available 24*7, home remedies can be used which the app provides\\nAdmist the COVID-19 pandemic it is necessary to build a renewed sense of community which is provided by the application.\\nKey Features\\nMakes the appointment booking process seamless\\nProvides online consultation\\nCreating a sense of community\\nA bot that helps with basic health and fitness questions', ... ]"
      ]
     },
     "execution_count": 361,
     "metadata": {},
     "output_type": "execute_result"
    }
   ],
   "source": [
    "projects[projects['name']=='Healthy You']['longDesc']"
   ]
  },
  {
   "cell_type": "markdown",
   "id": "98ffab5e",
   "metadata": {},
   "source": [
    "### Testing the average predictions of another project"
   ]
  },
  {
   "cell_type": "code",
   "execution_count": 362,
   "id": "17f8a097",
   "metadata": {},
   "outputs": [],
   "source": [
    "covid = turicreate.SArray([proj_docs[int(np.where(projects['name']=='Healthy You')[0])]])"
   ]
  },
  {
   "cell_type": "code",
   "execution_count": 363,
   "id": "b98601c4",
   "metadata": {},
   "outputs": [
    {
     "data": {
      "text/plain": [
       "dtype: dict\n",
       "Rows: 1\n",
       "[{'questions': 1.0, 'health': 1.0, 'helps': 1.0, 'seamless': 1.0, 'appointment': 1.0, 'makes': 1.0, 'key': 1.0, 'application': 1.0, 'sense': 2.0, 'renewed': 1.0, 'admist': 1.0, 'build': 1.0, 'booking': 1.0, 'remedies': 1.0, 'caught': 1.0, 'creating': 1.0, 'sanitizers': 1.0, 'masks': 1.0, 'outbreak': 1.0, 'trend': 1.0, 'fitness': 1.0, 'major': 1.0, 'features': 1.0, 'online': 2.0, 'organizations': 1.0, 'tool': 1.0, 'stringent': 1.0, 'consequence': 1.0, 'home': 2.0, 'control': 1.0, 'straight': 1.0, 'aired': 1.0, 'doctors': 3.0, 'provider': 1.0, 'ups': 1.0, 'environs': 1.0, 'imposed': 1.0, 'aiding': 1.0, 'helpful': 1.0, 'clinic': 1.0, '24': 1.0, 'virtual': 1.0, 'regular': 1.0, 'technology': 2.0, 'provided': 1.0, 'dependency': 1.0, 'turned': 1.0, 'safe': 1.0, 'people': 1.0, 'havoc': 1.0, 'disease': 1.0, 'amidst': 1.0, 'quandary': 1.0, 'patients': 1.0, 'chronic': 1.0, 'contaminated': 1.0, 'app': 1.0, 'evolved': 1.0, 'distancing': 2.0, 'routine': 2.0, 'stepped': 1.0, 'left': 1.0, 'pandemic': 2.0, 'patient’s': 1.0, 'social': 2.0, 'governments': 1.0, 'community': 2.0, 'hospital': 1.0, 'uncertainty': 1.0, 'medical': 1.0, 'fears': 2.0, '19': 2.0, 'surfaces': 1.0, 'raising': 1.0, 'diseases': 1.0, 'priorities': 1.0, 'infecting': 1.0, 'infectivity': 1.0, 'world': 1.0, 'bot': 1.0, 'solves': 1.0, 'inspiration': 1.0, 'consultations': 1.0, 'wreaked': 1.0, 'covid': 3.0, '7': 1.0, 'healthcare': 1.0, 'virus': 1.0, 'digital': 1.0, 'check': 1.0, 'millions': 1.0, 'process': 1.0, 'lockdown': 1.0, 'powered': 1.0, 'healthy': 1.0, 'measures': 1.0, 'problem': 1.0, 'spread': 1.0, 'basic': 1.0, 'spotlight': 1.0, 'consultation': 3.0, 'rising': 1.0}]"
      ]
     },
     "execution_count": 363,
     "metadata": {},
     "output_type": "execute_result"
    }
   ],
   "source": [
    "covid"
   ]
  },
  {
   "cell_type": "code",
   "execution_count": 364,
   "id": "86d8a2da",
   "metadata": {},
   "outputs": [
    {
     "name": "stdout",
     "output_type": "stream",
     "text": [
      "+----------------------+---------------------+\n",
      "|       Category       | average predictions |\n",
      "+----------------------+---------------------+\n",
      "| health and wellness  |  0.2512426035502959 |\n",
      "|      education       | 0.18041420118343196 |\n",
      "|      technology      | 0.15520710059171594 |\n",
      "|    mental health     | 0.09923076923076932 |\n",
      "| science and research | 0.09686390532544382 |\n",
      "| safety and wellbeing | 0.08609467455621303 |\n",
      "|    miscellaneous     | 0.06893491124260356 |\n",
      "|   general wellfare   | 0.06201183431952665 |\n",
      "+----------------------+---------------------+\n",
      "[8 rows x 2 columns]\n",
      "\n"
     ]
    }
   ],
   "source": [
    "print(avg_probability(topic_model, covid, 100))"
   ]
  },
  {
   "cell_type": "markdown",
   "id": "6ca5b453",
   "metadata": {},
   "source": [
    "### Defining a function that returns the topic/theme with the highest  average probability"
   ]
  },
  {
   "cell_type": "code",
   "execution_count": 365,
   "id": "127bb750",
   "metadata": {},
   "outputs": [],
   "source": [
    "def prediction_labels(model, project,trials=100):\n",
    "    result = avg_probability(model, project, trials)\n",
    "    result = result[0]\n",
    "    return result"
   ]
  },
  {
   "cell_type": "code",
   "execution_count": 366,
   "id": "d92919e0",
   "metadata": {},
   "outputs": [
    {
     "name": "stdout",
     "output_type": "stream",
     "text": [
      "{'Category': 'health and wellness', 'average predictions': 0.2457988165680473}\n"
     ]
    }
   ],
   "source": [
    "print(prediction_labels(topic_model, covid, 100))"
   ]
  },
  {
   "cell_type": "markdown",
   "id": "985f2ca9",
   "metadata": {},
   "source": [
    "### Assigning every project with the highest predicted topic/theme"
   ]
  },
  {
   "cell_type": "code",
   "execution_count": 367,
   "id": "30c84efc",
   "metadata": {},
   "outputs": [],
   "source": [
    "avg_pred = []\n",
    "for doc in projects:\n",
    "    l = []\n",
    "    l.append(doc['word_count'])\n",
    "    project = turicreate.SArray(l)\n",
    "    result = prediction_labels(topic_model, project, trials=100)\n",
    "    avg_pred.append(result)\n",
    "    \n"
   ]
  },
  {
   "cell_type": "code",
   "execution_count": 368,
   "id": "328967e0",
   "metadata": {},
   "outputs": [
    {
     "data": {
      "text/plain": [
       "328"
      ]
     },
     "execution_count": 368,
     "metadata": {},
     "output_type": "execute_result"
    }
   ],
   "source": [
    "len(avg_pred)"
   ]
  },
  {
   "cell_type": "code",
   "execution_count": 369,
   "id": "8fd3d66e",
   "metadata": {},
   "outputs": [
    {
     "data": {
      "text/plain": [
       "[{'Category': 'health and wellness',\n",
       "  'average predictions': 0.24015873015873015},\n",
       " {'Category': 'safety and wellbeing',\n",
       "  'average predictions': 0.7440259740259739},\n",
       " {'Category': 'science and research',\n",
       "  'average predictions': 0.44722222222222213},\n",
       " {'Category': 'general wellfare', 'average predictions': 0.21301886792452837},\n",
       " {'Category': 'health and wellness',\n",
       "  'average predictions': 0.17968253968253994},\n",
       " {'Category': 'technology', 'average predictions': 0.1587037037037039},\n",
       " {'Category': 'education', 'average predictions': 0.19586206896551733},\n",
       " {'Category': 'education', 'average predictions': 0.13810344827586213},\n",
       " {'Category': 'mental health', 'average predictions': 0.17269841269841277},\n",
       " {'Category': 'education', 'average predictions': 0.27682926829268284},\n",
       " {'Category': 'science and research',\n",
       "  'average predictions': 0.20478260869565224},\n",
       " {'Category': 'health and wellness',\n",
       "  'average predictions': 0.22285714285714298},\n",
       " {'Category': 'miscellaneous ', 'average predictions': 0.21778688524590165},\n",
       " {'Category': 'mental health', 'average predictions': 0.43711538461538446},\n",
       " {'Category': 'health and wellness',\n",
       "  'average predictions': 0.15212765957446794},\n",
       " {'Category': 'mental health', 'average predictions': 0.18554455445544568},\n",
       " {'Category': 'mental health', 'average predictions': 0.24202531645569633},\n",
       " {'Category': 'general wellfare', 'average predictions': 0.2836842105263158},\n",
       " {'Category': 'general wellfare', 'average predictions': 0.29705357142857153},\n",
       " {'Category': 'education', 'average predictions': 0.18800000000000006},\n",
       " {'Category': 'safety and wellbeing',\n",
       "  'average predictions': 0.19233009708737867},\n",
       " {'Category': 'health and wellness',\n",
       "  'average predictions': 0.22763157894736838},\n",
       " {'Category': 'safety and wellbeing',\n",
       "  'average predictions': 0.16083333333333324},\n",
       " {'Category': 'education', 'average predictions': 0.37475675675675696},\n",
       " {'Category': 'general wellfare', 'average predictions': 0.19724770642201844},\n",
       " {'Category': 'mental health', 'average predictions': 0.22370192307692313},\n",
       " {'Category': 'science and research',\n",
       "  'average predictions': 0.2649753694581283},\n",
       " {'Category': 'general wellfare', 'average predictions': 0.45135922330097095},\n",
       " {'Category': 'mental health', 'average predictions': 0.25972222222222213},\n",
       " {'Category': 'education', 'average predictions': 0.40724770642201835},\n",
       " {'Category': 'safety and wellbeing',\n",
       "  'average predictions': 0.39977777777777773},\n",
       " {'Category': 'education', 'average predictions': 0.1750684931506848},\n",
       " {'Category': 'education', 'average predictions': 0.15318181818181834},\n",
       " {'Category': 'safety and wellbeing',\n",
       "  'average predictions': 0.27303921568627454},\n",
       " {'Category': 'mental health', 'average predictions': 0.15898550724637675},\n",
       " {'Category': 'mental health', 'average predictions': 0.20353846153846167},\n",
       " {'Category': 'miscellaneous ', 'average predictions': 0.2308333333333335},\n",
       " {'Category': 'health and wellness',\n",
       "  'average predictions': 0.7692307692307696},\n",
       " {'Category': 'technology', 'average predictions': 0.31051094890510955},\n",
       " {'Category': 'safety and wellbeing',\n",
       "  'average predictions': 0.15525423728813567},\n",
       " {'Category': 'education', 'average predictions': 0.14921052631578952},\n",
       " {'Category': 'education', 'average predictions': 0.17959595959595964},\n",
       " {'Category': 'health and wellness', 'average predictions': 0.18625},\n",
       " {'Category': 'technology', 'average predictions': 0.17886666666666667},\n",
       " {'Category': 'education', 'average predictions': 0.31134715025906756},\n",
       " {'Category': 'education', 'average predictions': 0.20963855421686745},\n",
       " {'Category': 'education', 'average predictions': 0.18103448275862075},\n",
       " {'Category': 'miscellaneous ', 'average predictions': 0.16683333333333328},\n",
       " {'Category': 'safety and wellbeing',\n",
       "  'average predictions': 0.6881720430107526},\n",
       " {'Category': 'general wellfare', 'average predictions': 0.2365517241379311},\n",
       " {'Category': 'miscellaneous ', 'average predictions': 0.15363636363636374},\n",
       " {'Category': 'safety and wellbeing',\n",
       "  'average predictions': 0.15253968253968275},\n",
       " {'Category': 'science and research',\n",
       "  'average predictions': 0.43402777777777773},\n",
       " {'Category': 'mental health', 'average predictions': 0.37307086614173207},\n",
       " {'Category': 'general wellfare', 'average predictions': 0.2761797752808988},\n",
       " {'Category': 'general wellfare', 'average predictions': 0.20958762886597948},\n",
       " {'Category': 'health and wellness', 'average predictions': 0.155875},\n",
       " {'Category': 'health and wellness',\n",
       "  'average predictions': 0.2086813186813184},\n",
       " {'Category': 'technology', 'average predictions': 0.14381818181818173},\n",
       " {'Category': 'science and research',\n",
       "  'average predictions': 0.3155487804878048},\n",
       " {'Category': 'safety and wellbeing',\n",
       "  'average predictions': 0.7443722943722944},\n",
       " {'Category': 'education', 'average predictions': 0.29777777777777764},\n",
       " {'Category': 'mental health', 'average predictions': 0.1595505617977527},\n",
       " {'Category': 'health and wellness',\n",
       "  'average predictions': 0.32492146596858645},\n",
       " {'Category': 'science and research',\n",
       "  'average predictions': 0.4424102564102567},\n",
       " {'Category': 'mental health', 'average predictions': 0.23172839506172846},\n",
       " {'Category': 'education', 'average predictions': 0.2285211267605635},\n",
       " {'Category': 'mental health', 'average predictions': 0.20234042553191475},\n",
       " {'Category': 'miscellaneous ', 'average predictions': 0.2226966292134832},\n",
       " {'Category': 'mental health', 'average predictions': 0.279864864864865},\n",
       " {'Category': 'technology', 'average predictions': 0.680253807106599},\n",
       " {'Category': 'education', 'average predictions': 0.2046236559139783},\n",
       " {'Category': 'miscellaneous ', 'average predictions': 0.20281690140845077},\n",
       " {'Category': 'technology', 'average predictions': 0.24020689655172425},\n",
       " {'Category': 'education', 'average predictions': 0.25586956521739124},\n",
       " {'Category': 'general wellfare', 'average predictions': 0.22792899408284015},\n",
       " {'Category': 'education', 'average predictions': 0.2216923076923078},\n",
       " {'Category': 'mental health', 'average predictions': 0.21267441860465108},\n",
       " {'Category': 'mental health', 'average predictions': 0.22213483146067411},\n",
       " {'Category': 'science and research',\n",
       "  'average predictions': 0.13690909090909067},\n",
       " {'Category': 'miscellaneous ', 'average predictions': 0.18370786516853918},\n",
       " {'Category': 'miscellaneous ', 'average predictions': 0.19927835051546405},\n",
       " {'Category': 'general wellfare', 'average predictions': 0.16364705882352962},\n",
       " {'Category': 'education', 'average predictions': 0.254055944055944},\n",
       " {'Category': 'health and wellness', 'average predictions': 0.324820143884892},\n",
       " {'Category': 'safety and wellbeing',\n",
       "  'average predictions': 0.15237288135593224},\n",
       " {'Category': 'health and wellness',\n",
       "  'average predictions': 0.1603225806451614},\n",
       " {'Category': 'miscellaneous ', 'average predictions': 0.1569642857142857},\n",
       " {'Category': 'safety and wellbeing',\n",
       "  'average predictions': 0.20752808988764035},\n",
       " {'Category': 'health and wellness',\n",
       "  'average predictions': 0.24315217391304358},\n",
       " {'Category': 'miscellaneous ', 'average predictions': 0.686265060240964},\n",
       " {'Category': 'science and research',\n",
       "  'average predictions': 0.1994680851063829},\n",
       " {'Category': 'technology', 'average predictions': 0.2433830845771143},\n",
       " {'Category': 'safety and wellbeing',\n",
       "  'average predictions': 0.16782178217821797},\n",
       " {'Category': 'miscellaneous ', 'average predictions': 0.18619469026548685},\n",
       " {'Category': 'general wellfare', 'average predictions': 0.275},\n",
       " {'Category': 'mental health', 'average predictions': 0.23102564102564116},\n",
       " {'Category': 'miscellaneous ', 'average predictions': 0.14490909090909082},\n",
       " {'Category': 'science and research',\n",
       "  'average predictions': 0.3168000000000001},\n",
       " {'Category': 'mental health', 'average predictions': 0.15041666666666662},\n",
       " {'Category': 'education', 'average predictions': 0.35234375},\n",
       " {'Category': 'mental health', 'average predictions': 0.2651908396946564},\n",
       " {'Category': 'education', 'average predictions': 0.202547169811321},\n",
       " {'Category': 'health and wellness',\n",
       "  'average predictions': 0.20388059701492545},\n",
       " {'Category': 'general wellfare', 'average predictions': 0.23229166666666662},\n",
       " {'Category': 'mental health', 'average predictions': 0.2004205607476635},\n",
       " {'Category': 'technology', 'average predictions': 0.2154819277108434},\n",
       " {'Category': 'health and wellness',\n",
       "  'average predictions': 0.7708653846153852},\n",
       " {'Category': 'miscellaneous ', 'average predictions': 0.20229166666666662},\n",
       " {'Category': 'safety and wellbeing',\n",
       "  'average predictions': 0.19188235294117642},\n",
       " {'Category': 'mental health', 'average predictions': 0.20928571428571435},\n",
       " {'Category': 'education', 'average predictions': 0.46349514563106786},\n",
       " {'Category': 'technology', 'average predictions': 0.16692307692307706},\n",
       " {'Category': 'mental health', 'average predictions': 0.2691304347826086},\n",
       " {'Category': 'health and wellness',\n",
       "  'average predictions': 0.22666666666666657},\n",
       " {'Category': 'miscellaneous ', 'average predictions': 0.23280373831775697},\n",
       " {'Category': 'education', 'average predictions': 0.276328125},\n",
       " {'Category': 'safety and wellbeing',\n",
       "  'average predictions': 0.6110499999999999},\n",
       " {'Category': 'miscellaneous ', 'average predictions': 0.2504794520547946},\n",
       " {'Category': 'education', 'average predictions': 0.21816901408450706},\n",
       " {'Category': 'science and research',\n",
       "  'average predictions': 0.21293478260869567},\n",
       " {'Category': 'miscellaneous ', 'average predictions': 0.23910798122065724},\n",
       " {'Category': 'general wellfare', 'average predictions': 0.3193939393939395},\n",
       " {'Category': 'miscellaneous ', 'average predictions': 0.1694943820224719},\n",
       " {'Category': 'mental health', 'average predictions': 0.34450000000000003},\n",
       " {'Category': 'general wellfare', 'average predictions': 0.4325531914893614},\n",
       " {'Category': 'mental health', 'average predictions': 0.22913978494623638},\n",
       " {'Category': 'education', 'average predictions': 0.13076923076923083},\n",
       " {'Category': 'education', 'average predictions': 0.46663716814159284},\n",
       " {'Category': 'safety and wellbeing',\n",
       "  'average predictions': 0.16215909090909097},\n",
       " {'Category': 'science and research',\n",
       "  'average predictions': 0.4246632124352334},\n",
       " {'Category': 'technology', 'average predictions': 0.18386666666666662},\n",
       " {'Category': 'safety and wellbeing',\n",
       "  'average predictions': 0.13808823529411765},\n",
       " {'Category': 'general wellfare', 'average predictions': 0.15000000000000022},\n",
       " {'Category': 'technology', 'average predictions': 0.15968085106382968},\n",
       " {'Category': 'general wellfare', 'average predictions': 0.14873417721519008},\n",
       " {'Category': 'science and research',\n",
       "  'average predictions': 0.42042016806722704},\n",
       " {'Category': 'technology', 'average predictions': 0.1912244897959184},\n",
       " {'Category': 'technology', 'average predictions': 0.5972357723577228},\n",
       " {'Category': 'technology', 'average predictions': 0.14678571428571432},\n",
       " {'Category': 'miscellaneous ', 'average predictions': 0.49224043715846993},\n",
       " {'Category': 'mental health', 'average predictions': 0.22977528089887653},\n",
       " {'Category': 'technology', 'average predictions': 0.5969105691056903},\n",
       " {'Category': 'education', 'average predictions': 0.15055555555555558},\n",
       " {'Category': 'mental health', 'average predictions': 0.2267619047619048},\n",
       " {'Category': 'education', 'average predictions': 0.21289719626168221},\n",
       " {'Category': 'mental health', 'average predictions': 0.21716216216216214},\n",
       " {'Category': 'education', 'average predictions': 0.14603174603174626},\n",
       " {'Category': 'mental health', 'average predictions': 0.22277227722772291},\n",
       " {'Category': 'mental health', 'average predictions': 0.26019512195121935},\n",
       " {'Category': 'health and wellness',\n",
       "  'average predictions': 0.7680769230769232},\n",
       " {'Category': 'technology', 'average predictions': 0.1501587301587304},\n",
       " {'Category': 'general wellfare', 'average predictions': 0.19799999999999998},\n",
       " {'Category': 'health and wellness',\n",
       "  'average predictions': 0.20035714285714273},\n",
       " {'Category': 'technology', 'average predictions': 0.157878787878788},\n",
       " {'Category': 'miscellaneous ', 'average predictions': 0.4921857923497266},\n",
       " {'Category': 'technology', 'average predictions': 0.1656589147286821},\n",
       " {'Category': 'health and wellness',\n",
       "  'average predictions': 0.25066037735849056},\n",
       " {'Category': 'education', 'average predictions': 0.3913541666666667},\n",
       " {'Category': 'safety and wellbeing',\n",
       "  'average predictions': 0.2573043478260869},\n",
       " {'Category': 'miscellaneous ', 'average predictions': 0.16408450704225358},\n",
       " {'Category': 'miscellaneous ', 'average predictions': 0.17983606557377046},\n",
       " {'Category': 'safety and wellbeing',\n",
       "  'average predictions': 0.34651685393258425},\n",
       " {'Category': 'general wellfare', 'average predictions': 0.269889502762431},\n",
       " {'Category': 'health and wellness', 'average predictions': 0.167142857142857},\n",
       " {'Category': 'science and research',\n",
       "  'average predictions': 0.24171428571428585},\n",
       " {'Category': 'general wellfare', 'average predictions': 0.5214414414414416},\n",
       " {'Category': 'mental health', 'average predictions': 0.1928571428571427},\n",
       " {'Category': 'technology', 'average predictions': 0.14305084745762722},\n",
       " {'Category': 'general wellfare', 'average predictions': 0.22025423728813553},\n",
       " {'Category': 'education', 'average predictions': 0.4147093023255816},\n",
       " {'Category': 'education', 'average predictions': 0.17803030303030312},\n",
       " {'Category': 'miscellaneous ', 'average predictions': 0.6863855421686746},\n",
       " {'Category': 'mental health', 'average predictions': 0.18578034682080918},\n",
       " {'Category': 'mental health', 'average predictions': 0.3559235668789808},\n",
       " {'Category': 'general wellfare', 'average predictions': 0.1644578313253011},\n",
       " {'Category': 'general wellfare', 'average predictions': 0.15854838709677416},\n",
       " {'Category': 'general wellfare', 'average predictions': 0.18279411764705877},\n",
       " {'Category': 'science and research',\n",
       "  'average predictions': 0.24921259842519672},\n",
       " {'Category': 'health and wellness',\n",
       "  'average predictions': 0.17059880239520953},\n",
       " {'Category': 'mental health', 'average predictions': 0.3924193548387096},\n",
       " {'Category': 'science and research',\n",
       "  'average predictions': 0.26554838709677403},\n",
       " {'Category': 'mental health', 'average predictions': 0.5345303867403313},\n",
       " {'Category': 'general wellfare', 'average predictions': 0.17038834951456316},\n",
       " {'Category': 'miscellaneous ', 'average predictions': 0.1987850467289719},\n",
       " {'Category': 'miscellaneous ', 'average predictions': 0.18193749999999995},\n",
       " {'Category': 'health and wellness', 'average predictions': 0.14515625},\n",
       " {'Category': 'mental health', 'average predictions': 0.5364835164835164},\n",
       " {'Category': 'health and wellness',\n",
       "  'average predictions': 0.14862068965517256},\n",
       " {'Category': 'education', 'average predictions': 0.20082352941176485},\n",
       " {'Category': 'safety and wellbeing',\n",
       "  'average predictions': 0.18752808988764041},\n",
       " {'Category': 'science and research',\n",
       "  'average predictions': 0.3664814814814814},\n",
       " {'Category': 'general wellfare', 'average predictions': 0.17724770642201837},\n",
       " {'Category': 'education', 'average predictions': 0.38438356164383547},\n",
       " {'Category': 'mental health', 'average predictions': 0.2422826086956523},\n",
       " {'Category': 'safety and wellbeing', 'average predictions': 0.14425},\n",
       " {'Category': 'mental health', 'average predictions': 0.18984375},\n",
       " {'Category': 'safety and wellbeing',\n",
       "  'average predictions': 0.273695652173913},\n",
       " {'Category': 'general wellfare', 'average predictions': 0.20836206896551726},\n",
       " {'Category': 'mental health', 'average predictions': 0.17318840579710149},\n",
       " {'Category': 'health and wellness',\n",
       "  'average predictions': 0.2077777777777779},\n",
       " {'Category': 'health and wellness',\n",
       "  'average predictions': 0.24750000000000003},\n",
       " {'Category': 'science and research',\n",
       "  'average predictions': 0.2527102803738317},\n",
       " {'Category': 'science and research',\n",
       "  'average predictions': 0.26648148148148165},\n",
       " {'Category': 'education', 'average predictions': 0.41765363128491617},\n",
       " {'Category': 'mental health', 'average predictions': 0.18239583333333337},\n",
       " {'Category': 'mental health', 'average predictions': 0.367522123893805},\n",
       " {'Category': 'health and wellness',\n",
       "  'average predictions': 0.3468595041322315},\n",
       " {'Category': 'mental health', 'average predictions': 0.17467741935483874},\n",
       " {'Category': 'safety and wellbeing',\n",
       "  'average predictions': 0.6083500000000001},\n",
       " {'Category': 'health and wellness',\n",
       "  'average predictions': 0.15246753246753258},\n",
       " {'Category': 'technology', 'average predictions': 0.18282828282828284},\n",
       " {'Category': 'general wellfare', 'average predictions': 0.1969523809523811},\n",
       " {'Category': 'education', 'average predictions': 0.14920000000000003},\n",
       " {'Category': 'safety and wellbeing',\n",
       "  'average predictions': 0.16767441860465113},\n",
       " {'Category': 'miscellaneous ', 'average predictions': 0.1658333333333334},\n",
       " {'Category': 'science and research',\n",
       "  'average predictions': 0.266981981981982},\n",
       " {'Category': 'science and research',\n",
       "  'average predictions': 0.2737563451776651},\n",
       " {'Category': 'miscellaneous ', 'average predictions': 0.13896551724137943},\n",
       " {'Category': 'general wellfare', 'average predictions': 0.22296610169491526},\n",
       " {'Category': 'general wellfare', 'average predictions': 0.6449189189189185},\n",
       " {'Category': 'mental health', 'average predictions': 0.1387037037037038},\n",
       " {'Category': 'technology', 'average predictions': 0.20108280254777072},\n",
       " {'Category': 'general wellfare', 'average predictions': 0.38222222222222235},\n",
       " {'Category': 'technology', 'average predictions': 0.5947154471544708},\n",
       " {'Category': 'general wellfare', 'average predictions': 0.33769230769230746},\n",
       " {'Category': 'safety and wellbeing',\n",
       "  'average predictions': 0.2379999999999999},\n",
       " {'Category': 'mental health', 'average predictions': 0.13999999999999996},\n",
       " {'Category': 'health and wellness',\n",
       "  'average predictions': 0.17499999999999993},\n",
       " {'Category': 'education', 'average predictions': 0.2397029702970298},\n",
       " {'Category': 'science and research',\n",
       "  'average predictions': 0.44938775510204054},\n",
       " {'Category': 'science and research',\n",
       "  'average predictions': 0.35492957746478887},\n",
       " {'Category': 'health and wellness',\n",
       "  'average predictions': 0.2468047337278107},\n",
       " {'Category': 'science and research',\n",
       "  'average predictions': 0.36827814569536416},\n",
       " {'Category': 'mental health', 'average predictions': 0.18432432432432433},\n",
       " {'Category': 'miscellaneous ', 'average predictions': 0.230063694267516},\n",
       " {'Category': 'miscellaneous ', 'average predictions': 0.1681176470588237},\n",
       " {'Category': 'science and research',\n",
       "  'average predictions': 0.2673825503355704},\n",
       " {'Category': 'general wellfare', 'average predictions': 0.436524822695035},\n",
       " {'Category': 'technology', 'average predictions': 0.680659898477157},\n",
       " {'Category': 'education', 'average predictions': 0.37650306748466256},\n",
       " {'Category': 'mental health', 'average predictions': 0.42634482758620706},\n",
       " {'Category': 'science and research',\n",
       "  'average predictions': 0.1635897435897438},\n",
       " {'Category': 'general wellfare', 'average predictions': 0.1827272727272728},\n",
       " {'Category': 'science and research',\n",
       "  'average predictions': 0.18552083333333333},\n",
       " {'Category': 'science and research',\n",
       "  'average predictions': 0.17499999999999993},\n",
       " {'Category': 'mental health', 'average predictions': 0.23084905660377356},\n",
       " {'Category': 'education', 'average predictions': 0.16438596491228055},\n",
       " {'Category': 'science and research',\n",
       "  'average predictions': 0.41603260869565234},\n",
       " {'Category': 'science and research',\n",
       "  'average predictions': 0.3129599999999997},\n",
       " {'Category': 'health and wellness',\n",
       "  'average predictions': 0.18944444444444472},\n",
       " {'Category': 'general wellfare', 'average predictions': 0.39747619047619054},\n",
       " {'Category': 'safety and wellbeing',\n",
       "  'average predictions': 0.27153846153846195},\n",
       " {'Category': 'health and wellness',\n",
       "  'average predictions': 0.7685576923076927},\n",
       " {'Category': 'general wellfare', 'average predictions': 0.3268390804597701},\n",
       " {'Category': 'mental health', 'average predictions': 0.16799999999999982},\n",
       " {'Category': 'mental health', 'average predictions': 0.3873333333333334},\n",
       " {'Category': 'safety and wellbeing',\n",
       "  'average predictions': 0.16783783783783776},\n",
       " {'Category': 'health and wellness',\n",
       "  'average predictions': 0.28420454545454554},\n",
       " {'Category': 'health and wellness',\n",
       "  'average predictions': 0.7673557692307695},\n",
       " {'Category': 'technology', 'average predictions': 0.1454098360655736},\n",
       " {'Category': 'mental health', 'average predictions': 0.13508771929824565},\n",
       " {'Category': 'mental health', 'average predictions': 0.1925899280575541},\n",
       " {'Category': 'technology', 'average predictions': 0.15371794871794894},\n",
       " {'Category': 'general wellfare', 'average predictions': 0.2526984126984127},\n",
       " {'Category': 'miscellaneous ', 'average predictions': 0.3041284403669723},\n",
       " {'Category': 'health and wellness',\n",
       "  'average predictions': 0.1826315789473684},\n",
       " {'Category': 'miscellaneous ', 'average predictions': 0.13811320754716974},\n",
       " {'Category': 'education', 'average predictions': 0.1326923076923077},\n",
       " {'Category': 'science and research',\n",
       "  'average predictions': 0.3189629629629631},\n",
       " {'Category': 'miscellaneous ', 'average predictions': 0.1877600000000002},\n",
       " {'Category': 'science and research',\n",
       "  'average predictions': 0.30953389830508476},\n",
       " {'Category': 'mental health', 'average predictions': 0.3788799999999998},\n",
       " {'Category': 'mental health', 'average predictions': 0.20302325581395347},\n",
       " {'Category': 'mental health', 'average predictions': 0.23164179104477603},\n",
       " {'Category': 'mental health', 'average predictions': 0.1791935483870968},\n",
       " {'Category': 'mental health', 'average predictions': 0.2588151658767772},\n",
       " {'Category': 'science and research',\n",
       "  'average predictions': 0.20108695652173916},\n",
       " {'Category': 'education', 'average predictions': 0.1674590163934426},\n",
       " {'Category': 'education', 'average predictions': 0.1517741935483871},\n",
       " {'Category': 'health and wellness',\n",
       "  'average predictions': 0.3347342995169082},\n",
       " {'Category': 'science and research',\n",
       "  'average predictions': 0.15194805194805197},\n",
       " {'Category': 'miscellaneous ', 'average predictions': 0.6848795180722892},\n",
       " {'Category': 'safety and wellbeing',\n",
       "  'average predictions': 0.1432394366197184},\n",
       " {'Category': 'health and wellness',\n",
       "  'average predictions': 0.3265432098765432},\n",
       " {'Category': 'technology', 'average predictions': 0.2400793650793651},\n",
       " {'Category': 'miscellaneous ', 'average predictions': 0.18188235294117663},\n",
       " {'Category': 'technology', 'average predictions': 0.3611057692307692},\n",
       " {'Category': 'health and wellness', 'average predictions': 0.769807692307693},\n",
       " {'Category': 'science and research',\n",
       "  'average predictions': 0.6017766497461927},\n",
       " {'Category': 'general wellfare', 'average predictions': 0.16640776699029122},\n",
       " {'Category': 'general wellfare', 'average predictions': 0.5231531531531529},\n",
       " {'Category': 'education', 'average predictions': 0.18392000000000017},\n",
       " {'Category': 'mental health', 'average predictions': 0.31615384615384623},\n",
       " {'Category': 'mental health', 'average predictions': 0.21587443946188337},\n",
       " {'Category': 'health and wellness',\n",
       "  'average predictions': 0.1896363636363635},\n",
       " {'Category': 'general wellfare', 'average predictions': 0.1832894736842105},\n",
       " {'Category': 'education', 'average predictions': 0.15633802816901415},\n",
       " {'Category': 'health and wellness',\n",
       "  'average predictions': 0.16246376811594204},\n",
       " {'Category': 'health and wellness',\n",
       "  'average predictions': 0.16166666666666682},\n",
       " {'Category': 'education', 'average predictions': 0.1670491803278688},\n",
       " {'Category': 'mental health', 'average predictions': 0.25141176470588233},\n",
       " {'Category': 'general wellfare', 'average predictions': 0.16206896551724143},\n",
       " {'Category': 'education', 'average predictions': 0.14206896551724146},\n",
       " {'Category': 'safety and wellbeing',\n",
       "  'average predictions': 0.1690178571428572},\n",
       " {'Category': 'safety and wellbeing',\n",
       "  'average predictions': 0.16140845070422535},\n",
       " {'Category': 'miscellaneous ', 'average predictions': 0.12936507936507957},\n",
       " {'Category': 'miscellaneous ', 'average predictions': 0.17769230769230773},\n",
       " {'Category': 'education', 'average predictions': 0.19777777777777797},\n",
       " {'Category': 'health and wellness',\n",
       "  'average predictions': 0.19036363636363635},\n",
       " {'Category': 'science and research',\n",
       "  'average predictions': 0.42473118279569894},\n",
       " {'Category': 'education', 'average predictions': 0.3188725490196078},\n",
       " {'Category': 'safety and wellbeing',\n",
       "  'average predictions': 0.22275000000000006},\n",
       " {'Category': 'technology', 'average predictions': 0.29446666666666677},\n",
       " {'Category': 'general wellfare', 'average predictions': 0.21797297297297288},\n",
       " {'Category': 'education', 'average predictions': 0.2317977528089887},\n",
       " {'Category': 'mental health', 'average predictions': 0.14210526315789485},\n",
       " {'Category': 'education', 'average predictions': 0.20125},\n",
       " {'Category': 'general wellfare', 'average predictions': 0.163717948717949},\n",
       " {'Category': 'education', 'average predictions': 0.23112903225806464},\n",
       " {'Category': 'health and wellness',\n",
       "  'average predictions': 0.3138785046728971},\n",
       " {'Category': 'science and research',\n",
       "  'average predictions': 0.13762711864406782},\n",
       " {'Category': 'technology', 'average predictions': 0.20848000000000017},\n",
       " {'Category': 'mental health', 'average predictions': 0.1697247706422018},\n",
       " {'Category': 'mental health', 'average predictions': 0.1693129770992366},\n",
       " {'Category': 'education', 'average predictions': 0.2296256684491979},\n",
       " {'Category': 'general wellfare', 'average predictions': 0.3913452914798205},\n",
       " {'Category': 'technology', 'average predictions': 0.16949494949494956}]"
      ]
     },
     "execution_count": 369,
     "metadata": {},
     "output_type": "execute_result"
    }
   ],
   "source": [
    "avg_pred"
   ]
  },
  {
   "cell_type": "code",
   "execution_count": 370,
   "id": "6f3885b2",
   "metadata": {},
   "outputs": [],
   "source": [
    "projects['result'] = avg_pred"
   ]
  },
  {
   "cell_type": "code",
   "execution_count": 371,
   "id": "2aec3af8",
   "metadata": {},
   "outputs": [
    {
     "name": "stdout",
     "output_type": "stream",
     "text": [
      "+-------------------------------+-------------------------------+\n",
      "|              name             |             result            |\n",
      "+-------------------------------+-------------------------------+\n",
      "| Share And Care - A Food Ma... | {'Category': 'health and w... |\n",
      "| SheWalksSafe - A Women Saf... | {'Category': 'safety and w... |\n",
      "|             Drent             | {'Category': 'science and ... |\n",
      "| ADTech Alcohol Sensing and... | {'Category': 'general well... |\n",
      "|             Edu V             | {'Category': 'health and w... |\n",
      "|            Vs code            | {'Category': 'technology',... |\n",
      "|            DONTRACK           | {'Category': 'education', ... |\n",
      "|           AnonyMate           | {'Category': 'education', ... |\n",
      "|           DataVault           | {'Category': 'mental healt... |\n",
      "|            Peer IO            | {'Category': 'education', ... |\n",
      "| Stock Price Prediction – M... | {'Category': 'science and ... |\n",
      "| Self -Disinfentive Glove a... | {'Category': 'health and w... |\n",
      "|         Rakshak Drone         | {'Category': 'miscellaneou... |\n",
      "|          PsycheCheck          | {'Category': 'mental healt... |\n",
      "|           Pack-It-Up          | {'Category': 'health and w... |\n",
      "|            Ajnabee            | {'Category': 'mental healt... |\n",
      "|             SOOTHE            | {'Category': 'mental healt... |\n",
      "|             Shiwu             | {'Category': 'general well... |\n",
      "| Mirai Secured with Automation | {'Category': 'general well... |\n",
      "|            MediFast           | {'Category': 'education', ... |\n",
      "|            Crowdly            | {'Category': 'safety and w... |\n",
      "|             RAHAT             | {'Category': 'health and w... |\n",
      "|    Healthify an App for ALL   | {'Category': 'safety and w... |\n",
      "|             Ularn             | {'Category': 'education', ... |\n",
      "|            Agro App           | {'Category': 'general well... |\n",
      "|            EmpowHer           | {'Category': 'mental healt... |\n",
      "|           FarmTract           | {'Category': 'science and ... |\n",
      "|            Ki-Shaan           | {'Category': 'general well... |\n",
      "|        Solar Slab bike        | {'Category': 'mental healt... |\n",
      "|            NOQue-X            | {'Category': 'education', ... |\n",
      "+-------------------------------+-------------------------------+\n",
      "[328 rows x 2 columns]\n",
      "\n"
     ]
    }
   ],
   "source": [
    "projects['name', 'result'].print_rows(num_rows=30)"
   ]
  },
  {
   "cell_type": "code",
   "execution_count": 372,
   "id": "2af9fc93",
   "metadata": {},
   "outputs": [],
   "source": [
    "projects['label'] = projects['result'].apply(lambda x: x.get('Category'))"
   ]
  },
  {
   "cell_type": "code",
   "execution_count": 373,
   "id": "905adf66",
   "metadata": {},
   "outputs": [
    {
     "data": {
      "text/html": [
       "<div style=\"max-height:1000px;max-width:1500px;overflow:auto;\"><table frame=\"box\" rules=\"cols\">\n",
       "    <tr>\n",
       "        <th style=\"padding-left: 1em; padding-right: 1em; text-align: center\">name</th>\n",
       "        <th style=\"padding-left: 1em; padding-right: 1em; text-align: center\">desc</th>\n",
       "        <th style=\"padding-left: 1em; padding-right: 1em; text-align: center\">longDesc</th>\n",
       "        <th style=\"padding-left: 1em; padding-right: 1em; text-align: center\">label</th>\n",
       "    </tr>\n",
       "    <tr>\n",
       "        <td style=\"padding-left: 1em; padding-right: 1em; text-align: center; vertical-align: top\">Share And Care - A Food<br>Management Web ...</td>\n",
       "        <td style=\"padding-left: 1em; padding-right: 1em; text-align: center; vertical-align: top\">Live simply so that<br>others may simply live ...</td>\n",
       "        <td style=\"padding-left: 1em; padding-right: 1em; text-align: center; vertical-align: top\">The problem Share And<br>Care - A Food Management ...</td>\n",
       "        <td style=\"padding-left: 1em; padding-right: 1em; text-align: center; vertical-align: top\">health and wellness</td>\n",
       "    </tr>\n",
       "    <tr>\n",
       "        <td style=\"padding-left: 1em; padding-right: 1em; text-align: center; vertical-align: top\">Edu V</td>\n",
       "        <td style=\"padding-left: 1em; padding-right: 1em; text-align: center; vertical-align: top\">E- learning for the<br>future ...</td>\n",
       "        <td style=\"padding-left: 1em; padding-right: 1em; text-align: center; vertical-align: top\">The problem Edu V<br>solves\\nEDU-V is an ...</td>\n",
       "        <td style=\"padding-left: 1em; padding-right: 1em; text-align: center; vertical-align: top\">health and wellness</td>\n",
       "    </tr>\n",
       "    <tr>\n",
       "        <td style=\"padding-left: 1em; padding-right: 1em; text-align: center; vertical-align: top\">Self -Disinfentive Glove<br>and other PPEs ...</td>\n",
       "        <td style=\"padding-left: 1em; padding-right: 1em; text-align: center; vertical-align: top\">To Serve Those, Who Serve<br>Us. ...</td>\n",
       "        <td style=\"padding-left: 1em; padding-right: 1em; text-align: center; vertical-align: top\">The problem Self<br>-Disinfentive Glove and ...</td>\n",
       "        <td style=\"padding-left: 1em; padding-right: 1em; text-align: center; vertical-align: top\">health and wellness</td>\n",
       "    </tr>\n",
       "    <tr>\n",
       "        <td style=\"padding-left: 1em; padding-right: 1em; text-align: center; vertical-align: top\">Pack-It-Up</td>\n",
       "        <td style=\"padding-left: 1em; padding-right: 1em; text-align: center; vertical-align: top\">Tagline: We pack for<br>less. Objective: To ...</td>\n",
       "        <td style=\"padding-left: 1em; padding-right: 1em; text-align: center; vertical-align: top\">The problem Pack-It-Up<br>solves\\nA software ...</td>\n",
       "        <td style=\"padding-left: 1em; padding-right: 1em; text-align: center; vertical-align: top\">health and wellness</td>\n",
       "    </tr>\n",
       "    <tr>\n",
       "        <td style=\"padding-left: 1em; padding-right: 1em; text-align: center; vertical-align: top\">RAHAT</td>\n",
       "        <td style=\"padding-left: 1em; padding-right: 1em; text-align: center; vertical-align: top\">Remote Application for<br>Health Assistance And ...</td>\n",
       "        <td style=\"padding-left: 1em; padding-right: 1em; text-align: center; vertical-align: top\">The problem RAHAT<br>solves\\nRAHAT implements ...</td>\n",
       "        <td style=\"padding-left: 1em; padding-right: 1em; text-align: center; vertical-align: top\">health and wellness</td>\n",
       "    </tr>\n",
       "    <tr>\n",
       "        <td style=\"padding-left: 1em; padding-right: 1em; text-align: center; vertical-align: top\">Self-Stabilizing Spoon<br>with Remote Monitoring ...</td>\n",
       "        <td style=\"padding-left: 1em; padding-right: 1em; text-align: center; vertical-align: top\">The stabilizing spoon<br>compensates for ...</td>\n",
       "        <td style=\"padding-left: 1em; padding-right: 1em; text-align: center; vertical-align: top\">The problem Self-<br>Stabilizing Spoon with ...</td>\n",
       "        <td style=\"padding-left: 1em; padding-right: 1em; text-align: center; vertical-align: top\">health and wellness</td>\n",
       "    </tr>\n",
       "    <tr>\n",
       "        <td style=\"padding-left: 1em; padding-right: 1em; text-align: center; vertical-align: top\">Medilab</td>\n",
       "        <td style=\"padding-left: 1em; padding-right: 1em; text-align: center; vertical-align: top\">One stop destination for<br>all your medical needs ...</td>\n",
       "        <td style=\"padding-left: 1em; padding-right: 1em; text-align: center; vertical-align: top\">The problem Medilab<br>solves\\nWe have creat ...</td>\n",
       "        <td style=\"padding-left: 1em; padding-right: 1em; text-align: center; vertical-align: top\">health and wellness</td>\n",
       "    </tr>\n",
       "    <tr>\n",
       "        <td style=\"padding-left: 1em; padding-right: 1em; text-align: center; vertical-align: top\">Ahaar</td>\n",
       "        <td style=\"padding-left: 1em; padding-right: 1em; text-align: center; vertical-align: top\">Food for poor</td>\n",
       "        <td style=\"padding-left: 1em; padding-right: 1em; text-align: center; vertical-align: top\">The problem Ahaar<br>solves\\nFood Wastage  ...</td>\n",
       "        <td style=\"padding-left: 1em; padding-right: 1em; text-align: center; vertical-align: top\">health and wellness</td>\n",
       "    </tr>\n",
       "    <tr>\n",
       "        <td style=\"padding-left: 1em; padding-right: 1em; text-align: center; vertical-align: top\">Shot of Hope</td>\n",
       "        <td style=\"padding-left: 1em; padding-right: 1em; text-align: center; vertical-align: top\">Easy Covid Vaccine<br>Appointment Scheduler ...</td>\n",
       "        <td style=\"padding-left: 1em; padding-right: 1em; text-align: center; vertical-align: top\">The problem Shot of Hope<br>solves\\nPresently, we ...</td>\n",
       "        <td style=\"padding-left: 1em; padding-right: 1em; text-align: center; vertical-align: top\">health and wellness</td>\n",
       "    </tr>\n",
       "    <tr>\n",
       "        <td style=\"padding-left: 1em; padding-right: 1em; text-align: center; vertical-align: top\">MediPoint - Care Yourself</td>\n",
       "        <td style=\"padding-left: 1em; padding-right: 1em; text-align: center; vertical-align: top\">Medipoint is an<br>application which ...</td>\n",
       "        <td style=\"padding-left: 1em; padding-right: 1em; text-align: center; vertical-align: top\">The problem MediPoint -<br>Care Yourself solves\\nWe ...</td>\n",
       "        <td style=\"padding-left: 1em; padding-right: 1em; text-align: center; vertical-align: top\">health and wellness</td>\n",
       "    </tr>\n",
       "</table>\n",
       "[? rows x 4 columns]<br/>Note: Only the head of the SFrame is printed. This SFrame is lazily evaluated.<br/>You can use sf.materialize() to force materialization.\n",
       "</div>"
      ],
      "text/plain": [
       "Columns:\n",
       "\tname\tstr\n",
       "\tdesc\tstr\n",
       "\tlongDesc\tstr\n",
       "\tlabel\tstr\n",
       "\n",
       "Rows: Unknown\n",
       "\n",
       "Data:\n",
       "+-------------------------------+-------------------------------+\n",
       "|              name             |              desc             |\n",
       "+-------------------------------+-------------------------------+\n",
       "| Share And Care - A Food Ma... | Live simply so that others... |\n",
       "|             Edu V             |   E- learning for the future  |\n",
       "| Self -Disinfentive Glove a... | To Serve Those, Who Serve Us. |\n",
       "|           Pack-It-Up          | Tagline: We pack for less.... |\n",
       "|             RAHAT             | Remote Application for Hea... |\n",
       "| Self-Stabilizing Spoon wit... | The stabilizing spoon comp... |\n",
       "|            Medilab            | One stop destination for a... |\n",
       "|             Ahaar             |         Food for poor         |\n",
       "|          Shot of Hope         | Easy Covid Vaccine Appoint... |\n",
       "|   MediPoint - Care Yourself   | Medipoint is an applicatio... |\n",
       "+-------------------------------+-------------------------------+\n",
       "+-------------------------------+---------------------+\n",
       "|            longDesc           |        label        |\n",
       "+-------------------------------+---------------------+\n",
       "| The problem Share And Care... | health and wellness |\n",
       "| The problem Edu V solves\\n... | health and wellness |\n",
       "| The problem Self -Disinfen... | health and wellness |\n",
       "| The problem Pack-It-Up sol... | health and wellness |\n",
       "| The problem RAHAT solves\\n... | health and wellness |\n",
       "| The problem Self-Stabilizi... | health and wellness |\n",
       "| The problem Medilab solves... | health and wellness |\n",
       "| The problem Ahaar solves\\n... | health and wellness |\n",
       "| The problem Shot of Hope s... | health and wellness |\n",
       "| The problem MediPoint - Ca... | health and wellness |\n",
       "+-------------------------------+---------------------+\n",
       "[? rows x 4 columns]\n",
       "Note: Only the head of the SFrame is printed. This SFrame is lazily evaluated.\n",
       "You can use sf.materialize() to force materialization."
      ]
     },
     "execution_count": 373,
     "metadata": {},
     "output_type": "execute_result"
    }
   ],
   "source": [
    "projects[['name', 'desc', 'longDesc','label']][projects['label']==\"health and wellness\"]"
   ]
  },
  {
   "cell_type": "markdown",
   "id": "44882f57",
   "metadata": {},
   "source": [
    "### Filtering out the fields required into another Sframe"
   ]
  },
  {
   "cell_type": "code",
   "execution_count": 374,
   "id": "e16c3986",
   "metadata": {},
   "outputs": [],
   "source": [
    "final_clustered_data = projects[['name', 'desc', 'devfolioLink', 'githubLinks', 'longDesc', 'special_mention', 'stacksUsed', 'result', 'label']]"
   ]
  },
  {
   "cell_type": "code",
   "execution_count": 375,
   "id": "c54726b2",
   "metadata": {},
   "outputs": [
    {
     "data": {
      "text/html": [
       "<div style=\"max-height:1000px;max-width:1500px;overflow:auto;\"><table frame=\"box\" rules=\"cols\">\n",
       "    <tr>\n",
       "        <th style=\"padding-left: 1em; padding-right: 1em; text-align: center\">name</th>\n",
       "        <th style=\"padding-left: 1em; padding-right: 1em; text-align: center\">desc</th>\n",
       "        <th style=\"padding-left: 1em; padding-right: 1em; text-align: center\">devfolioLink</th>\n",
       "        <th style=\"padding-left: 1em; padding-right: 1em; text-align: center\">githubLinks</th>\n",
       "    </tr>\n",
       "    <tr>\n",
       "        <td style=\"padding-left: 1em; padding-right: 1em; text-align: center; vertical-align: top\">Share And Care - A Food<br>Management Web ...</td>\n",
       "        <td style=\"padding-left: 1em; padding-right: 1em; text-align: center; vertical-align: top\">Live simply so that<br>others may simply live ...</td>\n",
       "        <td style=\"padding-left: 1em; padding-right: 1em; text-align: center; vertical-align: top\">https://devfolio.co/submi<br>ssions/share-and-care-a- ...</td>\n",
       "        <td style=\"padding-left: 1em; padding-right: 1em; text-align: center; vertical-align: top\">[https://github.com/aniru<br>ddha2000/ShareAndCare] ...</td>\n",
       "    </tr>\n",
       "    <tr>\n",
       "        <td style=\"padding-left: 1em; padding-right: 1em; text-align: center; vertical-align: top\">SheWalksSafe - A Women<br>Safety Application ...</td>\n",
       "        <td style=\"padding-left: 1em; padding-right: 1em; text-align: center; vertical-align: top\">A women safety app that<br>helps women in emergency ...</td>\n",
       "        <td style=\"padding-left: 1em; padding-right: 1em; text-align: center; vertical-align: top\">https://devfolio.co/submi<br>ssions/shewalkssafe-a- ...</td>\n",
       "        <td style=\"padding-left: 1em; padding-right: 1em; text-align: center; vertical-align: top\">[https://github.com/rakul<br>vm/ShewalksSafe, http ...</td>\n",
       "    </tr>\n",
       "    <tr>\n",
       "        <td style=\"padding-left: 1em; padding-right: 1em; text-align: center; vertical-align: top\">Drent</td>\n",
       "        <td style=\"padding-left: 1em; padding-right: 1em; text-align: center; vertical-align: top\">A decentralized C2C<br>renting marketplace ...</td>\n",
       "        <td style=\"padding-left: 1em; padding-right: 1em; text-align: center; vertical-align: top\">https://devfolio.co/submi<br>ssions/drent-2ddd ...</td>\n",
       "        <td style=\"padding-left: 1em; padding-right: 1em; text-align: center; vertical-align: top\">[https://bitbucket.org/ma<br>nav2401/drent/src/mai ...</td>\n",
       "    </tr>\n",
       "    <tr>\n",
       "        <td style=\"padding-left: 1em; padding-right: 1em; text-align: center; vertical-align: top\">ADTech Alcohol Sensing<br>and Engine Blocking ...</td>\n",
       "        <td style=\"padding-left: 1em; padding-right: 1em; text-align: center; vertical-align: top\">Life Matters</td>\n",
       "        <td style=\"padding-left: 1em; padding-right: 1em; text-align: center; vertical-align: top\">https://devfolio.co/submi<br>ssions/adtech-alcohol- ...</td>\n",
       "        <td style=\"padding-left: 1em; padding-right: 1em; text-align: center; vertical-align: top\">[https://github.com/Rohit<br>hRao0507/AD-Tech-alco ...</td>\n",
       "    </tr>\n",
       "    <tr>\n",
       "        <td style=\"padding-left: 1em; padding-right: 1em; text-align: center; vertical-align: top\">Edu V</td>\n",
       "        <td style=\"padding-left: 1em; padding-right: 1em; text-align: center; vertical-align: top\">E- learning for the<br>future ...</td>\n",
       "        <td style=\"padding-left: 1em; padding-right: 1em; text-align: center; vertical-align: top\">https://devfolio.co/submi<br>ssions/edu-v-e8b0 ...</td>\n",
       "        <td style=\"padding-left: 1em; padding-right: 1em; text-align: center; vertical-align: top\">[https://github.com/Adity<br>aDeodeshmukh/EDUV- ...</td>\n",
       "    </tr>\n",
       "    <tr>\n",
       "        <td style=\"padding-left: 1em; padding-right: 1em; text-align: center; vertical-align: top\">Vs code</td>\n",
       "        <td style=\"padding-left: 1em; padding-right: 1em; text-align: center; vertical-align: top\">vs</td>\n",
       "        <td style=\"padding-left: 1em; padding-right: 1em; text-align: center; vertical-align: top\">https://devfolio.co/submi<br>ssions/vs-code-cc18 ...</td>\n",
       "        <td style=\"padding-left: 1em; padding-right: 1em; text-align: center; vertical-align: top\">[https://youtu.be/y1SsyY7<br>Qnx8] ...</td>\n",
       "    </tr>\n",
       "    <tr>\n",
       "        <td style=\"padding-left: 1em; padding-right: 1em; text-align: center; vertical-align: top\">DONTRACK</td>\n",
       "        <td style=\"padding-left: 1em; padding-right: 1em; text-align: center; vertical-align: top\">donate and track</td>\n",
       "        <td style=\"padding-left: 1em; padding-right: 1em; text-align: center; vertical-align: top\">https://devfolio.co/submi<br>ssions/dontrack-b540 ...</td>\n",
       "        <td style=\"padding-left: 1em; padding-right: 1em; text-align: center; vertical-align: top\">[https://github.com/ishaa<br>garwal01/Dontrack- ...</td>\n",
       "    </tr>\n",
       "    <tr>\n",
       "        <td style=\"padding-left: 1em; padding-right: 1em; text-align: center; vertical-align: top\">AnonyMate</td>\n",
       "        <td style=\"padding-left: 1em; padding-right: 1em; text-align: center; vertical-align: top\">Anonymate is a<br>Counselling platform ...</td>\n",
       "        <td style=\"padding-left: 1em; padding-right: 1em; text-align: center; vertical-align: top\">https://devfolio.co/submi<br>ssions/anonymate-57fb ...</td>\n",
       "        <td style=\"padding-left: 1em; padding-right: 1em; text-align: center; vertical-align: top\">[https://github.com/aarus<br>hi353/AnonyMate- ...</td>\n",
       "    </tr>\n",
       "    <tr>\n",
       "        <td style=\"padding-left: 1em; padding-right: 1em; text-align: center; vertical-align: top\">DataVault</td>\n",
       "        <td style=\"padding-left: 1em; padding-right: 1em; text-align: center; vertical-align: top\">A secure, legal and<br>complete way to trade ...</td>\n",
       "        <td style=\"padding-left: 1em; padding-right: 1em; text-align: center; vertical-align: top\">https://devfolio.co/submi<br>ssions/datavault-7da5 ...</td>\n",
       "        <td style=\"padding-left: 1em; padding-right: 1em; text-align: center; vertical-align: top\">[https://github.com/Naman<br>-Monga/Hacko-44-devX] ...</td>\n",
       "    </tr>\n",
       "    <tr>\n",
       "        <td style=\"padding-left: 1em; padding-right: 1em; text-align: center; vertical-align: top\">Peer IO</td>\n",
       "        <td style=\"padding-left: 1em; padding-right: 1em; text-align: center; vertical-align: top\">Review | Grow | Share</td>\n",
       "        <td style=\"padding-left: 1em; padding-right: 1em; text-align: center; vertical-align: top\">https://devfolio.co/submi<br>ssions/peer-io-7356 ...</td>\n",
       "        <td style=\"padding-left: 1em; padding-right: 1em; text-align: center; vertical-align: top\">[https://github.com/Peer-<br>IO/haxplore-2.0-submi ...</td>\n",
       "    </tr>\n",
       "</table>\n",
       "<table frame=\"box\" rules=\"cols\">\n",
       "    <tr>\n",
       "        <th style=\"padding-left: 1em; padding-right: 1em; text-align: center\">longDesc</th>\n",
       "        <th style=\"padding-left: 1em; padding-right: 1em; text-align: center\">special_mention</th>\n",
       "        <th style=\"padding-left: 1em; padding-right: 1em; text-align: center\">stacksUsed</th>\n",
       "        <th style=\"padding-left: 1em; padding-right: 1em; text-align: center\">result</th>\n",
       "    </tr>\n",
       "    <tr>\n",
       "        <td style=\"padding-left: 1em; padding-right: 1em; text-align: center; vertical-align: top\">The problem Share And<br>Care - A Food Management ...</td>\n",
       "        <td style=\"padding-left: 1em; padding-right: 1em; text-align: center; vertical-align: top\"> </td>\n",
       "        <td style=\"padding-left: 1em; padding-right: 1em; text-align: center; vertical-align: top\">[jQuery, HTML, CSS,<br>Django, Python, ...</td>\n",
       "        <td style=\"padding-left: 1em; padding-right: 1em; text-align: center; vertical-align: top\">{&#x27;Category&#x27;: &#x27;health and<br>wellness&#x27;, &#x27;average ...</td>\n",
       "    </tr>\n",
       "    <tr>\n",
       "        <td style=\"padding-left: 1em; padding-right: 1em; text-align: center; vertical-align: top\">The problem SheWalksSafe<br>- A Women Safety ...</td>\n",
       "        <td style=\"padding-left: 1em; padding-right: 1em; text-align: center; vertical-align: top\"> </td>\n",
       "        <td style=\"padding-left: 1em; padding-right: 1em; text-align: center; vertical-align: top\">[Flutter, Google Maps<br>API, Crimeometer API] ...</td>\n",
       "        <td style=\"padding-left: 1em; padding-right: 1em; text-align: center; vertical-align: top\">{&#x27;Category&#x27;: &#x27;safety and<br>wellbeing&#x27;, &#x27;average ...</td>\n",
       "    </tr>\n",
       "    <tr>\n",
       "        <td style=\"padding-left: 1em; padding-right: 1em; text-align: center; vertical-align: top\">The problem Drent<br>solves\\nDrent is a ...</td>\n",
       "        <td style=\"padding-left: 1em; padding-right: 1em; text-align: center; vertical-align: top\"> </td>\n",
       "        <td style=\"padding-left: 1em; padding-right: 1em; text-align: center; vertical-align: top\">[Solidity, IPFS,<br>ethers.js, Matic, ...</td>\n",
       "        <td style=\"padding-left: 1em; padding-right: 1em; text-align: center; vertical-align: top\">{&#x27;Category&#x27;: &#x27;science and<br>research&#x27;, &#x27;average ...</td>\n",
       "    </tr>\n",
       "    <tr>\n",
       "        <td style=\"padding-left: 1em; padding-right: 1em; text-align: center; vertical-align: top\">The problem ADTech<br>Alcohol Sensing and ...</td>\n",
       "        <td style=\"padding-left: 1em; padding-right: 1em; text-align: center; vertical-align: top\"> </td>\n",
       "        <td style=\"padding-left: 1em; padding-right: 1em; text-align: center; vertical-align: top\">[Arduino Uno, Arduino<br>IDE, Relay Module, ...</td>\n",
       "        <td style=\"padding-left: 1em; padding-right: 1em; text-align: center; vertical-align: top\">{&#x27;Category&#x27;: &#x27;general<br>wellfare&#x27;, &#x27;average ...</td>\n",
       "    </tr>\n",
       "    <tr>\n",
       "        <td style=\"padding-left: 1em; padding-right: 1em; text-align: center; vertical-align: top\">The problem Edu V<br>solves\\nEDU-V is an ...</td>\n",
       "        <td style=\"padding-left: 1em; padding-right: 1em; text-align: center; vertical-align: top\">Top 12</td>\n",
       "        <td style=\"padding-left: 1em; padding-right: 1em; text-align: center; vertical-align: top\">[Unity, Vuforia, Blender,<br>Autodesk Maya] ...</td>\n",
       "        <td style=\"padding-left: 1em; padding-right: 1em; text-align: center; vertical-align: top\">{&#x27;Category&#x27;: &#x27;health and<br>wellness&#x27;, &#x27;average ...</td>\n",
       "    </tr>\n",
       "    <tr>\n",
       "        <td style=\"padding-left: 1em; padding-right: 1em; text-align: center; vertical-align: top\">The problem Vs code<br>solves\\nvs code ...</td>\n",
       "        <td style=\"padding-left: 1em; padding-right: 1em; text-align: center; vertical-align: top\"> </td>\n",
       "        <td style=\"padding-left: 1em; padding-right: 1em; text-align: center; vertical-align: top\">[Visual Studio Code is a<br>freeware source-code ...</td>\n",
       "        <td style=\"padding-left: 1em; padding-right: 1em; text-align: center; vertical-align: top\">{&#x27;Category&#x27;:<br>&#x27;technology&#x27;, &#x27;average ...</td>\n",
       "    </tr>\n",
       "    <tr>\n",
       "        <td style=\"padding-left: 1em; padding-right: 1em; text-align: center; vertical-align: top\">The problem DONTRACK<br>solves\\nThere are ...</td>\n",
       "        <td style=\"padding-left: 1em; padding-right: 1em; text-align: center; vertical-align: top\"> </td>\n",
       "        <td style=\"padding-left: 1em; padding-right: 1em; text-align: center; vertical-align: top\">[HTML, CSS, JS, ConceilJS<br>Tezos] ...</td>\n",
       "        <td style=\"padding-left: 1em; padding-right: 1em; text-align: center; vertical-align: top\">{&#x27;Category&#x27;: &#x27;education&#x27;,<br>&#x27;average predictions&#x27;: ...</td>\n",
       "    </tr>\n",
       "    <tr>\n",
       "        <td style=\"padding-left: 1em; padding-right: 1em; text-align: center; vertical-align: top\">The problem AnonyMate<br>solves\\nThey can freely ...</td>\n",
       "        <td style=\"padding-left: 1em; padding-right: 1em; text-align: center; vertical-align: top\"> </td>\n",
       "        <td style=\"padding-left: 1em; padding-right: 1em; text-align: center; vertical-align: top\">[HTML, Bootstrap, Django,<br>JavaScript, SQLite, C ...</td>\n",
       "        <td style=\"padding-left: 1em; padding-right: 1em; text-align: center; vertical-align: top\">{&#x27;Category&#x27;: &#x27;education&#x27;,<br>&#x27;average predictions&#x27;: ...</td>\n",
       "    </tr>\n",
       "    <tr>\n",
       "        <td style=\"padding-left: 1em; padding-right: 1em; text-align: center; vertical-align: top\">The problem DataVault<br>solves\\nTrading data ...</td>\n",
       "        <td style=\"padding-left: 1em; padding-right: 1em; text-align: center; vertical-align: top\"> </td>\n",
       "        <td style=\"padding-left: 1em; padding-right: 1em; text-align: center; vertical-align: top\">[Solidity, Django,<br>Machine Learning, ...</td>\n",
       "        <td style=\"padding-left: 1em; padding-right: 1em; text-align: center; vertical-align: top\">{&#x27;Category&#x27;: &#x27;mental<br>health&#x27;, &#x27;average ...</td>\n",
       "    </tr>\n",
       "    <tr>\n",
       "        <td style=\"padding-left: 1em; padding-right: 1em; text-align: center; vertical-align: top\">The problem Peer IO<br>solves\\nPeer IO is not ...</td>\n",
       "        <td style=\"padding-left: 1em; padding-right: 1em; text-align: center; vertical-align: top\"> </td>\n",
       "        <td style=\"padding-left: 1em; padding-right: 1em; text-align: center; vertical-align: top\">[Express.js, MongoDB,<br>MongoDB Atlas, axios, ...</td>\n",
       "        <td style=\"padding-left: 1em; padding-right: 1em; text-align: center; vertical-align: top\">{&#x27;Category&#x27;: &#x27;education&#x27;,<br>&#x27;average predictions&#x27;: ...</td>\n",
       "    </tr>\n",
       "</table>\n",
       "<table frame=\"box\" rules=\"cols\">\n",
       "    <tr>\n",
       "        <th style=\"padding-left: 1em; padding-right: 1em; text-align: center\">label</th>\n",
       "    </tr>\n",
       "    <tr>\n",
       "        <td style=\"padding-left: 1em; padding-right: 1em; text-align: center; vertical-align: top\">health and wellness</td>\n",
       "    </tr>\n",
       "    <tr>\n",
       "        <td style=\"padding-left: 1em; padding-right: 1em; text-align: center; vertical-align: top\">safety and wellbeing</td>\n",
       "    </tr>\n",
       "    <tr>\n",
       "        <td style=\"padding-left: 1em; padding-right: 1em; text-align: center; vertical-align: top\">science and research</td>\n",
       "    </tr>\n",
       "    <tr>\n",
       "        <td style=\"padding-left: 1em; padding-right: 1em; text-align: center; vertical-align: top\">general wellfare</td>\n",
       "    </tr>\n",
       "    <tr>\n",
       "        <td style=\"padding-left: 1em; padding-right: 1em; text-align: center; vertical-align: top\">health and wellness</td>\n",
       "    </tr>\n",
       "    <tr>\n",
       "        <td style=\"padding-left: 1em; padding-right: 1em; text-align: center; vertical-align: top\">technology</td>\n",
       "    </tr>\n",
       "    <tr>\n",
       "        <td style=\"padding-left: 1em; padding-right: 1em; text-align: center; vertical-align: top\">education</td>\n",
       "    </tr>\n",
       "    <tr>\n",
       "        <td style=\"padding-left: 1em; padding-right: 1em; text-align: center; vertical-align: top\">education</td>\n",
       "    </tr>\n",
       "    <tr>\n",
       "        <td style=\"padding-left: 1em; padding-right: 1em; text-align: center; vertical-align: top\">mental health</td>\n",
       "    </tr>\n",
       "    <tr>\n",
       "        <td style=\"padding-left: 1em; padding-right: 1em; text-align: center; vertical-align: top\">education</td>\n",
       "    </tr>\n",
       "</table>\n",
       "[328 rows x 9 columns]<br/>Note: Only the head of the SFrame is printed.<br/>You can use print_rows(num_rows=m, num_columns=n) to print more rows and columns.\n",
       "</div>"
      ],
      "text/plain": [
       "Columns:\n",
       "\tname\tstr\n",
       "\tdesc\tstr\n",
       "\tdevfolioLink\tstr\n",
       "\tgithubLinks\tlist\n",
       "\tlongDesc\tstr\n",
       "\tspecial_mention\tstr\n",
       "\tstacksUsed\tlist\n",
       "\tresult\tdict\n",
       "\tlabel\tstr\n",
       "\n",
       "Rows: 328\n",
       "\n",
       "Data:\n",
       "+-------------------------------+-------------------------------+\n",
       "|              name             |              desc             |\n",
       "+-------------------------------+-------------------------------+\n",
       "| Share And Care - A Food Ma... | Live simply so that others... |\n",
       "| SheWalksSafe - A Women Saf... | A women safety app that he... |\n",
       "|             Drent             | A decentralized C2C rentin... |\n",
       "| ADTech Alcohol Sensing and... |          Life Matters         |\n",
       "|             Edu V             |   E- learning for the future  |\n",
       "|            Vs code            |               vs              |\n",
       "|            DONTRACK           |        donate and track       |\n",
       "|           AnonyMate           | Anonymate is a Counselling... |\n",
       "|           DataVault           | A secure, legal and comple... |\n",
       "|            Peer IO            |     Review | Grow | Share     |\n",
       "+-------------------------------+-------------------------------+\n",
       "+-------------------------------+--------------------------------+\n",
       "|          devfolioLink         |          githubLinks           |\n",
       "+-------------------------------+--------------------------------+\n",
       "| https://devfolio.co/submis... | [https://github.com/anirud...  |\n",
       "| https://devfolio.co/submis... | [https://github.com/rakulv...  |\n",
       "| https://devfolio.co/submis... | [https://bitbucket.org/man...  |\n",
       "| https://devfolio.co/submis... | [https://github.com/Rohith...  |\n",
       "| https://devfolio.co/submis... | [https://github.com/Aditya...  |\n",
       "| https://devfolio.co/submis... | [https://youtu.be/y1SsyY7Qnx8] |\n",
       "| https://devfolio.co/submis... | [https://github.com/ishaag...  |\n",
       "| https://devfolio.co/submis... | [https://github.com/aarush...  |\n",
       "| https://devfolio.co/submis... | [https://github.com/Naman-...  |\n",
       "| https://devfolio.co/submis... | [https://github.com/Peer-I...  |\n",
       "+-------------------------------+--------------------------------+\n",
       "+-------------------------------+-----------------+\n",
       "|            longDesc           | special_mention |\n",
       "+-------------------------------+-----------------+\n",
       "| The problem Share And Care... |                 |\n",
       "| The problem SheWalksSafe -... |                 |\n",
       "| The problem Drent solves\\n... |                 |\n",
       "| The problem ADTech Alcohol... |                 |\n",
       "| The problem Edu V solves\\n... |      Top 12     |\n",
       "| The problem Vs code solves... |                 |\n",
       "| The problem DONTRACK solve... |                 |\n",
       "| The problem AnonyMate solv... |                 |\n",
       "| The problem DataVault solv... |                 |\n",
       "| The problem Peer IO solves... |                 |\n",
       "+-------------------------------+-----------------+\n",
       "+-------------------------------+-------------------------------+\n",
       "|           stacksUsed          |             result            |\n",
       "+-------------------------------+-------------------------------+\n",
       "| [jQuery, HTML, CSS, Django... | {'Category': 'health and w... |\n",
       "| [Flutter, Google Maps API,... | {'Category': 'safety and w... |\n",
       "| [Solidity, IPFS, ethers.js... | {'Category': 'science and ... |\n",
       "| [Arduino Uno, Arduino IDE,... | {'Category': 'general well... |\n",
       "| [Unity, Vuforia, Blender, ... | {'Category': 'health and w... |\n",
       "| [Visual Studio Code is a f... | {'Category': 'technology',... |\n",
       "| [HTML, CSS, JS, ConceilJS ... | {'Category': 'education', ... |\n",
       "| [HTML, Bootstrap, Django, ... | {'Category': 'education', ... |\n",
       "| [Solidity, Django, Machine... | {'Category': 'mental healt... |\n",
       "| [Express.js, MongoDB, Mong... | {'Category': 'education', ... |\n",
       "+-------------------------------+-------------------------------+\n",
       "+----------------------+\n",
       "|        label         |\n",
       "+----------------------+\n",
       "| health and wellness  |\n",
       "| safety and wellbeing |\n",
       "| science and research |\n",
       "|   general wellfare   |\n",
       "| health and wellness  |\n",
       "|      technology      |\n",
       "|      education       |\n",
       "|      education       |\n",
       "|    mental health     |\n",
       "|      education       |\n",
       "+----------------------+\n",
       "[328 rows x 9 columns]\n",
       "Note: Only the head of the SFrame is printed.\n",
       "You can use print_rows(num_rows=m, num_columns=n) to print more rows and columns."
      ]
     },
     "execution_count": 375,
     "metadata": {},
     "output_type": "execute_result"
    }
   ],
   "source": [
    "final_clustered_data"
   ]
  },
  {
   "cell_type": "markdown",
   "id": "15ba03c9",
   "metadata": {},
   "source": [
    "### Exporting the data to json and csv formats"
   ]
  },
  {
   "cell_type": "code",
   "execution_count": 376,
   "id": "6653ff52",
   "metadata": {},
   "outputs": [],
   "source": [
    "final_clustered_data.export_csv(r'/Users/adi/Desktop/CaffieneOverflow/Clustered Data/final_data.csv')"
   ]
  },
  {
   "cell_type": "code",
   "execution_count": 377,
   "id": "1f7c4cc7",
   "metadata": {},
   "outputs": [],
   "source": [
    "final_clustered_data.export_json(r'/Users/adi/Desktop/CaffieneOverflow/Clustered Data/final_data.json')"
   ]
  }
 ],
 "metadata": {
  "kernelspec": {
   "display_name": "Python 3",
   "language": "python",
   "name": "python3"
  },
  "language_info": {
   "codemirror_mode": {
    "name": "ipython",
    "version": 3
   },
   "file_extension": ".py",
   "mimetype": "text/x-python",
   "name": "python",
   "nbconvert_exporter": "python",
   "pygments_lexer": "ipython3",
   "version": "3.8.2"
  }
 },
 "nbformat": 4,
 "nbformat_minor": 5
}
